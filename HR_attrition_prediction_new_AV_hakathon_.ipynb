{
  "nbformat": 4,
  "nbformat_minor": 0,
  "metadata": {
    "colab": {
      "name": "HR attrition_prediction_new_AV_hakathon .ipynb",
      "provenance": []
    },
    "kernelspec": {
      "name": "python3",
      "display_name": "Python 3"
    },
    "language_info": {
      "name": "python"
    }
  },
  "cells": [
    {
      "cell_type": "code",
      "metadata": {
        "id": "yMzle7jzxsFh"
      },
      "source": [
        "import seaborn as sns\n",
        "import numpy as np\n",
        "import pandas as pd\n",
        "import matplotlib.pyplot as plt\n",
        "import plotly.express as px\n",
        "from datetime import datetime"
      ],
      "execution_count": 144,
      "outputs": []
    },
    {
      "cell_type": "markdown",
      "metadata": {
        "id": "ycA4j_kekHiK"
      },
      "source": [
        "# Loading Test Data"
      ]
    },
    {
      "cell_type": "code",
      "metadata": {
        "colab": {
          "base_uri": "https://localhost:8080/"
        },
        "id": "a-GxlAWBGc8U",
        "outputId": "a35de8c6-3ed2-49c7-e4df-bbcfd9ffc043"
      },
      "source": [
        "hr_att_test= pd.read_csv(\"/content/drive/MyDrive/AbiML/Colab Notebooks1/colab datas/test_HRattretion_HAkathon.csv\")\n",
        "hr_att_test.count()"
      ],
      "execution_count": 145,
      "outputs": [
        {
          "output_type": "execute_result",
          "data": {
            "text/plain": [
              "Emp_ID    741\n",
              "dtype: int64"
            ]
          },
          "metadata": {},
          "execution_count": 145
        }
      ]
    },
    {
      "cell_type": "markdown",
      "metadata": {
        "id": "WVJyoEGHkLh6"
      },
      "source": [
        "# Loading Train data"
      ]
    },
    {
      "cell_type": "code",
      "metadata": {
        "colab": {
          "base_uri": "https://localhost:8080/",
          "height": 423
        },
        "id": "4c66AfwPxyNF",
        "outputId": "41b0855c-b326-4f6c-a815-1cee0bed9a8f"
      },
      "source": [
        "hr_att_train= pd.read_csv('/content/drive/MyDrive/AbiML/Colab Notebooks1/colab datas/train_HRattretion_hakathon.csv')\n",
        "hr_att_train"
      ],
      "execution_count": 146,
      "outputs": [
        {
          "output_type": "execute_result",
          "data": {
            "text/html": [
              "<div>\n",
              "<style scoped>\n",
              "    .dataframe tbody tr th:only-of-type {\n",
              "        vertical-align: middle;\n",
              "    }\n",
              "\n",
              "    .dataframe tbody tr th {\n",
              "        vertical-align: top;\n",
              "    }\n",
              "\n",
              "    .dataframe thead th {\n",
              "        text-align: right;\n",
              "    }\n",
              "</style>\n",
              "<table border=\"1\" class=\"dataframe\">\n",
              "  <thead>\n",
              "    <tr style=\"text-align: right;\">\n",
              "      <th></th>\n",
              "      <th>MMM-YY</th>\n",
              "      <th>Emp_ID</th>\n",
              "      <th>Age</th>\n",
              "      <th>Gender</th>\n",
              "      <th>City</th>\n",
              "      <th>Education_Level</th>\n",
              "      <th>Salary</th>\n",
              "      <th>Dateofjoining</th>\n",
              "      <th>LastWorkingDate</th>\n",
              "      <th>Joining Designation</th>\n",
              "      <th>Designation</th>\n",
              "      <th>Total Business Value</th>\n",
              "      <th>Quarterly Rating</th>\n",
              "    </tr>\n",
              "  </thead>\n",
              "  <tbody>\n",
              "    <tr>\n",
              "      <th>0</th>\n",
              "      <td>2016-01-01</td>\n",
              "      <td>1</td>\n",
              "      <td>28</td>\n",
              "      <td>Male</td>\n",
              "      <td>C23</td>\n",
              "      <td>Master</td>\n",
              "      <td>57387</td>\n",
              "      <td>2015-12-24</td>\n",
              "      <td>NaN</td>\n",
              "      <td>1</td>\n",
              "      <td>1</td>\n",
              "      <td>2381060</td>\n",
              "      <td>2</td>\n",
              "    </tr>\n",
              "    <tr>\n",
              "      <th>1</th>\n",
              "      <td>2016-02-01</td>\n",
              "      <td>1</td>\n",
              "      <td>28</td>\n",
              "      <td>Male</td>\n",
              "      <td>C23</td>\n",
              "      <td>Master</td>\n",
              "      <td>57387</td>\n",
              "      <td>2015-12-24</td>\n",
              "      <td>NaN</td>\n",
              "      <td>1</td>\n",
              "      <td>1</td>\n",
              "      <td>-665480</td>\n",
              "      <td>2</td>\n",
              "    </tr>\n",
              "    <tr>\n",
              "      <th>2</th>\n",
              "      <td>2016-03-01</td>\n",
              "      <td>1</td>\n",
              "      <td>28</td>\n",
              "      <td>Male</td>\n",
              "      <td>C23</td>\n",
              "      <td>Master</td>\n",
              "      <td>57387</td>\n",
              "      <td>2015-12-24</td>\n",
              "      <td>2016-03-11</td>\n",
              "      <td>1</td>\n",
              "      <td>1</td>\n",
              "      <td>0</td>\n",
              "      <td>2</td>\n",
              "    </tr>\n",
              "    <tr>\n",
              "      <th>3</th>\n",
              "      <td>2017-11-01</td>\n",
              "      <td>2</td>\n",
              "      <td>31</td>\n",
              "      <td>Male</td>\n",
              "      <td>C7</td>\n",
              "      <td>Master</td>\n",
              "      <td>67016</td>\n",
              "      <td>2017-11-06</td>\n",
              "      <td>NaN</td>\n",
              "      <td>2</td>\n",
              "      <td>2</td>\n",
              "      <td>0</td>\n",
              "      <td>1</td>\n",
              "    </tr>\n",
              "    <tr>\n",
              "      <th>4</th>\n",
              "      <td>2017-12-01</td>\n",
              "      <td>2</td>\n",
              "      <td>31</td>\n",
              "      <td>Male</td>\n",
              "      <td>C7</td>\n",
              "      <td>Master</td>\n",
              "      <td>67016</td>\n",
              "      <td>2017-11-06</td>\n",
              "      <td>NaN</td>\n",
              "      <td>2</td>\n",
              "      <td>2</td>\n",
              "      <td>0</td>\n",
              "      <td>1</td>\n",
              "    </tr>\n",
              "    <tr>\n",
              "      <th>...</th>\n",
              "      <td>...</td>\n",
              "      <td>...</td>\n",
              "      <td>...</td>\n",
              "      <td>...</td>\n",
              "      <td>...</td>\n",
              "      <td>...</td>\n",
              "      <td>...</td>\n",
              "      <td>...</td>\n",
              "      <td>...</td>\n",
              "      <td>...</td>\n",
              "      <td>...</td>\n",
              "      <td>...</td>\n",
              "      <td>...</td>\n",
              "    </tr>\n",
              "    <tr>\n",
              "      <th>19099</th>\n",
              "      <td>2017-08-01</td>\n",
              "      <td>2788</td>\n",
              "      <td>30</td>\n",
              "      <td>Male</td>\n",
              "      <td>C27</td>\n",
              "      <td>Master</td>\n",
              "      <td>70254</td>\n",
              "      <td>2017-06-08</td>\n",
              "      <td>NaN</td>\n",
              "      <td>2</td>\n",
              "      <td>2</td>\n",
              "      <td>740280</td>\n",
              "      <td>3</td>\n",
              "    </tr>\n",
              "    <tr>\n",
              "      <th>19100</th>\n",
              "      <td>2017-09-01</td>\n",
              "      <td>2788</td>\n",
              "      <td>30</td>\n",
              "      <td>Male</td>\n",
              "      <td>C27</td>\n",
              "      <td>Master</td>\n",
              "      <td>70254</td>\n",
              "      <td>2017-06-08</td>\n",
              "      <td>NaN</td>\n",
              "      <td>2</td>\n",
              "      <td>2</td>\n",
              "      <td>448370</td>\n",
              "      <td>3</td>\n",
              "    </tr>\n",
              "    <tr>\n",
              "      <th>19101</th>\n",
              "      <td>2017-10-01</td>\n",
              "      <td>2788</td>\n",
              "      <td>30</td>\n",
              "      <td>Male</td>\n",
              "      <td>C27</td>\n",
              "      <td>Master</td>\n",
              "      <td>70254</td>\n",
              "      <td>2017-06-08</td>\n",
              "      <td>NaN</td>\n",
              "      <td>2</td>\n",
              "      <td>2</td>\n",
              "      <td>0</td>\n",
              "      <td>2</td>\n",
              "    </tr>\n",
              "    <tr>\n",
              "      <th>19102</th>\n",
              "      <td>2017-11-01</td>\n",
              "      <td>2788</td>\n",
              "      <td>30</td>\n",
              "      <td>Male</td>\n",
              "      <td>C27</td>\n",
              "      <td>Master</td>\n",
              "      <td>70254</td>\n",
              "      <td>2017-06-08</td>\n",
              "      <td>NaN</td>\n",
              "      <td>2</td>\n",
              "      <td>2</td>\n",
              "      <td>200420</td>\n",
              "      <td>2</td>\n",
              "    </tr>\n",
              "    <tr>\n",
              "      <th>19103</th>\n",
              "      <td>2017-12-01</td>\n",
              "      <td>2788</td>\n",
              "      <td>30</td>\n",
              "      <td>Male</td>\n",
              "      <td>C27</td>\n",
              "      <td>Master</td>\n",
              "      <td>70254</td>\n",
              "      <td>2017-06-08</td>\n",
              "      <td>NaN</td>\n",
              "      <td>2</td>\n",
              "      <td>2</td>\n",
              "      <td>411480</td>\n",
              "      <td>2</td>\n",
              "    </tr>\n",
              "  </tbody>\n",
              "</table>\n",
              "<p>19104 rows × 13 columns</p>\n",
              "</div>"
            ],
            "text/plain": [
              "           MMM-YY  Emp_ID  ...  Total Business Value Quarterly Rating\n",
              "0      2016-01-01       1  ...               2381060                2\n",
              "1      2016-02-01       1  ...               -665480                2\n",
              "2      2016-03-01       1  ...                     0                2\n",
              "3      2017-11-01       2  ...                     0                1\n",
              "4      2017-12-01       2  ...                     0                1\n",
              "...           ...     ...  ...                   ...              ...\n",
              "19099  2017-08-01    2788  ...                740280                3\n",
              "19100  2017-09-01    2788  ...                448370                3\n",
              "19101  2017-10-01    2788  ...                     0                2\n",
              "19102  2017-11-01    2788  ...                200420                2\n",
              "19103  2017-12-01    2788  ...                411480                2\n",
              "\n",
              "[19104 rows x 13 columns]"
            ]
          },
          "metadata": {},
          "execution_count": 146
        }
      ]
    },
    {
      "cell_type": "markdown",
      "metadata": {
        "id": "unGsKHh5kQw0"
      },
      "source": [
        "# Changing to Date type"
      ]
    },
    {
      "cell_type": "code",
      "metadata": {
        "id": "E7Bt4i8S-rYS"
      },
      "source": [
        "hr_att_train['LastWorkingDate']= pd.to_datetime(hr_att_train['LastWorkingDate'])\n",
        "hr_att_train['Dateofjoining']= pd.to_datetime(hr_att_train['Dateofjoining'])\n",
        "hr_att_train['MMM-YY']= pd.to_datetime(hr_att_train['MMM-YY'])\n"
      ],
      "execution_count": 147,
      "outputs": []
    },
    {
      "cell_type": "code",
      "metadata": {
        "colab": {
          "base_uri": "https://localhost:8080/"
        },
        "id": "ojz5IRpRfz9L",
        "outputId": "3684968e-f6e5-4889-9f63-0c0be2d197d6"
      },
      "source": [
        "hr_att_train.columns"
      ],
      "execution_count": 148,
      "outputs": [
        {
          "output_type": "execute_result",
          "data": {
            "text/plain": [
              "Index(['MMM-YY', 'Emp_ID', 'Age', 'Gender', 'City', 'Education_Level',\n",
              "       'Salary', 'Dateofjoining', 'LastWorkingDate', 'Joining Designation',\n",
              "       'Designation', 'Total Business Value', 'Quarterly Rating'],\n",
              "      dtype='object')"
            ]
          },
          "metadata": {},
          "execution_count": 148
        }
      ]
    },
    {
      "cell_type": "code",
      "metadata": {
        "id": "gumIzQ6kg5rI"
      },
      "source": [
        "#hr_att_train1=hr_att_train.groupby(['Emp_ID','MMM-YY']).sum('Total Business Value').sort_values(['Emp_ID'],ascending=True)\n",
        "#hr_att_train1"
      ],
      "execution_count": 149,
      "outputs": []
    },
    {
      "cell_type": "markdown",
      "metadata": {
        "id": "kVeW72onkmKK"
      },
      "source": [
        "# Extracting resigned employee rows using Last working date"
      ]
    },
    {
      "cell_type": "code",
      "metadata": {
        "colab": {
          "base_uri": "https://localhost:8080/",
          "height": 754
        },
        "id": "xEmMKSZAMED4",
        "outputId": "3ad1e377-3105-4b1a-beb5-673d12e3710a"
      },
      "source": [
        "hr_att_train_resigned_employes = hr_att_train[~hr_att_train['LastWorkingDate'].isnull()]\n",
        "hr_att_train_resigned_employes['Attrition']=1\n",
        "hr_att_train_resigned_employes"
      ],
      "execution_count": 150,
      "outputs": [
        {
          "output_type": "stream",
          "name": "stderr",
          "text": [
            "/usr/local/lib/python3.7/dist-packages/ipykernel_launcher.py:2: SettingWithCopyWarning:\n",
            "\n",
            "\n",
            "A value is trying to be set on a copy of a slice from a DataFrame.\n",
            "Try using .loc[row_indexer,col_indexer] = value instead\n",
            "\n",
            "See the caveats in the documentation: https://pandas.pydata.org/pandas-docs/stable/user_guide/indexing.html#returning-a-view-versus-a-copy\n",
            "\n"
          ]
        },
        {
          "output_type": "execute_result",
          "data": {
            "text/html": [
              "<div>\n",
              "<style scoped>\n",
              "    .dataframe tbody tr th:only-of-type {\n",
              "        vertical-align: middle;\n",
              "    }\n",
              "\n",
              "    .dataframe tbody tr th {\n",
              "        vertical-align: top;\n",
              "    }\n",
              "\n",
              "    .dataframe thead th {\n",
              "        text-align: right;\n",
              "    }\n",
              "</style>\n",
              "<table border=\"1\" class=\"dataframe\">\n",
              "  <thead>\n",
              "    <tr style=\"text-align: right;\">\n",
              "      <th></th>\n",
              "      <th>MMM-YY</th>\n",
              "      <th>Emp_ID</th>\n",
              "      <th>Age</th>\n",
              "      <th>Gender</th>\n",
              "      <th>City</th>\n",
              "      <th>Education_Level</th>\n",
              "      <th>Salary</th>\n",
              "      <th>Dateofjoining</th>\n",
              "      <th>LastWorkingDate</th>\n",
              "      <th>Joining Designation</th>\n",
              "      <th>Designation</th>\n",
              "      <th>Total Business Value</th>\n",
              "      <th>Quarterly Rating</th>\n",
              "      <th>Attrition</th>\n",
              "    </tr>\n",
              "  </thead>\n",
              "  <tbody>\n",
              "    <tr>\n",
              "      <th>2</th>\n",
              "      <td>2016-03-01</td>\n",
              "      <td>1</td>\n",
              "      <td>28</td>\n",
              "      <td>Male</td>\n",
              "      <td>C23</td>\n",
              "      <td>Master</td>\n",
              "      <td>57387</td>\n",
              "      <td>2015-12-24</td>\n",
              "      <td>2016-03-11</td>\n",
              "      <td>1</td>\n",
              "      <td>1</td>\n",
              "      <td>0</td>\n",
              "      <td>2</td>\n",
              "      <td>1</td>\n",
              "    </tr>\n",
              "    <tr>\n",
              "      <th>9</th>\n",
              "      <td>2017-04-01</td>\n",
              "      <td>4</td>\n",
              "      <td>43</td>\n",
              "      <td>Male</td>\n",
              "      <td>C13</td>\n",
              "      <td>Master</td>\n",
              "      <td>65603</td>\n",
              "      <td>2016-12-07</td>\n",
              "      <td>2017-04-27</td>\n",
              "      <td>2</td>\n",
              "      <td>2</td>\n",
              "      <td>0</td>\n",
              "      <td>1</td>\n",
              "      <td>1</td>\n",
              "    </tr>\n",
              "    <tr>\n",
              "      <th>12</th>\n",
              "      <td>2016-03-01</td>\n",
              "      <td>5</td>\n",
              "      <td>29</td>\n",
              "      <td>Male</td>\n",
              "      <td>C9</td>\n",
              "      <td>College</td>\n",
              "      <td>46368</td>\n",
              "      <td>2016-01-09</td>\n",
              "      <td>2016-03-07</td>\n",
              "      <td>1</td>\n",
              "      <td>1</td>\n",
              "      <td>0</td>\n",
              "      <td>1</td>\n",
              "      <td>1</td>\n",
              "    </tr>\n",
              "    <tr>\n",
              "      <th>20</th>\n",
              "      <td>2017-11-01</td>\n",
              "      <td>8</td>\n",
              "      <td>34</td>\n",
              "      <td>Male</td>\n",
              "      <td>C2</td>\n",
              "      <td>College</td>\n",
              "      <td>70656</td>\n",
              "      <td>2017-09-19</td>\n",
              "      <td>2017-11-15</td>\n",
              "      <td>3</td>\n",
              "      <td>3</td>\n",
              "      <td>0</td>\n",
              "      <td>1</td>\n",
              "      <td>1</td>\n",
              "    </tr>\n",
              "    <tr>\n",
              "      <th>27</th>\n",
              "      <td>2016-12-01</td>\n",
              "      <td>12</td>\n",
              "      <td>35</td>\n",
              "      <td>Male</td>\n",
              "      <td>C23</td>\n",
              "      <td>Master</td>\n",
              "      <td>28116</td>\n",
              "      <td>2016-06-29</td>\n",
              "      <td>2016-12-21</td>\n",
              "      <td>1</td>\n",
              "      <td>1</td>\n",
              "      <td>0</td>\n",
              "      <td>1</td>\n",
              "      <td>1</td>\n",
              "    </tr>\n",
              "    <tr>\n",
              "      <th>...</th>\n",
              "      <td>...</td>\n",
              "      <td>...</td>\n",
              "      <td>...</td>\n",
              "      <td>...</td>\n",
              "      <td>...</td>\n",
              "      <td>...</td>\n",
              "      <td>...</td>\n",
              "      <td>...</td>\n",
              "      <td>...</td>\n",
              "      <td>...</td>\n",
              "      <td>...</td>\n",
              "      <td>...</td>\n",
              "      <td>...</td>\n",
              "      <td>...</td>\n",
              "    </tr>\n",
              "    <tr>\n",
              "      <th>19039</th>\n",
              "      <td>2017-02-01</td>\n",
              "      <td>2779</td>\n",
              "      <td>28</td>\n",
              "      <td>Male</td>\n",
              "      <td>C26</td>\n",
              "      <td>College</td>\n",
              "      <td>95133</td>\n",
              "      <td>2017-01-26</td>\n",
              "      <td>2017-02-14</td>\n",
              "      <td>3</td>\n",
              "      <td>3</td>\n",
              "      <td>0</td>\n",
              "      <td>1</td>\n",
              "      <td>1</td>\n",
              "    </tr>\n",
              "    <tr>\n",
              "      <th>19054</th>\n",
              "      <td>2016-08-01</td>\n",
              "      <td>2782</td>\n",
              "      <td>26</td>\n",
              "      <td>Male</td>\n",
              "      <td>C19</td>\n",
              "      <td>Bachelor</td>\n",
              "      <td>29582</td>\n",
              "      <td>2016-05-16</td>\n",
              "      <td>2016-08-16</td>\n",
              "      <td>1</td>\n",
              "      <td>1</td>\n",
              "      <td>0</td>\n",
              "      <td>1</td>\n",
              "      <td>1</td>\n",
              "    </tr>\n",
              "    <tr>\n",
              "      <th>19081</th>\n",
              "      <td>2017-10-01</td>\n",
              "      <td>2785</td>\n",
              "      <td>34</td>\n",
              "      <td>Female</td>\n",
              "      <td>C9</td>\n",
              "      <td>College</td>\n",
              "      <td>12105</td>\n",
              "      <td>2017-08-28</td>\n",
              "      <td>2017-10-28</td>\n",
              "      <td>1</td>\n",
              "      <td>1</td>\n",
              "      <td>0</td>\n",
              "      <td>1</td>\n",
              "      <td>1</td>\n",
              "    </tr>\n",
              "    <tr>\n",
              "      <th>19090</th>\n",
              "      <td>2016-09-01</td>\n",
              "      <td>2786</td>\n",
              "      <td>45</td>\n",
              "      <td>Male</td>\n",
              "      <td>C19</td>\n",
              "      <td>College</td>\n",
              "      <td>35370</td>\n",
              "      <td>2015-07-31</td>\n",
              "      <td>2016-09-22</td>\n",
              "      <td>2</td>\n",
              "      <td>2</td>\n",
              "      <td>0</td>\n",
              "      <td>1</td>\n",
              "      <td>1</td>\n",
              "    </tr>\n",
              "    <tr>\n",
              "      <th>19096</th>\n",
              "      <td>2016-06-01</td>\n",
              "      <td>2787</td>\n",
              "      <td>28</td>\n",
              "      <td>Female</td>\n",
              "      <td>C20</td>\n",
              "      <td>Master</td>\n",
              "      <td>69498</td>\n",
              "      <td>2015-07-21</td>\n",
              "      <td>2016-06-20</td>\n",
              "      <td>1</td>\n",
              "      <td>1</td>\n",
              "      <td>0</td>\n",
              "      <td>1</td>\n",
              "      <td>1</td>\n",
              "    </tr>\n",
              "  </tbody>\n",
              "</table>\n",
              "<p>1616 rows × 14 columns</p>\n",
              "</div>"
            ],
            "text/plain": [
              "          MMM-YY  Emp_ID  ...  Quarterly Rating Attrition\n",
              "2     2016-03-01       1  ...                 2         1\n",
              "9     2017-04-01       4  ...                 1         1\n",
              "12    2016-03-01       5  ...                 1         1\n",
              "20    2017-11-01       8  ...                 1         1\n",
              "27    2016-12-01      12  ...                 1         1\n",
              "...          ...     ...  ...               ...       ...\n",
              "19039 2017-02-01    2779  ...                 1         1\n",
              "19054 2016-08-01    2782  ...                 1         1\n",
              "19081 2017-10-01    2785  ...                 1         1\n",
              "19090 2016-09-01    2786  ...                 1         1\n",
              "19096 2016-06-01    2787  ...                 1         1\n",
              "\n",
              "[1616 rows x 14 columns]"
            ]
          },
          "metadata": {},
          "execution_count": 150
        }
      ]
    },
    {
      "cell_type": "markdown",
      "metadata": {
        "id": "nkj3VzCIkvpD"
      },
      "source": [
        "# Approach 1 to create dependent field- Attrition"
      ]
    },
    {
      "cell_type": "code",
      "metadata": {
        "id": "f3CJpKogLJDH"
      },
      "source": [
        "#df = pd.merge(df,df2[['Key_Column','Target_Column']],on='Key_Column', how='left')\n",
        "hr_train_merged=pd.merge(hr_att_train,hr_att_train_resigned_employes[['Emp_ID','Attrition']], on='Emp_ID',how='left')"
      ],
      "execution_count": 151,
      "outputs": []
    },
    {
      "cell_type": "code",
      "metadata": {
        "colab": {
          "base_uri": "https://localhost:8080/",
          "height": 580
        },
        "id": "0KGv66RZ-dPE",
        "outputId": "73ac331f-bbc3-4ab5-fd6a-20bbc369516c"
      },
      "source": [
        "hr_train_merged['Attrition'].fillna(0,inplace=True)\n",
        "hr_train_merged"
      ],
      "execution_count": 152,
      "outputs": [
        {
          "output_type": "execute_result",
          "data": {
            "text/html": [
              "<div>\n",
              "<style scoped>\n",
              "    .dataframe tbody tr th:only-of-type {\n",
              "        vertical-align: middle;\n",
              "    }\n",
              "\n",
              "    .dataframe tbody tr th {\n",
              "        vertical-align: top;\n",
              "    }\n",
              "\n",
              "    .dataframe thead th {\n",
              "        text-align: right;\n",
              "    }\n",
              "</style>\n",
              "<table border=\"1\" class=\"dataframe\">\n",
              "  <thead>\n",
              "    <tr style=\"text-align: right;\">\n",
              "      <th></th>\n",
              "      <th>MMM-YY</th>\n",
              "      <th>Emp_ID</th>\n",
              "      <th>Age</th>\n",
              "      <th>Gender</th>\n",
              "      <th>City</th>\n",
              "      <th>Education_Level</th>\n",
              "      <th>Salary</th>\n",
              "      <th>Dateofjoining</th>\n",
              "      <th>LastWorkingDate</th>\n",
              "      <th>Joining Designation</th>\n",
              "      <th>Designation</th>\n",
              "      <th>Total Business Value</th>\n",
              "      <th>Quarterly Rating</th>\n",
              "      <th>Attrition</th>\n",
              "    </tr>\n",
              "  </thead>\n",
              "  <tbody>\n",
              "    <tr>\n",
              "      <th>0</th>\n",
              "      <td>2016-01-01</td>\n",
              "      <td>1</td>\n",
              "      <td>28</td>\n",
              "      <td>Male</td>\n",
              "      <td>C23</td>\n",
              "      <td>Master</td>\n",
              "      <td>57387</td>\n",
              "      <td>2015-12-24</td>\n",
              "      <td>NaT</td>\n",
              "      <td>1</td>\n",
              "      <td>1</td>\n",
              "      <td>2381060</td>\n",
              "      <td>2</td>\n",
              "      <td>1.0</td>\n",
              "    </tr>\n",
              "    <tr>\n",
              "      <th>1</th>\n",
              "      <td>2016-02-01</td>\n",
              "      <td>1</td>\n",
              "      <td>28</td>\n",
              "      <td>Male</td>\n",
              "      <td>C23</td>\n",
              "      <td>Master</td>\n",
              "      <td>57387</td>\n",
              "      <td>2015-12-24</td>\n",
              "      <td>NaT</td>\n",
              "      <td>1</td>\n",
              "      <td>1</td>\n",
              "      <td>-665480</td>\n",
              "      <td>2</td>\n",
              "      <td>1.0</td>\n",
              "    </tr>\n",
              "    <tr>\n",
              "      <th>2</th>\n",
              "      <td>2016-03-01</td>\n",
              "      <td>1</td>\n",
              "      <td>28</td>\n",
              "      <td>Male</td>\n",
              "      <td>C23</td>\n",
              "      <td>Master</td>\n",
              "      <td>57387</td>\n",
              "      <td>2015-12-24</td>\n",
              "      <td>2016-03-11</td>\n",
              "      <td>1</td>\n",
              "      <td>1</td>\n",
              "      <td>0</td>\n",
              "      <td>2</td>\n",
              "      <td>1.0</td>\n",
              "    </tr>\n",
              "    <tr>\n",
              "      <th>3</th>\n",
              "      <td>2017-11-01</td>\n",
              "      <td>2</td>\n",
              "      <td>31</td>\n",
              "      <td>Male</td>\n",
              "      <td>C7</td>\n",
              "      <td>Master</td>\n",
              "      <td>67016</td>\n",
              "      <td>2017-11-06</td>\n",
              "      <td>NaT</td>\n",
              "      <td>2</td>\n",
              "      <td>2</td>\n",
              "      <td>0</td>\n",
              "      <td>1</td>\n",
              "      <td>0.0</td>\n",
              "    </tr>\n",
              "    <tr>\n",
              "      <th>4</th>\n",
              "      <td>2017-12-01</td>\n",
              "      <td>2</td>\n",
              "      <td>31</td>\n",
              "      <td>Male</td>\n",
              "      <td>C7</td>\n",
              "      <td>Master</td>\n",
              "      <td>67016</td>\n",
              "      <td>2017-11-06</td>\n",
              "      <td>NaT</td>\n",
              "      <td>2</td>\n",
              "      <td>2</td>\n",
              "      <td>0</td>\n",
              "      <td>1</td>\n",
              "      <td>0.0</td>\n",
              "    </tr>\n",
              "    <tr>\n",
              "      <th>...</th>\n",
              "      <td>...</td>\n",
              "      <td>...</td>\n",
              "      <td>...</td>\n",
              "      <td>...</td>\n",
              "      <td>...</td>\n",
              "      <td>...</td>\n",
              "      <td>...</td>\n",
              "      <td>...</td>\n",
              "      <td>...</td>\n",
              "      <td>...</td>\n",
              "      <td>...</td>\n",
              "      <td>...</td>\n",
              "      <td>...</td>\n",
              "      <td>...</td>\n",
              "    </tr>\n",
              "    <tr>\n",
              "      <th>19099</th>\n",
              "      <td>2017-08-01</td>\n",
              "      <td>2788</td>\n",
              "      <td>30</td>\n",
              "      <td>Male</td>\n",
              "      <td>C27</td>\n",
              "      <td>Master</td>\n",
              "      <td>70254</td>\n",
              "      <td>2017-06-08</td>\n",
              "      <td>NaT</td>\n",
              "      <td>2</td>\n",
              "      <td>2</td>\n",
              "      <td>740280</td>\n",
              "      <td>3</td>\n",
              "      <td>0.0</td>\n",
              "    </tr>\n",
              "    <tr>\n",
              "      <th>19100</th>\n",
              "      <td>2017-09-01</td>\n",
              "      <td>2788</td>\n",
              "      <td>30</td>\n",
              "      <td>Male</td>\n",
              "      <td>C27</td>\n",
              "      <td>Master</td>\n",
              "      <td>70254</td>\n",
              "      <td>2017-06-08</td>\n",
              "      <td>NaT</td>\n",
              "      <td>2</td>\n",
              "      <td>2</td>\n",
              "      <td>448370</td>\n",
              "      <td>3</td>\n",
              "      <td>0.0</td>\n",
              "    </tr>\n",
              "    <tr>\n",
              "      <th>19101</th>\n",
              "      <td>2017-10-01</td>\n",
              "      <td>2788</td>\n",
              "      <td>30</td>\n",
              "      <td>Male</td>\n",
              "      <td>C27</td>\n",
              "      <td>Master</td>\n",
              "      <td>70254</td>\n",
              "      <td>2017-06-08</td>\n",
              "      <td>NaT</td>\n",
              "      <td>2</td>\n",
              "      <td>2</td>\n",
              "      <td>0</td>\n",
              "      <td>2</td>\n",
              "      <td>0.0</td>\n",
              "    </tr>\n",
              "    <tr>\n",
              "      <th>19102</th>\n",
              "      <td>2017-11-01</td>\n",
              "      <td>2788</td>\n",
              "      <td>30</td>\n",
              "      <td>Male</td>\n",
              "      <td>C27</td>\n",
              "      <td>Master</td>\n",
              "      <td>70254</td>\n",
              "      <td>2017-06-08</td>\n",
              "      <td>NaT</td>\n",
              "      <td>2</td>\n",
              "      <td>2</td>\n",
              "      <td>200420</td>\n",
              "      <td>2</td>\n",
              "      <td>0.0</td>\n",
              "    </tr>\n",
              "    <tr>\n",
              "      <th>19103</th>\n",
              "      <td>2017-12-01</td>\n",
              "      <td>2788</td>\n",
              "      <td>30</td>\n",
              "      <td>Male</td>\n",
              "      <td>C27</td>\n",
              "      <td>Master</td>\n",
              "      <td>70254</td>\n",
              "      <td>2017-06-08</td>\n",
              "      <td>NaT</td>\n",
              "      <td>2</td>\n",
              "      <td>2</td>\n",
              "      <td>411480</td>\n",
              "      <td>2</td>\n",
              "      <td>0.0</td>\n",
              "    </tr>\n",
              "  </tbody>\n",
              "</table>\n",
              "<p>19104 rows × 14 columns</p>\n",
              "</div>"
            ],
            "text/plain": [
              "          MMM-YY  Emp_ID  ...  Quarterly Rating Attrition\n",
              "0     2016-01-01       1  ...                 2       1.0\n",
              "1     2016-02-01       1  ...                 2       1.0\n",
              "2     2016-03-01       1  ...                 2       1.0\n",
              "3     2017-11-01       2  ...                 1       0.0\n",
              "4     2017-12-01       2  ...                 1       0.0\n",
              "...          ...     ...  ...               ...       ...\n",
              "19099 2017-08-01    2788  ...                 3       0.0\n",
              "19100 2017-09-01    2788  ...                 3       0.0\n",
              "19101 2017-10-01    2788  ...                 2       0.0\n",
              "19102 2017-11-01    2788  ...                 2       0.0\n",
              "19103 2017-12-01    2788  ...                 2       0.0\n",
              "\n",
              "[19104 rows x 14 columns]"
            ]
          },
          "metadata": {},
          "execution_count": 152
        }
      ]
    },
    {
      "cell_type": "code",
      "metadata": {
        "colab": {
          "base_uri": "https://localhost:8080/"
        },
        "id": "01mkgfGI-FEH",
        "outputId": "9c1e7b81-a666-4249-9311-8b0ba008794c"
      },
      "source": [
        "hr_train_merged['Attrition'].value_counts()"
      ],
      "execution_count": 153,
      "outputs": [
        {
          "output_type": "execute_result",
          "data": {
            "text/plain": [
              "1.0    10359\n",
              "0.0     8745\n",
              "Name: Attrition, dtype: int64"
            ]
          },
          "metadata": {},
          "execution_count": 153
        }
      ]
    },
    {
      "cell_type": "markdown",
      "metadata": {
        "id": "XGAFN4BgLn6R"
      },
      "source": [
        "# `Approach 2 for creating dependent field Attrition`"
      ]
    },
    {
      "cell_type": "code",
      "metadata": {
        "id": "STxxikUOltVZ"
      },
      "source": [
        "hr_att_train_app_2=hr_att_train.copy()"
      ],
      "execution_count": 154,
      "outputs": []
    },
    {
      "cell_type": "code",
      "metadata": {
        "colab": {
          "base_uri": "https://localhost:8080/",
          "height": 580
        },
        "id": "cULF3B6apCVe",
        "outputId": "3ab0f9e0-3c2a-4d64-9875-449f28f329f4"
      },
      "source": [
        "hr_att_train_app_2['Attretion'] = np.where(pd.isnull(hr_att_train['LastWorkingDate'])==True, 0, 1)\n",
        "hr_att_train_app_2"
      ],
      "execution_count": 155,
      "outputs": [
        {
          "output_type": "execute_result",
          "data": {
            "text/html": [
              "<div>\n",
              "<style scoped>\n",
              "    .dataframe tbody tr th:only-of-type {\n",
              "        vertical-align: middle;\n",
              "    }\n",
              "\n",
              "    .dataframe tbody tr th {\n",
              "        vertical-align: top;\n",
              "    }\n",
              "\n",
              "    .dataframe thead th {\n",
              "        text-align: right;\n",
              "    }\n",
              "</style>\n",
              "<table border=\"1\" class=\"dataframe\">\n",
              "  <thead>\n",
              "    <tr style=\"text-align: right;\">\n",
              "      <th></th>\n",
              "      <th>MMM-YY</th>\n",
              "      <th>Emp_ID</th>\n",
              "      <th>Age</th>\n",
              "      <th>Gender</th>\n",
              "      <th>City</th>\n",
              "      <th>Education_Level</th>\n",
              "      <th>Salary</th>\n",
              "      <th>Dateofjoining</th>\n",
              "      <th>LastWorkingDate</th>\n",
              "      <th>Joining Designation</th>\n",
              "      <th>Designation</th>\n",
              "      <th>Total Business Value</th>\n",
              "      <th>Quarterly Rating</th>\n",
              "      <th>Attretion</th>\n",
              "    </tr>\n",
              "  </thead>\n",
              "  <tbody>\n",
              "    <tr>\n",
              "      <th>0</th>\n",
              "      <td>2016-01-01</td>\n",
              "      <td>1</td>\n",
              "      <td>28</td>\n",
              "      <td>Male</td>\n",
              "      <td>C23</td>\n",
              "      <td>Master</td>\n",
              "      <td>57387</td>\n",
              "      <td>2015-12-24</td>\n",
              "      <td>NaT</td>\n",
              "      <td>1</td>\n",
              "      <td>1</td>\n",
              "      <td>2381060</td>\n",
              "      <td>2</td>\n",
              "      <td>0</td>\n",
              "    </tr>\n",
              "    <tr>\n",
              "      <th>1</th>\n",
              "      <td>2016-02-01</td>\n",
              "      <td>1</td>\n",
              "      <td>28</td>\n",
              "      <td>Male</td>\n",
              "      <td>C23</td>\n",
              "      <td>Master</td>\n",
              "      <td>57387</td>\n",
              "      <td>2015-12-24</td>\n",
              "      <td>NaT</td>\n",
              "      <td>1</td>\n",
              "      <td>1</td>\n",
              "      <td>-665480</td>\n",
              "      <td>2</td>\n",
              "      <td>0</td>\n",
              "    </tr>\n",
              "    <tr>\n",
              "      <th>2</th>\n",
              "      <td>2016-03-01</td>\n",
              "      <td>1</td>\n",
              "      <td>28</td>\n",
              "      <td>Male</td>\n",
              "      <td>C23</td>\n",
              "      <td>Master</td>\n",
              "      <td>57387</td>\n",
              "      <td>2015-12-24</td>\n",
              "      <td>2016-03-11</td>\n",
              "      <td>1</td>\n",
              "      <td>1</td>\n",
              "      <td>0</td>\n",
              "      <td>2</td>\n",
              "      <td>1</td>\n",
              "    </tr>\n",
              "    <tr>\n",
              "      <th>3</th>\n",
              "      <td>2017-11-01</td>\n",
              "      <td>2</td>\n",
              "      <td>31</td>\n",
              "      <td>Male</td>\n",
              "      <td>C7</td>\n",
              "      <td>Master</td>\n",
              "      <td>67016</td>\n",
              "      <td>2017-11-06</td>\n",
              "      <td>NaT</td>\n",
              "      <td>2</td>\n",
              "      <td>2</td>\n",
              "      <td>0</td>\n",
              "      <td>1</td>\n",
              "      <td>0</td>\n",
              "    </tr>\n",
              "    <tr>\n",
              "      <th>4</th>\n",
              "      <td>2017-12-01</td>\n",
              "      <td>2</td>\n",
              "      <td>31</td>\n",
              "      <td>Male</td>\n",
              "      <td>C7</td>\n",
              "      <td>Master</td>\n",
              "      <td>67016</td>\n",
              "      <td>2017-11-06</td>\n",
              "      <td>NaT</td>\n",
              "      <td>2</td>\n",
              "      <td>2</td>\n",
              "      <td>0</td>\n",
              "      <td>1</td>\n",
              "      <td>0</td>\n",
              "    </tr>\n",
              "    <tr>\n",
              "      <th>...</th>\n",
              "      <td>...</td>\n",
              "      <td>...</td>\n",
              "      <td>...</td>\n",
              "      <td>...</td>\n",
              "      <td>...</td>\n",
              "      <td>...</td>\n",
              "      <td>...</td>\n",
              "      <td>...</td>\n",
              "      <td>...</td>\n",
              "      <td>...</td>\n",
              "      <td>...</td>\n",
              "      <td>...</td>\n",
              "      <td>...</td>\n",
              "      <td>...</td>\n",
              "    </tr>\n",
              "    <tr>\n",
              "      <th>19099</th>\n",
              "      <td>2017-08-01</td>\n",
              "      <td>2788</td>\n",
              "      <td>30</td>\n",
              "      <td>Male</td>\n",
              "      <td>C27</td>\n",
              "      <td>Master</td>\n",
              "      <td>70254</td>\n",
              "      <td>2017-06-08</td>\n",
              "      <td>NaT</td>\n",
              "      <td>2</td>\n",
              "      <td>2</td>\n",
              "      <td>740280</td>\n",
              "      <td>3</td>\n",
              "      <td>0</td>\n",
              "    </tr>\n",
              "    <tr>\n",
              "      <th>19100</th>\n",
              "      <td>2017-09-01</td>\n",
              "      <td>2788</td>\n",
              "      <td>30</td>\n",
              "      <td>Male</td>\n",
              "      <td>C27</td>\n",
              "      <td>Master</td>\n",
              "      <td>70254</td>\n",
              "      <td>2017-06-08</td>\n",
              "      <td>NaT</td>\n",
              "      <td>2</td>\n",
              "      <td>2</td>\n",
              "      <td>448370</td>\n",
              "      <td>3</td>\n",
              "      <td>0</td>\n",
              "    </tr>\n",
              "    <tr>\n",
              "      <th>19101</th>\n",
              "      <td>2017-10-01</td>\n",
              "      <td>2788</td>\n",
              "      <td>30</td>\n",
              "      <td>Male</td>\n",
              "      <td>C27</td>\n",
              "      <td>Master</td>\n",
              "      <td>70254</td>\n",
              "      <td>2017-06-08</td>\n",
              "      <td>NaT</td>\n",
              "      <td>2</td>\n",
              "      <td>2</td>\n",
              "      <td>0</td>\n",
              "      <td>2</td>\n",
              "      <td>0</td>\n",
              "    </tr>\n",
              "    <tr>\n",
              "      <th>19102</th>\n",
              "      <td>2017-11-01</td>\n",
              "      <td>2788</td>\n",
              "      <td>30</td>\n",
              "      <td>Male</td>\n",
              "      <td>C27</td>\n",
              "      <td>Master</td>\n",
              "      <td>70254</td>\n",
              "      <td>2017-06-08</td>\n",
              "      <td>NaT</td>\n",
              "      <td>2</td>\n",
              "      <td>2</td>\n",
              "      <td>200420</td>\n",
              "      <td>2</td>\n",
              "      <td>0</td>\n",
              "    </tr>\n",
              "    <tr>\n",
              "      <th>19103</th>\n",
              "      <td>2017-12-01</td>\n",
              "      <td>2788</td>\n",
              "      <td>30</td>\n",
              "      <td>Male</td>\n",
              "      <td>C27</td>\n",
              "      <td>Master</td>\n",
              "      <td>70254</td>\n",
              "      <td>2017-06-08</td>\n",
              "      <td>NaT</td>\n",
              "      <td>2</td>\n",
              "      <td>2</td>\n",
              "      <td>411480</td>\n",
              "      <td>2</td>\n",
              "      <td>0</td>\n",
              "    </tr>\n",
              "  </tbody>\n",
              "</table>\n",
              "<p>19104 rows × 14 columns</p>\n",
              "</div>"
            ],
            "text/plain": [
              "          MMM-YY  Emp_ID  ...  Quarterly Rating Attretion\n",
              "0     2016-01-01       1  ...                 2         0\n",
              "1     2016-02-01       1  ...                 2         0\n",
              "2     2016-03-01       1  ...                 2         1\n",
              "3     2017-11-01       2  ...                 1         0\n",
              "4     2017-12-01       2  ...                 1         0\n",
              "...          ...     ...  ...               ...       ...\n",
              "19099 2017-08-01    2788  ...                 3         0\n",
              "19100 2017-09-01    2788  ...                 3         0\n",
              "19101 2017-10-01    2788  ...                 2         0\n",
              "19102 2017-11-01    2788  ...                 2         0\n",
              "19103 2017-12-01    2788  ...                 2         0\n",
              "\n",
              "[19104 rows x 14 columns]"
            ]
          },
          "metadata": {},
          "execution_count": 155
        }
      ]
    },
    {
      "cell_type": "code",
      "metadata": {
        "colab": {
          "base_uri": "https://localhost:8080/",
          "height": 614
        },
        "id": "XpkKSJ8SL1zr",
        "outputId": "2d7ebfd8-102a-4aa0-d2cd-a8b1d251f687"
      },
      "source": [
        "hr_att_train_app_2['Attrition1']=hr_att_train_app_2.groupby('Emp_ID')['Attretion'].transform('max')\n",
        "hr_att_train_app_2"
      ],
      "execution_count": 156,
      "outputs": [
        {
          "output_type": "execute_result",
          "data": {
            "text/html": [
              "<div>\n",
              "<style scoped>\n",
              "    .dataframe tbody tr th:only-of-type {\n",
              "        vertical-align: middle;\n",
              "    }\n",
              "\n",
              "    .dataframe tbody tr th {\n",
              "        vertical-align: top;\n",
              "    }\n",
              "\n",
              "    .dataframe thead th {\n",
              "        text-align: right;\n",
              "    }\n",
              "</style>\n",
              "<table border=\"1\" class=\"dataframe\">\n",
              "  <thead>\n",
              "    <tr style=\"text-align: right;\">\n",
              "      <th></th>\n",
              "      <th>MMM-YY</th>\n",
              "      <th>Emp_ID</th>\n",
              "      <th>Age</th>\n",
              "      <th>Gender</th>\n",
              "      <th>City</th>\n",
              "      <th>Education_Level</th>\n",
              "      <th>Salary</th>\n",
              "      <th>Dateofjoining</th>\n",
              "      <th>LastWorkingDate</th>\n",
              "      <th>Joining Designation</th>\n",
              "      <th>Designation</th>\n",
              "      <th>Total Business Value</th>\n",
              "      <th>Quarterly Rating</th>\n",
              "      <th>Attretion</th>\n",
              "      <th>Attrition1</th>\n",
              "    </tr>\n",
              "  </thead>\n",
              "  <tbody>\n",
              "    <tr>\n",
              "      <th>0</th>\n",
              "      <td>2016-01-01</td>\n",
              "      <td>1</td>\n",
              "      <td>28</td>\n",
              "      <td>Male</td>\n",
              "      <td>C23</td>\n",
              "      <td>Master</td>\n",
              "      <td>57387</td>\n",
              "      <td>2015-12-24</td>\n",
              "      <td>NaT</td>\n",
              "      <td>1</td>\n",
              "      <td>1</td>\n",
              "      <td>2381060</td>\n",
              "      <td>2</td>\n",
              "      <td>0</td>\n",
              "      <td>1</td>\n",
              "    </tr>\n",
              "    <tr>\n",
              "      <th>1</th>\n",
              "      <td>2016-02-01</td>\n",
              "      <td>1</td>\n",
              "      <td>28</td>\n",
              "      <td>Male</td>\n",
              "      <td>C23</td>\n",
              "      <td>Master</td>\n",
              "      <td>57387</td>\n",
              "      <td>2015-12-24</td>\n",
              "      <td>NaT</td>\n",
              "      <td>1</td>\n",
              "      <td>1</td>\n",
              "      <td>-665480</td>\n",
              "      <td>2</td>\n",
              "      <td>0</td>\n",
              "      <td>1</td>\n",
              "    </tr>\n",
              "    <tr>\n",
              "      <th>2</th>\n",
              "      <td>2016-03-01</td>\n",
              "      <td>1</td>\n",
              "      <td>28</td>\n",
              "      <td>Male</td>\n",
              "      <td>C23</td>\n",
              "      <td>Master</td>\n",
              "      <td>57387</td>\n",
              "      <td>2015-12-24</td>\n",
              "      <td>2016-03-11</td>\n",
              "      <td>1</td>\n",
              "      <td>1</td>\n",
              "      <td>0</td>\n",
              "      <td>2</td>\n",
              "      <td>1</td>\n",
              "      <td>1</td>\n",
              "    </tr>\n",
              "    <tr>\n",
              "      <th>3</th>\n",
              "      <td>2017-11-01</td>\n",
              "      <td>2</td>\n",
              "      <td>31</td>\n",
              "      <td>Male</td>\n",
              "      <td>C7</td>\n",
              "      <td>Master</td>\n",
              "      <td>67016</td>\n",
              "      <td>2017-11-06</td>\n",
              "      <td>NaT</td>\n",
              "      <td>2</td>\n",
              "      <td>2</td>\n",
              "      <td>0</td>\n",
              "      <td>1</td>\n",
              "      <td>0</td>\n",
              "      <td>0</td>\n",
              "    </tr>\n",
              "    <tr>\n",
              "      <th>4</th>\n",
              "      <td>2017-12-01</td>\n",
              "      <td>2</td>\n",
              "      <td>31</td>\n",
              "      <td>Male</td>\n",
              "      <td>C7</td>\n",
              "      <td>Master</td>\n",
              "      <td>67016</td>\n",
              "      <td>2017-11-06</td>\n",
              "      <td>NaT</td>\n",
              "      <td>2</td>\n",
              "      <td>2</td>\n",
              "      <td>0</td>\n",
              "      <td>1</td>\n",
              "      <td>0</td>\n",
              "      <td>0</td>\n",
              "    </tr>\n",
              "    <tr>\n",
              "      <th>...</th>\n",
              "      <td>...</td>\n",
              "      <td>...</td>\n",
              "      <td>...</td>\n",
              "      <td>...</td>\n",
              "      <td>...</td>\n",
              "      <td>...</td>\n",
              "      <td>...</td>\n",
              "      <td>...</td>\n",
              "      <td>...</td>\n",
              "      <td>...</td>\n",
              "      <td>...</td>\n",
              "      <td>...</td>\n",
              "      <td>...</td>\n",
              "      <td>...</td>\n",
              "      <td>...</td>\n",
              "    </tr>\n",
              "    <tr>\n",
              "      <th>19099</th>\n",
              "      <td>2017-08-01</td>\n",
              "      <td>2788</td>\n",
              "      <td>30</td>\n",
              "      <td>Male</td>\n",
              "      <td>C27</td>\n",
              "      <td>Master</td>\n",
              "      <td>70254</td>\n",
              "      <td>2017-06-08</td>\n",
              "      <td>NaT</td>\n",
              "      <td>2</td>\n",
              "      <td>2</td>\n",
              "      <td>740280</td>\n",
              "      <td>3</td>\n",
              "      <td>0</td>\n",
              "      <td>0</td>\n",
              "    </tr>\n",
              "    <tr>\n",
              "      <th>19100</th>\n",
              "      <td>2017-09-01</td>\n",
              "      <td>2788</td>\n",
              "      <td>30</td>\n",
              "      <td>Male</td>\n",
              "      <td>C27</td>\n",
              "      <td>Master</td>\n",
              "      <td>70254</td>\n",
              "      <td>2017-06-08</td>\n",
              "      <td>NaT</td>\n",
              "      <td>2</td>\n",
              "      <td>2</td>\n",
              "      <td>448370</td>\n",
              "      <td>3</td>\n",
              "      <td>0</td>\n",
              "      <td>0</td>\n",
              "    </tr>\n",
              "    <tr>\n",
              "      <th>19101</th>\n",
              "      <td>2017-10-01</td>\n",
              "      <td>2788</td>\n",
              "      <td>30</td>\n",
              "      <td>Male</td>\n",
              "      <td>C27</td>\n",
              "      <td>Master</td>\n",
              "      <td>70254</td>\n",
              "      <td>2017-06-08</td>\n",
              "      <td>NaT</td>\n",
              "      <td>2</td>\n",
              "      <td>2</td>\n",
              "      <td>0</td>\n",
              "      <td>2</td>\n",
              "      <td>0</td>\n",
              "      <td>0</td>\n",
              "    </tr>\n",
              "    <tr>\n",
              "      <th>19102</th>\n",
              "      <td>2017-11-01</td>\n",
              "      <td>2788</td>\n",
              "      <td>30</td>\n",
              "      <td>Male</td>\n",
              "      <td>C27</td>\n",
              "      <td>Master</td>\n",
              "      <td>70254</td>\n",
              "      <td>2017-06-08</td>\n",
              "      <td>NaT</td>\n",
              "      <td>2</td>\n",
              "      <td>2</td>\n",
              "      <td>200420</td>\n",
              "      <td>2</td>\n",
              "      <td>0</td>\n",
              "      <td>0</td>\n",
              "    </tr>\n",
              "    <tr>\n",
              "      <th>19103</th>\n",
              "      <td>2017-12-01</td>\n",
              "      <td>2788</td>\n",
              "      <td>30</td>\n",
              "      <td>Male</td>\n",
              "      <td>C27</td>\n",
              "      <td>Master</td>\n",
              "      <td>70254</td>\n",
              "      <td>2017-06-08</td>\n",
              "      <td>NaT</td>\n",
              "      <td>2</td>\n",
              "      <td>2</td>\n",
              "      <td>411480</td>\n",
              "      <td>2</td>\n",
              "      <td>0</td>\n",
              "      <td>0</td>\n",
              "    </tr>\n",
              "  </tbody>\n",
              "</table>\n",
              "<p>19104 rows × 15 columns</p>\n",
              "</div>"
            ],
            "text/plain": [
              "          MMM-YY  Emp_ID  Age  ... Quarterly Rating Attretion Attrition1\n",
              "0     2016-01-01       1   28  ...                2         0          1\n",
              "1     2016-02-01       1   28  ...                2         0          1\n",
              "2     2016-03-01       1   28  ...                2         1          1\n",
              "3     2017-11-01       2   31  ...                1         0          0\n",
              "4     2017-12-01       2   31  ...                1         0          0\n",
              "...          ...     ...  ...  ...              ...       ...        ...\n",
              "19099 2017-08-01    2788   30  ...                3         0          0\n",
              "19100 2017-09-01    2788   30  ...                3         0          0\n",
              "19101 2017-10-01    2788   30  ...                2         0          0\n",
              "19102 2017-11-01    2788   30  ...                2         0          0\n",
              "19103 2017-12-01    2788   30  ...                2         0          0\n",
              "\n",
              "[19104 rows x 15 columns]"
            ]
          },
          "metadata": {},
          "execution_count": 156
        }
      ]
    },
    {
      "cell_type": "code",
      "metadata": {
        "colab": {
          "base_uri": "https://localhost:8080/"
        },
        "id": "kSR82UE0BiLS",
        "outputId": "5b037e0a-6a0b-48cc-df2f-3a008d9be637"
      },
      "source": [
        "hr_att_train_app_2['Attrition1'].value_counts()"
      ],
      "execution_count": 157,
      "outputs": [
        {
          "output_type": "execute_result",
          "data": {
            "text/plain": [
              "1    10359\n",
              "0     8745\n",
              "Name: Attrition1, dtype: int64"
            ]
          },
          "metadata": {},
          "execution_count": 157
        }
      ]
    },
    {
      "cell_type": "code",
      "metadata": {
        "id": "R26lpPNImVZ8"
      },
      "source": [
        "hr_att_train_app_2.drop(columns=['Attretion'], axis=1, inplace=True)"
      ],
      "execution_count": 158,
      "outputs": []
    },
    {
      "cell_type": "markdown",
      "metadata": {
        "id": "XHZBrDVhCKTK"
      },
      "source": [
        "# Creating new field as Experience years by subracting date of joining with mmm-yy "
      ]
    },
    {
      "cell_type": "code",
      "metadata": {
        "id": "coch2sbWCJyS"
      },
      "source": [
        "\n",
        "#df['month'] = ((df. date2 - df. date1) / np. timedelta64(1, 'M'))\n",
        "hr_att_train_app_2['experience_months'] = ((hr_att_train_app_2['MMM-YY'] - hr_att_train_app_2['Dateofjoining'])/ np. timedelta64(1, 'M'))"
      ],
      "execution_count": 159,
      "outputs": []
    },
    {
      "cell_type": "code",
      "metadata": {
        "colab": {
          "base_uri": "https://localhost:8080/"
        },
        "id": "HQPo3kPzosTr",
        "outputId": "29341832-e432-4775-d066-5ccfffad65b6"
      },
      "source": [
        "def get_exp(exp_mth):\n",
        "    mth = str('%01d' %(exp_mth))[:1]\n",
        "    return mth\n",
        "\n",
        "hr_att_train_app_2['experience_months_trim'] = hr_att_train_app_2.experience_months.apply(get_exp)\n",
        "print(hr_att_train_app_2[['experience_months','experience_months_trim']].head(10))"
      ],
      "execution_count": 160,
      "outputs": [
        {
          "output_type": "stream",
          "name": "stdout",
          "text": [
            "   experience_months experience_months_trim\n",
            "0           0.262839                      0\n",
            "1           1.281340                      1\n",
            "2           2.234132                      2\n",
            "3          -0.164274                      0\n",
            "4           0.821372                      0\n",
            "5          -0.197129                      0\n",
            "6           0.821372                      0\n",
            "7           1.839874                      1\n",
            "8           2.759810                      2\n",
            "9           3.778312                      3\n"
          ]
        }
      ]
    },
    {
      "cell_type": "code",
      "metadata": {
        "id": "V24M9e8n8Jg7"
      },
      "source": [
        "#hr_att_train['Attretion']=np.where((hr_att_train.groupby('Emp_ID')['Attretion']==1), 0, 1)\n",
        "#hr_att_train"
      ],
      "execution_count": 161,
      "outputs": []
    },
    {
      "cell_type": "markdown",
      "metadata": {
        "id": "I42lIYWobIQ2"
      },
      "source": [
        "# Converting column education level in to label encoding as "
      ]
    },
    {
      "cell_type": "code",
      "metadata": {
        "colab": {
          "base_uri": "https://localhost:8080/"
        },
        "id": "tMmH_Po2cNtC",
        "outputId": "8cd320bf-2d59-47ff-c5fd-dd84e06aa215"
      },
      "source": [
        "from sklearn import preprocessing\n",
        " # label_encoder object knows how to understand word labels.\n",
        "label_encoder = preprocessing.LabelEncoder()\n",
        " # Encode labels in column 'Education_Level'.\n",
        "hr_att_train_app_2['Education_Level']= label_encoder.fit_transform(hr_att_train_app_2['Education_Level'])\n",
        "hr_att_train_app_2['Education_Level'].unique()"
      ],
      "execution_count": 162,
      "outputs": [
        {
          "output_type": "execute_result",
          "data": {
            "text/plain": [
              "array([2, 1, 0])"
            ]
          },
          "metadata": {},
          "execution_count": 162
        }
      ]
    },
    {
      "cell_type": "markdown",
      "metadata": {
        "id": "jpOw45o_tFDj"
      },
      "source": [
        "# create new field that  how many levels the employee has been promoted by subracting with joining designation and current"
      ]
    },
    {
      "cell_type": "markdown",
      "metadata": {
        "id": "2oKxuVw9tImr"
      },
      "source": [
        "# create new field as Salary has been increased or not via diff() function by finding difference with previous one \n"
      ]
    },
    {
      "cell_type": "code",
      "metadata": {
        "id": "s4oxGxcTp81D"
      },
      "source": [
        "hr_att_train_app_2['Promoted by'] = hr_att_train_app_2['Designation']- hr_att_train_app_2['Joining Designation'] \n",
        "hr_att_train_app_2['Salary increased'] = hr_att_train_app_2.groupby('Emp_ID')['Salary'].diff().gt(0)"
      ],
      "execution_count": 163,
      "outputs": []
    },
    {
      "cell_type": "markdown",
      "metadata": {
        "id": "ll0_GXolWoaA"
      },
      "source": [
        "# lets do analytics on every field with attretion "
      ]
    },
    {
      "cell_type": "markdown",
      "metadata": {
        "id": "_7sXDrHaW-2v"
      },
      "source": [
        "# Boxplot for all continuse field"
      ]
    },
    {
      "cell_type": "code",
      "metadata": {
        "colab": {
          "base_uri": "https://localhost:8080/",
          "height": 333
        },
        "id": "F6NnWHuCeibn",
        "outputId": "8a296b41-8a3d-42e6-bec1-27a0d6f47cb2"
      },
      "source": [
        "data1 = hr_att_train_app_2[['Total Business Value']][hr_att_train_app_2['Total Business Value']>=100]\n",
        "plt.rc(\"figure\", figsize=(20, 5))\n",
        "ax = sns.boxplot(data=data1, orient=\"h\",width=30)"
      ],
      "execution_count": 164,
      "outputs": [
        {
          "output_type": "display_data",
          "data": {
            "image/png": "[encoded data removed]",
            "text/plain": [
              "<Figure size 1440x360 with 1 Axes>"
            ]
          },
          "metadata": {
            "needs_background": "light"
          }
        }
      ]
    },
    {
      "cell_type": "code",
      "metadata": {
        "colab": {
          "base_uri": "https://localhost:8080/",
          "height": 492
        },
        "id": "14Xz0XDiWv3j",
        "outputId": "cd613eef-44aa-4a88-be9d-3efd3a687e3b"
      },
      "source": [
        "df1=hr_att_train_app_2[hr_att_train_app_2['Attrition1']==1]\n",
        "df2=df1[['Gender','Attrition1','Total Business Value']].groupby(['Gender']).count().unstack()\n",
        "df2.plot(kind=\"bar\",color=[\"blue\",\"goldenrod\"])"
      ],
      "execution_count": 165,
      "outputs": [
        {
          "output_type": "execute_result",
          "data": {
            "text/plain": [
              "<matplotlib.axes._subplots.AxesSubplot at 0x7f8a0b385d90>"
            ]
          },
          "metadata": {},
          "execution_count": 165
        },
        {
          "output_type": "display_data",
          "data": {
            "image/png": "[encoded data removed]",
            "text/plain": [
              "<Figure size 1440x360 with 1 Axes>"
            ]
          },
          "metadata": {
            "needs_background": "light"
          }
        }
      ]
    },
    {
      "cell_type": "code",
      "metadata": {
        "colab": {
          "base_uri": "https://localhost:8080/",
          "height": 348
        },
        "id": "Z-QMxweMWv0J",
        "outputId": "c61c3afc-64d6-4caa-ecef-542985949605"
      },
      "source": [
        "#df1=hr_att_train_new[hr_att_train_new['Attretion']==1]\n",
        "df2=hr_att_train_app_2[['Attrition1','experience_months_trim']].groupby(['experience_months_trim']).sum()\n",
        "df2.plot(kind=\"bar\",color=[\"blue\",\"goldenrod\"])"
      ],
      "execution_count": 166,
      "outputs": [
        {
          "output_type": "execute_result",
          "data": {
            "text/plain": [
              "<matplotlib.axes._subplots.AxesSubplot at 0x7f8a0b3c2210>"
            ]
          },
          "metadata": {},
          "execution_count": 166
        },
        {
          "output_type": "display_data",
          "data": {
            "image/png": "[encoded data removed]",
            "text/plain": [
              "<Figure size 1440x360 with 1 Axes>"
            ]
          },
          "metadata": {
            "needs_background": "light"
          }
        }
      ]
    },
    {
      "cell_type": "markdown",
      "metadata": {
        "id": "U31C_rL2zsNU"
      },
      "source": [
        "higher experience lesser attrition"
      ]
    },
    {
      "cell_type": "code",
      "metadata": {
        "colab": {
          "base_uri": "https://localhost:8080/",
          "height": 352
        },
        "id": "43Le1im4xH5Y",
        "outputId": "e06b8609-c4e1-4637-9f73-a5f7e6e5d686"
      },
      "source": [
        "sns.barplot(x = 'Education_Level', y = 'Attrition1', data = hr_att_train_app_2)\n",
        "#<AxesSubplot:xlabel='Education_Level', ylabel='Attrition'>"
      ],
      "execution_count": 167,
      "outputs": [
        {
          "output_type": "execute_result",
          "data": {
            "text/plain": [
              "<matplotlib.axes._subplots.AxesSubplot at 0x7f8a0b334e10>"
            ]
          },
          "metadata": {},
          "execution_count": 167
        },
        {
          "output_type": "display_data",
          "data": {
            "image/png": "[encoded data removed]",
            "text/plain": [
              "<Figure size 1440x360 with 1 Axes>"
            ]
          },
          "metadata": {
            "needs_background": "light"
          }
        }
      ]
    },
    {
      "cell_type": "markdown",
      "metadata": {
        "id": "M8WZZI651FtK"
      },
      "source": [
        "no effect in education level vs attrition"
      ]
    },
    {
      "cell_type": "code",
      "metadata": {
        "colab": {
          "base_uri": "https://localhost:8080/",
          "height": 410
        },
        "id": "yAEJIujfp8yQ",
        "outputId": "c973961d-55c9-40be-b87e-31286faea231"
      },
      "source": [
        "df2=hr_att_train_app_2[['Attrition1','Designation']].groupby(['Designation']).sum().unstack()\n",
        "df2.plot(kind=\"bar\",color=[\"blue\",\"goldenrod\"])"
      ],
      "execution_count": 168,
      "outputs": [
        {
          "output_type": "execute_result",
          "data": {
            "text/plain": [
              "<matplotlib.axes._subplots.AxesSubplot at 0x7f8a0b477850>"
            ]
          },
          "metadata": {},
          "execution_count": 168
        },
        {
          "output_type": "display_data",
          "data": {
            "image/png": "[encoded data removed]",
            "text/plain": [
              "<Figure size 1440x360 with 1 Axes>"
            ]
          },
          "metadata": {
            "needs_background": "light"
          }
        }
      ]
    },
    {
      "cell_type": "markdown",
      "metadata": {
        "id": "09jkNp3bwJQ0"
      },
      "source": [
        "Here designation plays important role higher designation, lesser attrition"
      ]
    },
    {
      "cell_type": "code",
      "metadata": {
        "colab": {
          "base_uri": "https://localhost:8080/",
          "height": 414
        },
        "id": "f9GsSMIT1fIM",
        "outputId": "2f8d3611-211e-4346-e4a9-ee2a33f2a4ae"
      },
      "source": [
        "df2=hr_att_train_app_2[['Attrition1','Age']].groupby(['Age']).sum().unstack()\n",
        "df2.plot(kind=\"bar\",color=[\"blue\",\"red\"])"
      ],
      "execution_count": 169,
      "outputs": [
        {
          "output_type": "execute_result",
          "data": {
            "text/plain": [
              "<matplotlib.axes._subplots.AxesSubplot at 0x7f8a0b6f14d0>"
            ]
          },
          "metadata": {},
          "execution_count": 169
        },
        {
          "output_type": "display_data",
          "data": {
            "image/png": "[encoded data removed]",
            "text/plain": [
              "<Figure size 1440x360 with 1 Axes>"
            ]
          },
          "metadata": {
            "needs_background": "light"
          }
        }
      ]
    },
    {
      "cell_type": "code",
      "metadata": {
        "colab": {
          "base_uri": "https://localhost:8080/"
        },
        "id": "-AnU2C6T17d_",
        "outputId": "b65e3de5-5039-455a-cdcb-417c6e448f5a"
      },
      "source": [
        "hr_att_train_app_2['Age'].value_counts()"
      ],
      "execution_count": 170,
      "outputs": [
        {
          "output_type": "execute_result",
          "data": {
            "text/plain": [
              "36    1283\n",
              "33    1250\n",
              "34    1234\n",
              "32    1150\n",
              "30    1146\n",
              "35    1138\n",
              "31    1090\n",
              "29    1013\n",
              "37     862\n",
              "38     854\n",
              "39     788\n",
              "28     772\n",
              "27     752\n",
              "40     706\n",
              "41     661\n",
              "26     583\n",
              "42     478\n",
              "25     449\n",
              "44     407\n",
              "43     399\n",
              "45     371\n",
              "46     350\n",
              "24     277\n",
              "47     224\n",
              "23     193\n",
              "48     144\n",
              "49      99\n",
              "22      92\n",
              "52      78\n",
              "51      72\n",
              "50      69\n",
              "21      41\n",
              "53      26\n",
              "54      25\n",
              "55      21\n",
              "58       7\n",
              "Name: Age, dtype: int64"
            ]
          },
          "metadata": {},
          "execution_count": 170
        }
      ]
    },
    {
      "cell_type": "markdown",
      "metadata": {
        "id": "pYfKHtQw2b0l"
      },
      "source": [
        "here age with less than 30 ang greater than 45 count are less compare to 30 to 45 age. so we cant conclude that attrition is based on age"
      ]
    },
    {
      "cell_type": "code",
      "metadata": {
        "colab": {
          "base_uri": "https://localhost:8080/",
          "height": 351
        },
        "id": "j-3cx12M4unh",
        "outputId": "bf1740ff-414b-4c00-b868-df1c02cae256"
      },
      "source": [
        "sns.barplot(x = 'Salary increased', y = 'Attrition1', data = hr_att_train_app_2)\n",
        "#<AxesSubplot:xlabel='Education_Level', ylabel='Attrition'>"
      ],
      "execution_count": 171,
      "outputs": [
        {
          "output_type": "execute_result",
          "data": {
            "text/plain": [
              "<matplotlib.axes._subplots.AxesSubplot at 0x7f8a0b64e8d0>"
            ]
          },
          "metadata": {},
          "execution_count": 171
        },
        {
          "output_type": "display_data",
          "data": {
            "image/png": "[encoded data removed]",
            "text/plain": [
              "<Figure size 1440x360 with 1 Axes>"
            ]
          },
          "metadata": {
            "needs_background": "light"
          }
        }
      ]
    },
    {
      "cell_type": "markdown",
      "metadata": {
        "id": "Kmx5u4KM4MiN"
      },
      "source": [
        "here employees who's salary got increased in has less attrition count"
      ]
    },
    {
      "cell_type": "code",
      "metadata": {
        "colab": {
          "base_uri": "https://localhost:8080/",
          "height": 455
        },
        "id": "G1IQX6-4pc5y",
        "outputId": "2b53f49a-ff9b-42f8-e8e3-f66356362eb6"
      },
      "source": [
        "hr_att_train_app_2[['Emp_ID','Attrition1','LastWorkingDate','MMM-YY','Total Business Value']].groupby(['Emp_ID','MMM-YY']).sum()"
      ],
      "execution_count": 172,
      "outputs": [
        {
          "output_type": "execute_result",
          "data": {
            "text/html": [
              "<div>\n",
              "<style scoped>\n",
              "    .dataframe tbody tr th:only-of-type {\n",
              "        vertical-align: middle;\n",
              "    }\n",
              "\n",
              "    .dataframe tbody tr th {\n",
              "        vertical-align: top;\n",
              "    }\n",
              "\n",
              "    .dataframe thead th {\n",
              "        text-align: right;\n",
              "    }\n",
              "</style>\n",
              "<table border=\"1\" class=\"dataframe\">\n",
              "  <thead>\n",
              "    <tr style=\"text-align: right;\">\n",
              "      <th></th>\n",
              "      <th></th>\n",
              "      <th>Attrition1</th>\n",
              "      <th>Total Business Value</th>\n",
              "    </tr>\n",
              "    <tr>\n",
              "      <th>Emp_ID</th>\n",
              "      <th>MMM-YY</th>\n",
              "      <th></th>\n",
              "      <th></th>\n",
              "    </tr>\n",
              "  </thead>\n",
              "  <tbody>\n",
              "    <tr>\n",
              "      <th rowspan=\"3\" valign=\"top\">1</th>\n",
              "      <th>2016-01-01</th>\n",
              "      <td>1</td>\n",
              "      <td>2381060</td>\n",
              "    </tr>\n",
              "    <tr>\n",
              "      <th>2016-02-01</th>\n",
              "      <td>1</td>\n",
              "      <td>-665480</td>\n",
              "    </tr>\n",
              "    <tr>\n",
              "      <th>2016-03-01</th>\n",
              "      <td>1</td>\n",
              "      <td>0</td>\n",
              "    </tr>\n",
              "    <tr>\n",
              "      <th rowspan=\"2\" valign=\"top\">2</th>\n",
              "      <th>2017-11-01</th>\n",
              "      <td>0</td>\n",
              "      <td>0</td>\n",
              "    </tr>\n",
              "    <tr>\n",
              "      <th>2017-12-01</th>\n",
              "      <td>0</td>\n",
              "      <td>0</td>\n",
              "    </tr>\n",
              "    <tr>\n",
              "      <th>...</th>\n",
              "      <th>...</th>\n",
              "      <td>...</td>\n",
              "      <td>...</td>\n",
              "    </tr>\n",
              "    <tr>\n",
              "      <th rowspan=\"5\" valign=\"top\">2788</th>\n",
              "      <th>2017-08-01</th>\n",
              "      <td>0</td>\n",
              "      <td>740280</td>\n",
              "    </tr>\n",
              "    <tr>\n",
              "      <th>2017-09-01</th>\n",
              "      <td>0</td>\n",
              "      <td>448370</td>\n",
              "    </tr>\n",
              "    <tr>\n",
              "      <th>2017-10-01</th>\n",
              "      <td>0</td>\n",
              "      <td>0</td>\n",
              "    </tr>\n",
              "    <tr>\n",
              "      <th>2017-11-01</th>\n",
              "      <td>0</td>\n",
              "      <td>200420</td>\n",
              "    </tr>\n",
              "    <tr>\n",
              "      <th>2017-12-01</th>\n",
              "      <td>0</td>\n",
              "      <td>411480</td>\n",
              "    </tr>\n",
              "  </tbody>\n",
              "</table>\n",
              "<p>19104 rows × 2 columns</p>\n",
              "</div>"
            ],
            "text/plain": [
              "                   Attrition1  Total Business Value\n",
              "Emp_ID MMM-YY                                      \n",
              "1      2016-01-01           1               2381060\n",
              "       2016-02-01           1               -665480\n",
              "       2016-03-01           1                     0\n",
              "2      2017-11-01           0                     0\n",
              "       2017-12-01           0                     0\n",
              "...                       ...                   ...\n",
              "2788   2017-08-01           0                740280\n",
              "       2017-09-01           0                448370\n",
              "       2017-10-01           0                     0\n",
              "       2017-11-01           0                200420\n",
              "       2017-12-01           0                411480\n",
              "\n",
              "[19104 rows x 2 columns]"
            ]
          },
          "metadata": {},
          "execution_count": 172
        }
      ]
    },
    {
      "cell_type": "code",
      "metadata": {
        "colab": {
          "base_uri": "https://localhost:8080/"
        },
        "id": "rNlQ758C1SEK",
        "outputId": "b07203e4-cfcb-4d2c-92fa-0cda20c0629f"
      },
      "source": [
        "hr_att_train_app_2.columns"
      ],
      "execution_count": 117,
      "outputs": [
        {
          "output_type": "execute_result",
          "data": {
            "text/plain": [
              "Index(['MMM-YY', 'Emp_ID', 'Age', 'Gender', 'City', 'Education_Level',\n",
              "       'Salary', 'Dateofjoining', 'LastWorkingDate', 'Joining Designation',\n",
              "       'Designation', 'Total Business Value', 'Quarterly Rating', 'Attrition1',\n",
              "       'experience_months', 'experience_months_trim', 'Promoted by',\n",
              "       'Salary increased'],\n",
              "      dtype='object')"
            ]
          },
          "metadata": {},
          "execution_count": 117
        }
      ]
    },
    {
      "cell_type": "code",
      "metadata": {
        "colab": {
          "base_uri": "https://localhost:8080/"
        },
        "id": "duD0JoWI5GwZ",
        "outputId": "6472ee64-d988-48e7-9aac-c5deedf23572"
      },
      "source": [
        "hr_att_train_app_2['Salary increased']= label_encoder.fit_transform(hr_att_train_app_2['Salary increased'])\n",
        "hr_att_train_app_2['Salary increased'].value_counts()"
      ],
      "execution_count": 173,
      "outputs": [
        {
          "output_type": "execute_result",
          "data": {
            "text/plain": [
              "0    19060\n",
              "1       44\n",
              "Name: Salary increased, dtype: int64"
            ]
          },
          "metadata": {},
          "execution_count": 173
        }
      ]
    },
    {
      "cell_type": "code",
      "metadata": {
        "id": "0gMKtR_E-Yn6"
      },
      "source": [
        "hr_att_train_app_2['Salary increased'] = hr_att_train_app_2['Salary increased'].astype('category').cat.codes\n",
        "hr_att_train_app_2['Education_Level'] = hr_att_train_app_2['Education_Level'].astype('category').cat.codes\n",
        "#hr_att_train_app_2_final['Gender'] = hr_att_train_app_2_final['Gender'].astype('category').cat.codes"
      ],
      "execution_count": 174,
      "outputs": []
    },
    {
      "cell_type": "markdown",
      "metadata": {
        "id": "cGDeAMLFEzrI"
      },
      "source": [
        "# Lets seperate train, validation and test dataset"
      ]
    },
    {
      "cell_type": "markdown",
      "metadata": {
        "id": "Fvj6B8wfFGaa"
      },
      "source": [
        "2016 dataset as train and validation set, 2017(given emp_id) as test"
      ]
    },
    {
      "cell_type": "code",
      "metadata": {
        "colab": {
          "base_uri": "https://localhost:8080/",
          "height": 347
        },
        "id": "Fb579d2RFGJ7",
        "outputId": "c5c5ad48-a5b6-4089-f955-f5bb277f7c2c"
      },
      "source": [
        "hr_att_train_app_2 = hr_att_train_app_2.sort_values(['MMM-YY', 'Attrition1'], ascending=[True, False])\n",
        "hr_att_train_app_2.head()"
      ],
      "execution_count": 176,
      "outputs": [
        {
          "output_type": "execute_result",
          "data": {
            "text/html": [
              "<div>\n",
              "<style scoped>\n",
              "    .dataframe tbody tr th:only-of-type {\n",
              "        vertical-align: middle;\n",
              "    }\n",
              "\n",
              "    .dataframe tbody tr th {\n",
              "        vertical-align: top;\n",
              "    }\n",
              "\n",
              "    .dataframe thead th {\n",
              "        text-align: right;\n",
              "    }\n",
              "</style>\n",
              "<table border=\"1\" class=\"dataframe\">\n",
              "  <thead>\n",
              "    <tr style=\"text-align: right;\">\n",
              "      <th></th>\n",
              "      <th>MMM-YY</th>\n",
              "      <th>Emp_ID</th>\n",
              "      <th>Age</th>\n",
              "      <th>Gender</th>\n",
              "      <th>City</th>\n",
              "      <th>Education_Level</th>\n",
              "      <th>Salary</th>\n",
              "      <th>Dateofjoining</th>\n",
              "      <th>LastWorkingDate</th>\n",
              "      <th>Joining Designation</th>\n",
              "      <th>Designation</th>\n",
              "      <th>Total Business Value</th>\n",
              "      <th>Quarterly Rating</th>\n",
              "      <th>Attrition1</th>\n",
              "      <th>experience_months</th>\n",
              "      <th>experience_months_trim</th>\n",
              "      <th>Promoted by</th>\n",
              "      <th>Salary increased</th>\n",
              "    </tr>\n",
              "  </thead>\n",
              "  <tbody>\n",
              "    <tr>\n",
              "      <th>0</th>\n",
              "      <td>2016-01-01</td>\n",
              "      <td>1</td>\n",
              "      <td>28</td>\n",
              "      <td>Male</td>\n",
              "      <td>C23</td>\n",
              "      <td>2</td>\n",
              "      <td>57387</td>\n",
              "      <td>2015-12-24</td>\n",
              "      <td>NaT</td>\n",
              "      <td>1</td>\n",
              "      <td>1</td>\n",
              "      <td>2381060</td>\n",
              "      <td>2</td>\n",
              "      <td>1</td>\n",
              "      <td>0.262839</td>\n",
              "      <td>0</td>\n",
              "      <td>0</td>\n",
              "      <td>0</td>\n",
              "    </tr>\n",
              "    <tr>\n",
              "      <th>10</th>\n",
              "      <td>2016-01-01</td>\n",
              "      <td>5</td>\n",
              "      <td>29</td>\n",
              "      <td>Male</td>\n",
              "      <td>C9</td>\n",
              "      <td>1</td>\n",
              "      <td>46368</td>\n",
              "      <td>2016-01-09</td>\n",
              "      <td>NaT</td>\n",
              "      <td>1</td>\n",
              "      <td>1</td>\n",
              "      <td>0</td>\n",
              "      <td>1</td>\n",
              "      <td>1</td>\n",
              "      <td>-0.262839</td>\n",
              "      <td>0</td>\n",
              "      <td>0</td>\n",
              "      <td>0</td>\n",
              "    </tr>\n",
              "    <tr>\n",
              "      <th>28</th>\n",
              "      <td>2016-01-01</td>\n",
              "      <td>13</td>\n",
              "      <td>29</td>\n",
              "      <td>Male</td>\n",
              "      <td>C19</td>\n",
              "      <td>2</td>\n",
              "      <td>119227</td>\n",
              "      <td>2012-05-28</td>\n",
              "      <td>NaT</td>\n",
              "      <td>1</td>\n",
              "      <td>4</td>\n",
              "      <td>250000</td>\n",
              "      <td>1</td>\n",
              "      <td>1</td>\n",
              "      <td>43.138463</td>\n",
              "      <td>4</td>\n",
              "      <td>3</td>\n",
              "      <td>0</td>\n",
              "    </tr>\n",
              "    <tr>\n",
              "      <th>54</th>\n",
              "      <td>2016-01-01</td>\n",
              "      <td>16</td>\n",
              "      <td>30</td>\n",
              "      <td>Female</td>\n",
              "      <td>C23</td>\n",
              "      <td>1</td>\n",
              "      <td>52963</td>\n",
              "      <td>2015-11-30</td>\n",
              "      <td>NaT</td>\n",
              "      <td>2</td>\n",
              "      <td>2</td>\n",
              "      <td>346800</td>\n",
              "      <td>1</td>\n",
              "      <td>1</td>\n",
              "      <td>1.051356</td>\n",
              "      <td>1</td>\n",
              "      <td>0</td>\n",
              "      <td>0</td>\n",
              "    </tr>\n",
              "    <tr>\n",
              "      <th>56</th>\n",
              "      <td>2016-01-01</td>\n",
              "      <td>17</td>\n",
              "      <td>42</td>\n",
              "      <td>Male</td>\n",
              "      <td>C20</td>\n",
              "      <td>2</td>\n",
              "      <td>51099</td>\n",
              "      <td>2015-03-06</td>\n",
              "      <td>NaT</td>\n",
              "      <td>1</td>\n",
              "      <td>1</td>\n",
              "      <td>100000</td>\n",
              "      <td>2</td>\n",
              "      <td>1</td>\n",
              "      <td>9.889320</td>\n",
              "      <td>9</td>\n",
              "      <td>0</td>\n",
              "      <td>0</td>\n",
              "    </tr>\n",
              "  </tbody>\n",
              "</table>\n",
              "</div>"
            ],
            "text/plain": [
              "       MMM-YY  Emp_ID  ...  Promoted by Salary increased\n",
              "0  2016-01-01       1  ...            0                0\n",
              "10 2016-01-01       5  ...            0                0\n",
              "28 2016-01-01      13  ...            3                0\n",
              "54 2016-01-01      16  ...            0                0\n",
              "56 2016-01-01      17  ...            0                0\n",
              "\n",
              "[5 rows x 18 columns]"
            ]
          },
          "metadata": {},
          "execution_count": 176
        }
      ]
    },
    {
      "cell_type": "code",
      "metadata": {
        "colab": {
          "base_uri": "https://localhost:8080/"
        },
        "id": "v0BSUMQgIh5C",
        "outputId": "5412016e-0108-4175-abf3-952a7c4c9dac"
      },
      "source": [
        "hr_att_train_app_2.count()"
      ],
      "execution_count": 179,
      "outputs": [
        {
          "output_type": "execute_result",
          "data": {
            "text/plain": [
              "MMM-YY                    19104\n",
              "Emp_ID                    19104\n",
              "Age                       19104\n",
              "Gender                    19104\n",
              "City                      19104\n",
              "Education_Level           19104\n",
              "Salary                    19104\n",
              "Dateofjoining             19104\n",
              "LastWorkingDate            1616\n",
              "Joining Designation       19104\n",
              "Designation               19104\n",
              "Total Business Value      19104\n",
              "Quarterly Rating          19104\n",
              "Attrition1                19104\n",
              "experience_months         19104\n",
              "experience_months_trim    19104\n",
              "Promoted by               19104\n",
              "Salary increased          19104\n",
              "dtype: int64"
            ]
          },
          "metadata": {},
          "execution_count": 179
        }
      ]
    },
    {
      "cell_type": "code",
      "metadata": {
        "colab": {
          "base_uri": "https://localhost:8080/"
        },
        "id": "GLuQxfpHFGEt",
        "outputId": "b3cb1f59-f61a-445c-912f-e33901dd20e0"
      },
      "source": [
        "hr_att_train_app_2_2017 = hr_att_train_app_2[hr_att_train_app_2['MMM-YY'] == '2017-12-01']\n",
        "test_data = pd.DataFrame({'Emp_ID': hr_att_test.iloc[:, 0]}).merge(hr_att_train_app_2_2017)\n",
        "test_data = test_data.drop(columns = ['Attrition1'])\n",
        "train_data = hr_att_train_app_2[hr_att_train_app_2['MMM-YY'] != '2017-12-01'] \n",
        "print(test_data.count())\n",
        "print(train_data.count())"
      ],
      "execution_count": 178,
      "outputs": [
        {
          "output_type": "stream",
          "name": "stdout",
          "text": [
            "Emp_ID                    741\n",
            "MMM-YY                    741\n",
            "Age                       741\n",
            "Gender                    741\n",
            "City                      741\n",
            "Education_Level           741\n",
            "Salary                    741\n",
            "Dateofjoining             741\n",
            "LastWorkingDate             0\n",
            "Joining Designation       741\n",
            "Designation               741\n",
            "Total Business Value      741\n",
            "Quarterly Rating          741\n",
            "experience_months         741\n",
            "experience_months_trim    741\n",
            "Promoted by               741\n",
            "Salary increased          741\n",
            "dtype: int64\n",
            "MMM-YY                    18285\n",
            "Emp_ID                    18285\n",
            "Age                       18285\n",
            "Gender                    18285\n",
            "City                      18285\n",
            "Education_Level           18285\n",
            "Salary                    18285\n",
            "Dateofjoining             18285\n",
            "LastWorkingDate            1538\n",
            "Joining Designation       18285\n",
            "Designation               18285\n",
            "Total Business Value      18285\n",
            "Quarterly Rating          18285\n",
            "Attrition1                18285\n",
            "experience_months         18285\n",
            "experience_months_trim    18285\n",
            "Promoted by               18285\n",
            "Salary increased          18285\n",
            "dtype: int64\n"
          ]
        }
      ]
    },
    {
      "cell_type": "markdown",
      "metadata": {
        "id": "t1RQV3j41bM5"
      },
      "source": [
        "## Lets remove unwanted columns"
      ]
    },
    {
      "cell_type": "code",
      "metadata": {
        "id": "PLDzIjzb20W0"
      },
      "source": [
        "test_data_final=test_data.drop(columns=['MMM-YY', 'Emp_ID', 'Age', 'Gender', 'City', 'Dateofjoining', 'LastWorkingDate', 'Joining Designation',\n",
        "       'Designation', 'experience_months','Salary'])"
      ],
      "execution_count": 180,
      "outputs": []
    },
    {
      "cell_type": "code",
      "metadata": {
        "id": "su3M9kvyJD0O"
      },
      "source": [
        "train_data_final=train_data.drop(columns=['MMM-YY', 'Emp_ID', 'Age', 'Gender', 'City', 'Dateofjoining', 'LastWorkingDate', 'Joining Designation',\n",
        "       'Designation', 'experience_months','Salary'])"
      ],
      "execution_count": 181,
      "outputs": []
    },
    {
      "cell_type": "code",
      "metadata": {
        "colab": {
          "base_uri": "https://localhost:8080/"
        },
        "id": "a17YuPcSd9W_",
        "outputId": "2d85fa19-9749-4e5a-cafe-b067d296f90e"
      },
      "source": [
        "test_data_final.columns"
      ],
      "execution_count": 205,
      "outputs": [
        {
          "output_type": "execute_result",
          "data": {
            "text/plain": [
              "Index(['Education_Level', 'Total Business Value', 'Quarterly Rating',\n",
              "       'experience_months_trim', 'Promoted by', 'Salary increased'],\n",
              "      dtype='object')"
            ]
          },
          "metadata": {},
          "execution_count": 205
        }
      ]
    },
    {
      "cell_type": "markdown",
      "metadata": {
        "id": "HyHHb1Bl1RpS"
      },
      "source": [
        "## Train and validation split"
      ]
    },
    {
      "cell_type": "code",
      "metadata": {
        "id": "WCFtjdOLMoAH"
      },
      "source": [
        "X=train_data_final.drop(columns=(['Attrition1']))\n",
        "y=train_data_final['Attrition1']"
      ],
      "execution_count": 182,
      "outputs": []
    },
    {
      "cell_type": "code",
      "metadata": {
        "colab": {
          "base_uri": "https://localhost:8080/"
        },
        "id": "OW7tI8nFMT35",
        "outputId": "11ded948-6df3-4f79-da2f-fb1dd67aa13b"
      },
      "source": [
        "from sklearn.model_selection import train_test_split\n",
        "\n",
        "X_train, X_valid, y_train, y_valid = train_test_split(X, y, test_size=0.25)\n",
        "print(X_train.shape, X_valid.shape, y_train.shape, y_valid.shape)"
      ],
      "execution_count": 184,
      "outputs": [
        {
          "output_type": "stream",
          "name": "stdout",
          "text": [
            "(13713, 6) (4572, 6) (13713,) (4572,)\n"
          ]
        }
      ]
    },
    {
      "cell_type": "markdown",
      "metadata": {
        "id": "BVyw21IcNYU_"
      },
      "source": [
        "# Model creation-Logistic reg and Randomforest"
      ]
    },
    {
      "cell_type": "code",
      "metadata": {
        "id": "8r67IsE_N9HA"
      },
      "source": [
        "from sklearn.metrics import confusion_matrix, classification_report, plot_roc_curve,accuracy_score,f1_score\n",
        "from sklearn.ensemble import RandomForestClassifier  \n",
        "from sklearn.linear_model import LogisticRegression "
      ],
      "execution_count": 200,
      "outputs": []
    },
    {
      "cell_type": "code",
      "metadata": {
        "id": "2WvoCT41Vkp5"
      },
      "source": [
        "from sklearn.linear_model import LogisticRegression\n",
        "model_LOGISTICS = LogisticRegression(class_weight='balanced', solver='saga',penalty='l1')\n",
        "model_LOGISTICSfit = model_LOGISTICS.fit(X_train, y_train)"
      ],
      "execution_count": 185,
      "outputs": []
    },
    {
      "cell_type": "code",
      "metadata": {
        "colab": {
          "base_uri": "https://localhost:8080/"
        },
        "id": "QXWoPAesVkmp",
        "outputId": "7b75f311-f0b6-4231-b0a7-4af25e9e40e4"
      },
      "source": [
        "y_pred_valid = model_LOGISTICSfit.predict(X_valid)\n",
        "# Measuring Goodness of fit in Training data\n",
        "#print('R2 Value logistic:',metrics.r2_score(X_Train_scaled_smt, model_LOGISTICSfit.predict(X_Train_scaled_smt)))\n",
        "print(confusion_matrix(y_valid, y_pred_valid))\n",
        "print(classification_report(y_valid, y_pred_valid))"
      ],
      "execution_count": 188,
      "outputs": [
        {
          "output_type": "stream",
          "name": "stdout",
          "text": [
            "[[1586  366]\n",
            " [1402 1218]]\n",
            "              precision    recall  f1-score   support\n",
            "\n",
            "           0       0.53      0.81      0.64      1952\n",
            "           1       0.77      0.46      0.58      2620\n",
            "\n",
            "    accuracy                           0.61      4572\n",
            "   macro avg       0.65      0.64      0.61      4572\n",
            "weighted avg       0.67      0.61      0.61      4572\n",
            "\n"
          ]
        }
      ]
    },
    {
      "cell_type": "code",
      "metadata": {
        "colab": {
          "base_uri": "https://localhost:8080/"
        },
        "id": "Ge1u6cklOMp2",
        "outputId": "af93be8b-794e-4d8b-922f-79c82074e02e"
      },
      "source": [
        "X.columns"
      ],
      "execution_count": 190,
      "outputs": [
        {
          "output_type": "execute_result",
          "data": {
            "text/plain": [
              "Index(['Education_Level', 'Total Business Value', 'Quarterly Rating',\n",
              "       'experience_months_trim', 'Promoted by', 'Salary increased'],\n",
              "      dtype='object')"
            ]
          },
          "metadata": {},
          "execution_count": 190
        }
      ]
    },
    {
      "cell_type": "code",
      "metadata": {
        "colab": {
          "base_uri": "https://localhost:8080/",
          "height": 334
        },
        "id": "DGlcWASSKWge",
        "outputId": "751e1629-a01b-4f78-ad9d-3e4229034352"
      },
      "source": [
        "model_Randomforest_smt= RandomForestClassifier(n_estimators= 100, criterion=\"gini\", class_weight='balanced')  \n",
        "model_Randomforest_smt.fit(X,y)\n",
        "importance=model_Randomforest_smt.feature_importances_\n",
        "df=pd.DataFrame({'features':pd.DataFrame(X).columns,'importance':importance})\n",
        "df.set_index('importance')\n",
        "df=df.sort_values('importance')\n",
        "#importance.k_feature_names_\n",
        "df.plot.bar(color='blue')"
      ],
      "execution_count": 189,
      "outputs": [
        {
          "output_type": "execute_result",
          "data": {
            "text/plain": [
              "<matplotlib.axes._subplots.AxesSubplot at 0x7f8a06289750>"
            ]
          },
          "metadata": {},
          "execution_count": 189
        },
        {
          "output_type": "display_data",
          "data": {
            "image/png": "[encoded data removed]",
            "text/plain": [
              "<Figure size 1440x360 with 1 Axes>"
            ]
          },
          "metadata": {
            "needs_background": "light"
          }
        }
      ]
    },
    {
      "cell_type": "code",
      "metadata": {
        "colab": {
          "base_uri": "https://localhost:8080/"
        },
        "id": "1pyLITcROfzj",
        "outputId": "cedde9cc-05a8-4363-f72a-7287de57340c"
      },
      "source": [
        "from sklearn.model_selection import StratifiedKFold\n",
        "from sklearn.model_selection import cross_val_predict\n",
        "from sklearn.pipeline import Pipeline\n",
        "from imblearn.pipeline import make_pipeline\n",
        "model_Randomforest_smt= RandomForestClassifier(n_estimators= 100, criterion=\"gini\", class_weight='balanced')  \n",
        "#Rscaler = RobustScaler()\n",
        "\n",
        "pipeline_RFsmt = make_pipeline(model_Randomforest_smt)\n",
        "\n",
        "#model_Randomforest_smt = model_Randomforest_smt.fit(X_Train_scaled_smt, y_train_smt)\n",
        "#y_pred_test_RF = model_Randomforest_smt.predict(X_Test_scaled)\n",
        "#print('R2 Value RANDOM FOREST:',metrics.r2_score(X_Train_scaled_smt, model_Randomforest_smt.predict(X_Train_scaled_smt)))\n",
        "kf = StratifiedKFold(n_splits=5)\n",
        "y_pred_RF = cross_val_predict(pipeline_RFsmt,X, y, cv=kf)\n",
        "print(confusion_matrix(y, y_pred_RF))\n",
        "print(classification_report(y, y_pred_RF))"
      ],
      "execution_count": 197,
      "outputs": [
        {
          "output_type": "stream",
          "name": "stdout",
          "text": [
            "[[4533 3471]\n",
            " [2697 7584]]\n",
            "              precision    recall  f1-score   support\n",
            "\n",
            "           0       0.63      0.57      0.60      8004\n",
            "           1       0.69      0.74      0.71     10281\n",
            "\n",
            "    accuracy                           0.66     18285\n",
            "   macro avg       0.66      0.65      0.65     18285\n",
            "weighted avg       0.66      0.66      0.66     18285\n",
            "\n"
          ]
        }
      ]
    },
    {
      "cell_type": "code",
      "metadata": {
        "colab": {
          "base_uri": "https://localhost:8080/"
        },
        "id": "1s1F_GO0OfwL",
        "outputId": "2943510a-d0fd-4475-b000-e9686d65eb30"
      },
      "source": [
        "from sklearn.ensemble import AdaBoostClassifier\n",
        "\n",
        "clf = AdaBoostClassifier(random_state = 100)\n",
        "clf.fit(X_train, y_train)\n",
        "#AdaBoostClassifier(random_state=1)\n",
        "\n",
        "y_pred_ada = clf.predict(X_valid)\n",
        "print(confusion_matrix(y_pred_ada, y_valid))\n",
        "\n",
        "print(f1_score(y_pred_ada, y_valid))\n",
        "print(classification_report(y_pred_ada, y_valid))"
      ],
      "execution_count": 203,
      "outputs": [
        {
          "output_type": "stream",
          "name": "stdout",
          "text": [
            "[[1231  597]\n",
            " [ 721 2023]]\n",
            "0.7542878448918717\n",
            "              precision    recall  f1-score   support\n",
            "\n",
            "           0       0.63      0.67      0.65      1828\n",
            "           1       0.77      0.74      0.75      2744\n",
            "\n",
            "    accuracy                           0.71      4572\n",
            "   macro avg       0.70      0.71      0.70      4572\n",
            "weighted avg       0.72      0.71      0.71      4572\n",
            "\n"
          ]
        }
      ]
    },
    {
      "cell_type": "markdown",
      "metadata": {
        "id": "deMYLPsUdAoN"
      },
      "source": [
        "# lets predict test_data with Adaboost"
      ]
    },
    {
      "cell_type": "code",
      "metadata": {
        "id": "nmiLq8upOfsz"
      },
      "source": [
        "from sklearn.ensemble import AdaBoostClassifier\n",
        "\n",
        "clf = AdaBoostClassifier(random_state = 100)\n",
        "clf.fit(X_train, y_train)\n",
        "#AdaBoostClassifier(random_state=1)\n",
        "\n",
        "y_pred_test_ada = clf.predict(test_data_final)\n"
      ],
      "execution_count": 206,
      "outputs": []
    },
    {
      "cell_type": "code",
      "metadata": {
        "colab": {
          "base_uri": "https://localhost:8080/"
        },
        "id": "7-vPmdSRfPA8",
        "outputId": "981bcd91-bdbf-41b0-a0b1-6574b94f3411"
      },
      "source": [
        "test_data['Emp_ID'].head()"
      ],
      "execution_count": 210,
      "outputs": [
        {
          "output_type": "execute_result",
          "data": {
            "text/plain": [
              "0     394\n",
              "1     173\n",
              "2    1090\n",
              "3     840\n",
              "4     308\n",
              "Name: Emp_ID, dtype: int64"
            ]
          },
          "metadata": {},
          "execution_count": 210
        }
      ]
    },
    {
      "cell_type": "code",
      "metadata": {
        "colab": {
          "base_uri": "https://localhost:8080/",
          "height": 206
        },
        "id": "G0aiFMK6OfqH",
        "outputId": "227cd6e2-28fd-4c95-c611-3331ff046f1e"
      },
      "source": [
        "hr_att_test.head()"
      ],
      "execution_count": 208,
      "outputs": [
        {
          "output_type": "execute_result",
          "data": {
            "text/html": [
              "<div>\n",
              "<style scoped>\n",
              "    .dataframe tbody tr th:only-of-type {\n",
              "        vertical-align: middle;\n",
              "    }\n",
              "\n",
              "    .dataframe tbody tr th {\n",
              "        vertical-align: top;\n",
              "    }\n",
              "\n",
              "    .dataframe thead th {\n",
              "        text-align: right;\n",
              "    }\n",
              "</style>\n",
              "<table border=\"1\" class=\"dataframe\">\n",
              "  <thead>\n",
              "    <tr style=\"text-align: right;\">\n",
              "      <th></th>\n",
              "      <th>Emp_ID</th>\n",
              "    </tr>\n",
              "  </thead>\n",
              "  <tbody>\n",
              "    <tr>\n",
              "      <th>0</th>\n",
              "      <td>394</td>\n",
              "    </tr>\n",
              "    <tr>\n",
              "      <th>1</th>\n",
              "      <td>173</td>\n",
              "    </tr>\n",
              "    <tr>\n",
              "      <th>2</th>\n",
              "      <td>1090</td>\n",
              "    </tr>\n",
              "    <tr>\n",
              "      <th>3</th>\n",
              "      <td>840</td>\n",
              "    </tr>\n",
              "    <tr>\n",
              "      <th>4</th>\n",
              "      <td>308</td>\n",
              "    </tr>\n",
              "  </tbody>\n",
              "</table>\n",
              "</div>"
            ],
            "text/plain": [
              "   Emp_ID\n",
              "0     394\n",
              "1     173\n",
              "2    1090\n",
              "3     840\n",
              "4     308"
            ]
          },
          "metadata": {},
          "execution_count": 208
        }
      ]
    },
    {
      "cell_type": "code",
      "metadata": {
        "colab": {
          "base_uri": "https://localhost:8080/",
          "height": 423
        },
        "id": "VrOShe5ZhJfM",
        "outputId": "1b31682a-1f04-40de-f399-85d34e8066a5"
      },
      "source": [
        "hr_att_test['Attrition_target']=y_pred_test_ada\n",
        "hr_att_test"
      ],
      "execution_count": 212,
      "outputs": [
        {
          "output_type": "execute_result",
          "data": {
            "text/html": [
              "<div>\n",
              "<style scoped>\n",
              "    .dataframe tbody tr th:only-of-type {\n",
              "        vertical-align: middle;\n",
              "    }\n",
              "\n",
              "    .dataframe tbody tr th {\n",
              "        vertical-align: top;\n",
              "    }\n",
              "\n",
              "    .dataframe thead th {\n",
              "        text-align: right;\n",
              "    }\n",
              "</style>\n",
              "<table border=\"1\" class=\"dataframe\">\n",
              "  <thead>\n",
              "    <tr style=\"text-align: right;\">\n",
              "      <th></th>\n",
              "      <th>Emp_ID</th>\n",
              "      <th>Attrition_target</th>\n",
              "    </tr>\n",
              "  </thead>\n",
              "  <tbody>\n",
              "    <tr>\n",
              "      <th>0</th>\n",
              "      <td>394</td>\n",
              "      <td>0</td>\n",
              "    </tr>\n",
              "    <tr>\n",
              "      <th>1</th>\n",
              "      <td>173</td>\n",
              "      <td>0</td>\n",
              "    </tr>\n",
              "    <tr>\n",
              "      <th>2</th>\n",
              "      <td>1090</td>\n",
              "      <td>0</td>\n",
              "    </tr>\n",
              "    <tr>\n",
              "      <th>3</th>\n",
              "      <td>840</td>\n",
              "      <td>0</td>\n",
              "    </tr>\n",
              "    <tr>\n",
              "      <th>4</th>\n",
              "      <td>308</td>\n",
              "      <td>0</td>\n",
              "    </tr>\n",
              "    <tr>\n",
              "      <th>...</th>\n",
              "      <td>...</td>\n",
              "      <td>...</td>\n",
              "    </tr>\n",
              "    <tr>\n",
              "      <th>736</th>\n",
              "      <td>2134</td>\n",
              "      <td>1</td>\n",
              "    </tr>\n",
              "    <tr>\n",
              "      <th>737</th>\n",
              "      <td>2255</td>\n",
              "      <td>0</td>\n",
              "    </tr>\n",
              "    <tr>\n",
              "      <th>738</th>\n",
              "      <td>448</td>\n",
              "      <td>0</td>\n",
              "    </tr>\n",
              "    <tr>\n",
              "      <th>739</th>\n",
              "      <td>1644</td>\n",
              "      <td>1</td>\n",
              "    </tr>\n",
              "    <tr>\n",
              "      <th>740</th>\n",
              "      <td>624</td>\n",
              "      <td>0</td>\n",
              "    </tr>\n",
              "  </tbody>\n",
              "</table>\n",
              "<p>741 rows × 2 columns</p>\n",
              "</div>"
            ],
            "text/plain": [
              "     Emp_ID  Attrition_target\n",
              "0       394                 0\n",
              "1       173                 0\n",
              "2      1090                 0\n",
              "3       840                 0\n",
              "4       308                 0\n",
              "..      ...               ...\n",
              "736    2134                 1\n",
              "737    2255                 0\n",
              "738     448                 0\n",
              "739    1644                 1\n",
              "740     624                 0\n",
              "\n",
              "[741 rows x 2 columns]"
            ]
          },
          "metadata": {},
          "execution_count": 212
        }
      ]
    },
    {
      "cell_type": "code",
      "metadata": {
        "id": "K6PvuQigeeIV"
      },
      "source": [
        "#hr_att_train['Quarter'] = hr_att_train.iloc[:,0].dt.to_period('Q')\n",
        "# extract the target feature\n",
        "#attrition_status = hr_att_train.groupby(['Emp_ID', 'Quarter'])['LastWorkingDate'].last().agg(lambda x: int(pd.notna(x)))"
      ],
      "execution_count": 120,
      "outputs": []
    },
    {
      "cell_type": "code",
      "metadata": {
        "id": "0eAEP-Vm2SKI"
      },
      "source": [
        "#print(hr_att_train['MMM-YY'].dt.month.value_counts())\n",
        "#print(hr_att_train['MMM-YY'].dt.year.value_counts())"
      ],
      "execution_count": 121,
      "outputs": []
    }
  ]
}