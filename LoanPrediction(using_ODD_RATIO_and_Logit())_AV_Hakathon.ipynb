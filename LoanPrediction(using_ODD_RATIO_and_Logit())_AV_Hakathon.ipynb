{
  "nbformat": 4,
  "nbformat_minor": 0,
  "metadata": {
    "colab": {
      "name": "LoanPrediction(using ODD RATIO and Logit())_AV_Hakathon.ipynb",
      "provenance": [],
      "collapsed_sections": []
    },
    "kernelspec": {
      "name": "python3",
      "display_name": "Python 3"
    },
    "language_info": {
      "name": "python"
    }
  },
  "cells": [
    {
      "cell_type": "code",
      "metadata": {
        "id": "-uc8LaliGekz"
      },
      "source": [
        "#For dealing with tables\n",
        "import pandas as pd\n",
        "#For dealing with linear algebra\n",
        "import numpy as np\n",
        "#For data visualization and plotting graphs\n",
        "import matplotlib.pyplot as plt\n",
        "import seaborn as sns\n",
        "#For minmaxscaler\n",
        "from sklearn.preprocessing import MinMaxScaler,StandardScaler\n",
        "#For shapiro test\n",
        "from scipy.stats import shapiro\n",
        "#For train-test split\n",
        "from sklearn.model_selection import train_test_split,GridSearchCV\n",
        "#For RandomForest\n",
        "from sklearn.ensemble import RandomForestClassifier\n",
        "#Accuracy score, confusion matrix, classification report, ROC curve, AUC\n",
        "from sklearn.metrics import f1_score\n",
        "#To ignore warnings\n",
        "import warnings\n",
        "warnings.filterwarnings(\"ignore\")"
      ],
      "execution_count": 3,
      "outputs": []
    },
    {
      "cell_type": "code",
      "metadata": {
        "id": "S3l3nga4ImKK"
      },
      "source": [
        "Loan_train=pd.read_csv('/content/drive/MyDrive/AbiML/Colab Notebooks1/colab datas/train_Loan_Prediction_AV_.csv')\n",
        "Loan_test=pd.read_csv('/content/drive/MyDrive/AbiML/Colab Notebooks1/colab datas/test_Loanprediction_AV.csv')"
      ],
      "execution_count": 4,
      "outputs": []
    },
    {
      "cell_type": "markdown",
      "metadata": {
        "id": "o_j-gToCYFwh"
      },
      "source": [
        "# Steps to do\n",
        "* Understanding the Dataset\n",
        "* Exploratory Data Analysis\n",
        "    * Univariate Visual Analysis\n",
        "    * Target Variable - Loan Status\n",
        "    * Predictor Variables\n",
        "    * Categorical Features\n",
        "    * Ordinal Features\n",
        "    * Numerical Features\n",
        "    * Bivariate Analysis\n",
        "    * Categorical Independent Vs Target\n",
        "    * Numerical Independent vs Target\n",
        "* Outlier Treatment\n",
        "* Hypothesis Testing\n",
        "    * Gender vs Loan Status:\n",
        "    * Property Area vs Loan Status:\n",
        "    * Credit History vs Loan Status:\n",
        "    * Education vs Loan Status:\n",
        "    * Dependents vs Loan Status:\n",
        "    * Self Employed vs Loan Status:\n",
        "    * Married vs Loan Status:\n",
        "* Data Cleaning\n",
        "* Converting Categorical to Numeric variables\n",
        "* Missing Value Imputation\n",
        "* Visualizing correlation via Headmap\n",
        "* Correlation between Quantitative Variables\n",
        "\n",
        "* Dummy variables for categorical variables\n",
        "\n",
        "* Creating New Models\n",
        "\n",
        "* Creating second model\n",
        "\n",
        "* Creating third model "
      ]
    },
    {
      "cell_type": "code",
      "metadata": {
        "colab": {
          "base_uri": "https://localhost:8080/",
          "height": 243
        },
        "id": "6CaNdPNHZOyD",
        "outputId": "cff059b8-908e-4bc8-e6f5-9ccd6a08f575"
      },
      "source": [
        "Loan_test.head()"
      ],
      "execution_count": 5,
      "outputs": [
        {
          "output_type": "execute_result",
          "data": {
            "text/html": [
              "<div>\n",
              "<style scoped>\n",
              "    .dataframe tbody tr th:only-of-type {\n",
              "        vertical-align: middle;\n",
              "    }\n",
              "\n",
              "    .dataframe tbody tr th {\n",
              "        vertical-align: top;\n",
              "    }\n",
              "\n",
              "    .dataframe thead th {\n",
              "        text-align: right;\n",
              "    }\n",
              "</style>\n",
              "<table border=\"1\" class=\"dataframe\">\n",
              "  <thead>\n",
              "    <tr style=\"text-align: right;\">\n",
              "      <th></th>\n",
              "      <th>Loan_ID</th>\n",
              "      <th>Gender</th>\n",
              "      <th>Married</th>\n",
              "      <th>Dependents</th>\n",
              "      <th>Education</th>\n",
              "      <th>Self_Employed</th>\n",
              "      <th>ApplicantIncome</th>\n",
              "      <th>CoapplicantIncome</th>\n",
              "      <th>LoanAmount</th>\n",
              "      <th>Loan_Amount_Term</th>\n",
              "      <th>Credit_History</th>\n",
              "      <th>Property_Area</th>\n",
              "    </tr>\n",
              "  </thead>\n",
              "  <tbody>\n",
              "    <tr>\n",
              "      <th>0</th>\n",
              "      <td>LP001015</td>\n",
              "      <td>Male</td>\n",
              "      <td>Yes</td>\n",
              "      <td>0</td>\n",
              "      <td>Graduate</td>\n",
              "      <td>No</td>\n",
              "      <td>5720</td>\n",
              "      <td>0</td>\n",
              "      <td>110.0</td>\n",
              "      <td>360.0</td>\n",
              "      <td>1.0</td>\n",
              "      <td>Urban</td>\n",
              "    </tr>\n",
              "    <tr>\n",
              "      <th>1</th>\n",
              "      <td>LP001022</td>\n",
              "      <td>Male</td>\n",
              "      <td>Yes</td>\n",
              "      <td>1</td>\n",
              "      <td>Graduate</td>\n",
              "      <td>No</td>\n",
              "      <td>3076</td>\n",
              "      <td>1500</td>\n",
              "      <td>126.0</td>\n",
              "      <td>360.0</td>\n",
              "      <td>1.0</td>\n",
              "      <td>Urban</td>\n",
              "    </tr>\n",
              "    <tr>\n",
              "      <th>2</th>\n",
              "      <td>LP001031</td>\n",
              "      <td>Male</td>\n",
              "      <td>Yes</td>\n",
              "      <td>2</td>\n",
              "      <td>Graduate</td>\n",
              "      <td>No</td>\n",
              "      <td>5000</td>\n",
              "      <td>1800</td>\n",
              "      <td>208.0</td>\n",
              "      <td>360.0</td>\n",
              "      <td>1.0</td>\n",
              "      <td>Urban</td>\n",
              "    </tr>\n",
              "    <tr>\n",
              "      <th>3</th>\n",
              "      <td>LP001035</td>\n",
              "      <td>Male</td>\n",
              "      <td>Yes</td>\n",
              "      <td>2</td>\n",
              "      <td>Graduate</td>\n",
              "      <td>No</td>\n",
              "      <td>2340</td>\n",
              "      <td>2546</td>\n",
              "      <td>100.0</td>\n",
              "      <td>360.0</td>\n",
              "      <td>NaN</td>\n",
              "      <td>Urban</td>\n",
              "    </tr>\n",
              "    <tr>\n",
              "      <th>4</th>\n",
              "      <td>LP001051</td>\n",
              "      <td>Male</td>\n",
              "      <td>No</td>\n",
              "      <td>0</td>\n",
              "      <td>Not Graduate</td>\n",
              "      <td>No</td>\n",
              "      <td>3276</td>\n",
              "      <td>0</td>\n",
              "      <td>78.0</td>\n",
              "      <td>360.0</td>\n",
              "      <td>1.0</td>\n",
              "      <td>Urban</td>\n",
              "    </tr>\n",
              "  </tbody>\n",
              "</table>\n",
              "</div>"
            ],
            "text/plain": [
              "    Loan_ID Gender Married  ... Loan_Amount_Term Credit_History Property_Area\n",
              "0  LP001015   Male     Yes  ...            360.0            1.0         Urban\n",
              "1  LP001022   Male     Yes  ...            360.0            1.0         Urban\n",
              "2  LP001031   Male     Yes  ...            360.0            1.0         Urban\n",
              "3  LP001035   Male     Yes  ...            360.0            NaN         Urban\n",
              "4  LP001051   Male      No  ...            360.0            1.0         Urban\n",
              "\n",
              "[5 rows x 12 columns]"
            ]
          },
          "metadata": {},
          "execution_count": 5
        }
      ]
    },
    {
      "cell_type": "code",
      "metadata": {
        "colab": {
          "base_uri": "https://localhost:8080/",
          "height": 461
        },
        "id": "9axa95a1I4T3",
        "outputId": "47a84563-d1a6-4b4e-a91f-e26f955e9d92"
      },
      "source": [
        "Loan_train"
      ],
      "execution_count": 6,
      "outputs": [
        {
          "output_type": "execute_result",
          "data": {
            "text/html": [
              "<div>\n",
              "<style scoped>\n",
              "    .dataframe tbody tr th:only-of-type {\n",
              "        vertical-align: middle;\n",
              "    }\n",
              "\n",
              "    .dataframe tbody tr th {\n",
              "        vertical-align: top;\n",
              "    }\n",
              "\n",
              "    .dataframe thead th {\n",
              "        text-align: right;\n",
              "    }\n",
              "</style>\n",
              "<table border=\"1\" class=\"dataframe\">\n",
              "  <thead>\n",
              "    <tr style=\"text-align: right;\">\n",
              "      <th></th>\n",
              "      <th>Loan_ID</th>\n",
              "      <th>Gender</th>\n",
              "      <th>Married</th>\n",
              "      <th>Dependents</th>\n",
              "      <th>Education</th>\n",
              "      <th>Self_Employed</th>\n",
              "      <th>ApplicantIncome</th>\n",
              "      <th>CoapplicantIncome</th>\n",
              "      <th>LoanAmount</th>\n",
              "      <th>Loan_Amount_Term</th>\n",
              "      <th>Credit_History</th>\n",
              "      <th>Property_Area</th>\n",
              "      <th>Loan_Status</th>\n",
              "    </tr>\n",
              "  </thead>\n",
              "  <tbody>\n",
              "    <tr>\n",
              "      <th>0</th>\n",
              "      <td>LP001002</td>\n",
              "      <td>Male</td>\n",
              "      <td>No</td>\n",
              "      <td>0</td>\n",
              "      <td>Graduate</td>\n",
              "      <td>No</td>\n",
              "      <td>5849</td>\n",
              "      <td>0.0</td>\n",
              "      <td>NaN</td>\n",
              "      <td>360.0</td>\n",
              "      <td>1.0</td>\n",
              "      <td>Urban</td>\n",
              "      <td>Y</td>\n",
              "    </tr>\n",
              "    <tr>\n",
              "      <th>1</th>\n",
              "      <td>LP001003</td>\n",
              "      <td>Male</td>\n",
              "      <td>Yes</td>\n",
              "      <td>1</td>\n",
              "      <td>Graduate</td>\n",
              "      <td>No</td>\n",
              "      <td>4583</td>\n",
              "      <td>1508.0</td>\n",
              "      <td>128.0</td>\n",
              "      <td>360.0</td>\n",
              "      <td>1.0</td>\n",
              "      <td>Rural</td>\n",
              "      <td>N</td>\n",
              "    </tr>\n",
              "    <tr>\n",
              "      <th>2</th>\n",
              "      <td>LP001005</td>\n",
              "      <td>Male</td>\n",
              "      <td>Yes</td>\n",
              "      <td>0</td>\n",
              "      <td>Graduate</td>\n",
              "      <td>Yes</td>\n",
              "      <td>3000</td>\n",
              "      <td>0.0</td>\n",
              "      <td>66.0</td>\n",
              "      <td>360.0</td>\n",
              "      <td>1.0</td>\n",
              "      <td>Urban</td>\n",
              "      <td>Y</td>\n",
              "    </tr>\n",
              "    <tr>\n",
              "      <th>3</th>\n",
              "      <td>LP001006</td>\n",
              "      <td>Male</td>\n",
              "      <td>Yes</td>\n",
              "      <td>0</td>\n",
              "      <td>Not Graduate</td>\n",
              "      <td>No</td>\n",
              "      <td>2583</td>\n",
              "      <td>2358.0</td>\n",
              "      <td>120.0</td>\n",
              "      <td>360.0</td>\n",
              "      <td>1.0</td>\n",
              "      <td>Urban</td>\n",
              "      <td>Y</td>\n",
              "    </tr>\n",
              "    <tr>\n",
              "      <th>4</th>\n",
              "      <td>LP001008</td>\n",
              "      <td>Male</td>\n",
              "      <td>No</td>\n",
              "      <td>0</td>\n",
              "      <td>Graduate</td>\n",
              "      <td>No</td>\n",
              "      <td>6000</td>\n",
              "      <td>0.0</td>\n",
              "      <td>141.0</td>\n",
              "      <td>360.0</td>\n",
              "      <td>1.0</td>\n",
              "      <td>Urban</td>\n",
              "      <td>Y</td>\n",
              "    </tr>\n",
              "    <tr>\n",
              "      <th>...</th>\n",
              "      <td>...</td>\n",
              "      <td>...</td>\n",
              "      <td>...</td>\n",
              "      <td>...</td>\n",
              "      <td>...</td>\n",
              "      <td>...</td>\n",
              "      <td>...</td>\n",
              "      <td>...</td>\n",
              "      <td>...</td>\n",
              "      <td>...</td>\n",
              "      <td>...</td>\n",
              "      <td>...</td>\n",
              "      <td>...</td>\n",
              "    </tr>\n",
              "    <tr>\n",
              "      <th>609</th>\n",
              "      <td>LP002978</td>\n",
              "      <td>Female</td>\n",
              "      <td>No</td>\n",
              "      <td>0</td>\n",
              "      <td>Graduate</td>\n",
              "      <td>No</td>\n",
              "      <td>2900</td>\n",
              "      <td>0.0</td>\n",
              "      <td>71.0</td>\n",
              "      <td>360.0</td>\n",
              "      <td>1.0</td>\n",
              "      <td>Rural</td>\n",
              "      <td>Y</td>\n",
              "    </tr>\n",
              "    <tr>\n",
              "      <th>610</th>\n",
              "      <td>LP002979</td>\n",
              "      <td>Male</td>\n",
              "      <td>Yes</td>\n",
              "      <td>3+</td>\n",
              "      <td>Graduate</td>\n",
              "      <td>No</td>\n",
              "      <td>4106</td>\n",
              "      <td>0.0</td>\n",
              "      <td>40.0</td>\n",
              "      <td>180.0</td>\n",
              "      <td>1.0</td>\n",
              "      <td>Rural</td>\n",
              "      <td>Y</td>\n",
              "    </tr>\n",
              "    <tr>\n",
              "      <th>611</th>\n",
              "      <td>LP002983</td>\n",
              "      <td>Male</td>\n",
              "      <td>Yes</td>\n",
              "      <td>1</td>\n",
              "      <td>Graduate</td>\n",
              "      <td>No</td>\n",
              "      <td>8072</td>\n",
              "      <td>240.0</td>\n",
              "      <td>253.0</td>\n",
              "      <td>360.0</td>\n",
              "      <td>1.0</td>\n",
              "      <td>Urban</td>\n",
              "      <td>Y</td>\n",
              "    </tr>\n",
              "    <tr>\n",
              "      <th>612</th>\n",
              "      <td>LP002984</td>\n",
              "      <td>Male</td>\n",
              "      <td>Yes</td>\n",
              "      <td>2</td>\n",
              "      <td>Graduate</td>\n",
              "      <td>No</td>\n",
              "      <td>7583</td>\n",
              "      <td>0.0</td>\n",
              "      <td>187.0</td>\n",
              "      <td>360.0</td>\n",
              "      <td>1.0</td>\n",
              "      <td>Urban</td>\n",
              "      <td>Y</td>\n",
              "    </tr>\n",
              "    <tr>\n",
              "      <th>613</th>\n",
              "      <td>LP002990</td>\n",
              "      <td>Female</td>\n",
              "      <td>No</td>\n",
              "      <td>0</td>\n",
              "      <td>Graduate</td>\n",
              "      <td>Yes</td>\n",
              "      <td>4583</td>\n",
              "      <td>0.0</td>\n",
              "      <td>133.0</td>\n",
              "      <td>360.0</td>\n",
              "      <td>0.0</td>\n",
              "      <td>Semiurban</td>\n",
              "      <td>N</td>\n",
              "    </tr>\n",
              "  </tbody>\n",
              "</table>\n",
              "<p>614 rows × 13 columns</p>\n",
              "</div>"
            ],
            "text/plain": [
              "      Loan_ID  Gender Married  ... Credit_History Property_Area Loan_Status\n",
              "0    LP001002    Male      No  ...            1.0         Urban           Y\n",
              "1    LP001003    Male     Yes  ...            1.0         Rural           N\n",
              "2    LP001005    Male     Yes  ...            1.0         Urban           Y\n",
              "3    LP001006    Male     Yes  ...            1.0         Urban           Y\n",
              "4    LP001008    Male      No  ...            1.0         Urban           Y\n",
              "..        ...     ...     ...  ...            ...           ...         ...\n",
              "609  LP002978  Female      No  ...            1.0         Rural           Y\n",
              "610  LP002979    Male     Yes  ...            1.0         Rural           Y\n",
              "611  LP002983    Male     Yes  ...            1.0         Urban           Y\n",
              "612  LP002984    Male     Yes  ...            1.0         Urban           Y\n",
              "613  LP002990  Female      No  ...            0.0     Semiurban           N\n",
              "\n",
              "[614 rows x 13 columns]"
            ]
          },
          "metadata": {},
          "execution_count": 6
        }
      ]
    },
    {
      "cell_type": "code",
      "metadata": {
        "colab": {
          "base_uri": "https://localhost:8080/"
        },
        "id": "2ySK5132Ld3n",
        "outputId": "9b59bcbc-e0d5-48ec-e310-453ead333660"
      },
      "source": [
        "Loan_train['Credit_History'].value_counts()"
      ],
      "execution_count": 7,
      "outputs": [
        {
          "output_type": "execute_result",
          "data": {
            "text/plain": [
              "1.0    475\n",
              "0.0     89\n",
              "Name: Credit_History, dtype: int64"
            ]
          },
          "metadata": {},
          "execution_count": 7
        }
      ]
    },
    {
      "cell_type": "code",
      "metadata": {
        "colab": {
          "base_uri": "https://localhost:8080/",
          "height": 300
        },
        "id": "t8xoh2nyZyBc",
        "outputId": "507a1f05-22d8-4216-8d3e-327fbd075d15"
      },
      "source": [
        "Loan_train.describe()"
      ],
      "execution_count": 8,
      "outputs": [
        {
          "output_type": "execute_result",
          "data": {
            "text/html": [
              "<div>\n",
              "<style scoped>\n",
              "    .dataframe tbody tr th:only-of-type {\n",
              "        vertical-align: middle;\n",
              "    }\n",
              "\n",
              "    .dataframe tbody tr th {\n",
              "        vertical-align: top;\n",
              "    }\n",
              "\n",
              "    .dataframe thead th {\n",
              "        text-align: right;\n",
              "    }\n",
              "</style>\n",
              "<table border=\"1\" class=\"dataframe\">\n",
              "  <thead>\n",
              "    <tr style=\"text-align: right;\">\n",
              "      <th></th>\n",
              "      <th>ApplicantIncome</th>\n",
              "      <th>CoapplicantIncome</th>\n",
              "      <th>LoanAmount</th>\n",
              "      <th>Loan_Amount_Term</th>\n",
              "      <th>Credit_History</th>\n",
              "    </tr>\n",
              "  </thead>\n",
              "  <tbody>\n",
              "    <tr>\n",
              "      <th>count</th>\n",
              "      <td>614.000000</td>\n",
              "      <td>614.000000</td>\n",
              "      <td>592.000000</td>\n",
              "      <td>600.00000</td>\n",
              "      <td>564.000000</td>\n",
              "    </tr>\n",
              "    <tr>\n",
              "      <th>mean</th>\n",
              "      <td>5403.459283</td>\n",
              "      <td>1621.245798</td>\n",
              "      <td>146.412162</td>\n",
              "      <td>342.00000</td>\n",
              "      <td>0.842199</td>\n",
              "    </tr>\n",
              "    <tr>\n",
              "      <th>std</th>\n",
              "      <td>6109.041673</td>\n",
              "      <td>2926.248369</td>\n",
              "      <td>85.587325</td>\n",
              "      <td>65.12041</td>\n",
              "      <td>0.364878</td>\n",
              "    </tr>\n",
              "    <tr>\n",
              "      <th>min</th>\n",
              "      <td>150.000000</td>\n",
              "      <td>0.000000</td>\n",
              "      <td>9.000000</td>\n",
              "      <td>12.00000</td>\n",
              "      <td>0.000000</td>\n",
              "    </tr>\n",
              "    <tr>\n",
              "      <th>25%</th>\n",
              "      <td>2877.500000</td>\n",
              "      <td>0.000000</td>\n",
              "      <td>100.000000</td>\n",
              "      <td>360.00000</td>\n",
              "      <td>1.000000</td>\n",
              "    </tr>\n",
              "    <tr>\n",
              "      <th>50%</th>\n",
              "      <td>3812.500000</td>\n",
              "      <td>1188.500000</td>\n",
              "      <td>128.000000</td>\n",
              "      <td>360.00000</td>\n",
              "      <td>1.000000</td>\n",
              "    </tr>\n",
              "    <tr>\n",
              "      <th>75%</th>\n",
              "      <td>5795.000000</td>\n",
              "      <td>2297.250000</td>\n",
              "      <td>168.000000</td>\n",
              "      <td>360.00000</td>\n",
              "      <td>1.000000</td>\n",
              "    </tr>\n",
              "    <tr>\n",
              "      <th>max</th>\n",
              "      <td>81000.000000</td>\n",
              "      <td>41667.000000</td>\n",
              "      <td>700.000000</td>\n",
              "      <td>480.00000</td>\n",
              "      <td>1.000000</td>\n",
              "    </tr>\n",
              "  </tbody>\n",
              "</table>\n",
              "</div>"
            ],
            "text/plain": [
              "       ApplicantIncome  CoapplicantIncome  ...  Loan_Amount_Term  Credit_History\n",
              "count       614.000000         614.000000  ...         600.00000      564.000000\n",
              "mean       5403.459283        1621.245798  ...         342.00000        0.842199\n",
              "std        6109.041673        2926.248369  ...          65.12041        0.364878\n",
              "min         150.000000           0.000000  ...          12.00000        0.000000\n",
              "25%        2877.500000           0.000000  ...         360.00000        1.000000\n",
              "50%        3812.500000        1188.500000  ...         360.00000        1.000000\n",
              "75%        5795.000000        2297.250000  ...         360.00000        1.000000\n",
              "max       81000.000000       41667.000000  ...         480.00000        1.000000\n",
              "\n",
              "[8 rows x 5 columns]"
            ]
          },
          "metadata": {},
          "execution_count": 8
        }
      ]
    },
    {
      "cell_type": "code",
      "metadata": {
        "colab": {
          "base_uri": "https://localhost:8080/"
        },
        "id": "L-OssNl9acW8",
        "outputId": "ba34b2ec-61ef-41a1-947a-f0cae5ddc340"
      },
      "source": [
        "Loan_train.info()"
      ],
      "execution_count": 9,
      "outputs": [
        {
          "output_type": "stream",
          "name": "stdout",
          "text": [
            "<class 'pandas.core.frame.DataFrame'>\n",
            "RangeIndex: 614 entries, 0 to 613\n",
            "Data columns (total 13 columns):\n",
            " #   Column             Non-Null Count  Dtype  \n",
            "---  ------             --------------  -----  \n",
            " 0   Loan_ID            614 non-null    object \n",
            " 1   Gender             601 non-null    object \n",
            " 2   Married            611 non-null    object \n",
            " 3   Dependents         599 non-null    object \n",
            " 4   Education          614 non-null    object \n",
            " 5   Self_Employed      582 non-null    object \n",
            " 6   ApplicantIncome    614 non-null    int64  \n",
            " 7   CoapplicantIncome  614 non-null    float64\n",
            " 8   LoanAmount         592 non-null    float64\n",
            " 9   Loan_Amount_Term   600 non-null    float64\n",
            " 10  Credit_History     564 non-null    float64\n",
            " 11  Property_Area      614 non-null    object \n",
            " 12  Loan_Status        614 non-null    object \n",
            "dtypes: float64(4), int64(1), object(8)\n",
            "memory usage: 62.5+ KB\n"
          ]
        }
      ]
    },
    {
      "cell_type": "markdown",
      "metadata": {
        "id": "oBFEfKSLczxA"
      },
      "source": [
        "lets see how much each field related and important to loan status\n",
        "# EDA\n",
        " * Univariate Visual Analysis\n",
        "    "
      ]
    },
    {
      "cell_type": "code",
      "metadata": {
        "colab": {
          "base_uri": "https://localhost:8080/",
          "height": 729
        },
        "id": "8kY9-HIAqBR0",
        "outputId": "bdb12209-dd87-42d8-a6c4-6e3cf43da24c"
      },
      "source": [
        "Loan_train.hist(bins=30, figsize=(15, 10))"
      ],
      "execution_count": 10,
      "outputs": [
        {
          "output_type": "execute_result",
          "data": {
            "text/plain": [
              "array([[<matplotlib.axes._subplots.AxesSubplot object at 0x7f49a9890bd0>,\n",
              "        <matplotlib.axes._subplots.AxesSubplot object at 0x7f49a9867fd0>],\n",
              "       [<matplotlib.axes._subplots.AxesSubplot object at 0x7f49a982f650>,\n",
              "        <matplotlib.axes._subplots.AxesSubplot object at 0x7f49a97e5c50>],\n",
              "       [<matplotlib.axes._subplots.AxesSubplot object at 0x7f49a97a8290>,\n",
              "        <matplotlib.axes._subplots.AxesSubplot object at 0x7f49a975e890>]],\n",
              "      dtype=object)"
            ]
          },
          "metadata": {},
          "execution_count": 10
        },
        {
          "output_type": "display_data",
          "data": {
            "image/png": "[encoded data removed]",
            "text/plain": [
              "<Figure size 1080x720 with 6 Axes>"
            ]
          },
          "metadata": {
            "needs_background": "light"
          }
        }
      ]
    },
    {
      "cell_type": "markdown",
      "metadata": {
        "id": "XciwHLjDnJrF"
      },
      "source": [
        "###  * Target Variable - Loan Status\n",
        "   "
      ]
    },
    {
      "cell_type": "code",
      "metadata": {
        "colab": {
          "base_uri": "https://localhost:8080/",
          "height": 317
        },
        "id": "JjllE7cdqQom",
        "outputId": "8d32ec9e-18dd-4296-c83b-9c2d85d37a40"
      },
      "source": [
        "plt.style.use('ggplot')\n",
        "Loan_train['Loan_Status'].value_counts().plot.pie(title='Loan Status',rot=0)\n",
        "display(Loan_train['Loan_Status'].value_counts())"
      ],
      "execution_count": 11,
      "outputs": [
        {
          "output_type": "display_data",
          "data": {
            "text/plain": [
              "Y    422\n",
              "N    192\n",
              "Name: Loan_Status, dtype: int64"
            ]
          },
          "metadata": {}
        },
        {
          "output_type": "display_data",
          "data": {
            "image/png": "[encoded data removed]",
            "text/plain": [
              "<Figure size 432x288 with 1 Axes>"
            ]
          },
          "metadata": {}
        }
      ]
    },
    {
      "cell_type": "markdown",
      "metadata": {
        "id": "PIUWHQf0nLY6"
      },
      "source": [
        "##    Predictor Variables\n",
        "  * Categorical Features\n",
        "  * Gender,\tMarried, Credit_History\n",
        "  * Ordinal-\tDependents,\tEducation, Self_Employed"
      ]
    },
    {
      "cell_type": "code",
      "metadata": {
        "id": "94L7PVwrSXuG"
      },
      "source": [
        "categorical=['Gender', 'Married', 'Credit_History']"
      ],
      "execution_count": 12,
      "outputs": []
    },
    {
      "cell_type": "code",
      "metadata": {
        "colab": {
          "base_uri": "https://localhost:8080/",
          "height": 346
        },
        "id": "izdaPiU0SNt1",
        "outputId": "8a4f5ca3-f419-489a-9261-a1d590aac6f5"
      },
      "source": [
        "fig, ax = plt.subplots(1, 3, figsize=(20, 5))\n",
        "for variable, subplot in zip(categorical, ax.flatten()):\n",
        "    sns.countplot(Loan_train[variable], ax=subplot)\n",
        "    for label in subplot.get_xticklabels():\n",
        "        label.set_rotation(90)"
      ],
      "execution_count": 13,
      "outputs": [
        {
          "output_type": "display_data",
          "data": {
            "image/png": "[encoded data removed]",
            "text/plain": [
              "<Figure size 1440x360 with 3 Axes>"
            ]
          },
          "metadata": {}
        }
      ]
    },
    {
      "cell_type": "markdown",
      "metadata": {
        "id": "34-3PEyKnO-7"
      },
      "source": [
        "## * Ordinal Features\n",
        "   "
      ]
    },
    {
      "cell_type": "code",
      "metadata": {
        "id": "owikdJNVSvrd"
      },
      "source": [
        "ordinal=['Dependents', 'Education', 'Self_Employed']"
      ],
      "execution_count": 14,
      "outputs": []
    },
    {
      "cell_type": "code",
      "metadata": {
        "colab": {
          "base_uri": "https://localhost:8080/",
          "height": 377
        },
        "id": "i_BiIvGQSuVu",
        "outputId": "543f9f66-7a57-4b45-da37-4ec400a5e944"
      },
      "source": [
        "fig, ax = plt.subplots(1, 3, figsize=(20, 5))\n",
        "for variable, subplot in zip(ordinal, ax.flatten()):\n",
        "    sns.countplot(Loan_train[variable], ax=subplot)\n",
        "    for label in subplot.get_xticklabels():\n",
        "        label.set_rotation(90)"
      ],
      "execution_count": 15,
      "outputs": [
        {
          "output_type": "display_data",
          "data": {
            "image/png": "[encoded data removed]",
            "text/plain": [
              "<Figure size 1440x360 with 3 Axes>"
            ]
          },
          "metadata": {}
        }
      ]
    },
    {
      "cell_type": "markdown",
      "metadata": {
        "id": "T-qiiF3fnQpP"
      },
      "source": [
        "##   * Numerical Features--ApplicantIncome, CoapplicantIncome,LoanAmount,\tLoan_Amount_Term,\tCredit_History.\n",
        "    "
      ]
    },
    {
      "cell_type": "code",
      "metadata": {
        "id": "mQSc8GdsTW6n"
      },
      "source": [
        "numeric=['ApplicantIncome', 'CoapplicantIncome','LoanAmount', 'Loan_Amount_Term']"
      ],
      "execution_count": 16,
      "outputs": []
    },
    {
      "cell_type": "code",
      "metadata": {
        "colab": {
          "base_uri": "https://localhost:8080/",
          "height": 609
        },
        "id": "QeaJph3OIutl",
        "outputId": "775301ea-4aa1-4d9f-a1fc-85503b9dbf2b"
      },
      "source": [
        "fig, ax = plt.subplots(2, 2, figsize=(15, 10))\n",
        "for var, subplot in zip(numeric, ax.flatten()):\n",
        "    sns.boxplot(x=var, y='Loan_Status', data=Loan_train, ax=subplot)"
      ],
      "execution_count": 17,
      "outputs": [
        {
          "output_type": "display_data",
          "data": {
            "image/png": "[encoded data removed]",
            "text/plain": [
              "<Figure size 1080x720 with 4 Axes>"
            ]
          },
          "metadata": {}
        }
      ]
    },
    {
      "cell_type": "markdown",
      "metadata": {
        "id": "a-3JpLNynSS4"
      },
      "source": [
        "##  * Bivariate Analysis\n",
        "  "
      ]
    },
    {
      "cell_type": "code",
      "metadata": {
        "colab": {
          "base_uri": "https://localhost:8080/"
        },
        "id": "bJ5GbB_ycZMg",
        "outputId": "79b95b95-a2df-41d7-fe1e-b3cb66ba87bc"
      },
      "source": [
        "Loan_train.columns"
      ],
      "execution_count": 18,
      "outputs": [
        {
          "output_type": "execute_result",
          "data": {
            "text/plain": [
              "Index(['Loan_ID', 'Gender', 'Married', 'Dependents', 'Education',\n",
              "       'Self_Employed', 'ApplicantIncome', 'CoapplicantIncome', 'LoanAmount',\n",
              "       'Loan_Amount_Term', 'Credit_History', 'Property_Area', 'Loan_Status'],\n",
              "      dtype='object')"
            ]
          },
          "metadata": {},
          "execution_count": 18
        }
      ]
    },
    {
      "cell_type": "markdown",
      "metadata": {
        "id": "5PN-zPGpXBCi"
      },
      "source": [
        "## Loan-Status(target) VS Categorical Variables(Gender, Married, Credit_History)"
      ]
    },
    {
      "cell_type": "markdown",
      "metadata": {
        "id": "bvPRgCFz7Llb"
      },
      "source": [
        "## Categorical(independent var) vs categorical (dependent var)"
      ]
    },
    {
      "cell_type": "code",
      "metadata": {
        "colab": {
          "base_uri": "https://localhost:8080/",
          "height": 396
        },
        "id": "XkCIqMvY9ODB",
        "outputId": "fd463196-7a0c-43f7-bf87-0531080e4fc2"
      },
      "source": [
        "  CrosstabResult=pd.crosstab(index=Loan_train['Gender'],columns=Loan_train['Loan_Status'])\n",
        "  print(CrosstabResult)\n",
        " \n",
        "# Grouped bar chart between GENDER and APPROVE_LOAN\n",
        "  CrosstabResult.plot.bar(figsize=(7,4))"
      ],
      "execution_count": 19,
      "outputs": [
        {
          "output_type": "stream",
          "name": "stdout",
          "text": [
            "Loan_Status    N    Y\n",
            "Gender               \n",
            "Female        37   75\n",
            "Male         150  339\n"
          ]
        },
        {
          "output_type": "execute_result",
          "data": {
            "text/plain": [
              "<matplotlib.axes._subplots.AxesSubplot at 0x7f49a821c250>"
            ]
          },
          "metadata": {},
          "execution_count": 19
        },
        {
          "output_type": "display_data",
          "data": {
            "image/png": "[encoded data removed]",
            "text/plain": [
              "<Figure size 504x288 with 1 Axes>"
            ]
          },
          "metadata": {}
        }
      ]
    },
    {
      "cell_type": "code",
      "metadata": {
        "colab": {
          "base_uri": "https://localhost:8080/",
          "height": 374
        },
        "id": "swV_t4-F-SRH",
        "outputId": "8d3ce4f1-5957-42bc-a4b8-75b0411cc22a"
      },
      "source": [
        "CrosstabResult=pd.crosstab(index=Loan_train['Married'],columns=Loan_train['Loan_Status'])\n",
        "print(CrosstabResult)\n",
        " # Grouped bar chart between GENDER and Loan_Status\n",
        "CrosstabResult.plot.bar(figsize=(7,4))"
      ],
      "execution_count": 20,
      "outputs": [
        {
          "output_type": "stream",
          "name": "stdout",
          "text": [
            "Loan_Status    N    Y\n",
            "Married              \n",
            "No            79  134\n",
            "Yes          113  285\n"
          ]
        },
        {
          "output_type": "execute_result",
          "data": {
            "text/plain": [
              "<matplotlib.axes._subplots.AxesSubplot at 0x7f49a81ab9d0>"
            ]
          },
          "metadata": {},
          "execution_count": 20
        },
        {
          "output_type": "display_data",
          "data": {
            "image/png": "[encoded data removed]",
            "text/plain": [
              "<Figure size 504x288 with 1 Axes>"
            ]
          },
          "metadata": {}
        }
      ]
    },
    {
      "cell_type": "code",
      "metadata": {
        "colab": {
          "base_uri": "https://localhost:8080/",
          "height": 374
        },
        "id": "BJUwmGVC-SFk",
        "outputId": "f548bac7-4414-43de-8e87-d0261049aa75"
      },
      "source": [
        "  CrosstabResult=pd.crosstab(index=Loan_train['Credit_History'],columns=Loan_train['Loan_Status'])\n",
        "  print(CrosstabResult)\n",
        " \n",
        "# Grouped bar chart between GENDER and APPROVE_LOAN\n",
        "  CrosstabResult.plot.bar(figsize=(7,4))"
      ],
      "execution_count": 21,
      "outputs": [
        {
          "output_type": "stream",
          "name": "stdout",
          "text": [
            "Loan_Status      N    Y\n",
            "Credit_History         \n",
            "0.0             82    7\n",
            "1.0             97  378\n"
          ]
        },
        {
          "output_type": "execute_result",
          "data": {
            "text/plain": [
              "<matplotlib.axes._subplots.AxesSubplot at 0x7f49a812f950>"
            ]
          },
          "metadata": {},
          "execution_count": 21
        },
        {
          "output_type": "display_data",
          "data": {
            "image/png": "[encoded data removed]",
            "text/plain": [
              "<Figure size 504x288 with 1 Axes>"
            ]
          },
          "metadata": {}
        }
      ]
    },
    {
      "cell_type": "markdown",
      "metadata": {
        "id": "yDrLSYxdNqhq"
      },
      "source": [
        "## Ordinal- Dependents, Education, Self_Employed Vs Target (Loan_Status)"
      ]
    },
    {
      "cell_type": "code",
      "metadata": {
        "colab": {
          "base_uri": "https://localhost:8080/",
          "height": 409
        },
        "id": "4rmL5L9FNt2o",
        "outputId": "8b33db5c-0f8a-4bc8-e360-1d4e25303b94"
      },
      "source": [
        "  CrosstabResult=pd.crosstab(index=Loan_train['Dependents'],columns=Loan_train['Loan_Status'])\n",
        "  print(CrosstabResult)\n",
        " \n",
        "# Grouped bar chart between GENDER and APPROVE_LOAN\n",
        "  CrosstabResult.plot.bar(figsize=(7,4))"
      ],
      "execution_count": 22,
      "outputs": [
        {
          "output_type": "stream",
          "name": "stdout",
          "text": [
            "Loan_Status    N    Y\n",
            "Dependents           \n",
            "0            107  238\n",
            "1             36   66\n",
            "2             25   76\n",
            "3+            18   33\n"
          ]
        },
        {
          "output_type": "execute_result",
          "data": {
            "text/plain": [
              "<matplotlib.axes._subplots.AxesSubplot at 0x7f49a80ba550>"
            ]
          },
          "metadata": {},
          "execution_count": 22
        },
        {
          "output_type": "display_data",
          "data": {
            "image/png": "[encoded data removed]",
            "text/plain": [
              "<Figure size 504x288 with 1 Axes>"
            ]
          },
          "metadata": {}
        }
      ]
    },
    {
      "cell_type": "code",
      "metadata": {
        "colab": {
          "base_uri": "https://localhost:8080/",
          "height": 426
        },
        "id": "164bKOkTNub_",
        "outputId": "d2c430e5-1554-4810-d241-d90dbe570b96"
      },
      "source": [
        "CrosstabResult=pd.crosstab(index=Loan_train['Education'],columns=Loan_train['Loan_Status'])\n",
        "print(CrosstabResult)\n",
        " \n",
        "# Grouped bar chart between GENDER and APPROVE_LOAN\n",
        "CrosstabResult.plot.bar(figsize=(7,4))"
      ],
      "execution_count": 23,
      "outputs": [
        {
          "output_type": "stream",
          "name": "stdout",
          "text": [
            "Loan_Status     N    Y\n",
            "Education             \n",
            "Graduate      140  340\n",
            "Not Graduate   52   82\n"
          ]
        },
        {
          "output_type": "execute_result",
          "data": {
            "text/plain": [
              "<matplotlib.axes._subplots.AxesSubplot at 0x7f49a7fc5b10>"
            ]
          },
          "metadata": {},
          "execution_count": 23
        },
        {
          "output_type": "display_data",
          "data": {
            "image/png": "[encoded data removed]",
            "text/plain": [
              "<Figure size 504x288 with 1 Axes>"
            ]
          },
          "metadata": {}
        }
      ]
    },
    {
      "cell_type": "code",
      "metadata": {
        "colab": {
          "base_uri": "https://localhost:8080/",
          "height": 374
        },
        "id": "cB7n2ef7ODh8",
        "outputId": "06d7be54-dbb9-4f7a-b3fe-20474d1e558d"
      },
      "source": [
        "CrosstabResult=pd.crosstab(index=Loan_train['Self_Employed'],columns=Loan_train['Loan_Status'])\n",
        "print(CrosstabResult)\n",
        " \n",
        "# Grouped bar chart between GENDER and APPROVE_LOAN\n",
        "CrosstabResult.plot.bar(figsize=(7,4))"
      ],
      "execution_count": 24,
      "outputs": [
        {
          "output_type": "stream",
          "name": "stdout",
          "text": [
            "Loan_Status      N    Y\n",
            "Self_Employed          \n",
            "No             157  343\n",
            "Yes             26   56\n"
          ]
        },
        {
          "output_type": "execute_result",
          "data": {
            "text/plain": [
              "<matplotlib.axes._subplots.AxesSubplot at 0x7f49a7f48590>"
            ]
          },
          "metadata": {},
          "execution_count": 24
        },
        {
          "output_type": "display_data",
          "data": {
            "image/png": "[encoded data removed]",
            "text/plain": [
              "<Figure size 504x288 with 1 Axes>"
            ]
          },
          "metadata": {}
        }
      ]
    },
    {
      "cell_type": "code",
      "metadata": {
        "id": "ssN1ZLQg4n5u"
      },
      "source": [
        "# Cross tabulation between GENDER and APPROVE_LOAN\n",
        "#categorical=[['Gender'], ['Married'], ['Credit_History']]\n",
        "#fig, ax = plt.subplots(1, 3, figsize=(15, 10))\n",
        "#for var, in zip(categorical):\n",
        "#  CrosstabResult=pd.crosstab(index=var,columns=Loan_train['Loan_Status'])\n",
        "#  print(CrosstabResult)\n",
        " \n",
        "# Grouped bar chart between GENDER and APPROVE_LOAN\n",
        " # CrosstabResult.plot.bar(figsize=(7,4))"
      ],
      "execution_count": 25,
      "outputs": []
    },
    {
      "cell_type": "markdown",
      "metadata": {
        "id": "veatJLJMnWlF"
      },
      "source": [
        "##  * Numerical Independent('ApplicantIncome', 'CoapplicantIncome','LoanAmount', 'Loan_Amount_Term' ) vs Target(Loan_Status)"
      ]
    },
    {
      "cell_type": "code",
      "metadata": {
        "colab": {
          "base_uri": "https://localhost:8080/"
        },
        "id": "2uJRHkIEackk",
        "outputId": "3496f223-7358-4c36-efe7-ea0566b6faae"
      },
      "source": [
        "Loan_train['ApplicantIncome'].max()"
      ],
      "execution_count": 26,
      "outputs": [
        {
          "output_type": "execute_result",
          "data": {
            "text/plain": [
              "81000"
            ]
          },
          "metadata": {},
          "execution_count": 26
        }
      ]
    },
    {
      "cell_type": "code",
      "metadata": {
        "colab": {
          "base_uri": "https://localhost:8080/",
          "height": 442
        },
        "id": "lqcCWIgDWnLr",
        "outputId": "309a7902-436a-434a-febd-e4bfdd80c34c"
      },
      "source": [
        "bins= [0,2500,4000,6000,81000]\n",
        "group= ['Low', 'Average', 'High', 'Very high']\n",
        "Loan_train['Income_bin']=pd.cut(Loan_train['ApplicantIncome'],bins,labels=group)\n",
        "CrosstabResult=pd.crosstab(index=Loan_train['Income_bin'],columns=Loan_train['Loan_Status'])\n",
        "print(CrosstabResult)\n",
        " \n",
        "# Grouped bar chart between ApplicantIncome and Loan_Status\n",
        "CrosstabResult.plot.bar(figsize=(7,4))\n"
      ],
      "execution_count": 27,
      "outputs": [
        {
          "output_type": "stream",
          "name": "stdout",
          "text": [
            "Loan_Status   N    Y\n",
            "Income_bin          \n",
            "Low          34   74\n",
            "Average      67  159\n",
            "High         45   98\n",
            "Very high    46   91\n"
          ]
        },
        {
          "output_type": "execute_result",
          "data": {
            "text/plain": [
              "<matplotlib.axes._subplots.AxesSubplot at 0x7f49a7ed7d90>"
            ]
          },
          "metadata": {},
          "execution_count": 27
        },
        {
          "output_type": "display_data",
          "data": {
            "image/png": "[encoded data removed]",
            "text/plain": [
              "<Figure size 504x288 with 1 Axes>"
            ]
          },
          "metadata": {}
        }
      ]
    },
    {
      "cell_type": "markdown",
      "metadata": {
        "id": "Sbt2tTXQecmy"
      },
      "source": [
        "### Income bin for Test data\n",
        "\n"
      ]
    },
    {
      "cell_type": "code",
      "metadata": {
        "id": "tOfKOKeoecTD"
      },
      "source": [
        "bins= [0,2500,4000,6000,81000]\n",
        "group= ['Low', 'Average', 'High', 'Very high']\n",
        "Loan_test['Income_bin']=pd.cut(Loan_test['ApplicantIncome'],bins,labels=group)"
      ],
      "execution_count": 28,
      "outputs": []
    },
    {
      "cell_type": "code",
      "metadata": {
        "colab": {
          "base_uri": "https://localhost:8080/"
        },
        "id": "CmavERiUZ9P5",
        "outputId": "40cc6d4d-0a29-4e88-c037-98bc10ab3af4"
      },
      "source": [
        "Loan_train['CoapplicantIncome'].max()"
      ],
      "execution_count": 29,
      "outputs": [
        {
          "output_type": "execute_result",
          "data": {
            "text/plain": [
              "41667.0"
            ]
          },
          "metadata": {},
          "execution_count": 29
        }
      ]
    },
    {
      "cell_type": "code",
      "metadata": {
        "colab": {
          "base_uri": "https://localhost:8080/",
          "height": 442
        },
        "id": "uNGC1O57Zn5p",
        "outputId": "fada787b-3c70-4081-e965-db0a36e31998"
      },
      "source": [
        "bins= [1000,5000,10000,20000,42000]\n",
        "group= ['Low', 'Average', 'High', 'Very high']\n",
        "Loan_train['ca_Income_bin']=pd.cut(Loan_train['CoapplicantIncome'],bins,labels=group)\n",
        "CrosstabResult=pd.crosstab(index=Loan_train['ca_Income_bin'],columns=Loan_train['Loan_Status'])\n",
        "print(CrosstabResult)\n",
        " \n",
        "# Grouped bar chart between CoapplicantIncome and Loan_Status\n",
        "CrosstabResult.plot.bar(figsize=(7,4))"
      ],
      "execution_count": 30,
      "outputs": [
        {
          "output_type": "stream",
          "name": "stdout",
          "text": [
            "Loan_Status     N    Y\n",
            "ca_Income_bin         \n",
            "Low            82  207\n",
            "Average         6   18\n",
            "High            3    1\n",
            "Very high       2    0\n"
          ]
        },
        {
          "output_type": "execute_result",
          "data": {
            "text/plain": [
              "<matplotlib.axes._subplots.AxesSubplot at 0x7f49a7f52e50>"
            ]
          },
          "metadata": {},
          "execution_count": 30
        },
        {
          "output_type": "display_data",
          "data": {
            "image/png": "[encoded data removed]",
            "text/plain": [
              "<Figure size 504x288 with 1 Axes>"
            ]
          },
          "metadata": {}
        }
      ]
    },
    {
      "cell_type": "code",
      "metadata": {
        "id": "iDY4b6p4jFBy"
      },
      "source": [
        "bins= [1000,5000,10000,20000,42000]\n",
        "group= ['Low', 'Average', 'High', 'Very high']\n",
        "Loan_test['ca_Income_bin']=pd.cut(Loan_test['CoapplicantIncome'],bins,labels=group)"
      ],
      "execution_count": 31,
      "outputs": []
    },
    {
      "cell_type": "code",
      "metadata": {
        "colab": {
          "base_uri": "https://localhost:8080/"
        },
        "id": "MQipfj4KbR7T",
        "outputId": "2f68edaf-8385-4077-bff4-974410384026"
      },
      "source": [
        "Loan_train['LoanAmount'].max()"
      ],
      "execution_count": 32,
      "outputs": [
        {
          "output_type": "execute_result",
          "data": {
            "text/plain": [
              "700.0"
            ]
          },
          "metadata": {},
          "execution_count": 32
        }
      ]
    },
    {
      "cell_type": "code",
      "metadata": {
        "colab": {
          "base_uri": "https://localhost:8080/",
          "height": 442
        },
        "id": "YJGgrd3JZ38s",
        "outputId": "ee7f0c21-c179-40b9-f9cb-63588eb5ed91"
      },
      "source": [
        "bins= [0,200,400,600,700]\n",
        "group= ['Low', 'Average', 'High', 'Very high']\n",
        "Loan_train['LA_bin']=pd.cut(Loan_train['LoanAmount'],bins,labels=group)\n",
        "CrosstabResult=pd.crosstab(index=Loan_train['LA_bin'],columns=Loan_train['Loan_Status'])\n",
        "print(CrosstabResult)\n",
        " \n",
        "# Grouped bar chart between CoapplicantIncome and Loan_Status\n",
        "CrosstabResult.plot.bar(figsize=(7,4))"
      ],
      "execution_count": 33,
      "outputs": [
        {
          "output_type": "stream",
          "name": "stdout",
          "text": [
            "Loan_Status    N    Y\n",
            "LA_bin               \n",
            "Low          150  362\n",
            "Average       27   39\n",
            "High           4    8\n",
            "Very high      0    2\n"
          ]
        },
        {
          "output_type": "execute_result",
          "data": {
            "text/plain": [
              "<matplotlib.axes._subplots.AxesSubplot at 0x7f49a7d9f750>"
            ]
          },
          "metadata": {},
          "execution_count": 33
        },
        {
          "output_type": "display_data",
          "data": {
            "image/png": "[encoded data removed]",
            "text/plain": [
              "<Figure size 504x288 with 1 Axes>"
            ]
          },
          "metadata": {}
        }
      ]
    },
    {
      "cell_type": "markdown",
      "metadata": {
        "id": "dRUAirqsZeFg"
      },
      "source": [
        "Adding  LA_bins to Test data"
      ]
    },
    {
      "cell_type": "code",
      "metadata": {
        "id": "y8RuJqLhY6pz"
      },
      "source": [
        "bins= [0,200,400,600,700]\n",
        "group= ['Low', 'Average', 'High', 'Very high']\n",
        "Loan_test['LA_bin']=pd.cut(Loan_test['LoanAmount'],bins,labels=group)\n",
        "#CrosstabResult=pd.crosstab(index=Loan_test['LA_Income_bin'],columns=Loan_test['Loan_Status'])\n",
        "#print(CrosstabResult)\n",
        " \n",
        "# Grouped bar chart between CoapplicantIncome and Loan_Status\n",
        "#CrosstabResult.plot.bar(figsize=(7,4))"
      ],
      "execution_count": 34,
      "outputs": []
    },
    {
      "cell_type": "markdown",
      "metadata": {
        "id": "5UNsIPGYkPTV"
      },
      "source": [
        "# Missing Values imputation"
      ]
    },
    {
      "cell_type": "code",
      "metadata": {
        "colab": {
          "base_uri": "https://localhost:8080/"
        },
        "id": "ZYLKxuP8bSBN",
        "outputId": "997926f6-bb48-4bad-c93d-82b37ea25f5b"
      },
      "source": [
        "Loan_train.isna().sum()"
      ],
      "execution_count": 35,
      "outputs": [
        {
          "output_type": "execute_result",
          "data": {
            "text/plain": [
              "Loan_ID                0\n",
              "Gender                13\n",
              "Married                3\n",
              "Dependents            15\n",
              "Education              0\n",
              "Self_Employed         32\n",
              "ApplicantIncome        0\n",
              "CoapplicantIncome      0\n",
              "LoanAmount            22\n",
              "Loan_Amount_Term      14\n",
              "Credit_History        50\n",
              "Property_Area          0\n",
              "Loan_Status            0\n",
              "Income_bin             0\n",
              "ca_Income_bin        295\n",
              "LA_bin                22\n",
              "dtype: int64"
            ]
          },
          "metadata": {},
          "execution_count": 35
        }
      ]
    },
    {
      "cell_type": "markdown",
      "metadata": {
        "id": "1CjHmjjLkg8i"
      },
      "source": [
        "### Replace mean in Integer variables and Mode in Categorical variables-Train Data"
      ]
    },
    {
      "cell_type": "code",
      "metadata": {
        "id": "ssVxw1KUkZkw"
      },
      "source": [
        "Loan_train['Gender'].fillna(Loan_train['Gender'].mode()[0], inplace=True)\n",
        "Loan_train['Married'].fillna(Loan_train['Married'].mode()[0], inplace=True)\n",
        "Loan_train['Dependents'].fillna(Loan_train['Dependents'].mode()[0], inplace=True)\n",
        "Loan_train['Self_Employed'].fillna(Loan_train['Self_Employed'].mode()[0], inplace=True)\n",
        "Loan_train['Credit_History'].fillna(Loan_train['Credit_History'].mode()[0], inplace=True)\n",
        "Loan_train['Loan_Amount_Term'].fillna(Loan_train['Loan_Amount_Term'].mode()[0], inplace=True)\n",
        "Loan_train['LoanAmount'].fillna(Loan_train['LoanAmount'].median(), inplace=True)"
      ],
      "execution_count": 36,
      "outputs": []
    },
    {
      "cell_type": "code",
      "metadata": {
        "colab": {
          "base_uri": "https://localhost:8080/"
        },
        "id": "qCgSJBILlhHp",
        "outputId": "a7c99fa2-f1c3-465f-e0b6-8023136fc261"
      },
      "source": [
        "Loan_train.isna().sum()"
      ],
      "execution_count": 37,
      "outputs": [
        {
          "output_type": "execute_result",
          "data": {
            "text/plain": [
              "Loan_ID                0\n",
              "Gender                 0\n",
              "Married                0\n",
              "Dependents             0\n",
              "Education              0\n",
              "Self_Employed          0\n",
              "ApplicantIncome        0\n",
              "CoapplicantIncome      0\n",
              "LoanAmount             0\n",
              "Loan_Amount_Term       0\n",
              "Credit_History         0\n",
              "Property_Area          0\n",
              "Loan_Status            0\n",
              "Income_bin             0\n",
              "ca_Income_bin        295\n",
              "LA_bin                22\n",
              "dtype: int64"
            ]
          },
          "metadata": {},
          "execution_count": 37
        }
      ]
    },
    {
      "cell_type": "code",
      "metadata": {
        "id": "FqRgvnQIlkPj"
      },
      "source": [
        "#Loan_train.drop(columns=['Income_bin','LA_Income_bin','ca_Income_bin'],inplace=True)"
      ],
      "execution_count": 38,
      "outputs": []
    },
    {
      "cell_type": "code",
      "metadata": {
        "colab": {
          "base_uri": "https://localhost:8080/"
        },
        "id": "BYbFZjBflvr_",
        "outputId": "31ef5738-99dc-4506-d669-00687721179f"
      },
      "source": [
        "Loan_train.isna().sum()"
      ],
      "execution_count": 39,
      "outputs": [
        {
          "output_type": "execute_result",
          "data": {
            "text/plain": [
              "Loan_ID                0\n",
              "Gender                 0\n",
              "Married                0\n",
              "Dependents             0\n",
              "Education              0\n",
              "Self_Employed          0\n",
              "ApplicantIncome        0\n",
              "CoapplicantIncome      0\n",
              "LoanAmount             0\n",
              "Loan_Amount_Term       0\n",
              "Credit_History         0\n",
              "Property_Area          0\n",
              "Loan_Status            0\n",
              "Income_bin             0\n",
              "ca_Income_bin        295\n",
              "LA_bin                22\n",
              "dtype: int64"
            ]
          },
          "metadata": {},
          "execution_count": 39
        }
      ]
    },
    {
      "cell_type": "markdown",
      "metadata": {
        "id": "w1g9e89tYK6u"
      },
      "source": [
        "### Replace mean in Integer variables and Mode in Categorical variables-Test data "
      ]
    },
    {
      "cell_type": "code",
      "metadata": {
        "colab": {
          "base_uri": "https://localhost:8080/"
        },
        "id": "x8XdcUMZYb2R",
        "outputId": "ab04e519-e672-4f92-bf3a-b2116a562935"
      },
      "source": [
        "Loan_test.isna().sum()"
      ],
      "execution_count": 40,
      "outputs": [
        {
          "output_type": "execute_result",
          "data": {
            "text/plain": [
              "Loan_ID                0\n",
              "Gender                11\n",
              "Married                0\n",
              "Dependents            10\n",
              "Education              0\n",
              "Self_Employed         23\n",
              "ApplicantIncome        0\n",
              "CoapplicantIncome      0\n",
              "LoanAmount             5\n",
              "Loan_Amount_Term       6\n",
              "Credit_History        29\n",
              "Property_Area          0\n",
              "Income_bin             2\n",
              "ca_Income_bin        183\n",
              "LA_bin                 5\n",
              "dtype: int64"
            ]
          },
          "metadata": {},
          "execution_count": 40
        }
      ]
    },
    {
      "cell_type": "code",
      "metadata": {
        "id": "vLZXdrvQYWjo"
      },
      "source": [
        "Loan_test['Gender'].fillna(Loan_test['Gender'].mode()[0], inplace=True)\n",
        "Loan_test['Married'].fillna(Loan_test['Married'].mode()[0], inplace=True)\n",
        "Loan_test['Dependents'].fillna(Loan_test['Dependents'].mode()[0], inplace=True)\n",
        "Loan_test['Self_Employed'].fillna(Loan_test['Self_Employed'].mode()[0], inplace=True)\n",
        "Loan_test['Credit_History'].fillna(Loan_test['Credit_History'].mode()[0], inplace=True)\n",
        "Loan_test['Loan_Amount_Term'].fillna(Loan_test['Loan_Amount_Term'].mode()[0], inplace=True)\n",
        "Loan_test['LoanAmount'].fillna(Loan_test['LoanAmount'].median(), inplace=True)"
      ],
      "execution_count": 41,
      "outputs": []
    },
    {
      "cell_type": "markdown",
      "metadata": {
        "id": "14TCZFAloVWF"
      },
      "source": [
        "### Replace category to numeric"
      ]
    },
    {
      "cell_type": "code",
      "metadata": {
        "id": "OvTsn6ZUpVXA"
      },
      "source": [
        "Loan_train['Dependents'].replace('3+',3,inplace=True)\n",
        "Loan_train['Loan_Status'].replace('N',0, inplace=True)\n",
        "Loan_train['Loan_Status'].replace('Y',1,inplace=True)"
      ],
      "execution_count": 42,
      "outputs": []
    },
    {
      "cell_type": "code",
      "metadata": {
        "colab": {
          "base_uri": "https://localhost:8080/"
        },
        "id": "KM_17gH8pi5f",
        "outputId": "a4fb0c98-3d16-462d-9e05-e91d0828e971"
      },
      "source": [
        "Loan_train.dtypes"
      ],
      "execution_count": 43,
      "outputs": [
        {
          "output_type": "execute_result",
          "data": {
            "text/plain": [
              "Loan_ID                object\n",
              "Gender                 object\n",
              "Married                object\n",
              "Dependents             object\n",
              "Education              object\n",
              "Self_Employed          object\n",
              "ApplicantIncome         int64\n",
              "CoapplicantIncome     float64\n",
              "LoanAmount            float64\n",
              "Loan_Amount_Term      float64\n",
              "Credit_History        float64\n",
              "Property_Area          object\n",
              "Loan_Status             int64\n",
              "Income_bin           category\n",
              "ca_Income_bin        category\n",
              "LA_bin               category\n",
              "dtype: object"
            ]
          },
          "metadata": {},
          "execution_count": 43
        }
      ]
    },
    {
      "cell_type": "markdown",
      "metadata": {
        "id": "HgjDcAlUrShm"
      },
      "source": [
        "Change for test data "
      ]
    },
    {
      "cell_type": "code",
      "metadata": {
        "id": "-T1to2BSrRd-"
      },
      "source": [
        "Loan_test['Dependents'].replace('3+',3,inplace=True)\n",
        "#Loan_test['Loan_Status'].replace('N',0, inplace=True)\n",
        "#Loan_test['Loan_Status'].replace('Y',1,inplace=True)"
      ],
      "execution_count": 44,
      "outputs": []
    },
    {
      "cell_type": "code",
      "metadata": {
        "colab": {
          "base_uri": "https://localhost:8080/"
        },
        "id": "5Qm1gFdordRB",
        "outputId": "3196a0c9-8810-47c4-aa48-617f1bdabb94"
      },
      "source": [
        "Loan_test.dtypes"
      ],
      "execution_count": 45,
      "outputs": [
        {
          "output_type": "execute_result",
          "data": {
            "text/plain": [
              "Loan_ID                object\n",
              "Gender                 object\n",
              "Married                object\n",
              "Dependents             object\n",
              "Education              object\n",
              "Self_Employed          object\n",
              "ApplicantIncome         int64\n",
              "CoapplicantIncome       int64\n",
              "LoanAmount            float64\n",
              "Loan_Amount_Term      float64\n",
              "Credit_History        float64\n",
              "Property_Area          object\n",
              "Income_bin           category\n",
              "ca_Income_bin        category\n",
              "LA_bin               category\n",
              "dtype: object"
            ]
          },
          "metadata": {},
          "execution_count": 45
        }
      ]
    },
    {
      "cell_type": "markdown",
      "metadata": {
        "id": "bbnCo8d0dUBZ"
      },
      "source": [
        "# Outlier Treatment"
      ]
    },
    {
      "cell_type": "code",
      "metadata": {
        "colab": {
          "base_uri": "https://localhost:8080/",
          "height": 282
        },
        "id": "deIktMU_t489",
        "outputId": "27b554a8-3903-42e3-86ce-3114d5f037e3"
      },
      "source": [
        "Loan_train['LoanAmount'].plot.hist()"
      ],
      "execution_count": 46,
      "outputs": [
        {
          "output_type": "execute_result",
          "data": {
            "text/plain": [
              "<matplotlib.axes._subplots.AxesSubplot at 0x7f49a7cdb150>"
            ]
          },
          "metadata": {},
          "execution_count": 46
        },
        {
          "output_type": "display_data",
          "data": {
            "image/png": "[encoded data removed]",
            "text/plain": [
              "<Figure size 432x288 with 1 Axes>"
            ]
          },
          "metadata": {}
        }
      ]
    },
    {
      "cell_type": "code",
      "metadata": {
        "colab": {
          "base_uri": "https://localhost:8080/"
        },
        "id": "_Y7VfH7Ddszw",
        "outputId": "76769e80-9042-4f46-efaa-0d2d739443eb"
      },
      "source": [
        "# IQR\n",
        "Q1 = np.percentile(Loan_train['LoanAmount'], 25,\n",
        "                   interpolation = 'midpoint')\n",
        "print(Q1) \n",
        "Q3 = np.percentile(Loan_train['LoanAmount'], 75,\n",
        "                   interpolation = 'midpoint')\n",
        "print(Q3)\n",
        "IQR = Q3 - Q1\n",
        "print(IQR)"
      ],
      "execution_count": 47,
      "outputs": [
        {
          "output_type": "stream",
          "name": "stdout",
          "text": [
            "100.5\n",
            "164.5\n",
            "64.0\n"
          ]
        }
      ]
    },
    {
      "cell_type": "markdown",
      "metadata": {
        "id": "rpytgGTUMxb5"
      },
      "source": [
        "loan amount distribution seems like skewed, lets do log transformation to make it as normal distribution"
      ]
    },
    {
      "cell_type": "code",
      "metadata": {
        "colab": {
          "base_uri": "https://localhost:8080/",
          "height": 282
        },
        "id": "PGTlhvV0N0ft",
        "outputId": "a573b0b1-5a6c-49fd-a243-f4cc7670b2e9"
      },
      "source": [
        "Loan_train['LoanAmount_log']=np.log(Loan_train['LoanAmount'])\n",
        "Loan_train['LoanAmount_log'].hist(bins=20)"
      ],
      "execution_count": 48,
      "outputs": [
        {
          "output_type": "execute_result",
          "data": {
            "text/plain": [
              "<matplotlib.axes._subplots.AxesSubplot at 0x7f49a7cafd50>"
            ]
          },
          "metadata": {},
          "execution_count": 48
        },
        {
          "output_type": "display_data",
          "data": {
            "image/png": "[encoded data removed]",
            "text/plain": [
              "<Figure size 432x288 with 1 Axes>"
            ]
          },
          "metadata": {}
        }
      ]
    },
    {
      "cell_type": "code",
      "metadata": {
        "colab": {
          "base_uri": "https://localhost:8080/"
        },
        "id": "s-GJBlitgdfc",
        "outputId": "cdcceb32-63b8-400c-f9a5-8add4fc3bd6a"
      },
      "source": [
        "# IQR\n",
        "Q1 = np.percentile(Loan_train['LoanAmount_log'], 25,\n",
        "                   interpolation = 'midpoint')\n",
        "print(Q1) \n",
        "Q3 = np.percentile(Loan_train['LoanAmount_log'], 75,\n",
        "                   interpolation = 'midpoint')\n",
        "print(Q3)\n",
        "IQR = Q3 - Q1\n",
        "print(IQR)"
      ],
      "execution_count": 49,
      "outputs": [
        {
          "output_type": "stream",
          "name": "stdout",
          "text": [
            "4.610145351414676\n",
            "5.1029059508623895\n",
            "0.49276059944771333\n"
          ]
        }
      ]
    },
    {
      "cell_type": "code",
      "metadata": {
        "id": "Wla1w02mQZns"
      },
      "source": [
        "Loan_train_cpy=Loan_train.copy()"
      ],
      "execution_count": 50,
      "outputs": []
    },
    {
      "cell_type": "markdown",
      "metadata": {
        "id": "eA0rYkaq4EK_"
      },
      "source": [
        "Dropping unwanted columns"
      ]
    },
    {
      "cell_type": "code",
      "metadata": {
        "id": "OwwhTc7eO9tf"
      },
      "source": [
        "Loan_train_cpy.drop(columns=['LoanAmount','Loan_ID', 'Gender', 'Married'],inplace=True)"
      ],
      "execution_count": 51,
      "outputs": []
    },
    {
      "cell_type": "markdown",
      "metadata": {
        "id": "CiKeD1q-zYcX"
      },
      "source": [
        "Test data log transformation"
      ]
    },
    {
      "cell_type": "code",
      "metadata": {
        "colab": {
          "base_uri": "https://localhost:8080/",
          "height": 282
        },
        "id": "Kp_lzvm4zcwX",
        "outputId": "4b774c6f-f233-4537-9311-72c2605801d0"
      },
      "source": [
        "Loan_test['LoanAmount'].plot.hist()"
      ],
      "execution_count": 52,
      "outputs": [
        {
          "output_type": "execute_result",
          "data": {
            "text/plain": [
              "<matplotlib.axes._subplots.AxesSubplot at 0x7f49a80a8410>"
            ]
          },
          "metadata": {},
          "execution_count": 52
        },
        {
          "output_type": "display_data",
          "data": {
            "image/png": "[encoded data removed]",
            "text/plain": [
              "<Figure size 432x288 with 1 Axes>"
            ]
          },
          "metadata": {}
        }
      ]
    },
    {
      "cell_type": "code",
      "metadata": {
        "colab": {
          "base_uri": "https://localhost:8080/",
          "height": 282
        },
        "id": "Umv2rOrozdVJ",
        "outputId": "80bc2aa4-e3c6-4915-ad3b-6fa41069c2c1"
      },
      "source": [
        "Loan_test['LoanAmount_log']=np.log(Loan_test['LoanAmount'])\n",
        "Loan_test['LoanAmount_log'].hist(bins=20)"
      ],
      "execution_count": 53,
      "outputs": [
        {
          "output_type": "execute_result",
          "data": {
            "text/plain": [
              "<matplotlib.axes._subplots.AxesSubplot at 0x7f49a7b570d0>"
            ]
          },
          "metadata": {},
          "execution_count": 53
        },
        {
          "output_type": "display_data",
          "data": {
            "image/png": "[encoded data removed]",
            "text/plain": [
              "<Figure size 432x288 with 1 Axes>"
            ]
          },
          "metadata": {}
        }
      ]
    },
    {
      "cell_type": "code",
      "metadata": {
        "id": "m4E7XpuI0kDb"
      },
      "source": [
        "Loan_test_cpy=Loan_test.copy()"
      ],
      "execution_count": 54,
      "outputs": []
    },
    {
      "cell_type": "code",
      "metadata": {
        "id": "5lapy54l0kDc"
      },
      "source": [
        "Loan_test_cpy.drop(columns=['LoanAmount','Loan_ID', 'Gender', 'Married'],inplace=True)"
      ],
      "execution_count": 55,
      "outputs": []
    },
    {
      "cell_type": "code",
      "metadata": {
        "colab": {
          "base_uri": "https://localhost:8080/"
        },
        "id": "wLAC53ig2kXv",
        "outputId": "56a9fb15-8373-4a0f-b36c-42875a27b092"
      },
      "source": [
        "Loan_test_cpy.dtypes"
      ],
      "execution_count": 56,
      "outputs": [
        {
          "output_type": "execute_result",
          "data": {
            "text/plain": [
              "Dependents             object\n",
              "Education              object\n",
              "Self_Employed          object\n",
              "ApplicantIncome         int64\n",
              "CoapplicantIncome       int64\n",
              "Loan_Amount_Term      float64\n",
              "Credit_History        float64\n",
              "Property_Area          object\n",
              "Income_bin           category\n",
              "ca_Income_bin        category\n",
              "LA_bin               category\n",
              "LoanAmount_log        float64\n",
              "dtype: object"
            ]
          },
          "metadata": {},
          "execution_count": 56
        }
      ]
    },
    {
      "cell_type": "markdown",
      "metadata": {
        "id": "VHcFJSID0r6e"
      },
      "source": [
        "Get_dummies for train"
      ]
    },
    {
      "cell_type": "code",
      "metadata": {
        "id": "KnOqQ0tbO9p5"
      },
      "source": [
        "Loan_train_cpy=pd.get_dummies(Loan_train_cpy)\n",
        "#Loan_data=pd.get_dummies(Loan_data)"
      ],
      "execution_count": 57,
      "outputs": []
    },
    {
      "cell_type": "code",
      "metadata": {
        "colab": {
          "base_uri": "https://localhost:8080/",
          "height": 461
        },
        "id": "bgSJzTfM37Is",
        "outputId": "303e8c44-6d3a-4ff7-bf73-29c73e4d7d56"
      },
      "source": [
        "Loan_train_cpy"
      ],
      "execution_count": 58,
      "outputs": [
        {
          "output_type": "execute_result",
          "data": {
            "text/html": [
              "<div>\n",
              "<style scoped>\n",
              "    .dataframe tbody tr th:only-of-type {\n",
              "        vertical-align: middle;\n",
              "    }\n",
              "\n",
              "    .dataframe tbody tr th {\n",
              "        vertical-align: top;\n",
              "    }\n",
              "\n",
              "    .dataframe thead th {\n",
              "        text-align: right;\n",
              "    }\n",
              "</style>\n",
              "<table border=\"1\" class=\"dataframe\">\n",
              "  <thead>\n",
              "    <tr style=\"text-align: right;\">\n",
              "      <th></th>\n",
              "      <th>ApplicantIncome</th>\n",
              "      <th>CoapplicantIncome</th>\n",
              "      <th>Loan_Amount_Term</th>\n",
              "      <th>Credit_History</th>\n",
              "      <th>Loan_Status</th>\n",
              "      <th>LoanAmount_log</th>\n",
              "      <th>Dependents_3</th>\n",
              "      <th>Dependents_0</th>\n",
              "      <th>Dependents_1</th>\n",
              "      <th>Dependents_2</th>\n",
              "      <th>Education_Graduate</th>\n",
              "      <th>Education_Not Graduate</th>\n",
              "      <th>Self_Employed_No</th>\n",
              "      <th>Self_Employed_Yes</th>\n",
              "      <th>Property_Area_Rural</th>\n",
              "      <th>Property_Area_Semiurban</th>\n",
              "      <th>Property_Area_Urban</th>\n",
              "      <th>Income_bin_Low</th>\n",
              "      <th>Income_bin_Average</th>\n",
              "      <th>Income_bin_High</th>\n",
              "      <th>Income_bin_Very high</th>\n",
              "      <th>ca_Income_bin_Low</th>\n",
              "      <th>ca_Income_bin_Average</th>\n",
              "      <th>ca_Income_bin_High</th>\n",
              "      <th>ca_Income_bin_Very high</th>\n",
              "      <th>LA_bin_Low</th>\n",
              "      <th>LA_bin_Average</th>\n",
              "      <th>LA_bin_High</th>\n",
              "      <th>LA_bin_Very high</th>\n",
              "    </tr>\n",
              "  </thead>\n",
              "  <tbody>\n",
              "    <tr>\n",
              "      <th>0</th>\n",
              "      <td>5849</td>\n",
              "      <td>0.0</td>\n",
              "      <td>360.0</td>\n",
              "      <td>1.0</td>\n",
              "      <td>1</td>\n",
              "      <td>4.852030</td>\n",
              "      <td>0</td>\n",
              "      <td>1</td>\n",
              "      <td>0</td>\n",
              "      <td>0</td>\n",
              "      <td>1</td>\n",
              "      <td>0</td>\n",
              "      <td>1</td>\n",
              "      <td>0</td>\n",
              "      <td>0</td>\n",
              "      <td>0</td>\n",
              "      <td>1</td>\n",
              "      <td>0</td>\n",
              "      <td>0</td>\n",
              "      <td>1</td>\n",
              "      <td>0</td>\n",
              "      <td>0</td>\n",
              "      <td>0</td>\n",
              "      <td>0</td>\n",
              "      <td>0</td>\n",
              "      <td>0</td>\n",
              "      <td>0</td>\n",
              "      <td>0</td>\n",
              "      <td>0</td>\n",
              "    </tr>\n",
              "    <tr>\n",
              "      <th>1</th>\n",
              "      <td>4583</td>\n",
              "      <td>1508.0</td>\n",
              "      <td>360.0</td>\n",
              "      <td>1.0</td>\n",
              "      <td>0</td>\n",
              "      <td>4.852030</td>\n",
              "      <td>0</td>\n",
              "      <td>0</td>\n",
              "      <td>1</td>\n",
              "      <td>0</td>\n",
              "      <td>1</td>\n",
              "      <td>0</td>\n",
              "      <td>1</td>\n",
              "      <td>0</td>\n",
              "      <td>1</td>\n",
              "      <td>0</td>\n",
              "      <td>0</td>\n",
              "      <td>0</td>\n",
              "      <td>0</td>\n",
              "      <td>1</td>\n",
              "      <td>0</td>\n",
              "      <td>1</td>\n",
              "      <td>0</td>\n",
              "      <td>0</td>\n",
              "      <td>0</td>\n",
              "      <td>1</td>\n",
              "      <td>0</td>\n",
              "      <td>0</td>\n",
              "      <td>0</td>\n",
              "    </tr>\n",
              "    <tr>\n",
              "      <th>2</th>\n",
              "      <td>3000</td>\n",
              "      <td>0.0</td>\n",
              "      <td>360.0</td>\n",
              "      <td>1.0</td>\n",
              "      <td>1</td>\n",
              "      <td>4.189655</td>\n",
              "      <td>0</td>\n",
              "      <td>1</td>\n",
              "      <td>0</td>\n",
              "      <td>0</td>\n",
              "      <td>1</td>\n",
              "      <td>0</td>\n",
              "      <td>0</td>\n",
              "      <td>1</td>\n",
              "      <td>0</td>\n",
              "      <td>0</td>\n",
              "      <td>1</td>\n",
              "      <td>0</td>\n",
              "      <td>1</td>\n",
              "      <td>0</td>\n",
              "      <td>0</td>\n",
              "      <td>0</td>\n",
              "      <td>0</td>\n",
              "      <td>0</td>\n",
              "      <td>0</td>\n",
              "      <td>1</td>\n",
              "      <td>0</td>\n",
              "      <td>0</td>\n",
              "      <td>0</td>\n",
              "    </tr>\n",
              "    <tr>\n",
              "      <th>3</th>\n",
              "      <td>2583</td>\n",
              "      <td>2358.0</td>\n",
              "      <td>360.0</td>\n",
              "      <td>1.0</td>\n",
              "      <td>1</td>\n",
              "      <td>4.787492</td>\n",
              "      <td>0</td>\n",
              "      <td>1</td>\n",
              "      <td>0</td>\n",
              "      <td>0</td>\n",
              "      <td>0</td>\n",
              "      <td>1</td>\n",
              "      <td>1</td>\n",
              "      <td>0</td>\n",
              "      <td>0</td>\n",
              "      <td>0</td>\n",
              "      <td>1</td>\n",
              "      <td>0</td>\n",
              "      <td>1</td>\n",
              "      <td>0</td>\n",
              "      <td>0</td>\n",
              "      <td>1</td>\n",
              "      <td>0</td>\n",
              "      <td>0</td>\n",
              "      <td>0</td>\n",
              "      <td>1</td>\n",
              "      <td>0</td>\n",
              "      <td>0</td>\n",
              "      <td>0</td>\n",
              "    </tr>\n",
              "    <tr>\n",
              "      <th>4</th>\n",
              "      <td>6000</td>\n",
              "      <td>0.0</td>\n",
              "      <td>360.0</td>\n",
              "      <td>1.0</td>\n",
              "      <td>1</td>\n",
              "      <td>4.948760</td>\n",
              "      <td>0</td>\n",
              "      <td>1</td>\n",
              "      <td>0</td>\n",
              "      <td>0</td>\n",
              "      <td>1</td>\n",
              "      <td>0</td>\n",
              "      <td>1</td>\n",
              "      <td>0</td>\n",
              "      <td>0</td>\n",
              "      <td>0</td>\n",
              "      <td>1</td>\n",
              "      <td>0</td>\n",
              "      <td>0</td>\n",
              "      <td>1</td>\n",
              "      <td>0</td>\n",
              "      <td>0</td>\n",
              "      <td>0</td>\n",
              "      <td>0</td>\n",
              "      <td>0</td>\n",
              "      <td>1</td>\n",
              "      <td>0</td>\n",
              "      <td>0</td>\n",
              "      <td>0</td>\n",
              "    </tr>\n",
              "    <tr>\n",
              "      <th>...</th>\n",
              "      <td>...</td>\n",
              "      <td>...</td>\n",
              "      <td>...</td>\n",
              "      <td>...</td>\n",
              "      <td>...</td>\n",
              "      <td>...</td>\n",
              "      <td>...</td>\n",
              "      <td>...</td>\n",
              "      <td>...</td>\n",
              "      <td>...</td>\n",
              "      <td>...</td>\n",
              "      <td>...</td>\n",
              "      <td>...</td>\n",
              "      <td>...</td>\n",
              "      <td>...</td>\n",
              "      <td>...</td>\n",
              "      <td>...</td>\n",
              "      <td>...</td>\n",
              "      <td>...</td>\n",
              "      <td>...</td>\n",
              "      <td>...</td>\n",
              "      <td>...</td>\n",
              "      <td>...</td>\n",
              "      <td>...</td>\n",
              "      <td>...</td>\n",
              "      <td>...</td>\n",
              "      <td>...</td>\n",
              "      <td>...</td>\n",
              "      <td>...</td>\n",
              "    </tr>\n",
              "    <tr>\n",
              "      <th>609</th>\n",
              "      <td>2900</td>\n",
              "      <td>0.0</td>\n",
              "      <td>360.0</td>\n",
              "      <td>1.0</td>\n",
              "      <td>1</td>\n",
              "      <td>4.262680</td>\n",
              "      <td>0</td>\n",
              "      <td>1</td>\n",
              "      <td>0</td>\n",
              "      <td>0</td>\n",
              "      <td>1</td>\n",
              "      <td>0</td>\n",
              "      <td>1</td>\n",
              "      <td>0</td>\n",
              "      <td>1</td>\n",
              "      <td>0</td>\n",
              "      <td>0</td>\n",
              "      <td>0</td>\n",
              "      <td>1</td>\n",
              "      <td>0</td>\n",
              "      <td>0</td>\n",
              "      <td>0</td>\n",
              "      <td>0</td>\n",
              "      <td>0</td>\n",
              "      <td>0</td>\n",
              "      <td>1</td>\n",
              "      <td>0</td>\n",
              "      <td>0</td>\n",
              "      <td>0</td>\n",
              "    </tr>\n",
              "    <tr>\n",
              "      <th>610</th>\n",
              "      <td>4106</td>\n",
              "      <td>0.0</td>\n",
              "      <td>180.0</td>\n",
              "      <td>1.0</td>\n",
              "      <td>1</td>\n",
              "      <td>3.688879</td>\n",
              "      <td>1</td>\n",
              "      <td>0</td>\n",
              "      <td>0</td>\n",
              "      <td>0</td>\n",
              "      <td>1</td>\n",
              "      <td>0</td>\n",
              "      <td>1</td>\n",
              "      <td>0</td>\n",
              "      <td>1</td>\n",
              "      <td>0</td>\n",
              "      <td>0</td>\n",
              "      <td>0</td>\n",
              "      <td>0</td>\n",
              "      <td>1</td>\n",
              "      <td>0</td>\n",
              "      <td>0</td>\n",
              "      <td>0</td>\n",
              "      <td>0</td>\n",
              "      <td>0</td>\n",
              "      <td>1</td>\n",
              "      <td>0</td>\n",
              "      <td>0</td>\n",
              "      <td>0</td>\n",
              "    </tr>\n",
              "    <tr>\n",
              "      <th>611</th>\n",
              "      <td>8072</td>\n",
              "      <td>240.0</td>\n",
              "      <td>360.0</td>\n",
              "      <td>1.0</td>\n",
              "      <td>1</td>\n",
              "      <td>5.533389</td>\n",
              "      <td>0</td>\n",
              "      <td>0</td>\n",
              "      <td>1</td>\n",
              "      <td>0</td>\n",
              "      <td>1</td>\n",
              "      <td>0</td>\n",
              "      <td>1</td>\n",
              "      <td>0</td>\n",
              "      <td>0</td>\n",
              "      <td>0</td>\n",
              "      <td>1</td>\n",
              "      <td>0</td>\n",
              "      <td>0</td>\n",
              "      <td>0</td>\n",
              "      <td>1</td>\n",
              "      <td>0</td>\n",
              "      <td>0</td>\n",
              "      <td>0</td>\n",
              "      <td>0</td>\n",
              "      <td>0</td>\n",
              "      <td>1</td>\n",
              "      <td>0</td>\n",
              "      <td>0</td>\n",
              "    </tr>\n",
              "    <tr>\n",
              "      <th>612</th>\n",
              "      <td>7583</td>\n",
              "      <td>0.0</td>\n",
              "      <td>360.0</td>\n",
              "      <td>1.0</td>\n",
              "      <td>1</td>\n",
              "      <td>5.231109</td>\n",
              "      <td>0</td>\n",
              "      <td>0</td>\n",
              "      <td>0</td>\n",
              "      <td>1</td>\n",
              "      <td>1</td>\n",
              "      <td>0</td>\n",
              "      <td>1</td>\n",
              "      <td>0</td>\n",
              "      <td>0</td>\n",
              "      <td>0</td>\n",
              "      <td>1</td>\n",
              "      <td>0</td>\n",
              "      <td>0</td>\n",
              "      <td>0</td>\n",
              "      <td>1</td>\n",
              "      <td>0</td>\n",
              "      <td>0</td>\n",
              "      <td>0</td>\n",
              "      <td>0</td>\n",
              "      <td>1</td>\n",
              "      <td>0</td>\n",
              "      <td>0</td>\n",
              "      <td>0</td>\n",
              "    </tr>\n",
              "    <tr>\n",
              "      <th>613</th>\n",
              "      <td>4583</td>\n",
              "      <td>0.0</td>\n",
              "      <td>360.0</td>\n",
              "      <td>0.0</td>\n",
              "      <td>0</td>\n",
              "      <td>4.890349</td>\n",
              "      <td>0</td>\n",
              "      <td>1</td>\n",
              "      <td>0</td>\n",
              "      <td>0</td>\n",
              "      <td>1</td>\n",
              "      <td>0</td>\n",
              "      <td>0</td>\n",
              "      <td>1</td>\n",
              "      <td>0</td>\n",
              "      <td>1</td>\n",
              "      <td>0</td>\n",
              "      <td>0</td>\n",
              "      <td>0</td>\n",
              "      <td>1</td>\n",
              "      <td>0</td>\n",
              "      <td>0</td>\n",
              "      <td>0</td>\n",
              "      <td>0</td>\n",
              "      <td>0</td>\n",
              "      <td>1</td>\n",
              "      <td>0</td>\n",
              "      <td>0</td>\n",
              "      <td>0</td>\n",
              "    </tr>\n",
              "  </tbody>\n",
              "</table>\n",
              "<p>614 rows × 29 columns</p>\n",
              "</div>"
            ],
            "text/plain": [
              "     ApplicantIncome  CoapplicantIncome  ...  LA_bin_High  LA_bin_Very high\n",
              "0               5849                0.0  ...            0                 0\n",
              "1               4583             1508.0  ...            0                 0\n",
              "2               3000                0.0  ...            0                 0\n",
              "3               2583             2358.0  ...            0                 0\n",
              "4               6000                0.0  ...            0                 0\n",
              "..               ...                ...  ...          ...               ...\n",
              "609             2900                0.0  ...            0                 0\n",
              "610             4106                0.0  ...            0                 0\n",
              "611             8072              240.0  ...            0                 0\n",
              "612             7583                0.0  ...            0                 0\n",
              "613             4583                0.0  ...            0                 0\n",
              "\n",
              "[614 rows x 29 columns]"
            ]
          },
          "metadata": {},
          "execution_count": 58
        }
      ]
    },
    {
      "cell_type": "code",
      "metadata": {
        "id": "-j_FvT7tO9mu"
      },
      "source": [
        ""
      ],
      "execution_count": 58,
      "outputs": []
    },
    {
      "cell_type": "markdown",
      "metadata": {
        "id": "H6ng2aMxIcqY"
      },
      "source": [
        "# Model 1a- LR"
      ]
    },
    {
      "cell_type": "markdown",
      "metadata": {
        "id": "X2SMMjkK7vcu"
      },
      "source": [
        "# Split train data into X and Y"
      ]
    },
    {
      "cell_type": "code",
      "metadata": {
        "id": "QMo3LFOF8MC7"
      },
      "source": [
        "X= Loan_train_cpy.drop(columns=['Loan_Status'])"
      ],
      "execution_count": 59,
      "outputs": []
    },
    {
      "cell_type": "code",
      "metadata": {
        "id": "6sGpxGwz8yAc"
      },
      "source": [
        "Y=Loan_train_cpy['Loan_Status']"
      ],
      "execution_count": 60,
      "outputs": []
    },
    {
      "cell_type": "markdown",
      "metadata": {
        "id": "tAEDOrnFD61o"
      },
      "source": [
        "Split Train as train and validation data set"
      ]
    },
    {
      "cell_type": "code",
      "metadata": {
        "id": "iNrdT84PEDa4"
      },
      "source": [
        "from sklearn.model_selection import train_test_split\n",
        "X_Train, X_valid, Y_Train, Y_valid = train_test_split(X, Y, test_size = 0.30, random_state = 100)"
      ],
      "execution_count": 61,
      "outputs": []
    },
    {
      "cell_type": "markdown",
      "metadata": {
        "id": "10XbUj_XijID"
      },
      "source": [
        "Lets do scaling"
      ]
    },
    {
      "cell_type": "code",
      "metadata": {
        "id": "al2NWtHhik95"
      },
      "source": [
        "from sklearn.preprocessing import StandardScaler\n",
        "sc_X = StandardScaler()\n",
        "X_Train_scale = sc_X.fit_transform(X_Train)\n",
        "X_valid_scale = sc_X.transform(X_valid)"
      ],
      "execution_count": 62,
      "outputs": []
    },
    {
      "cell_type": "code",
      "metadata": {
        "id": "jaa4Pb2CO9jR"
      },
      "source": [
        "from sklearn.linear_model import LogisticRegression\n",
        "\n",
        "modelLR = LogisticRegression().fit(X_Train_scale, Y_Train)\n",
        "\n",
        "Y_valid_pred = modelLR.predict(X_valid)"
      ],
      "execution_count": 63,
      "outputs": []
    },
    {
      "cell_type": "code",
      "metadata": {
        "id": "m4i3Ng-WFbf0"
      },
      "source": [
        ""
      ],
      "execution_count": 63,
      "outputs": []
    },
    {
      "cell_type": "code",
      "metadata": {
        "id": "EG4oDcXtkGTk"
      },
      "source": [
        "y_valid_pred=pd.DataFrame(Y_valid_pred)"
      ],
      "execution_count": 64,
      "outputs": []
    },
    {
      "cell_type": "code",
      "metadata": {
        "colab": {
          "base_uri": "https://localhost:8080/"
        },
        "id": "Hxq94vS5cCOg",
        "outputId": "2933af48-43bd-4d74-e5aa-1ae762200693"
      },
      "source": [
        "y_valid_pred.value_counts()"
      ],
      "execution_count": 65,
      "outputs": [
        {
          "output_type": "execute_result",
          "data": {
            "text/plain": [
              "0    113\n",
              "1     72\n",
              "dtype: int64"
            ]
          },
          "metadata": {},
          "execution_count": 65
        }
      ]
    },
    {
      "cell_type": "code",
      "metadata": {
        "id": "WUEvD4snoti5",
        "colab": {
          "base_uri": "https://localhost:8080/"
        },
        "outputId": "9a66031a-db27-4852-8e6a-c559d04c409b"
      },
      "source": [
        "## Make the Confusion Matrix\n",
        "\n",
        "from sklearn.metrics import confusion_matrix,accuracy_score,classification_report\n",
        "cm = confusion_matrix(Y_valid, y_valid_pred)\n",
        "print(cm)\n",
        "acc_Test_LR= accuracy_score(Y_valid, y_valid_pred)\n",
        "print(acc_Test_LR)\n",
        "print(classification_report(Y_valid, y_valid_pred))"
      ],
      "execution_count": 66,
      "outputs": [
        {
          "output_type": "stream",
          "name": "stdout",
          "text": [
            "[[33 30]\n",
            " [80 42]]\n",
            "0.40540540540540543\n",
            "              precision    recall  f1-score   support\n",
            "\n",
            "           0       0.29      0.52      0.38        63\n",
            "           1       0.58      0.34      0.43       122\n",
            "\n",
            "    accuracy                           0.41       185\n",
            "   macro avg       0.44      0.43      0.40       185\n",
            "weighted avg       0.48      0.41      0.41       185\n",
            "\n"
          ]
        }
      ]
    },
    {
      "cell_type": "markdown",
      "metadata": {
        "id": "UYCyZ-eXklIm"
      },
      "source": [
        "# Model 1b- SVC "
      ]
    },
    {
      "cell_type": "code",
      "metadata": {
        "colab": {
          "base_uri": "https://localhost:8080/"
        },
        "id": "uxOoRsuFKwbG",
        "outputId": "f930e598-f79b-4039-cbf0-5b85cff7a1b7"
      },
      "source": [
        "#### Step 5 Fit SVM to the Training set Using Linear\n",
        "#### This SVC class allows us to build a kernel SVM model (linear as well as non-linear),\n",
        "\n",
        "from sklearn.svm import SVC\n",
        "classifier_svc = SVC(kernel = 'linear', random_state = 100)\n",
        "classifier_svc.fit(X_Train_scale, Y_Train)"
      ],
      "execution_count": 67,
      "outputs": [
        {
          "output_type": "execute_result",
          "data": {
            "text/plain": [
              "SVC(kernel='linear', random_state=100)"
            ]
          },
          "metadata": {},
          "execution_count": 67
        }
      ]
    },
    {
      "cell_type": "code",
      "metadata": {
        "id": "zzfs4kceKwbH"
      },
      "source": [
        "#### Predicting the test set results\n",
        "#### The classifier.fit(X_train, y_train) fit the SVM algorithm to the training set- X_train and y_train.\n",
        "#### Predict the Test Results\n",
        "\n",
        "Y_valid_Pred_svc = classifier_svc.predict(X_valid_scale)"
      ],
      "execution_count": 68,
      "outputs": []
    },
    {
      "cell_type": "code",
      "metadata": {
        "id": "b8cZwiYzKwbH"
      },
      "source": [
        "Y_valid_Pred_svc=pd.DataFrame(Y_valid_Pred_svc)"
      ],
      "execution_count": 69,
      "outputs": []
    },
    {
      "cell_type": "code",
      "metadata": {
        "colab": {
          "base_uri": "https://localhost:8080/"
        },
        "id": "sy316AQsKwbI",
        "outputId": "628bc96d-fbbc-4d75-f454-76767572495b"
      },
      "source": [
        "## Make the Confusion Matrix\n",
        "from sklearn.metrics import confusion_matrix, classification_report, plot_roc_curve,accuracy_score\n",
        "\n",
        "#from sklearn.metrics import confusion_matrix,accuracy_score\n",
        "cm_svc = confusion_matrix(Y_valid, Y_valid_Pred_svc)\n",
        "print(cm_svc)\n",
        "acc_Test_svc= accuracy_score(Y_valid, Y_valid_Pred_svc)\n",
        "print(acc_Test_svc)\n",
        "print(classification_report(Y_valid, Y_valid_Pred_svc))"
      ],
      "execution_count": 70,
      "outputs": [
        {
          "output_type": "stream",
          "name": "stdout",
          "text": [
            "[[ 26  37]\n",
            " [  4 118]]\n",
            "0.7783783783783784\n",
            "              precision    recall  f1-score   support\n",
            "\n",
            "           0       0.87      0.41      0.56        63\n",
            "           1       0.76      0.97      0.85       122\n",
            "\n",
            "    accuracy                           0.78       185\n",
            "   macro avg       0.81      0.69      0.71       185\n",
            "weighted avg       0.80      0.78      0.75       185\n",
            "\n"
          ]
        }
      ]
    },
    {
      "cell_type": "markdown",
      "metadata": {
        "id": "Ja3TMve9K7a6"
      },
      "source": [
        "# Model 2- chosing Features using Odds Ratio and Logit() function in LR model"
      ]
    },
    {
      "cell_type": "markdown",
      "metadata": {
        "id": "sPZUbjckHhIS"
      },
      "source": [
        "Improve the accuracy by chosing feature importance via Logit() "
      ]
    },
    {
      "cell_type": "code",
      "metadata": {
        "colab": {
          "base_uri": "https://localhost:8080/"
        },
        "id": "ogKsYPORK43o",
        "outputId": "8d277a6e-893e-4838-a70c-6f4bde93700e"
      },
      "source": [
        "import statsmodels.api as sm\n",
        "from statsmodels.sandbox.regression.predstd import wls_prediction_std\n",
        "model2=sm.Logit(Y,X )\n",
        "\n",
        "result2=model2.fit()\n",
        "\n",
        "print(result2.summary())"
      ],
      "execution_count": 71,
      "outputs": [
        {
          "output_type": "stream",
          "name": "stdout",
          "text": [
            "Warning: Maximum number of iterations has been exceeded.\n",
            "         Current function value: 0.439066\n",
            "         Iterations: 35\n",
            "                           Logit Regression Results                           \n",
            "==============================================================================\n",
            "Dep. Variable:            Loan_Status   No. Observations:                  614\n",
            "Model:                          Logit   Df Residuals:                      590\n",
            "Method:                           MLE   Df Model:                           23\n",
            "Date:                Wed, 01 Dec 2021   Pseudo R-squ.:                  0.2932\n",
            "Time:                        12:30:55   Log-Likelihood:                -269.59\n",
            "converged:                      False   LL-Null:                       -381.45\n",
            "Covariance Type:            nonrobust   LLR p-value:                 7.911e-35\n",
            "===========================================================================================\n",
            "                              coef    std err          z      P>|z|      [0.025      0.975]\n",
            "-------------------------------------------------------------------------------------------\n",
            "ApplicantIncome          3.282e-05   2.75e-05      1.192      0.233   -2.12e-05    8.68e-05\n",
            "CoapplicantIncome        1.839e-05      0.000      0.121      0.904      -0.000       0.000\n",
            "Loan_Amount_Term           -0.0018      0.002     -0.941      0.347      -0.006       0.002\n",
            "Credit_History              4.1089      0.436      9.435      0.000       3.255       4.962\n",
            "LoanAmount_log              0.0712      0.349      0.204      0.838      -0.614       0.756\n",
            "Dependents_3               -0.3398        nan        nan        nan         nan         nan\n",
            "Dependents_0               -0.7166        nan        nan        nan         nan         nan\n",
            "Dependents_1               -1.0503        nan        nan        nan         nan         nan\n",
            "Dependents_2               -0.1580        nan        nan        nan         nan         nan\n",
            "Education_Graduate         -1.1924        nan        nan        nan         nan         nan\n",
            "Education_Not Graduate     -1.6433        nan        nan        nan         nan         nan\n",
            "Self_Employed_No           -0.7339        nan        nan        nan         nan         nan\n",
            "Self_Employed_Yes          -0.7234        nan        nan        nan         nan         nan\n",
            "Property_Area_Rural        -1.0897        nan        nan        nan         nan         nan\n",
            "Property_Area_Semiurban    -0.0271        nan        nan        nan         nan         nan\n",
            "Property_Area_Urban        -0.6979        nan        nan        nan         nan         nan\n",
            "Income_bin_Low             -0.3643        nan        nan        nan         nan         nan\n",
            "Income_bin_Average         -0.4659        nan        nan        nan         nan         nan\n",
            "Income_bin_High            -0.6521        nan        nan        nan         nan         nan\n",
            "Income_bin_Very high       -0.6131        nan        nan        nan         nan         nan\n",
            "ca_Income_bin_Low           0.4940      0.431      1.147      0.252      -0.350       1.339\n",
            "ca_Income_bin_Average       0.4112      1.108      0.371      0.711      -1.760       2.583\n",
            "ca_Income_bin_High         -2.2778      2.912     -0.782      0.434      -7.986       3.430\n",
            "ca_Income_bin_Very high   -12.6508    159.135     -0.079      0.937    -324.550     299.248\n",
            "LA_bin_Low                  1.1086      0.519      2.137      0.033       0.092       2.125\n",
            "LA_bin_Average              0.1251      0.628      0.199      0.842      -1.105       1.355\n",
            "LA_bin_High                 0.3836      1.030      0.372      0.710      -1.635       2.402\n",
            "LA_bin_Very high           23.6716   1.57e+05      0.000      1.000   -3.07e+05    3.07e+05\n",
            "===========================================================================================\n"
          ]
        },
        {
          "output_type": "stream",
          "name": "stderr",
          "text": [
            "/usr/local/lib/python3.7/dist-packages/statsmodels/base/model.py:512: ConvergenceWarning: Maximum Likelihood optimization failed to converge. Check mle_retvals\n",
            "  \"Check mle_retvals\", ConvergenceWarning)\n"
          ]
        }
      ]
    },
    {
      "cell_type": "markdown",
      "metadata": {
        "id": "HmMZjwQ5Rpbd"
      },
      "source": [
        "### * Odds Ratio(OR) is a measure of the strength of association with an exposure and an outcome.\n",
        "\n",
        "* OR > 1 means greater odds of association with the exposure and outcome.\n",
        "\n",
        "* OR = 1 means there is no association between exposure and outcome.\n",
        "\n",
        "* OR < 1 means there is a lower odds of association between the exposure and  outcome."
      ]
    },
    {
      "cell_type": "code",
      "metadata": {
        "colab": {
          "base_uri": "https://localhost:8080/",
          "height": 927
        },
        "id": "UoFd_PIk5Zm-",
        "outputId": "bb1e7827-2723-446d-cc4f-8152ea6815b2"
      },
      "source": [
        "model_V2=LogisticRegression()\n",
        "model_V2.fit(X,Y)\n",
        "\n",
        "LogisticRegression(C=1.0, class_weight=None, dual=False, fit_intercept=True, intercept_scaling=1, max_iter=100,multi_class='ovr',n_jobs=1,penalty='12',random_state=1,solver='liblinear',tol=0.0001,verbose=0,warm_start=False)\n",
        "\n",
        "df=pd.DataFrame({'odds_ratio':(np.exp(model_V2.coef_).T).tolist(),'variable':X.columns.tolist()})\n",
        "df['odds_ratio'] = df['odds_ratio'].str.get(0)\n",
        "\n",
        "df=df.sort_values('odds_ratio', ascending=False)\n",
        "df"
      ],
      "execution_count": 72,
      "outputs": [
        {
          "output_type": "execute_result",
          "data": {
            "text/html": [
              "<div>\n",
              "<style scoped>\n",
              "    .dataframe tbody tr th:only-of-type {\n",
              "        vertical-align: middle;\n",
              "    }\n",
              "\n",
              "    .dataframe tbody tr th {\n",
              "        vertical-align: top;\n",
              "    }\n",
              "\n",
              "    .dataframe thead th {\n",
              "        text-align: right;\n",
              "    }\n",
              "</style>\n",
              "<table border=\"1\" class=\"dataframe\">\n",
              "  <thead>\n",
              "    <tr style=\"text-align: right;\">\n",
              "      <th></th>\n",
              "      <th>odds_ratio</th>\n",
              "      <th>variable</th>\n",
              "    </tr>\n",
              "  </thead>\n",
              "  <tbody>\n",
              "    <tr>\n",
              "      <th>3</th>\n",
              "      <td>20.465674</td>\n",
              "      <td>Credit_History</td>\n",
              "    </tr>\n",
              "    <tr>\n",
              "      <th>14</th>\n",
              "      <td>2.100394</td>\n",
              "      <td>Property_Area_Semiurban</td>\n",
              "    </tr>\n",
              "    <tr>\n",
              "      <th>24</th>\n",
              "      <td>1.685493</td>\n",
              "      <td>LA_bin_Low</td>\n",
              "    </tr>\n",
              "    <tr>\n",
              "      <th>20</th>\n",
              "      <td>1.600944</td>\n",
              "      <td>ca_Income_bin_Low</td>\n",
              "    </tr>\n",
              "    <tr>\n",
              "      <th>9</th>\n",
              "      <td>1.464296</td>\n",
              "      <td>Education_Graduate</td>\n",
              "    </tr>\n",
              "    <tr>\n",
              "      <th>8</th>\n",
              "      <td>1.452207</td>\n",
              "      <td>Dependents_2</td>\n",
              "    </tr>\n",
              "    <tr>\n",
              "      <th>21</th>\n",
              "      <td>1.187276</td>\n",
              "      <td>ca_Income_bin_Average</td>\n",
              "    </tr>\n",
              "    <tr>\n",
              "      <th>16</th>\n",
              "      <td>1.180063</td>\n",
              "      <td>Income_bin_Low</td>\n",
              "    </tr>\n",
              "    <tr>\n",
              "      <th>17</th>\n",
              "      <td>1.048929</td>\n",
              "      <td>Income_bin_Average</td>\n",
              "    </tr>\n",
              "    <tr>\n",
              "      <th>27</th>\n",
              "      <td>1.045534</td>\n",
              "      <td>LA_bin_Very high</td>\n",
              "    </tr>\n",
              "    <tr>\n",
              "      <th>12</th>\n",
              "      <td>1.038090</td>\n",
              "      <td>Self_Employed_Yes</td>\n",
              "    </tr>\n",
              "    <tr>\n",
              "      <th>6</th>\n",
              "      <td>1.001254</td>\n",
              "      <td>Dependents_0</td>\n",
              "    </tr>\n",
              "    <tr>\n",
              "      <th>0</th>\n",
              "      <td>1.000041</td>\n",
              "      <td>ApplicantIncome</td>\n",
              "    </tr>\n",
              "    <tr>\n",
              "      <th>1</th>\n",
              "      <td>0.999947</td>\n",
              "      <td>CoapplicantIncome</td>\n",
              "    </tr>\n",
              "    <tr>\n",
              "      <th>2</th>\n",
              "      <td>0.997039</td>\n",
              "      <td>Loan_Amount_Term</td>\n",
              "    </tr>\n",
              "    <tr>\n",
              "      <th>26</th>\n",
              "      <td>0.979499</td>\n",
              "      <td>LA_bin_High</td>\n",
              "    </tr>\n",
              "    <tr>\n",
              "      <th>11</th>\n",
              "      <td>0.964341</td>\n",
              "      <td>Self_Employed_No</td>\n",
              "    </tr>\n",
              "    <tr>\n",
              "      <th>23</th>\n",
              "      <td>0.962805</td>\n",
              "      <td>ca_Income_bin_Very high</td>\n",
              "    </tr>\n",
              "    <tr>\n",
              "      <th>18</th>\n",
              "      <td>0.939136</td>\n",
              "      <td>Income_bin_High</td>\n",
              "    </tr>\n",
              "    <tr>\n",
              "      <th>22</th>\n",
              "      <td>0.935152</td>\n",
              "      <td>ca_Income_bin_High</td>\n",
              "    </tr>\n",
              "    <tr>\n",
              "      <th>5</th>\n",
              "      <td>0.925418</td>\n",
              "      <td>Dependents_3</td>\n",
              "    </tr>\n",
              "    <tr>\n",
              "      <th>19</th>\n",
              "      <td>0.861163</td>\n",
              "      <td>Income_bin_Very high</td>\n",
              "    </tr>\n",
              "    <tr>\n",
              "      <th>15</th>\n",
              "      <td>0.803095</td>\n",
              "      <td>Property_Area_Urban</td>\n",
              "    </tr>\n",
              "    <tr>\n",
              "      <th>7</th>\n",
              "      <td>0.743969</td>\n",
              "      <td>Dependents_1</td>\n",
              "    </tr>\n",
              "    <tr>\n",
              "      <th>25</th>\n",
              "      <td>0.732679</td>\n",
              "      <td>LA_bin_Average</td>\n",
              "    </tr>\n",
              "    <tr>\n",
              "      <th>4</th>\n",
              "      <td>0.713364</td>\n",
              "      <td>LoanAmount_log</td>\n",
              "    </tr>\n",
              "    <tr>\n",
              "      <th>10</th>\n",
              "      <td>0.683655</td>\n",
              "      <td>Education_Not Graduate</td>\n",
              "    </tr>\n",
              "    <tr>\n",
              "      <th>13</th>\n",
              "      <td>0.593469</td>\n",
              "      <td>Property_Area_Rural</td>\n",
              "    </tr>\n",
              "  </tbody>\n",
              "</table>\n",
              "</div>"
            ],
            "text/plain": [
              "    odds_ratio                 variable\n",
              "3    20.465674           Credit_History\n",
              "14    2.100394  Property_Area_Semiurban\n",
              "24    1.685493               LA_bin_Low\n",
              "20    1.600944        ca_Income_bin_Low\n",
              "9     1.464296       Education_Graduate\n",
              "8     1.452207             Dependents_2\n",
              "21    1.187276    ca_Income_bin_Average\n",
              "16    1.180063           Income_bin_Low\n",
              "17    1.048929       Income_bin_Average\n",
              "27    1.045534         LA_bin_Very high\n",
              "12    1.038090        Self_Employed_Yes\n",
              "6     1.001254             Dependents_0\n",
              "0     1.000041          ApplicantIncome\n",
              "1     0.999947        CoapplicantIncome\n",
              "2     0.997039         Loan_Amount_Term\n",
              "26    0.979499              LA_bin_High\n",
              "11    0.964341         Self_Employed_No\n",
              "23    0.962805  ca_Income_bin_Very high\n",
              "18    0.939136          Income_bin_High\n",
              "22    0.935152       ca_Income_bin_High\n",
              "5     0.925418             Dependents_3\n",
              "19    0.861163     Income_bin_Very high\n",
              "15    0.803095      Property_Area_Urban\n",
              "7     0.743969             Dependents_1\n",
              "25    0.732679           LA_bin_Average\n",
              "4     0.713364           LoanAmount_log\n",
              "10    0.683655   Education_Not Graduate\n",
              "13    0.593469      Property_Area_Rural"
            ]
          },
          "metadata": {},
          "execution_count": 72
        }
      ]
    },
    {
      "cell_type": "markdown",
      "metadata": {
        "id": "f6Z1N5mmWxIZ"
      },
      "source": [
        "### Choose features Credit_History, Property , Loan amount, and coapplicant income  "
      ]
    },
    {
      "cell_type": "code",
      "metadata": {
        "colab": {
          "base_uri": "https://localhost:8080/"
        },
        "id": "Knb_p8uIyoAg",
        "outputId": "78bfb535-293f-48e4-d25f-367dcffd4a57"
      },
      "source": [
        "Loan_train.columns"
      ],
      "execution_count": 73,
      "outputs": [
        {
          "output_type": "execute_result",
          "data": {
            "text/plain": [
              "Index(['Loan_ID', 'Gender', 'Married', 'Dependents', 'Education',\n",
              "       'Self_Employed', 'ApplicantIncome', 'CoapplicantIncome', 'LoanAmount',\n",
              "       'Loan_Amount_Term', 'Credit_History', 'Property_Area', 'Loan_Status',\n",
              "       'Income_bin', 'ca_Income_bin', 'LA_bin', 'LoanAmount_log'],\n",
              "      dtype='object')"
            ]
          },
          "metadata": {},
          "execution_count": 73
        }
      ]
    },
    {
      "cell_type": "code",
      "metadata": {
        "id": "boQXK1Z7WsIz"
      },
      "source": [
        "Loan_model2 = Loan_train.filter(['Credit_History', 'CoapplicantIncome','LoanAmount','Property_Area'], axis=1)\n",
        "Loan_model2=pd.get_dummies(Loan_model2)"
      ],
      "execution_count": 74,
      "outputs": []
    },
    {
      "cell_type": "code",
      "metadata": {
        "colab": {
          "base_uri": "https://localhost:8080/",
          "height": 238
        },
        "id": "IAv6_QuQzefr",
        "outputId": "de0c087e-0486-4035-b89e-595d518cd720"
      },
      "source": [
        "model2 = LogisticRegression()\n",
        "model2.fit(Loan_model2,Y)\n",
        "\n",
        "LogisticRegression(C=1.0, class_weight=None, dual=False, fit_intercept=True, intercept_scaling=1, max_iter=100,multi_class='ovr',n_jobs=1,penalty='12',random_state=1,solver='liblinear',tol=0.0001,verbose=0,warm_start=False)\n",
        "\n",
        "df2=pd.DataFrame({'odds_ratio':(np.exp(model2.coef_).T).tolist(),'variable':Loan_model2.columns.tolist()})\n",
        "df2['odds_ratio'] = df2['odds_ratio'].str.get(0)\n",
        "\n",
        "df2=df2.sort_values('odds_ratio', ascending=False)\n",
        "df2"
      ],
      "execution_count": 75,
      "outputs": [
        {
          "output_type": "execute_result",
          "data": {
            "text/html": [
              "<div>\n",
              "<style scoped>\n",
              "    .dataframe tbody tr th:only-of-type {\n",
              "        vertical-align: middle;\n",
              "    }\n",
              "\n",
              "    .dataframe tbody tr th {\n",
              "        vertical-align: top;\n",
              "    }\n",
              "\n",
              "    .dataframe thead th {\n",
              "        text-align: right;\n",
              "    }\n",
              "</style>\n",
              "<table border=\"1\" class=\"dataframe\">\n",
              "  <thead>\n",
              "    <tr style=\"text-align: right;\">\n",
              "      <th></th>\n",
              "      <th>odds_ratio</th>\n",
              "      <th>variable</th>\n",
              "    </tr>\n",
              "  </thead>\n",
              "  <tbody>\n",
              "    <tr>\n",
              "      <th>0</th>\n",
              "      <td>28.325901</td>\n",
              "      <td>Credit_History</td>\n",
              "    </tr>\n",
              "    <tr>\n",
              "      <th>4</th>\n",
              "      <td>1.009555</td>\n",
              "      <td>Property_Area_Semiurban</td>\n",
              "    </tr>\n",
              "    <tr>\n",
              "      <th>1</th>\n",
              "      <td>0.999954</td>\n",
              "      <td>CoapplicantIncome</td>\n",
              "    </tr>\n",
              "    <tr>\n",
              "      <th>2</th>\n",
              "      <td>0.999267</td>\n",
              "      <td>LoanAmount</td>\n",
              "    </tr>\n",
              "    <tr>\n",
              "      <th>5</th>\n",
              "      <td>0.554733</td>\n",
              "      <td>Property_Area_Urban</td>\n",
              "    </tr>\n",
              "    <tr>\n",
              "      <th>3</th>\n",
              "      <td>0.438456</td>\n",
              "      <td>Property_Area_Rural</td>\n",
              "    </tr>\n",
              "  </tbody>\n",
              "</table>\n",
              "</div>"
            ],
            "text/plain": [
              "   odds_ratio                 variable\n",
              "0   28.325901           Credit_History\n",
              "4    1.009555  Property_Area_Semiurban\n",
              "1    0.999954        CoapplicantIncome\n",
              "2    0.999267               LoanAmount\n",
              "5    0.554733      Property_Area_Urban\n",
              "3    0.438456      Property_Area_Rural"
            ]
          },
          "metadata": {},
          "execution_count": 75
        }
      ]
    },
    {
      "cell_type": "markdown",
      "metadata": {
        "id": "BMiEXyTK0-ph"
      },
      "source": [
        "### Split train and test for LR model "
      ]
    },
    {
      "cell_type": "code",
      "metadata": {
        "colab": {
          "base_uri": "https://localhost:8080/"
        },
        "id": "yNRKLoWb0-Nu",
        "outputId": "ce696ba7-5fd0-4db2-f798-0b2f2da836f7"
      },
      "source": [
        "from sklearn.linear_model import LogisticRegression\n",
        "from sklearn import metrics\n",
        "from sklearn.model_selection import train_test_split\n",
        "X_train_m2, X_valid_m2, y_train_m2, y_valid_m2 = train_test_split(Loan_model2, Y, test_size=0.3, random_state=0)\n",
        "logreg_m2 = LogisticRegression()\n",
        "logreg_m2.fit(X_train_m2, y_train_m2)"
      ],
      "execution_count": 76,
      "outputs": [
        {
          "output_type": "execute_result",
          "data": {
            "text/plain": [
              "LogisticRegression()"
            ]
          },
          "metadata": {},
          "execution_count": 76
        }
      ]
    },
    {
      "cell_type": "code",
      "metadata": {
        "id": "oZJ14Xwc2KRj"
      },
      "source": [
        "Y_valid_pred_m2 = logreg_m2.predict(X_valid_m2)"
      ],
      "execution_count": 77,
      "outputs": []
    },
    {
      "cell_type": "code",
      "metadata": {
        "id": "cAVRGfJQ14Lx"
      },
      "source": [
        "Y_valid_pred_m2=pd.DataFrame(Y_valid_pred_m2)"
      ],
      "execution_count": 78,
      "outputs": []
    },
    {
      "cell_type": "code",
      "metadata": {
        "colab": {
          "base_uri": "https://localhost:8080/"
        },
        "id": "tHBKjOasKY-d",
        "outputId": "5fbdb7b7-9d86-4607-ccd6-ba3a0efcf76d"
      },
      "source": [
        "Y_valid_pred_m2.value_counts()"
      ],
      "execution_count": 108,
      "outputs": [
        {
          "output_type": "execute_result",
          "data": {
            "text/plain": [
              "1    306\n",
              "0     61\n",
              "dtype: int64"
            ]
          },
          "metadata": {},
          "execution_count": 108
        }
      ]
    },
    {
      "cell_type": "code",
      "metadata": {
        "colab": {
          "base_uri": "https://localhost:8080/"
        },
        "id": "FlzhVW3q14Ly",
        "outputId": "814b6ac8-c809-42a5-8618-64f4fabf8768"
      },
      "source": [
        "## Make the Confusion Matrix\n",
        "from sklearn.metrics import confusion_matrix,accuracy_score,classification_report\n",
        "cm = confusion_matrix(y_valid_m2, Y_valid_pred_m2)\n",
        "print(cm)\n",
        "acc_Test_LR= accuracy_score(y_valid_m2, Y_valid_pred_m2)\n",
        "print(acc_Test_LR)\n",
        "print(classification_report(y_valid_m2, Y_valid_pred_m2))"
      ],
      "execution_count": 79,
      "outputs": [
        {
          "output_type": "stream",
          "name": "stdout",
          "text": [
            "[[ 22  29]\n",
            " [  2 132]]\n",
            "0.8324324324324325\n",
            "              precision    recall  f1-score   support\n",
            "\n",
            "           0       0.92      0.43      0.59        51\n",
            "           1       0.82      0.99      0.89       134\n",
            "\n",
            "    accuracy                           0.83       185\n",
            "   macro avg       0.87      0.71      0.74       185\n",
            "weighted avg       0.85      0.83      0.81       185\n",
            "\n"
          ]
        }
      ]
    },
    {
      "cell_type": "markdown",
      "metadata": {
        "id": "hmES8Mie3xxb"
      },
      "source": [
        "# Model 2b- XGboost"
      ]
    },
    {
      "cell_type": "code",
      "metadata": {
        "colab": {
          "base_uri": "https://localhost:8080/"
        },
        "id": "jlTNpa8O3xIY",
        "outputId": "180a1d55-3efc-4bdf-e930-15e00ea771fc"
      },
      "source": [
        "!pip install xgboost==1.3.3"
      ],
      "execution_count": 80,
      "outputs": [
        {
          "output_type": "stream",
          "name": "stdout",
          "text": [
            "Requirement already satisfied: xgboost==1.3.3 in /usr/local/lib/python3.7/dist-packages (1.3.3)\n",
            "Requirement already satisfied: scipy in /usr/local/lib/python3.7/dist-packages (from xgboost==1.3.3) (1.4.1)\n",
            "Requirement already satisfied: numpy in /usr/local/lib/python3.7/dist-packages (from xgboost==1.3.3) (1.19.5)\n"
          ]
        }
      ]
    },
    {
      "cell_type": "code",
      "metadata": {
        "colab": {
          "base_uri": "https://localhost:8080/"
        },
        "id": "ZpPgM4c_5CZa",
        "outputId": "69c8fe4b-ec54-4645-9507-20124f38cf2b"
      },
      "source": [
        "#XGBOOST\n",
        "from xgboost import XGBClassifier\n",
        "from sklearn.model_selection import StratifiedKFold\n",
        "\n",
        "i=1 \n",
        "mean = 0\n",
        "kf = StratifiedKFold(n_splits=5,random_state=1,shuffle=True) \n",
        "for train_index,test_index in kf.split(Loan_model2,Y): \n",
        " print('\\n{} of kfold {}'.format(i,kf.n_splits)) \n",
        " xtr,xvl = Loan_model2.loc[train_index],Loan_model2.loc[test_index] \n",
        " ytr,yvl = Y[train_index],Y[test_index] \n",
        " model = XGBClassifier(n_estimators=50, max_depth=4) \n",
        " model.fit(xtr, ytr) \n",
        " pred_test = model.predict(xvl) \n",
        " score = accuracy_score(yvl,pred_test) \n",
        " mean += score\n",
        " print ('accuracy_score',score)\n"
      ],
      "execution_count": 81,
      "outputs": [
        {
          "output_type": "stream",
          "name": "stdout",
          "text": [
            "\n",
            "1 of kfold 5\n",
            "[12:30:59] WARNING: ../src/learner.cc:1061: Starting in XGBoost 1.3.0, the default evaluation metric used with the objective 'binary:logistic' was changed from 'error' to 'logloss'. Explicitly set eval_metric if you'd like to restore the old behavior.\n",
            "accuracy_score 0.7804878048780488\n",
            "\n",
            "1 of kfold 5\n",
            "[12:30:59] WARNING: ../src/learner.cc:1061: Starting in XGBoost 1.3.0, the default evaluation metric used with the objective 'binary:logistic' was changed from 'error' to 'logloss'. Explicitly set eval_metric if you'd like to restore the old behavior.\n",
            "accuracy_score 0.7886178861788617\n",
            "\n",
            "1 of kfold 5\n",
            "[12:30:59] WARNING: ../src/learner.cc:1061: Starting in XGBoost 1.3.0, the default evaluation metric used with the objective 'binary:logistic' was changed from 'error' to 'logloss'. Explicitly set eval_metric if you'd like to restore the old behavior.\n",
            "accuracy_score 0.7886178861788617\n",
            "\n",
            "1 of kfold 5\n",
            "[12:30:59] WARNING: ../src/learner.cc:1061: Starting in XGBoost 1.3.0, the default evaluation metric used with the objective 'binary:logistic' was changed from 'error' to 'logloss'. Explicitly set eval_metric if you'd like to restore the old behavior.\n",
            "accuracy_score 0.7804878048780488\n",
            "\n",
            "1 of kfold 5\n",
            "[12:30:59] WARNING: ../src/learner.cc:1061: Starting in XGBoost 1.3.0, the default evaluation metric used with the objective 'binary:logistic' was changed from 'error' to 'logloss'. Explicitly set eval_metric if you'd like to restore the old behavior.\n",
            "accuracy_score 0.7622950819672131\n"
          ]
        }
      ]
    },
    {
      "cell_type": "markdown",
      "metadata": {
        "id": "Raly5Qa973Xf"
      },
      "source": [
        "# Model 2c- SVC"
      ]
    },
    {
      "cell_type": "code",
      "metadata": {
        "colab": {
          "base_uri": "https://localhost:8080/"
        },
        "id": "t3GTGqbN-RQy",
        "outputId": "e3444f2f-df68-452c-a3af-400c5dd308e2"
      },
      "source": [
        "X_train_m2.shape"
      ],
      "execution_count": 88,
      "outputs": [
        {
          "output_type": "execute_result",
          "data": {
            "text/plain": [
              "(429, 6)"
            ]
          },
          "metadata": {},
          "execution_count": 88
        }
      ]
    },
    {
      "cell_type": "code",
      "metadata": {
        "colab": {
          "base_uri": "https://localhost:8080/"
        },
        "id": "Q5PdOGRi-T-k",
        "outputId": "0409bb79-ce2f-4aac-e4b8-f637ac9d73c5"
      },
      "source": [
        "y_train_m2.shape"
      ],
      "execution_count": 87,
      "outputs": [
        {
          "output_type": "execute_result",
          "data": {
            "text/plain": [
              "(429,)"
            ]
          },
          "metadata": {},
          "execution_count": 87
        }
      ]
    },
    {
      "cell_type": "code",
      "metadata": {
        "colab": {
          "base_uri": "https://localhost:8080/"
        },
        "id": "PimGrohb77Ya",
        "outputId": "bcbad413-1570-492b-ac27-c772303903e5"
      },
      "source": [
        "from sklearn.svm import SVC\n",
        "classifier_svc = SVC(kernel = 'rbf', random_state = 10)\n",
        "classifier_svc.fit(X_train_m2, y_train_m2)\n",
        "#X_train_m2, X_valid_m2, y_train_m2, y_valid_m2"
      ],
      "execution_count": 89,
      "outputs": [
        {
          "output_type": "execute_result",
          "data": {
            "text/plain": [
              "SVC(random_state=10)"
            ]
          },
          "metadata": {},
          "execution_count": 89
        }
      ]
    },
    {
      "cell_type": "code",
      "metadata": {
        "id": "krJ1azKY77Yb"
      },
      "source": [
        "#### Predicting the test set results\n",
        "#### The classifier.fit(X_train, y_train) fit the SVM algorithm to the training set- X_train and y_train.\n",
        "#### Predict the Test Results\n",
        "\n",
        "Y_valid_Pred_svc_m2 = classifier_svc.predict(X_valid_m2)"
      ],
      "execution_count": 90,
      "outputs": []
    },
    {
      "cell_type": "code",
      "metadata": {
        "id": "IMpjZZKd77Yc"
      },
      "source": [
        "Y_valid_Pred_svc_m2=pd.DataFrame(Y_valid_Pred_svc)"
      ],
      "execution_count": 91,
      "outputs": []
    },
    {
      "cell_type": "code",
      "metadata": {
        "colab": {
          "base_uri": "https://localhost:8080/"
        },
        "id": "cVXozpCm77Yc",
        "outputId": "da5e32ea-2af1-4d07-c9d1-b5b05f6841d9"
      },
      "source": [
        "## Make the Confusion Matrix\n",
        "from sklearn.metrics import confusion_matrix, classification_report, plot_roc_curve,accuracy_score\n",
        "\n",
        "#from sklearn.metrics import confusion_matrix,accuracy_score\n",
        "cm_svc = confusion_matrix(y_valid_m2, Y_valid_Pred_svc_m2)\n",
        "print(cm_svc)\n",
        "acc_Test_svc= accuracy_score(y_valid_m2, Y_valid_Pred_svc_m2)\n",
        "print(acc_Test_svc)\n",
        "print(classification_report(y_valid_m2, Y_valid_Pred_svc_m2))"
      ],
      "execution_count": 92,
      "outputs": [
        {
          "output_type": "stream",
          "name": "stdout",
          "text": [
            "[[  5  46]\n",
            " [ 25 109]]\n",
            "0.6162162162162163\n",
            "              precision    recall  f1-score   support\n",
            "\n",
            "           0       0.17      0.10      0.12        51\n",
            "           1       0.70      0.81      0.75       134\n",
            "\n",
            "    accuracy                           0.62       185\n",
            "   macro avg       0.43      0.46      0.44       185\n",
            "weighted avg       0.56      0.62      0.58       185\n",
            "\n"
          ]
        }
      ]
    },
    {
      "cell_type": "markdown",
      "metadata": {
        "id": "if_aqtNR_NpU"
      },
      "source": [
        "### LR model is better than SVC. so lets predict out real test data by using our model 2a using LR model"
      ]
    },
    {
      "cell_type": "code",
      "metadata": {
        "colab": {
          "base_uri": "https://localhost:8080/"
        },
        "id": "Z0Xf6Mit_bpk",
        "outputId": "84f35ce7-183c-4cec-b6cc-1e40ed7fbef2"
      },
      "source": [
        "Loan_model2.columns"
      ],
      "execution_count": 93,
      "outputs": [
        {
          "output_type": "execute_result",
          "data": {
            "text/plain": [
              "Index(['Credit_History', 'CoapplicantIncome', 'LoanAmount',\n",
              "       'Property_Area_Rural', 'Property_Area_Semiurban',\n",
              "       'Property_Area_Urban'],\n",
              "      dtype='object')"
            ]
          },
          "metadata": {},
          "execution_count": 93
        }
      ]
    },
    {
      "cell_type": "markdown",
      "metadata": {
        "id": "a4K5AAjz_xX-"
      },
      "source": [
        "Lets do feature selection and getdummies for test data set too"
      ]
    },
    {
      "cell_type": "code",
      "metadata": {
        "colab": {
          "base_uri": "https://localhost:8080/"
        },
        "id": "JS5aqqI_BT6s",
        "outputId": "d02a0096-9f81-4e7c-d588-ba8648956ef7"
      },
      "source": [
        "Loan_test.shape"
      ],
      "execution_count": 109,
      "outputs": [
        {
          "output_type": "execute_result",
          "data": {
            "text/plain": [
              "(367, 16)"
            ]
          },
          "metadata": {},
          "execution_count": 109
        }
      ]
    },
    {
      "cell_type": "code",
      "metadata": {
        "id": "eSFk38IBI1lc"
      },
      "source": [
        ""
      ],
      "execution_count": null,
      "outputs": []
    },
    {
      "cell_type": "code",
      "metadata": {
        "id": "2NUjh2QCI1rs"
      },
      "source": [
        "Loan_model2_test = Loan_test.filter(['Credit_History', 'CoapplicantIncome','LoanAmount','Property_Area'], axis=1)\n",
        "Loan_model2_test=pd.get_dummies(Loan_model2_test)"
      ],
      "execution_count": 110,
      "outputs": []
    },
    {
      "cell_type": "code",
      "metadata": {
        "id": "4Bzb12rpI1rt"
      },
      "source": [
        "Y_valid_pred_m2_test = logreg_m2.predict(Loan_model2_test)"
      ],
      "execution_count": 111,
      "outputs": []
    },
    {
      "cell_type": "code",
      "metadata": {
        "id": "EbEnGA7tI1rt"
      },
      "source": [
        "Y_valid_pred_m2_test=pd.DataFrame(Y_valid_pred_m2_test)"
      ],
      "execution_count": 112,
      "outputs": []
    },
    {
      "cell_type": "code",
      "metadata": {
        "colab": {
          "base_uri": "https://localhost:8080/"
        },
        "id": "i3p11o4gKBGe",
        "outputId": "babce3d7-0f18-4330-bac9-b451a7035da4"
      },
      "source": [
        "Y_valid_pred_m2_test.value_counts()"
      ],
      "execution_count": 113,
      "outputs": [
        {
          "output_type": "execute_result",
          "data": {
            "text/plain": [
              "1    306\n",
              "0     61\n",
              "dtype: int64"
            ]
          },
          "metadata": {},
          "execution_count": 113
        }
      ]
    },
    {
      "cell_type": "code",
      "metadata": {
        "colab": {
          "base_uri": "https://localhost:8080/",
          "height": 423
        },
        "id": "DBclrQbwJ2eX",
        "outputId": "44682cfd-6c2e-4b08-d335-88b4cc95d318"
      },
      "source": [
        "Y_valid_pred_m2_test"
      ],
      "execution_count": 100,
      "outputs": [
        {
          "output_type": "execute_result",
          "data": {
            "text/html": [
              "<div>\n",
              "<style scoped>\n",
              "    .dataframe tbody tr th:only-of-type {\n",
              "        vertical-align: middle;\n",
              "    }\n",
              "\n",
              "    .dataframe tbody tr th {\n",
              "        vertical-align: top;\n",
              "    }\n",
              "\n",
              "    .dataframe thead th {\n",
              "        text-align: right;\n",
              "    }\n",
              "</style>\n",
              "<table border=\"1\" class=\"dataframe\">\n",
              "  <thead>\n",
              "    <tr style=\"text-align: right;\">\n",
              "      <th></th>\n",
              "      <th>0</th>\n",
              "    </tr>\n",
              "  </thead>\n",
              "  <tbody>\n",
              "    <tr>\n",
              "      <th>0</th>\n",
              "      <td>1</td>\n",
              "    </tr>\n",
              "    <tr>\n",
              "      <th>1</th>\n",
              "      <td>1</td>\n",
              "    </tr>\n",
              "    <tr>\n",
              "      <th>2</th>\n",
              "      <td>1</td>\n",
              "    </tr>\n",
              "    <tr>\n",
              "      <th>3</th>\n",
              "      <td>1</td>\n",
              "    </tr>\n",
              "    <tr>\n",
              "      <th>4</th>\n",
              "      <td>1</td>\n",
              "    </tr>\n",
              "    <tr>\n",
              "      <th>...</th>\n",
              "      <td>...</td>\n",
              "    </tr>\n",
              "    <tr>\n",
              "      <th>362</th>\n",
              "      <td>1</td>\n",
              "    </tr>\n",
              "    <tr>\n",
              "      <th>363</th>\n",
              "      <td>1</td>\n",
              "    </tr>\n",
              "    <tr>\n",
              "      <th>364</th>\n",
              "      <td>1</td>\n",
              "    </tr>\n",
              "    <tr>\n",
              "      <th>365</th>\n",
              "      <td>1</td>\n",
              "    </tr>\n",
              "    <tr>\n",
              "      <th>366</th>\n",
              "      <td>1</td>\n",
              "    </tr>\n",
              "  </tbody>\n",
              "</table>\n",
              "<p>367 rows × 1 columns</p>\n",
              "</div>"
            ],
            "text/plain": [
              "     0\n",
              "0    1\n",
              "1    1\n",
              "2    1\n",
              "3    1\n",
              "4    1\n",
              "..  ..\n",
              "362  1\n",
              "363  1\n",
              "364  1\n",
              "365  1\n",
              "366  1\n",
              "\n",
              "[367 rows x 1 columns]"
            ]
          },
          "metadata": {},
          "execution_count": 100
        }
      ]
    },
    {
      "cell_type": "code",
      "metadata": {
        "id": "ZIleaOcTOY7_"
      },
      "source": [
        "submission=pd.DataFrame()"
      ],
      "execution_count": 117,
      "outputs": []
    },
    {
      "cell_type": "code",
      "metadata": {
        "colab": {
          "base_uri": "https://localhost:8080/"
        },
        "id": "g9QW06rzN4ZH",
        "outputId": "1d65ce03-44d3-4de4-caf6-4416cf407d5f"
      },
      "source": [
        "submission['Loan_Status']=Y_valid_pred_m2_test[0]\n",
        "submission['Loan_ID']=Loan_test['Loan_ID']\n",
        "submission['Loan_Status'].replace(0, 'N', inplace=True)\n",
        "submission['Loan_Status'].replace(1, 'Y', inplace=True)\n",
        "print(submission)\n"
      ],
      "execution_count": 119,
      "outputs": [
        {
          "output_type": "stream",
          "name": "stdout",
          "text": [
            "    Loan_Status   Loan_ID\n",
            "0             Y  LP001015\n",
            "1             Y  LP001022\n",
            "2             Y  LP001031\n",
            "3             Y  LP001035\n",
            "4             Y  LP001051\n",
            "..          ...       ...\n",
            "362           Y  LP002971\n",
            "363           Y  LP002975\n",
            "364           Y  LP002980\n",
            "365           Y  LP002986\n",
            "366           Y  LP002989\n",
            "\n",
            "[367 rows x 2 columns]\n"
          ]
        }
      ]
    },
    {
      "cell_type": "code",
      "metadata": {
        "id": "Dp4zDWZIOQp7"
      },
      "source": [
        "pd.DataFrame(submission, columns=['Loan_ID','Loan_Status']).to_csv('LoanPrediction_Hakathon_submission.csv')"
      ],
      "execution_count": 122,
      "outputs": []
    }
  ]
}