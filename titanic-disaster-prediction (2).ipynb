{
 "cells": [
  {
   "cell_type": "code",
   "execution_count": 1,
   "id": "1dd5b8df",
   "metadata": {
    "_cell_guid": "b1076dfc-b9ad-4769-8c92-a6c4dae69d19",
    "_uuid": "8f2839f25d086af736a60e9eeb907d3b93b6e0e5",
    "execution": {
     "iopub.execute_input": "2021-07-26T19:02:03.469461Z",
     "iopub.status.busy": "2021-07-26T19:02:03.468242Z",
     "iopub.status.idle": "2021-07-26T19:02:03.474121Z",
     "shell.execute_reply": "2021-07-26T19:02:03.474627Z",
     "shell.execute_reply.started": "2021-07-26T18:25:31.807258Z"
    },
    "papermill": {
     "duration": 0.112304,
     "end_time": "2021-07-26T19:02:03.475048",
     "exception": false,
     "start_time": "2021-07-26T19:02:03.362744",
     "status": "completed"
    },
    "tags": []
   },
   "outputs": [
    {
     "name": "stdout",
     "output_type": "stream",
     "text": [
      "/kaggle/input/titanic/train.csv\n",
      "/kaggle/input/titanic/test.csv\n",
      "/kaggle/input/titanic/gender_submission.csv\n"
     ]
    }
   ],
   "source": [
    "# This Python 3 environment comes with many helpful analytics libraries installed\n",
    "# It is defined by the kaggle/python Docker image: https://github.com/kaggle/docker-python\n",
    "# For example, here's several helpful packages to load\n",
    "\n",
    "import numpy as np # linear algebra\n",
    "import pandas as pd # data processing, CSV file I/O (e.g. pd.read_csv)\n",
    "\n",
    "# Input data files are available in the read-only \"../input/\" directory\n",
    "# For example, running this (by clicking run or pressing Shift+Enter) will list all files under the input directory\n",
    "\n",
    "import os\n",
    "for dirname, _, filenames in os.walk('/kaggle/input'):\n",
    "    for filename in filenames:\n",
    "        print(os.path.join(dirname, filename))\n",
    "\n",
    "# You can write up to 20GB to the current directory (/kaggle/working/) that gets preserved as output when you create a version using \"Save & Run All\" \n",
    "# You can also write temporary files to /kaggle/temp/, but they won't be saved outside of the current session"
   ]
  },
  {
   "cell_type": "code",
   "execution_count": 2,
   "id": "4198d215",
   "metadata": {
    "execution": {
     "iopub.execute_input": "2021-07-26T19:02:03.664550Z",
     "iopub.status.busy": "2021-07-26T19:02:03.663336Z",
     "iopub.status.idle": "2021-07-26T19:02:06.645072Z",
     "shell.execute_reply": "2021-07-26T19:02:06.644359Z",
     "shell.execute_reply.started": "2021-07-26T18:25:31.901668Z"
    },
    "papermill": {
     "duration": 3.077295,
     "end_time": "2021-07-26T19:02:06.645262",
     "exception": false,
     "start_time": "2021-07-26T19:02:03.567967",
     "status": "completed"
    },
    "tags": []
   },
   "outputs": [],
   "source": [
    "import pandas as pd\n",
    "import matplotlib.pyplot as plt\n",
    "import numpy as np\n",
    "import seaborn as sns\n",
    "import plotly.express as px\n",
    "from datetime import datetime\n",
    "from sklearn.preprocessing import MinMaxScaler\n",
    "%matplotlib inline"
   ]
  },
  {
   "cell_type": "code",
   "execution_count": 3,
   "id": "39ae1907",
   "metadata": {
    "execution": {
     "iopub.execute_input": "2021-07-26T19:02:06.845329Z",
     "iopub.status.busy": "2021-07-26T19:02:06.844015Z",
     "iopub.status.idle": "2021-07-26T19:02:07.164802Z",
     "shell.execute_reply": "2021-07-26T19:02:07.164080Z",
     "shell.execute_reply.started": "2021-07-26T18:25:31.96671Z"
    },
    "papermill": {
     "duration": 0.423922,
     "end_time": "2021-07-26T19:02:07.164976",
     "exception": false,
     "start_time": "2021-07-26T19:02:06.741054",
     "status": "completed"
    },
    "tags": []
   },
   "outputs": [],
   "source": [
    "# machine learning\n",
    "from sklearn.linear_model import LogisticRegression\n",
    "from sklearn.svm import SVC, LinearSVC\n",
    "from sklearn.ensemble import RandomForestClassifier\n",
    "from sklearn.neighbors import KNeighborsClassifier\n",
    "from sklearn.naive_bayes import GaussianNB\n",
    "from sklearn.linear_model import Perceptron\n",
    "from sklearn.linear_model import SGDClassifier\n",
    "from sklearn.tree import DecisionTreeClassifier"
   ]
  },
  {
   "cell_type": "markdown",
   "id": "4aad1a84",
   "metadata": {
    "papermill": {
     "duration": 0.093126,
     "end_time": "2021-07-26T19:02:07.353414",
     "exception": false,
     "start_time": "2021-07-26T19:02:07.260288",
     "status": "completed"
    },
    "tags": []
   },
   "source": [
    "Steps\n",
    "\n",
    "* Data description\n",
    "* View training and testing data.\n",
    "* Data set Observation by visually Analyze, identify patterns\n",
    "* Feature engineering - finding null values , Outliers cleanse the data, onehot encoding and lable encoding.\n",
    "* Model, predict, and find accuracy score"
   ]
  },
  {
   "cell_type": "markdown",
   "id": "2d8e6e93",
   "metadata": {
    "papermill": {
     "duration": 0.093662,
     "end_time": "2021-07-26T19:02:07.544061",
     "exception": false,
     "start_time": "2021-07-26T19:02:07.450399",
     "status": "completed"
    },
    "tags": []
   },
   "source": [
    "Data Set description\n",
    "\n",
    "* survival - Survival (0 = No; 1 = Yes)\n",
    "* ticket - Ticket Number\n",
    "* class - Passenger Class (1 = 1st; 2 = 2nd; 3 = 3rd)\n",
    "* name - Name\n",
    "* sex - Sex\n",
    "* age - Age\n",
    "* sibsp - Number of Siblings/Spouses Aboard\n",
    "* parch - Number of Parents/Children Aboard\n",
    "* fare - Passenger Fare\n",
    "* cabin - Cabin\n",
    "* embarked - Port of Embarkation (C = Cherbourg; Q = Queenstown; S = Southampton)"
   ]
  },
  {
   "cell_type": "code",
   "execution_count": 4,
   "id": "6bd7804d",
   "metadata": {
    "execution": {
     "iopub.execute_input": "2021-07-26T19:02:07.740561Z",
     "iopub.status.busy": "2021-07-26T19:02:07.739860Z",
     "iopub.status.idle": "2021-07-26T19:02:07.793251Z",
     "shell.execute_reply": "2021-07-26T19:02:07.792482Z",
     "shell.execute_reply.started": "2021-07-26T18:25:32.010839Z"
    },
    "papermill": {
     "duration": 0.155265,
     "end_time": "2021-07-26T19:02:07.793423",
     "exception": false,
     "start_time": "2021-07-26T19:02:07.638158",
     "status": "completed"
    },
    "tags": []
   },
   "outputs": [
    {
     "data": {
      "text/html": [
       "<div>\n",
       "<style scoped>\n",
       "    .dataframe tbody tr th:only-of-type {\n",
       "        vertical-align: middle;\n",
       "    }\n",
       "\n",
       "    .dataframe tbody tr th {\n",
       "        vertical-align: top;\n",
       "    }\n",
       "\n",
       "    .dataframe thead th {\n",
       "        text-align: right;\n",
       "    }\n",
       "</style>\n",
       "<table border=\"1\" class=\"dataframe\">\n",
       "  <thead>\n",
       "    <tr style=\"text-align: right;\">\n",
       "      <th></th>\n",
       "      <th>PassengerId</th>\n",
       "      <th>Pclass</th>\n",
       "      <th>Name</th>\n",
       "      <th>Sex</th>\n",
       "      <th>Age</th>\n",
       "      <th>SibSp</th>\n",
       "      <th>Parch</th>\n",
       "      <th>Ticket</th>\n",
       "      <th>Fare</th>\n",
       "      <th>Cabin</th>\n",
       "      <th>Embarked</th>\n",
       "    </tr>\n",
       "  </thead>\n",
       "  <tbody>\n",
       "    <tr>\n",
       "      <th>0</th>\n",
       "      <td>892</td>\n",
       "      <td>3</td>\n",
       "      <td>Kelly, Mr. James</td>\n",
       "      <td>male</td>\n",
       "      <td>34.5</td>\n",
       "      <td>0</td>\n",
       "      <td>0</td>\n",
       "      <td>330911</td>\n",
       "      <td>7.8292</td>\n",
       "      <td>NaN</td>\n",
       "      <td>Q</td>\n",
       "    </tr>\n",
       "    <tr>\n",
       "      <th>1</th>\n",
       "      <td>893</td>\n",
       "      <td>3</td>\n",
       "      <td>Wilkes, Mrs. James (Ellen Needs)</td>\n",
       "      <td>female</td>\n",
       "      <td>47.0</td>\n",
       "      <td>1</td>\n",
       "      <td>0</td>\n",
       "      <td>363272</td>\n",
       "      <td>7.0000</td>\n",
       "      <td>NaN</td>\n",
       "      <td>S</td>\n",
       "    </tr>\n",
       "    <tr>\n",
       "      <th>2</th>\n",
       "      <td>894</td>\n",
       "      <td>2</td>\n",
       "      <td>Myles, Mr. Thomas Francis</td>\n",
       "      <td>male</td>\n",
       "      <td>62.0</td>\n",
       "      <td>0</td>\n",
       "      <td>0</td>\n",
       "      <td>240276</td>\n",
       "      <td>9.6875</td>\n",
       "      <td>NaN</td>\n",
       "      <td>Q</td>\n",
       "    </tr>\n",
       "    <tr>\n",
       "      <th>3</th>\n",
       "      <td>895</td>\n",
       "      <td>3</td>\n",
       "      <td>Wirz, Mr. Albert</td>\n",
       "      <td>male</td>\n",
       "      <td>27.0</td>\n",
       "      <td>0</td>\n",
       "      <td>0</td>\n",
       "      <td>315154</td>\n",
       "      <td>8.6625</td>\n",
       "      <td>NaN</td>\n",
       "      <td>S</td>\n",
       "    </tr>\n",
       "    <tr>\n",
       "      <th>4</th>\n",
       "      <td>896</td>\n",
       "      <td>3</td>\n",
       "      <td>Hirvonen, Mrs. Alexander (Helga E Lindqvist)</td>\n",
       "      <td>female</td>\n",
       "      <td>22.0</td>\n",
       "      <td>1</td>\n",
       "      <td>1</td>\n",
       "      <td>3101298</td>\n",
       "      <td>12.2875</td>\n",
       "      <td>NaN</td>\n",
       "      <td>S</td>\n",
       "    </tr>\n",
       "  </tbody>\n",
       "</table>\n",
       "</div>"
      ],
      "text/plain": [
       "   PassengerId  Pclass                                          Name     Sex  \\\n",
       "0          892       3                              Kelly, Mr. James    male   \n",
       "1          893       3              Wilkes, Mrs. James (Ellen Needs)  female   \n",
       "2          894       2                     Myles, Mr. Thomas Francis    male   \n",
       "3          895       3                              Wirz, Mr. Albert    male   \n",
       "4          896       3  Hirvonen, Mrs. Alexander (Helga E Lindqvist)  female   \n",
       "\n",
       "    Age  SibSp  Parch   Ticket     Fare Cabin Embarked  \n",
       "0  34.5      0      0   330911   7.8292   NaN        Q  \n",
       "1  47.0      1      0   363272   7.0000   NaN        S  \n",
       "2  62.0      0      0   240276   9.6875   NaN        Q  \n",
       "3  27.0      0      0   315154   8.6625   NaN        S  \n",
       "4  22.0      1      1  3101298  12.2875   NaN        S  "
      ]
     },
     "execution_count": 4,
     "metadata": {},
     "output_type": "execute_result"
    }
   ],
   "source": [
    "titanictest=pd.read_csv(\"../input/titanic/test.csv\")\n",
    "titanictest.head()"
   ]
  },
  {
   "cell_type": "code",
   "execution_count": 5,
   "id": "39b0734d",
   "metadata": {
    "execution": {
     "iopub.execute_input": "2021-07-26T19:02:08.001693Z",
     "iopub.status.busy": "2021-07-26T19:02:08.000575Z",
     "iopub.status.idle": "2021-07-26T19:02:08.033675Z",
     "shell.execute_reply": "2021-07-26T19:02:08.032945Z",
     "shell.execute_reply.started": "2021-07-26T18:25:32.091151Z"
    },
    "papermill": {
     "duration": 0.14329,
     "end_time": "2021-07-26T19:02:08.033849",
     "exception": false,
     "start_time": "2021-07-26T19:02:07.890559",
     "status": "completed"
    },
    "tags": []
   },
   "outputs": [
    {
     "data": {
      "text/html": [
       "<div>\n",
       "<style scoped>\n",
       "    .dataframe tbody tr th:only-of-type {\n",
       "        vertical-align: middle;\n",
       "    }\n",
       "\n",
       "    .dataframe tbody tr th {\n",
       "        vertical-align: top;\n",
       "    }\n",
       "\n",
       "    .dataframe thead th {\n",
       "        text-align: right;\n",
       "    }\n",
       "</style>\n",
       "<table border=\"1\" class=\"dataframe\">\n",
       "  <thead>\n",
       "    <tr style=\"text-align: right;\">\n",
       "      <th></th>\n",
       "      <th>PassengerId</th>\n",
       "      <th>Survived</th>\n",
       "      <th>Pclass</th>\n",
       "      <th>Name</th>\n",
       "      <th>Sex</th>\n",
       "      <th>Age</th>\n",
       "      <th>SibSp</th>\n",
       "      <th>Parch</th>\n",
       "      <th>Ticket</th>\n",
       "      <th>Fare</th>\n",
       "      <th>Cabin</th>\n",
       "      <th>Embarked</th>\n",
       "    </tr>\n",
       "  </thead>\n",
       "  <tbody>\n",
       "    <tr>\n",
       "      <th>0</th>\n",
       "      <td>1</td>\n",
       "      <td>0</td>\n",
       "      <td>3</td>\n",
       "      <td>Braund, Mr. Owen Harris</td>\n",
       "      <td>male</td>\n",
       "      <td>22.0</td>\n",
       "      <td>1</td>\n",
       "      <td>0</td>\n",
       "      <td>A/5 21171</td>\n",
       "      <td>7.2500</td>\n",
       "      <td>NaN</td>\n",
       "      <td>S</td>\n",
       "    </tr>\n",
       "    <tr>\n",
       "      <th>1</th>\n",
       "      <td>2</td>\n",
       "      <td>1</td>\n",
       "      <td>1</td>\n",
       "      <td>Cumings, Mrs. John Bradley (Florence Briggs Th...</td>\n",
       "      <td>female</td>\n",
       "      <td>38.0</td>\n",
       "      <td>1</td>\n",
       "      <td>0</td>\n",
       "      <td>PC 17599</td>\n",
       "      <td>71.2833</td>\n",
       "      <td>C85</td>\n",
       "      <td>C</td>\n",
       "    </tr>\n",
       "    <tr>\n",
       "      <th>2</th>\n",
       "      <td>3</td>\n",
       "      <td>1</td>\n",
       "      <td>3</td>\n",
       "      <td>Heikkinen, Miss. Laina</td>\n",
       "      <td>female</td>\n",
       "      <td>26.0</td>\n",
       "      <td>0</td>\n",
       "      <td>0</td>\n",
       "      <td>STON/O2. 3101282</td>\n",
       "      <td>7.9250</td>\n",
       "      <td>NaN</td>\n",
       "      <td>S</td>\n",
       "    </tr>\n",
       "    <tr>\n",
       "      <th>3</th>\n",
       "      <td>4</td>\n",
       "      <td>1</td>\n",
       "      <td>1</td>\n",
       "      <td>Futrelle, Mrs. Jacques Heath (Lily May Peel)</td>\n",
       "      <td>female</td>\n",
       "      <td>35.0</td>\n",
       "      <td>1</td>\n",
       "      <td>0</td>\n",
       "      <td>113803</td>\n",
       "      <td>53.1000</td>\n",
       "      <td>C123</td>\n",
       "      <td>S</td>\n",
       "    </tr>\n",
       "    <tr>\n",
       "      <th>4</th>\n",
       "      <td>5</td>\n",
       "      <td>0</td>\n",
       "      <td>3</td>\n",
       "      <td>Allen, Mr. William Henry</td>\n",
       "      <td>male</td>\n",
       "      <td>35.0</td>\n",
       "      <td>0</td>\n",
       "      <td>0</td>\n",
       "      <td>373450</td>\n",
       "      <td>8.0500</td>\n",
       "      <td>NaN</td>\n",
       "      <td>S</td>\n",
       "    </tr>\n",
       "  </tbody>\n",
       "</table>\n",
       "</div>"
      ],
      "text/plain": [
       "   PassengerId  Survived  Pclass  \\\n",
       "0            1         0       3   \n",
       "1            2         1       1   \n",
       "2            3         1       3   \n",
       "3            4         1       1   \n",
       "4            5         0       3   \n",
       "\n",
       "                                                Name     Sex   Age  SibSp  \\\n",
       "0                            Braund, Mr. Owen Harris    male  22.0      1   \n",
       "1  Cumings, Mrs. John Bradley (Florence Briggs Th...  female  38.0      1   \n",
       "2                             Heikkinen, Miss. Laina  female  26.0      0   \n",
       "3       Futrelle, Mrs. Jacques Heath (Lily May Peel)  female  35.0      1   \n",
       "4                           Allen, Mr. William Henry    male  35.0      0   \n",
       "\n",
       "   Parch            Ticket     Fare Cabin Embarked  \n",
       "0      0         A/5 21171   7.2500   NaN        S  \n",
       "1      0          PC 17599  71.2833   C85        C  \n",
       "2      0  STON/O2. 3101282   7.9250   NaN        S  \n",
       "3      0            113803  53.1000  C123        S  \n",
       "4      0            373450   8.0500   NaN        S  "
      ]
     },
     "execution_count": 5,
     "metadata": {},
     "output_type": "execute_result"
    }
   ],
   "source": [
    "titanictrain=pd.read_csv(\"../input/titanic/train.csv\")\n",
    "titanictrain.head()"
   ]
  },
  {
   "cell_type": "code",
   "execution_count": 6,
   "id": "b8f6a9c6",
   "metadata": {
    "execution": {
     "iopub.execute_input": "2021-07-26T19:02:08.230169Z",
     "iopub.status.busy": "2021-07-26T19:02:08.229367Z",
     "iopub.status.idle": "2021-07-26T19:02:08.254883Z",
     "shell.execute_reply": "2021-07-26T19:02:08.254152Z",
     "shell.execute_reply.started": "2021-07-26T18:25:32.176317Z"
    },
    "papermill": {
     "duration": 0.126821,
     "end_time": "2021-07-26T19:02:08.255047",
     "exception": false,
     "start_time": "2021-07-26T19:02:08.128226",
     "status": "completed"
    },
    "tags": []
   },
   "outputs": [
    {
     "name": "stdout",
     "output_type": "stream",
     "text": [
      "<class 'pandas.core.frame.DataFrame'>\n",
      "RangeIndex: 891 entries, 0 to 890\n",
      "Data columns (total 12 columns):\n",
      " #   Column       Non-Null Count  Dtype  \n",
      "---  ------       --------------  -----  \n",
      " 0   PassengerId  891 non-null    int64  \n",
      " 1   Survived     891 non-null    int64  \n",
      " 2   Pclass       891 non-null    int64  \n",
      " 3   Name         891 non-null    object \n",
      " 4   Sex          891 non-null    object \n",
      " 5   Age          714 non-null    float64\n",
      " 6   SibSp        891 non-null    int64  \n",
      " 7   Parch        891 non-null    int64  \n",
      " 8   Ticket       891 non-null    object \n",
      " 9   Fare         891 non-null    float64\n",
      " 10  Cabin        204 non-null    object \n",
      " 11  Embarked     889 non-null    object \n",
      "dtypes: float64(2), int64(5), object(5)\n",
      "memory usage: 83.7+ KB\n"
     ]
    }
   ],
   "source": [
    "titanictrain.info()"
   ]
  },
  {
   "cell_type": "markdown",
   "id": "02668de4",
   "metadata": {
    "papermill": {
     "duration": 0.098617,
     "end_time": "2021-07-26T19:02:08.448255",
     "exception": false,
     "start_time": "2021-07-26T19:02:08.349638",
     "status": "completed"
    },
    "tags": []
   },
   "source": [
    "* integer and float columns - PassengerId , Survived ,Pclass,age ,SibSp ,Parch,fare\n",
    "* Categorical columns- Survived, Sex, and Embarked.\n",
    "* Ordinal- Pclass.\n",
    "* Alphanumeric- Cabin ,Ticket"
   ]
  },
  {
   "cell_type": "code",
   "execution_count": 7,
   "id": "cdd9713b",
   "metadata": {
    "execution": {
     "iopub.execute_input": "2021-07-26T19:02:08.661217Z",
     "iopub.status.busy": "2021-07-26T19:02:08.660417Z",
     "iopub.status.idle": "2021-07-26T19:02:08.677011Z",
     "shell.execute_reply": "2021-07-26T19:02:08.676174Z",
     "shell.execute_reply.started": "2021-07-26T18:25:32.215695Z"
    },
    "papermill": {
     "duration": 0.125247,
     "end_time": "2021-07-26T19:02:08.677184",
     "exception": false,
     "start_time": "2021-07-26T19:02:08.551937",
     "status": "completed"
    },
    "tags": []
   },
   "outputs": [
    {
     "data": {
      "text/plain": [
       "PassengerId    891\n",
       "Survived         2\n",
       "Pclass           3\n",
       "Name           891\n",
       "Sex              2\n",
       "Age             88\n",
       "SibSp            7\n",
       "Parch            7\n",
       "Ticket         681\n",
       "Fare           248\n",
       "Cabin          147\n",
       "Embarked         3\n",
       "dtype: int64"
      ]
     },
     "execution_count": 7,
     "metadata": {},
     "output_type": "execute_result"
    }
   ],
   "source": [
    "titanictrain.nunique()"
   ]
  },
  {
   "cell_type": "code",
   "execution_count": 8,
   "id": "28db42a6",
   "metadata": {
    "execution": {
     "iopub.execute_input": "2021-07-26T19:02:08.883821Z",
     "iopub.status.busy": "2021-07-26T19:02:08.883100Z",
     "iopub.status.idle": "2021-07-26T19:02:08.915557Z",
     "shell.execute_reply": "2021-07-26T19:02:08.916126Z",
     "shell.execute_reply.started": "2021-07-26T18:25:32.28558Z"
    },
    "papermill": {
     "duration": 0.140498,
     "end_time": "2021-07-26T19:02:08.916376",
     "exception": false,
     "start_time": "2021-07-26T19:02:08.775878",
     "status": "completed"
    },
    "tags": []
   },
   "outputs": [
    {
     "data": {
      "text/html": [
       "<div>\n",
       "<style scoped>\n",
       "    .dataframe tbody tr th:only-of-type {\n",
       "        vertical-align: middle;\n",
       "    }\n",
       "\n",
       "    .dataframe tbody tr th {\n",
       "        vertical-align: top;\n",
       "    }\n",
       "\n",
       "    .dataframe thead th {\n",
       "        text-align: right;\n",
       "    }\n",
       "</style>\n",
       "<table border=\"1\" class=\"dataframe\">\n",
       "  <thead>\n",
       "    <tr style=\"text-align: right;\">\n",
       "      <th></th>\n",
       "      <th>PassengerId</th>\n",
       "      <th>Survived</th>\n",
       "      <th>Pclass</th>\n",
       "      <th>Age</th>\n",
       "      <th>SibSp</th>\n",
       "      <th>Parch</th>\n",
       "      <th>Fare</th>\n",
       "    </tr>\n",
       "  </thead>\n",
       "  <tbody>\n",
       "    <tr>\n",
       "      <th>count</th>\n",
       "      <td>891.000000</td>\n",
       "      <td>891.000000</td>\n",
       "      <td>891.000000</td>\n",
       "      <td>714.000000</td>\n",
       "      <td>891.000000</td>\n",
       "      <td>891.000000</td>\n",
       "      <td>891.000000</td>\n",
       "    </tr>\n",
       "    <tr>\n",
       "      <th>mean</th>\n",
       "      <td>446.000000</td>\n",
       "      <td>0.383838</td>\n",
       "      <td>2.308642</td>\n",
       "      <td>29.699118</td>\n",
       "      <td>0.523008</td>\n",
       "      <td>0.381594</td>\n",
       "      <td>32.204208</td>\n",
       "    </tr>\n",
       "    <tr>\n",
       "      <th>std</th>\n",
       "      <td>257.353842</td>\n",
       "      <td>0.486592</td>\n",
       "      <td>0.836071</td>\n",
       "      <td>14.526497</td>\n",
       "      <td>1.102743</td>\n",
       "      <td>0.806057</td>\n",
       "      <td>49.693429</td>\n",
       "    </tr>\n",
       "    <tr>\n",
       "      <th>min</th>\n",
       "      <td>1.000000</td>\n",
       "      <td>0.000000</td>\n",
       "      <td>1.000000</td>\n",
       "      <td>0.420000</td>\n",
       "      <td>0.000000</td>\n",
       "      <td>0.000000</td>\n",
       "      <td>0.000000</td>\n",
       "    </tr>\n",
       "    <tr>\n",
       "      <th>25%</th>\n",
       "      <td>223.500000</td>\n",
       "      <td>0.000000</td>\n",
       "      <td>2.000000</td>\n",
       "      <td>20.125000</td>\n",
       "      <td>0.000000</td>\n",
       "      <td>0.000000</td>\n",
       "      <td>7.910400</td>\n",
       "    </tr>\n",
       "    <tr>\n",
       "      <th>50%</th>\n",
       "      <td>446.000000</td>\n",
       "      <td>0.000000</td>\n",
       "      <td>3.000000</td>\n",
       "      <td>28.000000</td>\n",
       "      <td>0.000000</td>\n",
       "      <td>0.000000</td>\n",
       "      <td>14.454200</td>\n",
       "    </tr>\n",
       "    <tr>\n",
       "      <th>75%</th>\n",
       "      <td>668.500000</td>\n",
       "      <td>1.000000</td>\n",
       "      <td>3.000000</td>\n",
       "      <td>38.000000</td>\n",
       "      <td>1.000000</td>\n",
       "      <td>0.000000</td>\n",
       "      <td>31.000000</td>\n",
       "    </tr>\n",
       "    <tr>\n",
       "      <th>max</th>\n",
       "      <td>891.000000</td>\n",
       "      <td>1.000000</td>\n",
       "      <td>3.000000</td>\n",
       "      <td>80.000000</td>\n",
       "      <td>8.000000</td>\n",
       "      <td>6.000000</td>\n",
       "      <td>512.329200</td>\n",
       "    </tr>\n",
       "  </tbody>\n",
       "</table>\n",
       "</div>"
      ],
      "text/plain": [
       "       PassengerId    Survived      Pclass         Age       SibSp  \\\n",
       "count   891.000000  891.000000  891.000000  714.000000  891.000000   \n",
       "mean    446.000000    0.383838    2.308642   29.699118    0.523008   \n",
       "std     257.353842    0.486592    0.836071   14.526497    1.102743   \n",
       "min       1.000000    0.000000    1.000000    0.420000    0.000000   \n",
       "25%     223.500000    0.000000    2.000000   20.125000    0.000000   \n",
       "50%     446.000000    0.000000    3.000000   28.000000    0.000000   \n",
       "75%     668.500000    1.000000    3.000000   38.000000    1.000000   \n",
       "max     891.000000    1.000000    3.000000   80.000000    8.000000   \n",
       "\n",
       "            Parch        Fare  \n",
       "count  891.000000  891.000000  \n",
       "mean     0.381594   32.204208  \n",
       "std      0.806057   49.693429  \n",
       "min      0.000000    0.000000  \n",
       "25%      0.000000    7.910400  \n",
       "50%      0.000000   14.454200  \n",
       "75%      0.000000   31.000000  \n",
       "max      6.000000  512.329200  "
      ]
     },
     "execution_count": 8,
     "metadata": {},
     "output_type": "execute_result"
    }
   ],
   "source": [
    "titanictrain.describe()"
   ]
  },
  {
   "cell_type": "markdown",
   "id": "93e1f494",
   "metadata": {
    "papermill": {
     "duration": 0.09596,
     "end_time": "2021-07-26T19:02:09.114509",
     "exception": false,
     "start_time": "2021-07-26T19:02:09.018549",
     "status": "completed"
    },
    "tags": []
   },
   "source": [
    "Data set Observation"
   ]
  },
  {
   "cell_type": "code",
   "execution_count": 9,
   "id": "21b715d9",
   "metadata": {
    "execution": {
     "iopub.execute_input": "2021-07-26T19:02:09.319413Z",
     "iopub.status.busy": "2021-07-26T19:02:09.318656Z",
     "iopub.status.idle": "2021-07-26T19:02:21.407127Z",
     "shell.execute_reply": "2021-07-26T19:02:21.407650Z",
     "shell.execute_reply.started": "2021-07-26T18:25:32.321482Z"
    },
    "papermill": {
     "duration": 12.194518,
     "end_time": "2021-07-26T19:02:21.407853",
     "exception": false,
     "start_time": "2021-07-26T19:02:09.213335",
     "status": "completed"
    },
    "tags": []
   },
   "outputs": [
    {
     "data": {
      "text/plain": [
       "<seaborn.axisgrid.PairGrid at 0x7fc6a0859590>"
      ]
     },
     "execution_count": 9,
     "metadata": {},
     "output_type": "execute_result"
    },
    {
     "data": {
      "image/png": "[encoded data removed]",
      "text/plain": [
       "<Figure size 1260x1260 with 56 Axes>"
      ]
     },
     "metadata": {
      "needs_background": "light"
     },
     "output_type": "display_data"
    }
   ],
   "source": [
    "sns.pairplot(titanictrain)"
   ]
  },
  {
   "cell_type": "markdown",
   "id": "163ab350",
   "metadata": {
    "papermill": {
     "duration": 0.099761,
     "end_time": "2021-07-26T19:02:21.609294",
     "exception": false,
     "start_time": "2021-07-26T19:02:21.509533",
     "status": "completed"
    },
    "tags": []
   },
   "source": [
    "**Survived distribution**"
   ]
  },
  {
   "cell_type": "code",
   "execution_count": 10,
   "id": "5e9acfda",
   "metadata": {
    "execution": {
     "iopub.execute_input": "2021-07-26T19:02:21.843267Z",
     "iopub.status.busy": "2021-07-26T19:02:21.839819Z",
     "iopub.status.idle": "2021-07-26T19:02:22.302355Z",
     "shell.execute_reply": "2021-07-26T19:02:22.301782Z",
     "shell.execute_reply.started": "2021-07-26T18:25:42.671112Z"
    },
    "papermill": {
     "duration": 0.59129,
     "end_time": "2021-07-26T19:02:22.302522",
     "exception": false,
     "start_time": "2021-07-26T19:02:21.711232",
     "status": "completed"
    },
    "tags": []
   },
   "outputs": [
    {
     "data": {
      "text/plain": [
       "<seaborn.axisgrid.FacetGrid at 0x7fc6944ae350>"
      ]
     },
     "execution_count": 10,
     "metadata": {},
     "output_type": "execute_result"
    },
    {
     "data": {
      "image/png": "[encoded data removed]",
      "text/plain": [
       "<Figure size 432x216 with 2 Axes>"
      ]
     },
     "metadata": {
      "needs_background": "light"
     },
     "output_type": "display_data"
    }
   ],
   "source": [
    "g = sns.FacetGrid(titanictrain, col='Survived')\n",
    "g.map(plt.hist, 'Age', bins=20)"
   ]
  },
  {
   "cell_type": "markdown",
   "id": "7fd0f991",
   "metadata": {
    "papermill": {
     "duration": 0.101139,
     "end_time": "2021-07-26T19:02:22.503108",
     "exception": false,
     "start_time": "2021-07-26T19:02:22.401969",
     "status": "completed"
    },
    "tags": []
   },
   "source": [
    "kids survived rate is more "
   ]
  },
  {
   "cell_type": "markdown",
   "id": "e7519b83",
   "metadata": {
    "papermill": {
     "duration": 0.100627,
     "end_time": "2021-07-26T19:02:22.702654",
     "exception": false,
     "start_time": "2021-07-26T19:02:22.602027",
     "status": "completed"
    },
    "tags": []
   },
   "source": [
    "**AGE vs SEX on survived**"
   ]
  },
  {
   "cell_type": "code",
   "execution_count": 11,
   "id": "5a7626d7",
   "metadata": {
    "execution": {
     "iopub.execute_input": "2021-07-26T19:02:22.918110Z",
     "iopub.status.busy": "2021-07-26T19:02:22.912553Z",
     "iopub.status.idle": "2021-07-26T19:02:23.216993Z",
     "shell.execute_reply": "2021-07-26T19:02:23.215903Z",
     "shell.execute_reply.started": "2021-07-26T18:25:43.135863Z"
    },
    "papermill": {
     "duration": 0.41312,
     "end_time": "2021-07-26T19:02:23.217176",
     "exception": false,
     "start_time": "2021-07-26T19:02:22.804056",
     "status": "completed"
    },
    "tags": []
   },
   "outputs": [
    {
     "data": {
      "image/png": "[encoded data removed]",
      "text/plain": [
       "<Figure size 432x288 with 1 Axes>"
      ]
     },
     "metadata": {
      "needs_background": "light"
     },
     "output_type": "display_data"
    }
   ],
   "source": [
    "sns.barplot(x='Age',y='Sex',hue='Survived',data=titanictrain)\n",
    "plt.show()"
   ]
  },
  {
   "cell_type": "markdown",
   "id": "9edcd36c",
   "metadata": {
    "papermill": {
     "duration": 0.100817,
     "end_time": "2021-07-26T19:02:23.424234",
     "exception": false,
     "start_time": "2021-07-26T19:02:23.323417",
     "status": "completed"
    },
    "tags": []
   },
   "source": [
    "from above bar chart female within 30 yrs survived more than men"
   ]
  },
  {
   "cell_type": "code",
   "execution_count": 12,
   "id": "1dce1c9f",
   "metadata": {
    "execution": {
     "iopub.execute_input": "2021-07-26T19:02:23.634514Z",
     "iopub.status.busy": "2021-07-26T19:02:23.633558Z",
     "iopub.status.idle": "2021-07-26T19:02:24.006439Z",
     "shell.execute_reply": "2021-07-26T19:02:24.005897Z",
     "shell.execute_reply.started": "2021-07-26T18:25:43.417753Z"
    },
    "papermill": {
     "duration": 0.478713,
     "end_time": "2021-07-26T19:02:24.006601",
     "exception": false,
     "start_time": "2021-07-26T19:02:23.527888",
     "status": "completed"
    },
    "tags": []
   },
   "outputs": [
    {
     "name": "stderr",
     "output_type": "stream",
     "text": [
      "/opt/conda/lib/python3.7/site-packages/seaborn/distributions.py:2557: FutureWarning: `distplot` is a deprecated function and will be removed in a future version. Please adapt your code to use either `displot` (a figure-level function with similar flexibility) or `histplot` (an axes-level function for histograms).\n",
      "  warnings.warn(msg, FutureWarning)\n"
     ]
    },
    {
     "data": {
      "image/png": "[encoded data removed]",
      "text/plain": [
       "<Figure size 432x288 with 1 Axes>"
      ]
     },
     "metadata": {
      "needs_background": "light"
     },
     "output_type": "display_data"
    }
   ],
   "source": [
    "Agestr= titanictrain['Age']\n",
    "\n",
    "sns.distplot(Agestr)\n",
    "plt.show()"
   ]
  },
  {
   "cell_type": "markdown",
   "id": "4533851d",
   "metadata": {
    "papermill": {
     "duration": 0.107516,
     "end_time": "2021-07-26T19:02:24.219059",
     "exception": false,
     "start_time": "2021-07-26T19:02:24.111543",
     "status": "completed"
    },
    "tags": []
   },
   "source": [
    "Age Distribution is good. (normal Distribution)"
   ]
  },
  {
   "cell_type": "markdown",
   "id": "081cfcbf",
   "metadata": {
    "papermill": {
     "duration": 0.102672,
     "end_time": "2021-07-26T19:02:24.499235",
     "exception": false,
     "start_time": "2021-07-26T19:02:24.396563",
     "status": "completed"
    },
    "tags": []
   },
   "source": [
    "**Age Mean Class wise**"
   ]
  },
  {
   "cell_type": "code",
   "execution_count": 13,
   "id": "30e34a55",
   "metadata": {
    "execution": {
     "iopub.execute_input": "2021-07-26T19:02:24.723513Z",
     "iopub.status.busy": "2021-07-26T19:02:24.722771Z",
     "iopub.status.idle": "2021-07-26T19:02:24.727716Z",
     "shell.execute_reply": "2021-07-26T19:02:24.727009Z",
     "shell.execute_reply.started": "2021-07-26T18:25:43.611075Z"
    },
    "papermill": {
     "duration": 0.121042,
     "end_time": "2021-07-26T19:02:24.727902",
     "exception": false,
     "start_time": "2021-07-26T19:02:24.606860",
     "status": "completed"
    },
    "tags": []
   },
   "outputs": [
    {
     "data": {
      "text/plain": [
       "38.233440860215055"
      ]
     },
     "execution_count": 13,
     "metadata": {},
     "output_type": "execute_result"
    }
   ],
   "source": [
    "class1=titanictrain.loc[(titanictrain[\"Pclass\"]==1) & (titanictrain['Age'] >= 0) & (titanictrain['Age'] <= 80)].Age.mean()\n",
    "class1"
   ]
  },
  {
   "cell_type": "code",
   "execution_count": 14,
   "id": "c3375740",
   "metadata": {
    "execution": {
     "iopub.execute_input": "2021-07-26T19:02:24.982074Z",
     "iopub.status.busy": "2021-07-26T19:02:24.981296Z",
     "iopub.status.idle": "2021-07-26T19:02:24.985068Z",
     "shell.execute_reply": "2021-07-26T19:02:24.984382Z",
     "shell.execute_reply.started": "2021-07-26T18:25:43.62255Z"
    },
    "papermill": {
     "duration": 0.119793,
     "end_time": "2021-07-26T19:02:24.985246",
     "exception": false,
     "start_time": "2021-07-26T19:02:24.865453",
     "status": "completed"
    },
    "tags": []
   },
   "outputs": [
    {
     "data": {
      "text/plain": [
       "29.87763005780347"
      ]
     },
     "execution_count": 14,
     "metadata": {},
     "output_type": "execute_result"
    }
   ],
   "source": [
    "class2=titanictrain.loc[(titanictrain[\"Pclass\"]==2) & (titanictrain['Age'] >= 0) & (titanictrain['Age'] <= 80)].Age.mean()\n",
    "class2"
   ]
  },
  {
   "cell_type": "code",
   "execution_count": 15,
   "id": "65ee32dd",
   "metadata": {
    "execution": {
     "iopub.execute_input": "2021-07-26T19:02:25.214098Z",
     "iopub.status.busy": "2021-07-26T19:02:25.213407Z",
     "iopub.status.idle": "2021-07-26T19:02:25.218460Z",
     "shell.execute_reply": "2021-07-26T19:02:25.217724Z",
     "shell.execute_reply.started": "2021-07-26T18:25:43.635069Z"
    },
    "papermill": {
     "duration": 0.122063,
     "end_time": "2021-07-26T19:02:25.218648",
     "exception": false,
     "start_time": "2021-07-26T19:02:25.096585",
     "status": "completed"
    },
    "tags": []
   },
   "outputs": [
    {
     "data": {
      "text/plain": [
       "25.14061971830986"
      ]
     },
     "execution_count": 15,
     "metadata": {},
     "output_type": "execute_result"
    }
   ],
   "source": [
    "class3=titanictrain.loc[(titanictrain[\"Pclass\"]==3) & (titanictrain['Age'] >= 0) & (titanictrain['Age'] <= 80)].Age.mean()\n",
    "class3"
   ]
  },
  {
   "cell_type": "markdown",
   "id": "967ccec5",
   "metadata": {
    "papermill": {
     "duration": 0.111121,
     "end_time": "2021-07-26T19:02:25.434872",
     "exception": false,
     "start_time": "2021-07-26T19:02:25.323751",
     "status": "completed"
    },
    "tags": []
   },
   "source": [
    "from above we can infer that aged people prefered class 1"
   ]
  },
  {
   "cell_type": "markdown",
   "id": "773307b1",
   "metadata": {
    "papermill": {
     "duration": 0.102318,
     "end_time": "2021-07-26T19:02:25.648503",
     "exception": false,
     "start_time": "2021-07-26T19:02:25.546185",
     "status": "completed"
    },
    "tags": []
   },
   "source": [
    "**Survived vs Class**"
   ]
  },
  {
   "cell_type": "code",
   "execution_count": 16,
   "id": "f26ef313",
   "metadata": {
    "execution": {
     "iopub.execute_input": "2021-07-26T19:02:25.871369Z",
     "iopub.status.busy": "2021-07-26T19:02:25.866728Z",
     "iopub.status.idle": "2021-07-26T19:02:25.928259Z",
     "shell.execute_reply": "2021-07-26T19:02:25.928795Z",
     "shell.execute_reply.started": "2021-07-26T18:25:43.649443Z"
    },
    "papermill": {
     "duration": 0.177406,
     "end_time": "2021-07-26T19:02:25.929036",
     "exception": false,
     "start_time": "2021-07-26T19:02:25.751630",
     "status": "completed"
    },
    "tags": []
   },
   "outputs": [
    {
     "data": {
      "text/html": [
       "<div>\n",
       "<style scoped>\n",
       "    .dataframe tbody tr th:only-of-type {\n",
       "        vertical-align: middle;\n",
       "    }\n",
       "\n",
       "    .dataframe tbody tr th {\n",
       "        vertical-align: top;\n",
       "    }\n",
       "\n",
       "    .dataframe thead th {\n",
       "        text-align: right;\n",
       "    }\n",
       "</style>\n",
       "<table border=\"1\" class=\"dataframe\">\n",
       "  <thead>\n",
       "    <tr style=\"text-align: right;\">\n",
       "      <th></th>\n",
       "      <th>Pclass</th>\n",
       "      <th>1</th>\n",
       "      <th>2</th>\n",
       "      <th>3</th>\n",
       "      <th>All</th>\n",
       "    </tr>\n",
       "    <tr>\n",
       "      <th>Sex</th>\n",
       "      <th>Survived</th>\n",
       "      <th></th>\n",
       "      <th></th>\n",
       "      <th></th>\n",
       "      <th></th>\n",
       "    </tr>\n",
       "  </thead>\n",
       "  <tbody>\n",
       "    <tr>\n",
       "      <th rowspan=\"2\" valign=\"top\">female</th>\n",
       "      <th>0</th>\n",
       "      <td>3</td>\n",
       "      <td>6</td>\n",
       "      <td>72</td>\n",
       "      <td>81</td>\n",
       "    </tr>\n",
       "    <tr>\n",
       "      <th>1</th>\n",
       "      <td>91</td>\n",
       "      <td>70</td>\n",
       "      <td>72</td>\n",
       "      <td>233</td>\n",
       "    </tr>\n",
       "    <tr>\n",
       "      <th rowspan=\"2\" valign=\"top\">male</th>\n",
       "      <th>0</th>\n",
       "      <td>77</td>\n",
       "      <td>91</td>\n",
       "      <td>300</td>\n",
       "      <td>468</td>\n",
       "    </tr>\n",
       "    <tr>\n",
       "      <th>1</th>\n",
       "      <td>45</td>\n",
       "      <td>17</td>\n",
       "      <td>47</td>\n",
       "      <td>109</td>\n",
       "    </tr>\n",
       "    <tr>\n",
       "      <th>All</th>\n",
       "      <th></th>\n",
       "      <td>216</td>\n",
       "      <td>184</td>\n",
       "      <td>491</td>\n",
       "      <td>891</td>\n",
       "    </tr>\n",
       "  </tbody>\n",
       "</table>\n",
       "</div>"
      ],
      "text/plain": [
       "Pclass             1    2    3  All\n",
       "Sex    Survived                    \n",
       "female 0           3    6   72   81\n",
       "       1          91   70   72  233\n",
       "male   0          77   91  300  468\n",
       "       1          45   17   47  109\n",
       "All              216  184  491  891"
      ]
     },
     "execution_count": 16,
     "metadata": {},
     "output_type": "execute_result"
    }
   ],
   "source": [
    "pd.crosstab([titanictrain.Sex,titanictrain.Survived],titanictrain.Pclass,margins=True)"
   ]
  },
  {
   "cell_type": "code",
   "execution_count": 17,
   "id": "35988800",
   "metadata": {
    "execution": {
     "iopub.execute_input": "2021-07-26T19:02:26.150026Z",
     "iopub.status.busy": "2021-07-26T19:02:26.149264Z",
     "iopub.status.idle": "2021-07-26T19:02:26.165183Z",
     "shell.execute_reply": "2021-07-26T19:02:26.165720Z",
     "shell.execute_reply.started": "2021-07-26T18:25:43.698624Z"
    },
    "papermill": {
     "duration": 0.128707,
     "end_time": "2021-07-26T19:02:26.165960",
     "exception": false,
     "start_time": "2021-07-26T19:02:26.037253",
     "status": "completed"
    },
    "tags": []
   },
   "outputs": [
    {
     "data": {
      "text/html": [
       "<div>\n",
       "<style scoped>\n",
       "    .dataframe tbody tr th:only-of-type {\n",
       "        vertical-align: middle;\n",
       "    }\n",
       "\n",
       "    .dataframe tbody tr th {\n",
       "        vertical-align: top;\n",
       "    }\n",
       "\n",
       "    .dataframe thead th {\n",
       "        text-align: right;\n",
       "    }\n",
       "</style>\n",
       "<table border=\"1\" class=\"dataframe\">\n",
       "  <thead>\n",
       "    <tr style=\"text-align: right;\">\n",
       "      <th></th>\n",
       "      <th>Pclass</th>\n",
       "      <th>Survived</th>\n",
       "    </tr>\n",
       "  </thead>\n",
       "  <tbody>\n",
       "    <tr>\n",
       "      <th>0</th>\n",
       "      <td>1</td>\n",
       "      <td>0.629630</td>\n",
       "    </tr>\n",
       "    <tr>\n",
       "      <th>1</th>\n",
       "      <td>2</td>\n",
       "      <td>0.472826</td>\n",
       "    </tr>\n",
       "    <tr>\n",
       "      <th>2</th>\n",
       "      <td>3</td>\n",
       "      <td>0.242363</td>\n",
       "    </tr>\n",
       "  </tbody>\n",
       "</table>\n",
       "</div>"
      ],
      "text/plain": [
       "   Pclass  Survived\n",
       "0       1  0.629630\n",
       "1       2  0.472826\n",
       "2       3  0.242363"
      ]
     },
     "execution_count": 17,
     "metadata": {},
     "output_type": "execute_result"
    }
   ],
   "source": [
    "titanictrain[['Pclass', 'Survived']].groupby(['Pclass'], as_index=False).mean().sort_values(by='Survived', ascending=False)"
   ]
  },
  {
   "cell_type": "code",
   "execution_count": 18,
   "id": "7189dc92",
   "metadata": {
    "execution": {
     "iopub.execute_input": "2021-07-26T19:02:26.381189Z",
     "iopub.status.busy": "2021-07-26T19:02:26.380441Z",
     "iopub.status.idle": "2021-07-26T19:02:26.793594Z",
     "shell.execute_reply": "2021-07-26T19:02:26.794168Z",
     "shell.execute_reply.started": "2021-07-26T18:25:43.712615Z"
    },
    "papermill": {
     "duration": 0.524454,
     "end_time": "2021-07-26T19:02:26.794379",
     "exception": false,
     "start_time": "2021-07-26T19:02:26.269925",
     "status": "completed"
    },
    "tags": []
   },
   "outputs": [
    {
     "data": {
      "text/plain": [
       "<AxesSubplot:title={'center':'Notsurvived'}, xlabel='Pclass'>"
      ]
     },
     "execution_count": 18,
     "metadata": {},
     "output_type": "execute_result"
    },
    {
     "data": {
      "image/png": "[encoded data removed]",
      "text/plain": [
       "<Figure size 432x288 with 1 Axes>"
      ]
     },
     "metadata": {
      "needs_background": "light"
     },
     "output_type": "display_data"
    },
    {
     "data": {
      "image/png": "[encoded data removed]",
      "text/plain": [
       "<Figure size 432x288 with 1 Axes>"
      ]
     },
     "metadata": {
      "needs_background": "light"
     },
     "output_type": "display_data"
    }
   ],
   "source": [
    "df=titanictrain[titanictrain['Survived']==1]\n",
    "\n",
    "correlation=df[['Pclass','Survived']].groupby(['Pclass']).count()\n",
    "correlation.plot(kind='bar' , title = \"Survived\")\n",
    "\n",
    "df=titanictrain[titanictrain['Survived']==0]\n",
    "\n",
    "correlation=df[['Pclass','Survived']].groupby(['Pclass']).count()\n",
    "correlation.plot(kind='bar',title='Notsurvived')"
   ]
  },
  {
   "cell_type": "markdown",
   "id": "6f5b05dd",
   "metadata": {
    "papermill": {
     "duration": 0.11368,
     "end_time": "2021-07-26T19:02:27.015017",
     "exception": false,
     "start_time": "2021-07-26T19:02:26.901337",
     "status": "completed"
    },
    "tags": []
   },
   "source": [
    "Class 1 -survived rate is higher than class 2 and 3"
   ]
  },
  {
   "cell_type": "markdown",
   "id": "759d1643",
   "metadata": {
    "papermill": {
     "duration": 0.110509,
     "end_time": "2021-07-26T19:02:27.234807",
     "exception": false,
     "start_time": "2021-07-26T19:02:27.124298",
     "status": "completed"
    },
    "tags": []
   },
   "source": [
    "**Class vs Age on Survival**"
   ]
  },
  {
   "cell_type": "code",
   "execution_count": 19,
   "id": "3f76bc67",
   "metadata": {
    "execution": {
     "iopub.execute_input": "2021-07-26T19:02:27.473978Z",
     "iopub.status.busy": "2021-07-26T19:02:27.473217Z",
     "iopub.status.idle": "2021-07-26T19:02:27.478882Z",
     "shell.execute_reply": "2021-07-26T19:02:27.479403Z",
     "shell.execute_reply.started": "2021-07-26T18:25:44.045026Z"
    },
    "papermill": {
     "duration": 0.131112,
     "end_time": "2021-07-26T19:02:27.479604",
     "exception": false,
     "start_time": "2021-07-26T19:02:27.348492",
     "status": "completed"
    },
    "tags": []
   },
   "outputs": [
    {
     "data": {
      "text/html": [
       "<div>\n",
       "<style scoped>\n",
       "    .dataframe tbody tr th:only-of-type {\n",
       "        vertical-align: middle;\n",
       "    }\n",
       "\n",
       "    .dataframe tbody tr th {\n",
       "        vertical-align: top;\n",
       "    }\n",
       "\n",
       "    .dataframe thead th {\n",
       "        text-align: right;\n",
       "    }\n",
       "</style>\n",
       "<table border=\"1\" class=\"dataframe\">\n",
       "  <thead>\n",
       "    <tr style=\"text-align: right;\">\n",
       "      <th></th>\n",
       "      <th>Age</th>\n",
       "    </tr>\n",
       "    <tr>\n",
       "      <th>Survived</th>\n",
       "      <th></th>\n",
       "    </tr>\n",
       "  </thead>\n",
       "  <tbody>\n",
       "    <tr>\n",
       "      <th>0</th>\n",
       "      <td>30.626179</td>\n",
       "    </tr>\n",
       "    <tr>\n",
       "      <th>1</th>\n",
       "      <td>28.343690</td>\n",
       "    </tr>\n",
       "  </tbody>\n",
       "</table>\n",
       "</div>"
      ],
      "text/plain": [
       "                Age\n",
       "Survived           \n",
       "0         30.626179\n",
       "1         28.343690"
      ]
     },
     "execution_count": 19,
     "metadata": {},
     "output_type": "execute_result"
    }
   ],
   "source": [
    "pd.pivot_table(titanictrain, index=['Survived'], values=['Age'], aggfunc=np.mean)\n"
   ]
  },
  {
   "cell_type": "code",
   "execution_count": 20,
   "id": "a2b14341",
   "metadata": {
    "execution": {
     "iopub.execute_input": "2021-07-26T19:02:27.709103Z",
     "iopub.status.busy": "2021-07-26T19:02:27.708358Z",
     "iopub.status.idle": "2021-07-26T19:02:29.339007Z",
     "shell.execute_reply": "2021-07-26T19:02:29.338317Z",
     "shell.execute_reply.started": "2021-07-26T18:25:44.062101Z"
    },
    "papermill": {
     "duration": 1.749661,
     "end_time": "2021-07-26T19:02:29.339187",
     "exception": false,
     "start_time": "2021-07-26T19:02:27.589526",
     "status": "completed"
    },
    "tags": []
   },
   "outputs": [
    {
     "name": "stderr",
     "output_type": "stream",
     "text": [
      "/opt/conda/lib/python3.7/site-packages/seaborn/axisgrid.py:316: UserWarning: The `size` parameter has been renamed to `height`; please update your code.\n",
      "  warnings.warn(msg, UserWarning)\n"
     ]
    },
    {
     "data": {
      "image/png": "[encoded data removed]",
      "text/plain": [
       "<Figure size 514.88x475.2 with 6 Axes>"
      ]
     },
     "metadata": {
      "needs_background": "light"
     },
     "output_type": "display_data"
    }
   ],
   "source": [
    "grid = sns.FacetGrid(titanictrain, col='Survived', row='Pclass', size=2.2, aspect=1.6)\n",
    "grid.map(plt.hist, 'Age', alpha=.5, bins=20)\n",
    "grid.add_legend();"
   ]
  },
  {
   "cell_type": "markdown",
   "id": "377fec96",
   "metadata": {
    "papermill": {
     "duration": 0.108628,
     "end_time": "2021-07-26T19:02:29.560897",
     "exception": false,
     "start_time": "2021-07-26T19:02:29.452269",
     "status": "completed"
    },
    "tags": []
   },
   "source": [
    "* Pclass=3 had most passengers, however most did not survive.\n",
    "* Infant passengers in Pclass=2 and Pclass=3 mostly survived.\n"
   ]
  },
  {
   "cell_type": "code",
   "execution_count": 21,
   "id": "60f3bba7",
   "metadata": {
    "execution": {
     "iopub.execute_input": "2021-07-26T19:02:29.785256Z",
     "iopub.status.busy": "2021-07-26T19:02:29.784483Z",
     "iopub.status.idle": "2021-07-26T19:02:30.146184Z",
     "shell.execute_reply": "2021-07-26T19:02:30.145598Z",
     "shell.execute_reply.started": "2021-07-26T18:25:45.535898Z"
    },
    "papermill": {
     "duration": 0.476718,
     "end_time": "2021-07-26T19:02:30.146361",
     "exception": false,
     "start_time": "2021-07-26T19:02:29.669643",
     "status": "completed"
    },
    "tags": []
   },
   "outputs": [
    {
     "data": {
      "image/png": "[encoded data removed]",
      "text/plain": [
       "<Figure size 432x288 with 1 Axes>"
      ]
     },
     "metadata": {
      "needs_background": "light"
     },
     "output_type": "display_data"
    }
   ],
   "source": [
    "sns.barplot(x='Pclass',y='Age',hue='Sex',data=titanictrain)\n",
    "plt.show()"
   ]
  },
  {
   "cell_type": "markdown",
   "id": "622475d4",
   "metadata": {
    "papermill": {
     "duration": 0.11037,
     "end_time": "2021-07-26T19:02:30.365432",
     "exception": false,
     "start_time": "2021-07-26T19:02:30.255062",
     "status": "completed"
    },
    "tags": []
   },
   "source": [
    "Class 1,2,3 male count is more than female count"
   ]
  },
  {
   "cell_type": "markdown",
   "id": "688d5ff7",
   "metadata": {
    "papermill": {
     "duration": 0.110734,
     "end_time": "2021-07-26T19:02:30.584215",
     "exception": false,
     "start_time": "2021-07-26T19:02:30.473481",
     "status": "completed"
    },
    "tags": []
   },
   "source": [
    "**Fare vs Embarked  on survived**"
   ]
  },
  {
   "cell_type": "code",
   "execution_count": 22,
   "id": "17fd5bb5",
   "metadata": {
    "execution": {
     "iopub.execute_input": "2021-07-26T19:02:30.829589Z",
     "iopub.status.busy": "2021-07-26T19:02:30.811820Z",
     "iopub.status.idle": "2021-07-26T19:02:31.889490Z",
     "shell.execute_reply": "2021-07-26T19:02:31.890054Z",
     "shell.execute_reply.started": "2021-07-26T18:25:45.863496Z"
    },
    "papermill": {
     "duration": 1.197614,
     "end_time": "2021-07-26T19:02:31.890257",
     "exception": false,
     "start_time": "2021-07-26T19:02:30.692643",
     "status": "completed"
    },
    "tags": []
   },
   "outputs": [
    {
     "name": "stderr",
     "output_type": "stream",
     "text": [
      "/opt/conda/lib/python3.7/site-packages/seaborn/axisgrid.py:643: UserWarning: Using the barplot function without specifying `order` is likely to produce an incorrect plot.\n",
      "  warnings.warn(warning)\n"
     ]
    },
    {
     "data": {
      "text/plain": [
       "<seaborn.axisgrid.FacetGrid at 0x7fc690093a50>"
      ]
     },
     "execution_count": 22,
     "metadata": {},
     "output_type": "execute_result"
    },
    {
     "data": {
      "image/png": "[encoded data removed]",
      "text/plain": [
       "<Figure size 514.88x475.2 with 6 Axes>"
      ]
     },
     "metadata": {
      "needs_background": "light"
     },
     "output_type": "display_data"
    }
   ],
   "source": [
    "grid = sns.FacetGrid(titanictrain, row='Embarked', col='Survived', height=2.2, aspect=1.6)\n",
    "grid.map(sns.barplot, 'Sex', 'Fare', alpha=.5, ci=None)\n",
    "grid.add_legend()"
   ]
  },
  {
   "cell_type": "markdown",
   "id": "d8a5a6e2",
   "metadata": {
    "papermill": {
     "duration": 0.113824,
     "end_time": "2021-07-26T19:02:32.117108",
     "exception": false,
     "start_time": "2021-07-26T19:02:32.003284",
     "status": "completed"
    },
    "tags": []
   },
   "source": [
    "* Cherbourg Survival rate and fare paid are high\n",
    "* high paid ppl has better survival rate"
   ]
  },
  {
   "cell_type": "markdown",
   "id": "10c27cba",
   "metadata": {
    "papermill": {
     "duration": 0.112678,
     "end_time": "2021-07-26T19:02:32.347476",
     "exception": false,
     "start_time": "2021-07-26T19:02:32.234798",
     "status": "completed"
    },
    "tags": []
   },
   "source": [
    "**Embarked Vs Age vs sex( on Survival)**"
   ]
  },
  {
   "cell_type": "code",
   "execution_count": 23,
   "id": "41d64959",
   "metadata": {
    "execution": {
     "iopub.execute_input": "2021-07-26T19:02:32.581131Z",
     "iopub.status.busy": "2021-07-26T19:02:32.579893Z",
     "iopub.status.idle": "2021-07-26T19:02:33.923309Z",
     "shell.execute_reply": "2021-07-26T19:02:33.923827Z",
     "shell.execute_reply.started": "2021-07-26T18:25:46.879432Z"
    },
    "papermill": {
     "duration": 1.460546,
     "end_time": "2021-07-26T19:02:33.924024",
     "exception": false,
     "start_time": "2021-07-26T19:02:32.463478",
     "status": "completed"
    },
    "tags": []
   },
   "outputs": [
    {
     "name": "stderr",
     "output_type": "stream",
     "text": [
      "/opt/conda/lib/python3.7/site-packages/seaborn/distributions.py:2557: FutureWarning: `distplot` is a deprecated function and will be removed in a future version. Please adapt your code to use either `displot` (a figure-level function with similar flexibility) or `histplot` (an axes-level function for histograms).\n",
      "  warnings.warn(msg, FutureWarning)\n",
      "/opt/conda/lib/python3.7/site-packages/seaborn/distributions.py:2557: FutureWarning: `distplot` is a deprecated function and will be removed in a future version. Please adapt your code to use either `displot` (a figure-level function with similar flexibility) or `histplot` (an axes-level function for histograms).\n",
      "  warnings.warn(msg, FutureWarning)\n",
      "/opt/conda/lib/python3.7/site-packages/seaborn/distributions.py:2557: FutureWarning: `distplot` is a deprecated function and will be removed in a future version. Please adapt your code to use either `displot` (a figure-level function with similar flexibility) or `histplot` (an axes-level function for histograms).\n",
      "  warnings.warn(msg, FutureWarning)\n",
      "/opt/conda/lib/python3.7/site-packages/seaborn/distributions.py:2557: FutureWarning: `distplot` is a deprecated function and will be removed in a future version. Please adapt your code to use either `displot` (a figure-level function with similar flexibility) or `histplot` (an axes-level function for histograms).\n",
      "  warnings.warn(msg, FutureWarning)\n",
      "/opt/conda/lib/python3.7/site-packages/seaborn/distributions.py:2557: FutureWarning: `distplot` is a deprecated function and will be removed in a future version. Please adapt your code to use either `displot` (a figure-level function with similar flexibility) or `histplot` (an axes-level function for histograms).\n",
      "  warnings.warn(msg, FutureWarning)\n",
      "/opt/conda/lib/python3.7/site-packages/seaborn/distributions.py:2557: FutureWarning: `distplot` is a deprecated function and will be removed in a future version. Please adapt your code to use either `displot` (a figure-level function with similar flexibility) or `histplot` (an axes-level function for histograms).\n",
      "  warnings.warn(msg, FutureWarning)\n"
     ]
    },
    {
     "data": {
      "text/plain": [
       "<seaborn.axisgrid.FacetGrid at 0x7fc67daa37d0>"
      ]
     },
     "execution_count": 23,
     "metadata": {},
     "output_type": "execute_result"
    },
    {
     "data": {
      "image/png": "[encoded data removed]",
      "text/plain": [
       "<Figure size 699.875x216 with 3 Axes>"
      ]
     },
     "metadata": {
      "needs_background": "light"
     },
     "output_type": "display_data"
    }
   ],
   "source": [
    "grid = sns.FacetGrid(titanictrain, col='Embarked', hue='Survived')\n",
    "grid.map(sns.distplot, 'Age')\n",
    "grid.add_legend()"
   ]
  },
  {
   "cell_type": "markdown",
   "id": "39259141",
   "metadata": {
    "papermill": {
     "duration": 0.114142,
     "end_time": "2021-07-26T19:02:34.155291",
     "exception": false,
     "start_time": "2021-07-26T19:02:34.041149",
     "status": "completed"
    },
    "tags": []
   },
   "source": [
    "**Analysis On Parent child category -Parch**"
   ]
  },
  {
   "cell_type": "markdown",
   "id": "938c7ed1",
   "metadata": {
    "papermill": {
     "duration": 0.115404,
     "end_time": "2021-07-26T19:02:34.383654",
     "exception": false,
     "start_time": "2021-07-26T19:02:34.268250",
     "status": "completed"
    },
    "tags": []
   },
   "source": [
    " number of ppl who dosent have parent child relatonship onboard\n"
   ]
  },
  {
   "cell_type": "code",
   "execution_count": 24,
   "id": "c556389c",
   "metadata": {
    "execution": {
     "iopub.execute_input": "2021-07-26T19:02:34.623716Z",
     "iopub.status.busy": "2021-07-26T19:02:34.622861Z",
     "iopub.status.idle": "2021-07-26T19:02:34.627391Z",
     "shell.execute_reply": "2021-07-26T19:02:34.626750Z",
     "shell.execute_reply.started": "2021-07-26T18:25:47.82766Z"
    },
    "papermill": {
     "duration": 0.129067,
     "end_time": "2021-07-26T19:02:34.627558",
     "exception": false,
     "start_time": "2021-07-26T19:02:34.498491",
     "status": "completed"
    },
    "tags": []
   },
   "outputs": [
    {
     "name": "stdout",
     "output_type": "stream",
     "text": [
      "PassengerId    678\n",
      "Survived       678\n",
      "Pclass         678\n",
      "Name           678\n",
      "Sex            678\n",
      "Age            521\n",
      "SibSp          678\n",
      "Parch          678\n",
      "Ticket         678\n",
      "Fare           678\n",
      "Cabin          141\n",
      "Embarked       676\n",
      "dtype: int64\n"
     ]
    }
   ],
   "source": [
    "df=titanictrain[titanictrain['Parch']==0].count()\n",
    "print(df)"
   ]
  },
  {
   "cell_type": "markdown",
   "id": "faa055a5",
   "metadata": {
    "papermill": {
     "duration": 0.114409,
     "end_time": "2021-07-26T19:02:34.859039",
     "exception": false,
     "start_time": "2021-07-26T19:02:34.744630",
     "status": "completed"
    },
    "tags": []
   },
   "source": [
    "number of ppl r with parent child relatonship onboard\n"
   ]
  },
  {
   "cell_type": "code",
   "execution_count": 25,
   "id": "3939cf9c",
   "metadata": {
    "execution": {
     "iopub.execute_input": "2021-07-26T19:02:35.101836Z",
     "iopub.status.busy": "2021-07-26T19:02:35.101039Z",
     "iopub.status.idle": "2021-07-26T19:02:35.106656Z",
     "shell.execute_reply": "2021-07-26T19:02:35.105475Z",
     "shell.execute_reply.started": "2021-07-26T18:25:47.838843Z"
    },
    "papermill": {
     "duration": 0.13302,
     "end_time": "2021-07-26T19:02:35.106912",
     "exception": false,
     "start_time": "2021-07-26T19:02:34.973892",
     "status": "completed"
    },
    "tags": []
   },
   "outputs": [
    {
     "name": "stdout",
     "output_type": "stream",
     "text": [
      "PassengerId    118\n",
      "Survived       118\n",
      "Pclass         118\n",
      "Name           118\n",
      "Sex            118\n",
      "Age            110\n",
      "SibSp          118\n",
      "Parch          118\n",
      "Ticket         118\n",
      "Fare           118\n",
      "Cabin           39\n",
      "Embarked       118\n",
      "dtype: int64\n"
     ]
    }
   ],
   "source": [
    "df=titanictrain[titanictrain['Parch']==1].count()\n",
    "print(df)"
   ]
  },
  {
   "cell_type": "markdown",
   "id": "557da3bf",
   "metadata": {
    "papermill": {
     "duration": 0.114616,
     "end_time": "2021-07-26T19:02:35.336865",
     "exception": false,
     "start_time": "2021-07-26T19:02:35.222249",
     "status": "completed"
    },
    "tags": []
   },
   "source": [
    "**Parch vs survived- genderwise**"
   ]
  },
  {
   "cell_type": "code",
   "execution_count": 26,
   "id": "1c52337b",
   "metadata": {
    "execution": {
     "iopub.execute_input": "2021-07-26T19:02:35.601331Z",
     "iopub.status.busy": "2021-07-26T19:02:35.598667Z",
     "iopub.status.idle": "2021-07-26T19:02:35.772860Z",
     "shell.execute_reply": "2021-07-26T19:02:35.773741Z",
     "shell.execute_reply.started": "2021-07-26T18:25:47.850536Z"
    },
    "papermill": {
     "duration": 0.320647,
     "end_time": "2021-07-26T19:02:35.774043",
     "exception": false,
     "start_time": "2021-07-26T19:02:35.453396",
     "status": "completed"
    },
    "tags": []
   },
   "outputs": [
    {
     "data": {
      "text/plain": [
       "<Figure size 432x288 with 0 Axes>"
      ]
     },
     "metadata": {},
     "output_type": "display_data"
    },
    {
     "data": {
      "image/png": "[encoded data removed]",
      "text/plain": [
       "<Figure size 432x288 with 1 Axes>"
      ]
     },
     "metadata": {
      "needs_background": "light"
     },
     "output_type": "display_data"
    }
   ],
   "source": [
    "fig=plt.figure()\n",
    "df2=titanictrain[['Survived','Parch']].groupby(['Parch']).mean()\n",
    "\n",
    "df2.plot(kind='bar', title = \"Parch vs survived-\",color=['red','blue'])\n",
    "plt.show()"
   ]
  },
  {
   "cell_type": "code",
   "execution_count": 27,
   "id": "a0a85041",
   "metadata": {
    "execution": {
     "iopub.execute_input": "2021-07-26T19:02:36.054771Z",
     "iopub.status.busy": "2021-07-26T19:02:36.053773Z",
     "iopub.status.idle": "2021-07-26T19:02:36.058496Z",
     "shell.execute_reply": "2021-07-26T19:02:36.057944Z",
     "shell.execute_reply.started": "2021-07-26T18:25:48.028766Z"
    },
    "papermill": {
     "duration": 0.138298,
     "end_time": "2021-07-26T19:02:36.058675",
     "exception": false,
     "start_time": "2021-07-26T19:02:35.920377",
     "status": "completed"
    },
    "tags": []
   },
   "outputs": [
    {
     "data": {
      "text/html": [
       "<div>\n",
       "<style scoped>\n",
       "    .dataframe tbody tr th:only-of-type {\n",
       "        vertical-align: middle;\n",
       "    }\n",
       "\n",
       "    .dataframe tbody tr th {\n",
       "        vertical-align: top;\n",
       "    }\n",
       "\n",
       "    .dataframe thead th {\n",
       "        text-align: right;\n",
       "    }\n",
       "</style>\n",
       "<table border=\"1\" class=\"dataframe\">\n",
       "  <thead>\n",
       "    <tr style=\"text-align: right;\">\n",
       "      <th></th>\n",
       "      <th>Parch</th>\n",
       "      <th>Survived</th>\n",
       "    </tr>\n",
       "  </thead>\n",
       "  <tbody>\n",
       "    <tr>\n",
       "      <th>3</th>\n",
       "      <td>3</td>\n",
       "      <td>0.600000</td>\n",
       "    </tr>\n",
       "    <tr>\n",
       "      <th>1</th>\n",
       "      <td>1</td>\n",
       "      <td>0.550847</td>\n",
       "    </tr>\n",
       "    <tr>\n",
       "      <th>2</th>\n",
       "      <td>2</td>\n",
       "      <td>0.500000</td>\n",
       "    </tr>\n",
       "    <tr>\n",
       "      <th>0</th>\n",
       "      <td>0</td>\n",
       "      <td>0.343658</td>\n",
       "    </tr>\n",
       "    <tr>\n",
       "      <th>5</th>\n",
       "      <td>5</td>\n",
       "      <td>0.200000</td>\n",
       "    </tr>\n",
       "    <tr>\n",
       "      <th>4</th>\n",
       "      <td>4</td>\n",
       "      <td>0.000000</td>\n",
       "    </tr>\n",
       "    <tr>\n",
       "      <th>6</th>\n",
       "      <td>6</td>\n",
       "      <td>0.000000</td>\n",
       "    </tr>\n",
       "  </tbody>\n",
       "</table>\n",
       "</div>"
      ],
      "text/plain": [
       "   Parch  Survived\n",
       "3      3  0.600000\n",
       "1      1  0.550847\n",
       "2      2  0.500000\n",
       "0      0  0.343658\n",
       "5      5  0.200000\n",
       "4      4  0.000000\n",
       "6      6  0.000000"
      ]
     },
     "execution_count": 27,
     "metadata": {},
     "output_type": "execute_result"
    }
   ],
   "source": [
    "titanictrain[[\"Parch\", \"Survived\"]].groupby(['Parch'], as_index=False).mean().sort_values(by='Survived', ascending=False)"
   ]
  },
  {
   "cell_type": "markdown",
   "id": "f9335074",
   "metadata": {
    "papermill": {
     "duration": 0.115817,
     "end_time": "2021-07-26T19:02:36.294039",
     "exception": false,
     "start_time": "2021-07-26T19:02:36.178222",
     "status": "completed"
    },
    "tags": []
   },
   "source": [
    "Small Familes survival rate is high compare to Big families"
   ]
  },
  {
   "cell_type": "markdown",
   "id": "ccff71f6",
   "metadata": {
    "papermill": {
     "duration": 0.114542,
     "end_time": "2021-07-26T19:02:36.521851",
     "exception": false,
     "start_time": "2021-07-26T19:02:36.407309",
     "status": "completed"
    },
    "tags": []
   },
   "source": [
    "**passenger travelled with SibSp-Sibling n spouse Vs Survival Rate**\n"
   ]
  },
  {
   "cell_type": "code",
   "execution_count": 28,
   "id": "6e8e6fae",
   "metadata": {
    "execution": {
     "iopub.execute_input": "2021-07-26T19:02:36.767542Z",
     "iopub.status.busy": "2021-07-26T19:02:36.766722Z",
     "iopub.status.idle": "2021-07-26T19:02:36.779295Z",
     "shell.execute_reply": "2021-07-26T19:02:36.779787Z",
     "shell.execute_reply.started": "2021-07-26T18:25:48.043548Z"
    },
    "papermill": {
     "duration": 0.137588,
     "end_time": "2021-07-26T19:02:36.779996",
     "exception": false,
     "start_time": "2021-07-26T19:02:36.642408",
     "status": "completed"
    },
    "tags": []
   },
   "outputs": [
    {
     "data": {
      "text/html": [
       "<div>\n",
       "<style scoped>\n",
       "    .dataframe tbody tr th:only-of-type {\n",
       "        vertical-align: middle;\n",
       "    }\n",
       "\n",
       "    .dataframe tbody tr th {\n",
       "        vertical-align: top;\n",
       "    }\n",
       "\n",
       "    .dataframe thead th {\n",
       "        text-align: right;\n",
       "    }\n",
       "</style>\n",
       "<table border=\"1\" class=\"dataframe\">\n",
       "  <thead>\n",
       "    <tr style=\"text-align: right;\">\n",
       "      <th></th>\n",
       "      <th>SibSp</th>\n",
       "      <th>Survived</th>\n",
       "    </tr>\n",
       "  </thead>\n",
       "  <tbody>\n",
       "    <tr>\n",
       "      <th>1</th>\n",
       "      <td>1</td>\n",
       "      <td>0.535885</td>\n",
       "    </tr>\n",
       "    <tr>\n",
       "      <th>2</th>\n",
       "      <td>2</td>\n",
       "      <td>0.464286</td>\n",
       "    </tr>\n",
       "    <tr>\n",
       "      <th>0</th>\n",
       "      <td>0</td>\n",
       "      <td>0.345395</td>\n",
       "    </tr>\n",
       "    <tr>\n",
       "      <th>3</th>\n",
       "      <td>3</td>\n",
       "      <td>0.250000</td>\n",
       "    </tr>\n",
       "    <tr>\n",
       "      <th>4</th>\n",
       "      <td>4</td>\n",
       "      <td>0.166667</td>\n",
       "    </tr>\n",
       "    <tr>\n",
       "      <th>5</th>\n",
       "      <td>5</td>\n",
       "      <td>0.000000</td>\n",
       "    </tr>\n",
       "    <tr>\n",
       "      <th>6</th>\n",
       "      <td>8</td>\n",
       "      <td>0.000000</td>\n",
       "    </tr>\n",
       "  </tbody>\n",
       "</table>\n",
       "</div>"
      ],
      "text/plain": [
       "   SibSp  Survived\n",
       "1      1  0.535885\n",
       "2      2  0.464286\n",
       "0      0  0.345395\n",
       "3      3  0.250000\n",
       "4      4  0.166667\n",
       "5      5  0.000000\n",
       "6      8  0.000000"
      ]
     },
     "execution_count": 28,
     "metadata": {},
     "output_type": "execute_result"
    }
   ],
   "source": [
    "titanictrain[[\"SibSp\", \"Survived\"]].groupby(['SibSp'], as_index=False).mean().sort_values(by='Survived', ascending=False)"
   ]
  },
  {
   "cell_type": "code",
   "execution_count": 29,
   "id": "0757b230",
   "metadata": {
    "execution": {
     "iopub.execute_input": "2021-07-26T19:02:37.018317Z",
     "iopub.status.busy": "2021-07-26T19:02:37.017645Z",
     "iopub.status.idle": "2021-07-26T19:02:38.024131Z",
     "shell.execute_reply": "2021-07-26T19:02:38.023491Z",
     "shell.execute_reply.started": "2021-07-26T18:25:48.059795Z"
    },
    "papermill": {
     "duration": 1.124385,
     "end_time": "2021-07-26T19:02:38.024293",
     "exception": false,
     "start_time": "2021-07-26T19:02:36.899908",
     "status": "completed"
    },
    "tags": []
   },
   "outputs": [
    {
     "name": "stderr",
     "output_type": "stream",
     "text": [
      "/opt/conda/lib/python3.7/site-packages/seaborn/categorical.py:3714: UserWarning: The `factorplot` function has been renamed to `catplot`. The original name will be removed in a future release. Please update your code. Note that the default `kind` in `factorplot` (`'point'`) has changed `'strip'` in `catplot`.\n",
      "  warnings.warn(msg)\n",
      "/opt/conda/lib/python3.7/site-packages/seaborn/_decorators.py:43: FutureWarning: Pass the following variables as keyword args: x, y. From version 0.12, the only valid positional argument will be `data`, and passing other arguments without an explicit keyword will result in an error or misinterpretation.\n",
      "  FutureWarning\n"
     ]
    },
    {
     "data": {
      "text/plain": [
       "<seaborn.axisgrid.FacetGrid at 0x7fc67da6cc50>"
      ]
     },
     "execution_count": 29,
     "metadata": {},
     "output_type": "execute_result"
    },
    {
     "data": {
      "image/png": "[encoded data removed]",
      "text/plain": [
       "<Figure size 402.375x360 with 1 Axes>"
      ]
     },
     "metadata": {
      "needs_background": "light"
     },
     "output_type": "display_data"
    }
   ],
   "source": [
    "sns.factorplot(\"SibSp\", \"Survived\", hue=\"Pclass\", data=titanictrain)\n"
   ]
  },
  {
   "cell_type": "code",
   "execution_count": 30,
   "id": "f4518657",
   "metadata": {
    "execution": {
     "iopub.execute_input": "2021-07-26T19:02:38.296238Z",
     "iopub.status.busy": "2021-07-26T19:02:38.277143Z",
     "iopub.status.idle": "2021-07-26T19:02:38.454355Z",
     "shell.execute_reply": "2021-07-26T19:02:38.453794Z",
     "shell.execute_reply.started": "2021-07-26T18:25:49.008852Z"
    },
    "papermill": {
     "duration": 0.309063,
     "end_time": "2021-07-26T19:02:38.454535",
     "exception": false,
     "start_time": "2021-07-26T19:02:38.145472",
     "status": "completed"
    },
    "tags": []
   },
   "outputs": [
    {
     "data": {
      "text/plain": [
       "<AxesSubplot:xlabel='SibSp'>"
      ]
     },
     "execution_count": 30,
     "metadata": {},
     "output_type": "execute_result"
    },
    {
     "data": {
      "image/png": "[encoded data removed]",
      "text/plain": [
       "<Figure size 432x288 with 1 Axes>"
      ]
     },
     "metadata": {
      "needs_background": "light"
     },
     "output_type": "display_data"
    }
   ],
   "source": [
    "titanictrain.groupby('SibSp').Survived.mean().plot(kind='bar')\n"
   ]
  },
  {
   "cell_type": "markdown",
   "id": "60435be4",
   "metadata": {
    "papermill": {
     "duration": 0.121403,
     "end_time": "2021-07-26T19:02:38.696722",
     "exception": false,
     "start_time": "2021-07-26T19:02:38.575319",
     "status": "completed"
    },
    "tags": []
   },
   "source": [
    "Sibling spouse 4 survival rate is less than 1 and 2"
   ]
  },
  {
   "cell_type": "markdown",
   "id": "823a8755",
   "metadata": {
    "papermill": {
     "duration": 0.120201,
     "end_time": "2021-07-26T19:02:38.940451",
     "exception": false,
     "start_time": "2021-07-26T19:02:38.820250",
     "status": "completed"
    },
    "tags": []
   },
   "source": [
    "**Feature engineering**\n",
    "* dropping highly null values feature\n",
    "* Replacing Null values and outlier treatment\n",
    "* Creating new relevant features\n",
    "* converting Categorical features to numerical feature"
   ]
  },
  {
   "cell_type": "markdown",
   "id": "9a64944e",
   "metadata": {
    "papermill": {
     "duration": 0.117978,
     "end_time": "2021-07-26T19:02:39.179544",
     "exception": false,
     "start_time": "2021-07-26T19:02:39.061566",
     "status": "completed"
    },
    "tags": []
   },
   "source": [
    "**Null value checking**"
   ]
  },
  {
   "cell_type": "code",
   "execution_count": 31,
   "id": "664c9e8d",
   "metadata": {
    "execution": {
     "iopub.execute_input": "2021-07-26T19:02:39.429954Z",
     "iopub.status.busy": "2021-07-26T19:02:39.428860Z",
     "iopub.status.idle": "2021-07-26T19:02:39.725362Z",
     "shell.execute_reply": "2021-07-26T19:02:39.725888Z",
     "shell.execute_reply.started": "2021-07-26T18:25:49.172482Z"
    },
    "papermill": {
     "duration": 0.425311,
     "end_time": "2021-07-26T19:02:39.726110",
     "exception": false,
     "start_time": "2021-07-26T19:02:39.300799",
     "status": "completed"
    },
    "tags": []
   },
   "outputs": [
    {
     "data": {
      "text/plain": [
       "<AxesSubplot:>"
      ]
     },
     "execution_count": 31,
     "metadata": {},
     "output_type": "execute_result"
    },
    {
     "data": {
      "image/png": "[encoded data removed]",
      "text/plain": [
       "<Figure size 432x288 with 2 Axes>"
      ]
     },
     "metadata": {
      "needs_background": "light"
     },
     "output_type": "display_data"
    }
   ],
   "source": [
    "sns.heatmap(titanictrain.isnull(), yticklabels=False)\n"
   ]
  },
  {
   "cell_type": "markdown",
   "id": "0a76b0f2",
   "metadata": {
    "papermill": {
     "duration": 0.128129,
     "end_time": "2021-07-26T19:02:39.976934",
     "exception": false,
     "start_time": "2021-07-26T19:02:39.848805",
     "status": "completed"
    },
    "tags": []
   },
   "source": [
    "Cabin has more null values,ticket and passenger id also not needed, lets dropit"
   ]
  },
  {
   "cell_type": "code",
   "execution_count": 32,
   "id": "d397f215",
   "metadata": {
    "execution": {
     "iopub.execute_input": "2021-07-26T19:02:40.237449Z",
     "iopub.status.busy": "2021-07-26T19:02:40.236723Z",
     "iopub.status.idle": "2021-07-26T19:02:40.257886Z",
     "shell.execute_reply": "2021-07-26T19:02:40.257167Z",
     "shell.execute_reply.started": "2021-07-26T18:25:49.482496Z"
    },
    "papermill": {
     "duration": 0.152325,
     "end_time": "2021-07-26T19:02:40.258055",
     "exception": false,
     "start_time": "2021-07-26T19:02:40.105730",
     "status": "completed"
    },
    "tags": []
   },
   "outputs": [
    {
     "data": {
      "text/html": [
       "<div>\n",
       "<style scoped>\n",
       "    .dataframe tbody tr th:only-of-type {\n",
       "        vertical-align: middle;\n",
       "    }\n",
       "\n",
       "    .dataframe tbody tr th {\n",
       "        vertical-align: top;\n",
       "    }\n",
       "\n",
       "    .dataframe thead th {\n",
       "        text-align: right;\n",
       "    }\n",
       "</style>\n",
       "<table border=\"1\" class=\"dataframe\">\n",
       "  <thead>\n",
       "    <tr style=\"text-align: right;\">\n",
       "      <th></th>\n",
       "      <th>Survived</th>\n",
       "      <th>Pclass</th>\n",
       "      <th>Name</th>\n",
       "      <th>Sex</th>\n",
       "      <th>Age</th>\n",
       "      <th>SibSp</th>\n",
       "      <th>Parch</th>\n",
       "      <th>Fare</th>\n",
       "      <th>Embarked</th>\n",
       "    </tr>\n",
       "  </thead>\n",
       "  <tbody>\n",
       "    <tr>\n",
       "      <th>0</th>\n",
       "      <td>0</td>\n",
       "      <td>3</td>\n",
       "      <td>Braund, Mr. Owen Harris</td>\n",
       "      <td>male</td>\n",
       "      <td>22.0</td>\n",
       "      <td>1</td>\n",
       "      <td>0</td>\n",
       "      <td>7.2500</td>\n",
       "      <td>S</td>\n",
       "    </tr>\n",
       "    <tr>\n",
       "      <th>1</th>\n",
       "      <td>1</td>\n",
       "      <td>1</td>\n",
       "      <td>Cumings, Mrs. John Bradley (Florence Briggs Th...</td>\n",
       "      <td>female</td>\n",
       "      <td>38.0</td>\n",
       "      <td>1</td>\n",
       "      <td>0</td>\n",
       "      <td>71.2833</td>\n",
       "      <td>C</td>\n",
       "    </tr>\n",
       "    <tr>\n",
       "      <th>2</th>\n",
       "      <td>1</td>\n",
       "      <td>3</td>\n",
       "      <td>Heikkinen, Miss. Laina</td>\n",
       "      <td>female</td>\n",
       "      <td>26.0</td>\n",
       "      <td>0</td>\n",
       "      <td>0</td>\n",
       "      <td>7.9250</td>\n",
       "      <td>S</td>\n",
       "    </tr>\n",
       "    <tr>\n",
       "      <th>3</th>\n",
       "      <td>1</td>\n",
       "      <td>1</td>\n",
       "      <td>Futrelle, Mrs. Jacques Heath (Lily May Peel)</td>\n",
       "      <td>female</td>\n",
       "      <td>35.0</td>\n",
       "      <td>1</td>\n",
       "      <td>0</td>\n",
       "      <td>53.1000</td>\n",
       "      <td>S</td>\n",
       "    </tr>\n",
       "    <tr>\n",
       "      <th>4</th>\n",
       "      <td>0</td>\n",
       "      <td>3</td>\n",
       "      <td>Allen, Mr. William Henry</td>\n",
       "      <td>male</td>\n",
       "      <td>35.0</td>\n",
       "      <td>0</td>\n",
       "      <td>0</td>\n",
       "      <td>8.0500</td>\n",
       "      <td>S</td>\n",
       "    </tr>\n",
       "    <tr>\n",
       "      <th>5</th>\n",
       "      <td>0</td>\n",
       "      <td>3</td>\n",
       "      <td>Moran, Mr. James</td>\n",
       "      <td>male</td>\n",
       "      <td>NaN</td>\n",
       "      <td>0</td>\n",
       "      <td>0</td>\n",
       "      <td>8.4583</td>\n",
       "      <td>Q</td>\n",
       "    </tr>\n",
       "    <tr>\n",
       "      <th>6</th>\n",
       "      <td>0</td>\n",
       "      <td>1</td>\n",
       "      <td>McCarthy, Mr. Timothy J</td>\n",
       "      <td>male</td>\n",
       "      <td>54.0</td>\n",
       "      <td>0</td>\n",
       "      <td>0</td>\n",
       "      <td>51.8625</td>\n",
       "      <td>S</td>\n",
       "    </tr>\n",
       "    <tr>\n",
       "      <th>7</th>\n",
       "      <td>0</td>\n",
       "      <td>3</td>\n",
       "      <td>Palsson, Master. Gosta Leonard</td>\n",
       "      <td>male</td>\n",
       "      <td>2.0</td>\n",
       "      <td>3</td>\n",
       "      <td>1</td>\n",
       "      <td>21.0750</td>\n",
       "      <td>S</td>\n",
       "    </tr>\n",
       "    <tr>\n",
       "      <th>8</th>\n",
       "      <td>1</td>\n",
       "      <td>3</td>\n",
       "      <td>Johnson, Mrs. Oscar W (Elisabeth Vilhelmina Berg)</td>\n",
       "      <td>female</td>\n",
       "      <td>27.0</td>\n",
       "      <td>0</td>\n",
       "      <td>2</td>\n",
       "      <td>11.1333</td>\n",
       "      <td>S</td>\n",
       "    </tr>\n",
       "    <tr>\n",
       "      <th>9</th>\n",
       "      <td>1</td>\n",
       "      <td>2</td>\n",
       "      <td>Nasser, Mrs. Nicholas (Adele Achem)</td>\n",
       "      <td>female</td>\n",
       "      <td>14.0</td>\n",
       "      <td>1</td>\n",
       "      <td>0</td>\n",
       "      <td>30.0708</td>\n",
       "      <td>C</td>\n",
       "    </tr>\n",
       "  </tbody>\n",
       "</table>\n",
       "</div>"
      ],
      "text/plain": [
       "   Survived  Pclass                                               Name  \\\n",
       "0         0       3                            Braund, Mr. Owen Harris   \n",
       "1         1       1  Cumings, Mrs. John Bradley (Florence Briggs Th...   \n",
       "2         1       3                             Heikkinen, Miss. Laina   \n",
       "3         1       1       Futrelle, Mrs. Jacques Heath (Lily May Peel)   \n",
       "4         0       3                           Allen, Mr. William Henry   \n",
       "5         0       3                                   Moran, Mr. James   \n",
       "6         0       1                            McCarthy, Mr. Timothy J   \n",
       "7         0       3                     Palsson, Master. Gosta Leonard   \n",
       "8         1       3  Johnson, Mrs. Oscar W (Elisabeth Vilhelmina Berg)   \n",
       "9         1       2                Nasser, Mrs. Nicholas (Adele Achem)   \n",
       "\n",
       "      Sex   Age  SibSp  Parch     Fare Embarked  \n",
       "0    male  22.0      1      0   7.2500        S  \n",
       "1  female  38.0      1      0  71.2833        C  \n",
       "2  female  26.0      0      0   7.9250        S  \n",
       "3  female  35.0      1      0  53.1000        S  \n",
       "4    male  35.0      0      0   8.0500        S  \n",
       "5    male   NaN      0      0   8.4583        Q  \n",
       "6    male  54.0      0      0  51.8625        S  \n",
       "7    male   2.0      3      1  21.0750        S  \n",
       "8  female  27.0      0      2  11.1333        S  \n",
       "9  female  14.0      1      0  30.0708        C  "
      ]
     },
     "execution_count": 32,
     "metadata": {},
     "output_type": "execute_result"
    }
   ],
   "source": [
    "titanictrain = titanictrain.drop(['PassengerId','Ticket','Cabin'], axis=1)\n",
    "titanictrain.head(10)"
   ]
  },
  {
   "cell_type": "markdown",
   "id": "9668edab",
   "metadata": {
    "papermill": {
     "duration": 0.124969,
     "end_time": "2021-07-26T19:02:40.511560",
     "exception": false,
     "start_time": "2021-07-26T19:02:40.386591",
     "status": "completed"
    },
    "tags": []
   },
   "source": [
    "Lets drop in test data set too"
   ]
  },
  {
   "cell_type": "code",
   "execution_count": 33,
   "id": "d49f258d",
   "metadata": {
    "execution": {
     "iopub.execute_input": "2021-07-26T19:02:40.793765Z",
     "iopub.status.busy": "2021-07-26T19:02:40.792738Z",
     "iopub.status.idle": "2021-07-26T19:02:40.797398Z",
     "shell.execute_reply": "2021-07-26T19:02:40.797948Z",
     "shell.execute_reply.started": "2021-07-26T18:25:49.501553Z"
    },
    "papermill": {
     "duration": 0.154268,
     "end_time": "2021-07-26T19:02:40.798148",
     "exception": false,
     "start_time": "2021-07-26T19:02:40.643880",
     "status": "completed"
    },
    "tags": []
   },
   "outputs": [
    {
     "data": {
      "text/html": [
       "<div>\n",
       "<style scoped>\n",
       "    .dataframe tbody tr th:only-of-type {\n",
       "        vertical-align: middle;\n",
       "    }\n",
       "\n",
       "    .dataframe tbody tr th {\n",
       "        vertical-align: top;\n",
       "    }\n",
       "\n",
       "    .dataframe thead th {\n",
       "        text-align: right;\n",
       "    }\n",
       "</style>\n",
       "<table border=\"1\" class=\"dataframe\">\n",
       "  <thead>\n",
       "    <tr style=\"text-align: right;\">\n",
       "      <th></th>\n",
       "      <th>PassengerId</th>\n",
       "      <th>Pclass</th>\n",
       "      <th>Name</th>\n",
       "      <th>Sex</th>\n",
       "      <th>Age</th>\n",
       "      <th>SibSp</th>\n",
       "      <th>Parch</th>\n",
       "      <th>Fare</th>\n",
       "      <th>Embarked</th>\n",
       "    </tr>\n",
       "  </thead>\n",
       "  <tbody>\n",
       "    <tr>\n",
       "      <th>0</th>\n",
       "      <td>892</td>\n",
       "      <td>3</td>\n",
       "      <td>Kelly, Mr. James</td>\n",
       "      <td>male</td>\n",
       "      <td>34.5</td>\n",
       "      <td>0</td>\n",
       "      <td>0</td>\n",
       "      <td>7.8292</td>\n",
       "      <td>Q</td>\n",
       "    </tr>\n",
       "    <tr>\n",
       "      <th>1</th>\n",
       "      <td>893</td>\n",
       "      <td>3</td>\n",
       "      <td>Wilkes, Mrs. James (Ellen Needs)</td>\n",
       "      <td>female</td>\n",
       "      <td>47.0</td>\n",
       "      <td>1</td>\n",
       "      <td>0</td>\n",
       "      <td>7.0000</td>\n",
       "      <td>S</td>\n",
       "    </tr>\n",
       "    <tr>\n",
       "      <th>2</th>\n",
       "      <td>894</td>\n",
       "      <td>2</td>\n",
       "      <td>Myles, Mr. Thomas Francis</td>\n",
       "      <td>male</td>\n",
       "      <td>62.0</td>\n",
       "      <td>0</td>\n",
       "      <td>0</td>\n",
       "      <td>9.6875</td>\n",
       "      <td>Q</td>\n",
       "    </tr>\n",
       "    <tr>\n",
       "      <th>3</th>\n",
       "      <td>895</td>\n",
       "      <td>3</td>\n",
       "      <td>Wirz, Mr. Albert</td>\n",
       "      <td>male</td>\n",
       "      <td>27.0</td>\n",
       "      <td>0</td>\n",
       "      <td>0</td>\n",
       "      <td>8.6625</td>\n",
       "      <td>S</td>\n",
       "    </tr>\n",
       "    <tr>\n",
       "      <th>4</th>\n",
       "      <td>896</td>\n",
       "      <td>3</td>\n",
       "      <td>Hirvonen, Mrs. Alexander (Helga E Lindqvist)</td>\n",
       "      <td>female</td>\n",
       "      <td>22.0</td>\n",
       "      <td>1</td>\n",
       "      <td>1</td>\n",
       "      <td>12.2875</td>\n",
       "      <td>S</td>\n",
       "    </tr>\n",
       "    <tr>\n",
       "      <th>5</th>\n",
       "      <td>897</td>\n",
       "      <td>3</td>\n",
       "      <td>Svensson, Mr. Johan Cervin</td>\n",
       "      <td>male</td>\n",
       "      <td>14.0</td>\n",
       "      <td>0</td>\n",
       "      <td>0</td>\n",
       "      <td>9.2250</td>\n",
       "      <td>S</td>\n",
       "    </tr>\n",
       "    <tr>\n",
       "      <th>6</th>\n",
       "      <td>898</td>\n",
       "      <td>3</td>\n",
       "      <td>Connolly, Miss. Kate</td>\n",
       "      <td>female</td>\n",
       "      <td>30.0</td>\n",
       "      <td>0</td>\n",
       "      <td>0</td>\n",
       "      <td>7.6292</td>\n",
       "      <td>Q</td>\n",
       "    </tr>\n",
       "    <tr>\n",
       "      <th>7</th>\n",
       "      <td>899</td>\n",
       "      <td>2</td>\n",
       "      <td>Caldwell, Mr. Albert Francis</td>\n",
       "      <td>male</td>\n",
       "      <td>26.0</td>\n",
       "      <td>1</td>\n",
       "      <td>1</td>\n",
       "      <td>29.0000</td>\n",
       "      <td>S</td>\n",
       "    </tr>\n",
       "    <tr>\n",
       "      <th>8</th>\n",
       "      <td>900</td>\n",
       "      <td>3</td>\n",
       "      <td>Abrahim, Mrs. Joseph (Sophie Halaut Easu)</td>\n",
       "      <td>female</td>\n",
       "      <td>18.0</td>\n",
       "      <td>0</td>\n",
       "      <td>0</td>\n",
       "      <td>7.2292</td>\n",
       "      <td>C</td>\n",
       "    </tr>\n",
       "    <tr>\n",
       "      <th>9</th>\n",
       "      <td>901</td>\n",
       "      <td>3</td>\n",
       "      <td>Davies, Mr. John Samuel</td>\n",
       "      <td>male</td>\n",
       "      <td>21.0</td>\n",
       "      <td>2</td>\n",
       "      <td>0</td>\n",
       "      <td>24.1500</td>\n",
       "      <td>S</td>\n",
       "    </tr>\n",
       "  </tbody>\n",
       "</table>\n",
       "</div>"
      ],
      "text/plain": [
       "   PassengerId  Pclass                                          Name     Sex  \\\n",
       "0          892       3                              Kelly, Mr. James    male   \n",
       "1          893       3              Wilkes, Mrs. James (Ellen Needs)  female   \n",
       "2          894       2                     Myles, Mr. Thomas Francis    male   \n",
       "3          895       3                              Wirz, Mr. Albert    male   \n",
       "4          896       3  Hirvonen, Mrs. Alexander (Helga E Lindqvist)  female   \n",
       "5          897       3                    Svensson, Mr. Johan Cervin    male   \n",
       "6          898       3                          Connolly, Miss. Kate  female   \n",
       "7          899       2                  Caldwell, Mr. Albert Francis    male   \n",
       "8          900       3     Abrahim, Mrs. Joseph (Sophie Halaut Easu)  female   \n",
       "9          901       3                       Davies, Mr. John Samuel    male   \n",
       "\n",
       "    Age  SibSp  Parch     Fare Embarked  \n",
       "0  34.5      0      0   7.8292        Q  \n",
       "1  47.0      1      0   7.0000        S  \n",
       "2  62.0      0      0   9.6875        Q  \n",
       "3  27.0      0      0   8.6625        S  \n",
       "4  22.0      1      1  12.2875        S  \n",
       "5  14.0      0      0   9.2250        S  \n",
       "6  30.0      0      0   7.6292        Q  \n",
       "7  26.0      1      1  29.0000        S  \n",
       "8  18.0      0      0   7.2292        C  \n",
       "9  21.0      2      0  24.1500        S  "
      ]
     },
     "execution_count": 33,
     "metadata": {},
     "output_type": "execute_result"
    }
   ],
   "source": [
    "titanictest = titanictest.drop(['Ticket','Cabin'], axis=1)\n",
    "titanictest.head(10)"
   ]
  },
  {
   "cell_type": "markdown",
   "id": "9413ea3c",
   "metadata": {
    "papermill": {
     "duration": 0.121023,
     "end_time": "2021-07-26T19:02:41.044382",
     "exception": false,
     "start_time": "2021-07-26T19:02:40.923359",
     "status": "completed"
    },
    "tags": []
   },
   "source": [
    "**Analysing Name Column and creating new feature\n",
    "**"
   ]
  },
  {
   "cell_type": "code",
   "execution_count": 34,
   "id": "8a37972b",
   "metadata": {
    "execution": {
     "iopub.execute_input": "2021-07-26T19:02:41.295303Z",
     "iopub.status.busy": "2021-07-26T19:02:41.294235Z",
     "iopub.status.idle": "2021-07-26T19:02:41.332307Z",
     "shell.execute_reply": "2021-07-26T19:02:41.332913Z",
     "shell.execute_reply.started": "2021-07-26T18:25:49.523467Z"
    },
    "papermill": {
     "duration": 0.163624,
     "end_time": "2021-07-26T19:02:41.333145",
     "exception": false,
     "start_time": "2021-07-26T19:02:41.169521",
     "status": "completed"
    },
    "tags": []
   },
   "outputs": [
    {
     "data": {
      "text/html": [
       "<div>\n",
       "<style scoped>\n",
       "    .dataframe tbody tr th:only-of-type {\n",
       "        vertical-align: middle;\n",
       "    }\n",
       "\n",
       "    .dataframe tbody tr th {\n",
       "        vertical-align: top;\n",
       "    }\n",
       "\n",
       "    .dataframe thead th {\n",
       "        text-align: right;\n",
       "    }\n",
       "</style>\n",
       "<table border=\"1\" class=\"dataframe\">\n",
       "  <thead>\n",
       "    <tr style=\"text-align: right;\">\n",
       "      <th>Sex</th>\n",
       "      <th>female</th>\n",
       "      <th>male</th>\n",
       "    </tr>\n",
       "    <tr>\n",
       "      <th>Title</th>\n",
       "      <th></th>\n",
       "      <th></th>\n",
       "    </tr>\n",
       "  </thead>\n",
       "  <tbody>\n",
       "    <tr>\n",
       "      <th>Capt</th>\n",
       "      <td>0</td>\n",
       "      <td>1</td>\n",
       "    </tr>\n",
       "    <tr>\n",
       "      <th>Col</th>\n",
       "      <td>0</td>\n",
       "      <td>2</td>\n",
       "    </tr>\n",
       "    <tr>\n",
       "      <th>Countess</th>\n",
       "      <td>1</td>\n",
       "      <td>0</td>\n",
       "    </tr>\n",
       "    <tr>\n",
       "      <th>Don</th>\n",
       "      <td>0</td>\n",
       "      <td>1</td>\n",
       "    </tr>\n",
       "    <tr>\n",
       "      <th>Dr</th>\n",
       "      <td>1</td>\n",
       "      <td>6</td>\n",
       "    </tr>\n",
       "    <tr>\n",
       "      <th>Jonkheer</th>\n",
       "      <td>0</td>\n",
       "      <td>1</td>\n",
       "    </tr>\n",
       "    <tr>\n",
       "      <th>Lady</th>\n",
       "      <td>1</td>\n",
       "      <td>0</td>\n",
       "    </tr>\n",
       "    <tr>\n",
       "      <th>Major</th>\n",
       "      <td>0</td>\n",
       "      <td>2</td>\n",
       "    </tr>\n",
       "    <tr>\n",
       "      <th>Master</th>\n",
       "      <td>0</td>\n",
       "      <td>40</td>\n",
       "    </tr>\n",
       "    <tr>\n",
       "      <th>Miss</th>\n",
       "      <td>182</td>\n",
       "      <td>0</td>\n",
       "    </tr>\n",
       "    <tr>\n",
       "      <th>Mlle</th>\n",
       "      <td>2</td>\n",
       "      <td>0</td>\n",
       "    </tr>\n",
       "    <tr>\n",
       "      <th>Mme</th>\n",
       "      <td>1</td>\n",
       "      <td>0</td>\n",
       "    </tr>\n",
       "    <tr>\n",
       "      <th>Mr</th>\n",
       "      <td>0</td>\n",
       "      <td>517</td>\n",
       "    </tr>\n",
       "    <tr>\n",
       "      <th>Mrs</th>\n",
       "      <td>125</td>\n",
       "      <td>0</td>\n",
       "    </tr>\n",
       "    <tr>\n",
       "      <th>Ms</th>\n",
       "      <td>1</td>\n",
       "      <td>0</td>\n",
       "    </tr>\n",
       "    <tr>\n",
       "      <th>Rev</th>\n",
       "      <td>0</td>\n",
       "      <td>6</td>\n",
       "    </tr>\n",
       "    <tr>\n",
       "      <th>Sir</th>\n",
       "      <td>0</td>\n",
       "      <td>1</td>\n",
       "    </tr>\n",
       "  </tbody>\n",
       "</table>\n",
       "</div>"
      ],
      "text/plain": [
       "Sex       female  male\n",
       "Title                 \n",
       "Capt           0     1\n",
       "Col            0     2\n",
       "Countess       1     0\n",
       "Don            0     1\n",
       "Dr             1     6\n",
       "Jonkheer       0     1\n",
       "Lady           1     0\n",
       "Major          0     2\n",
       "Master         0    40\n",
       "Miss         182     0\n",
       "Mlle           2     0\n",
       "Mme            1     0\n",
       "Mr             0   517\n",
       "Mrs          125     0\n",
       "Ms             1     0\n",
       "Rev            0     6\n",
       "Sir            0     1"
      ]
     },
     "execution_count": 34,
     "metadata": {},
     "output_type": "execute_result"
    }
   ],
   "source": [
    "traintest= [titanictrain, titanictest]\n",
    "for i in traintest:\n",
    "  i['Title'] =i.Name.str.extract('([A-Za-z]+)\\.', expand=False)\n",
    "pd.crosstab(titanictrain['Title'],titanictrain['Sex'])"
   ]
  },
  {
   "cell_type": "code",
   "execution_count": 35,
   "id": "6d22c953",
   "metadata": {
    "execution": {
     "iopub.execute_input": "2021-07-26T19:02:41.592866Z",
     "iopub.status.busy": "2021-07-26T19:02:41.591980Z",
     "iopub.status.idle": "2021-07-26T19:02:41.601201Z",
     "shell.execute_reply": "2021-07-26T19:02:41.601797Z",
     "shell.execute_reply.started": "2021-07-26T18:25:49.560591Z"
    },
    "papermill": {
     "duration": 0.14158,
     "end_time": "2021-07-26T19:02:41.602029",
     "exception": false,
     "start_time": "2021-07-26T19:02:41.460449",
     "status": "completed"
    },
    "tags": []
   },
   "outputs": [
    {
     "data": {
      "text/plain": [
       "0        Mr\n",
       "1       Mrs\n",
       "2      Miss\n",
       "3       Mrs\n",
       "4        Mr\n",
       "       ... \n",
       "886     Rev\n",
       "887    Miss\n",
       "888    Miss\n",
       "889      Mr\n",
       "890      Mr\n",
       "Name: Title, Length: 891, dtype: object"
      ]
     },
     "execution_count": 35,
     "metadata": {},
     "output_type": "execute_result"
    }
   ],
   "source": [
    "titanictrain['Title']"
   ]
  },
  {
   "cell_type": "code",
   "execution_count": 36,
   "id": "b0e99aca",
   "metadata": {
    "execution": {
     "iopub.execute_input": "2021-07-26T19:02:41.866000Z",
     "iopub.status.busy": "2021-07-26T19:02:41.865150Z",
     "iopub.status.idle": "2021-07-26T19:02:41.893984Z",
     "shell.execute_reply": "2021-07-26T19:02:41.894526Z",
     "shell.execute_reply.started": "2021-07-26T18:25:49.570957Z"
    },
    "papermill": {
     "duration": 0.163819,
     "end_time": "2021-07-26T19:02:41.894785",
     "exception": false,
     "start_time": "2021-07-26T19:02:41.730966",
     "status": "completed"
    },
    "tags": []
   },
   "outputs": [
    {
     "data": {
      "text/html": [
       "<div>\n",
       "<style scoped>\n",
       "    .dataframe tbody tr th:only-of-type {\n",
       "        vertical-align: middle;\n",
       "    }\n",
       "\n",
       "    .dataframe tbody tr th {\n",
       "        vertical-align: top;\n",
       "    }\n",
       "\n",
       "    .dataframe thead th {\n",
       "        text-align: right;\n",
       "    }\n",
       "</style>\n",
       "<table border=\"1\" class=\"dataframe\">\n",
       "  <thead>\n",
       "    <tr style=\"text-align: right;\">\n",
       "      <th>Sex</th>\n",
       "      <th>female</th>\n",
       "      <th>male</th>\n",
       "    </tr>\n",
       "    <tr>\n",
       "      <th>Title</th>\n",
       "      <th></th>\n",
       "      <th></th>\n",
       "    </tr>\n",
       "  </thead>\n",
       "  <tbody>\n",
       "    <tr>\n",
       "      <th>Col</th>\n",
       "      <td>0</td>\n",
       "      <td>2</td>\n",
       "    </tr>\n",
       "    <tr>\n",
       "      <th>Dona</th>\n",
       "      <td>1</td>\n",
       "      <td>0</td>\n",
       "    </tr>\n",
       "    <tr>\n",
       "      <th>Dr</th>\n",
       "      <td>0</td>\n",
       "      <td>1</td>\n",
       "    </tr>\n",
       "    <tr>\n",
       "      <th>Master</th>\n",
       "      <td>0</td>\n",
       "      <td>21</td>\n",
       "    </tr>\n",
       "    <tr>\n",
       "      <th>Miss</th>\n",
       "      <td>78</td>\n",
       "      <td>0</td>\n",
       "    </tr>\n",
       "    <tr>\n",
       "      <th>Mr</th>\n",
       "      <td>0</td>\n",
       "      <td>240</td>\n",
       "    </tr>\n",
       "    <tr>\n",
       "      <th>Mrs</th>\n",
       "      <td>72</td>\n",
       "      <td>0</td>\n",
       "    </tr>\n",
       "    <tr>\n",
       "      <th>Ms</th>\n",
       "      <td>1</td>\n",
       "      <td>0</td>\n",
       "    </tr>\n",
       "    <tr>\n",
       "      <th>Rev</th>\n",
       "      <td>0</td>\n",
       "      <td>2</td>\n",
       "    </tr>\n",
       "  </tbody>\n",
       "</table>\n",
       "</div>"
      ],
      "text/plain": [
       "Sex     female  male\n",
       "Title               \n",
       "Col          0     2\n",
       "Dona         1     0\n",
       "Dr           0     1\n",
       "Master       0    21\n",
       "Miss        78     0\n",
       "Mr           0   240\n",
       "Mrs         72     0\n",
       "Ms           1     0\n",
       "Rev          0     2"
      ]
     },
     "execution_count": 36,
     "metadata": {},
     "output_type": "execute_result"
    }
   ],
   "source": [
    "pd.crosstab(titanictest['Title'],titanictest['Sex'])"
   ]
  },
  {
   "cell_type": "markdown",
   "id": "61f738b1",
   "metadata": {
    "papermill": {
     "duration": 0.137957,
     "end_time": "2021-07-26T19:02:42.163441",
     "exception": false,
     "start_time": "2021-07-26T19:02:42.025484",
     "status": "completed"
    },
    "tags": []
   },
   "source": [
    "*lets* change titles into dictionary"
   ]
  },
  {
   "cell_type": "code",
   "execution_count": 37,
   "id": "a64a44ed",
   "metadata": {
    "execution": {
     "iopub.execute_input": "2021-07-26T19:02:42.440140Z",
     "iopub.status.busy": "2021-07-26T19:02:42.439423Z",
     "iopub.status.idle": "2021-07-26T19:02:42.445326Z",
     "shell.execute_reply": "2021-07-26T19:02:42.445936Z",
     "shell.execute_reply.started": "2021-07-26T18:25:49.600187Z"
    },
    "papermill": {
     "duration": 0.141584,
     "end_time": "2021-07-26T19:02:42.446156",
     "exception": false,
     "start_time": "2021-07-26T19:02:42.304572",
     "status": "completed"
    },
    "tags": []
   },
   "outputs": [],
   "source": [
    "title_dic = {\n",
    "    \"Capt\":       \"Officer\",\n",
    "    \"Col\":        \"Officer\",\n",
    "    \"Major\":      \"Officer\",\n",
    "    \"Jonkheer\":   \"Royalty\",\n",
    "    \"Don\":        \"Royalty\",\n",
    "    \"Sir\" :       \"Royalty\",\n",
    "    \"Dr\":         \"Officer\",\n",
    "    \"Rev\":        \"Officer\",\n",
    "    \"the Countess\":\"Royalty\",\n",
    "    \"Dona\":       \"Royalty\",\n",
    "    \"Mme\":        \"Mrs\",\n",
    "    \"Mlle\":       \"Miss\",\n",
    "    \"Ms\":         \"Mrs\",\n",
    "    \"Mr\" :        \"Mr\",\n",
    "    \"Mrs\" :       \"Mrs\",\n",
    "    \"Miss\" :      \"Miss\",\n",
    "    \"Master\" :    \"Master\",\n",
    "    \"Lady\" :      \"Royalty\"\n",
    "}"
   ]
  },
  {
   "cell_type": "markdown",
   "id": "2eab24e0",
   "metadata": {
    "papermill": {
     "duration": 0.134757,
     "end_time": "2021-07-26T19:02:42.714034",
     "exception": false,
     "start_time": "2021-07-26T19:02:42.579277",
     "status": "completed"
    },
    "tags": []
   },
   "source": [
    "map  title dictionary to Title feature vector\n"
   ]
  },
  {
   "cell_type": "code",
   "execution_count": 38,
   "id": "52b84df5",
   "metadata": {
    "execution": {
     "iopub.execute_input": "2021-07-26T19:02:42.988382Z",
     "iopub.status.busy": "2021-07-26T19:02:42.987577Z",
     "iopub.status.idle": "2021-07-26T19:02:43.000913Z",
     "shell.execute_reply": "2021-07-26T19:02:43.001507Z",
     "shell.execute_reply.started": "2021-07-26T18:25:49.608289Z"
    },
    "papermill": {
     "duration": 0.156,
     "end_time": "2021-07-26T19:02:43.001784",
     "exception": false,
     "start_time": "2021-07-26T19:02:42.845784",
     "status": "completed"
    },
    "tags": []
   },
   "outputs": [
    {
     "data": {
      "text/plain": [
       "Title\n",
       "Master      40\n",
       "Miss       184\n",
       "Mr         517\n",
       "Mrs        127\n",
       "Officer     18\n",
       "Royalty      4\n",
       "Name: Title, dtype: int64"
      ]
     },
     "execution_count": 38,
     "metadata": {},
     "output_type": "execute_result"
    }
   ],
   "source": [
    "titanictrain.Title = titanictrain.Title.map(title_dic)\n",
    "titanictrain.groupby('Title').Title.count()"
   ]
  },
  {
   "cell_type": "code",
   "execution_count": 39,
   "id": "025a2517",
   "metadata": {
    "execution": {
     "iopub.execute_input": "2021-07-26T19:02:43.273547Z",
     "iopub.status.busy": "2021-07-26T19:02:43.272857Z",
     "iopub.status.idle": "2021-07-26T19:02:43.281194Z",
     "shell.execute_reply": "2021-07-26T19:02:43.281741Z",
     "shell.execute_reply.started": "2021-07-26T18:25:49.622986Z"
    },
    "papermill": {
     "duration": 0.150003,
     "end_time": "2021-07-26T19:02:43.281944",
     "exception": false,
     "start_time": "2021-07-26T19:02:43.131941",
     "status": "completed"
    },
    "tags": []
   },
   "outputs": [
    {
     "data": {
      "text/plain": [
       "Title\n",
       "Master      21\n",
       "Miss        78\n",
       "Mr         240\n",
       "Mrs         73\n",
       "Officer      5\n",
       "Royalty      1\n",
       "Name: Title, dtype: int64"
      ]
     },
     "execution_count": 39,
     "metadata": {},
     "output_type": "execute_result"
    }
   ],
   "source": [
    "titanictest.Title = titanictest.Title.map(title_dic)\n",
    "titanictest.groupby('Title').Title.count()"
   ]
  },
  {
   "cell_type": "code",
   "execution_count": 40,
   "id": "bac15ce4",
   "metadata": {
    "execution": {
     "iopub.execute_input": "2021-07-26T19:02:43.558581Z",
     "iopub.status.busy": "2021-07-26T19:02:43.557913Z",
     "iopub.status.idle": "2021-07-26T19:02:43.564908Z",
     "shell.execute_reply": "2021-07-26T19:02:43.565486Z",
     "shell.execute_reply.started": "2021-07-26T18:25:49.637169Z"
    },
    "papermill": {
     "duration": 0.147584,
     "end_time": "2021-07-26T19:02:43.565726",
     "exception": false,
     "start_time": "2021-07-26T19:02:43.418142",
     "status": "completed"
    },
    "tags": []
   },
   "outputs": [
    {
     "data": {
      "text/plain": [
       "6"
      ]
     },
     "execution_count": 40,
     "metadata": {},
     "output_type": "execute_result"
    }
   ],
   "source": [
    "titanictrain['Title'].nunique()"
   ]
  },
  {
   "cell_type": "code",
   "execution_count": 41,
   "id": "c8498bca",
   "metadata": {
    "execution": {
     "iopub.execute_input": "2021-07-26T19:02:43.841321Z",
     "iopub.status.busy": "2021-07-26T19:02:43.840660Z",
     "iopub.status.idle": "2021-07-26T19:02:43.849300Z",
     "shell.execute_reply": "2021-07-26T19:02:43.848498Z",
     "shell.execute_reply.started": "2021-07-26T18:25:49.650653Z"
    },
    "papermill": {
     "duration": 0.147361,
     "end_time": "2021-07-26T19:02:43.849497",
     "exception": false,
     "start_time": "2021-07-26T19:02:43.702136",
     "status": "completed"
    },
    "tags": []
   },
   "outputs": [
    {
     "data": {
      "text/plain": [
       "6"
      ]
     },
     "execution_count": 41,
     "metadata": {},
     "output_type": "execute_result"
    }
   ],
   "source": [
    "titanictest['Title'].nunique()"
   ]
  },
  {
   "cell_type": "markdown",
   "id": "96c09818",
   "metadata": {
    "papermill": {
     "duration": 0.134315,
     "end_time": "2021-07-26T19:02:44.116892",
     "exception": false,
     "start_time": "2021-07-26T19:02:43.982577",
     "status": "completed"
    },
    "tags": []
   },
   "source": [
    "Lets drop Name column from test and train"
   ]
  },
  {
   "cell_type": "code",
   "execution_count": 42,
   "id": "1550e1f1",
   "metadata": {
    "execution": {
     "iopub.execute_input": "2021-07-26T19:02:44.390404Z",
     "iopub.status.busy": "2021-07-26T19:02:44.389608Z",
     "iopub.status.idle": "2021-07-26T19:02:44.398055Z",
     "shell.execute_reply": "2021-07-26T19:02:44.397361Z",
     "shell.execute_reply.started": "2021-07-26T18:25:49.66088Z"
    },
    "papermill": {
     "duration": 0.147478,
     "end_time": "2021-07-26T19:02:44.398239",
     "exception": false,
     "start_time": "2021-07-26T19:02:44.250761",
     "status": "completed"
    },
    "tags": []
   },
   "outputs": [],
   "source": [
    "titanictrain = titanictrain.drop(columns='Name')"
   ]
  },
  {
   "cell_type": "code",
   "execution_count": 43,
   "id": "da401dab",
   "metadata": {
    "execution": {
     "iopub.execute_input": "2021-07-26T19:02:44.665258Z",
     "iopub.status.busy": "2021-07-26T19:02:44.664355Z",
     "iopub.status.idle": "2021-07-26T19:02:44.682634Z",
     "shell.execute_reply": "2021-07-26T19:02:44.681985Z",
     "shell.execute_reply.started": "2021-07-26T18:25:49.667479Z"
    },
    "papermill": {
     "duration": 0.15421,
     "end_time": "2021-07-26T19:02:44.682815",
     "exception": false,
     "start_time": "2021-07-26T19:02:44.528605",
     "status": "completed"
    },
    "tags": []
   },
   "outputs": [
    {
     "data": {
      "text/html": [
       "<div>\n",
       "<style scoped>\n",
       "    .dataframe tbody tr th:only-of-type {\n",
       "        vertical-align: middle;\n",
       "    }\n",
       "\n",
       "    .dataframe tbody tr th {\n",
       "        vertical-align: top;\n",
       "    }\n",
       "\n",
       "    .dataframe thead th {\n",
       "        text-align: right;\n",
       "    }\n",
       "</style>\n",
       "<table border=\"1\" class=\"dataframe\">\n",
       "  <thead>\n",
       "    <tr style=\"text-align: right;\">\n",
       "      <th></th>\n",
       "      <th>Survived</th>\n",
       "      <th>Pclass</th>\n",
       "      <th>Sex</th>\n",
       "      <th>Age</th>\n",
       "      <th>SibSp</th>\n",
       "      <th>Parch</th>\n",
       "      <th>Fare</th>\n",
       "      <th>Embarked</th>\n",
       "      <th>Title</th>\n",
       "    </tr>\n",
       "  </thead>\n",
       "  <tbody>\n",
       "    <tr>\n",
       "      <th>0</th>\n",
       "      <td>0</td>\n",
       "      <td>3</td>\n",
       "      <td>male</td>\n",
       "      <td>22.0</td>\n",
       "      <td>1</td>\n",
       "      <td>0</td>\n",
       "      <td>7.2500</td>\n",
       "      <td>S</td>\n",
       "      <td>Mr</td>\n",
       "    </tr>\n",
       "    <tr>\n",
       "      <th>1</th>\n",
       "      <td>1</td>\n",
       "      <td>1</td>\n",
       "      <td>female</td>\n",
       "      <td>38.0</td>\n",
       "      <td>1</td>\n",
       "      <td>0</td>\n",
       "      <td>71.2833</td>\n",
       "      <td>C</td>\n",
       "      <td>Mrs</td>\n",
       "    </tr>\n",
       "    <tr>\n",
       "      <th>2</th>\n",
       "      <td>1</td>\n",
       "      <td>3</td>\n",
       "      <td>female</td>\n",
       "      <td>26.0</td>\n",
       "      <td>0</td>\n",
       "      <td>0</td>\n",
       "      <td>7.9250</td>\n",
       "      <td>S</td>\n",
       "      <td>Miss</td>\n",
       "    </tr>\n",
       "    <tr>\n",
       "      <th>3</th>\n",
       "      <td>1</td>\n",
       "      <td>1</td>\n",
       "      <td>female</td>\n",
       "      <td>35.0</td>\n",
       "      <td>1</td>\n",
       "      <td>0</td>\n",
       "      <td>53.1000</td>\n",
       "      <td>S</td>\n",
       "      <td>Mrs</td>\n",
       "    </tr>\n",
       "    <tr>\n",
       "      <th>4</th>\n",
       "      <td>0</td>\n",
       "      <td>3</td>\n",
       "      <td>male</td>\n",
       "      <td>35.0</td>\n",
       "      <td>0</td>\n",
       "      <td>0</td>\n",
       "      <td>8.0500</td>\n",
       "      <td>S</td>\n",
       "      <td>Mr</td>\n",
       "    </tr>\n",
       "  </tbody>\n",
       "</table>\n",
       "</div>"
      ],
      "text/plain": [
       "   Survived  Pclass     Sex   Age  SibSp  Parch     Fare Embarked Title\n",
       "0         0       3    male  22.0      1      0   7.2500        S    Mr\n",
       "1         1       1  female  38.0      1      0  71.2833        C   Mrs\n",
       "2         1       3  female  26.0      0      0   7.9250        S  Miss\n",
       "3         1       1  female  35.0      1      0  53.1000        S   Mrs\n",
       "4         0       3    male  35.0      0      0   8.0500        S    Mr"
      ]
     },
     "execution_count": 43,
     "metadata": {},
     "output_type": "execute_result"
    }
   ],
   "source": [
    "titanictrain.head(5)"
   ]
  },
  {
   "cell_type": "code",
   "execution_count": 44,
   "id": "06f7b854",
   "metadata": {
    "execution": {
     "iopub.execute_input": "2021-07-26T19:02:44.957438Z",
     "iopub.status.busy": "2021-07-26T19:02:44.956304Z",
     "iopub.status.idle": "2021-07-26T19:02:44.960950Z",
     "shell.execute_reply": "2021-07-26T19:02:44.959805Z",
     "shell.execute_reply.started": "2021-07-26T18:25:49.688784Z"
    },
    "papermill": {
     "duration": 0.147842,
     "end_time": "2021-07-26T19:02:44.961134",
     "exception": false,
     "start_time": "2021-07-26T19:02:44.813292",
     "status": "completed"
    },
    "tags": []
   },
   "outputs": [],
   "source": [
    "titanictest = titanictest.drop(columns='Name')"
   ]
  },
  {
   "cell_type": "code",
   "execution_count": 45,
   "id": "65de5822",
   "metadata": {
    "execution": {
     "iopub.execute_input": "2021-07-26T19:02:45.241216Z",
     "iopub.status.busy": "2021-07-26T19:02:45.240065Z",
     "iopub.status.idle": "2021-07-26T19:02:45.259108Z",
     "shell.execute_reply": "2021-07-26T19:02:45.259598Z",
     "shell.execute_reply.started": "2021-07-26T18:25:49.69913Z"
    },
    "papermill": {
     "duration": 0.160409,
     "end_time": "2021-07-26T19:02:45.259846",
     "exception": false,
     "start_time": "2021-07-26T19:02:45.099437",
     "status": "completed"
    },
    "tags": []
   },
   "outputs": [
    {
     "data": {
      "text/html": [
       "<div>\n",
       "<style scoped>\n",
       "    .dataframe tbody tr th:only-of-type {\n",
       "        vertical-align: middle;\n",
       "    }\n",
       "\n",
       "    .dataframe tbody tr th {\n",
       "        vertical-align: top;\n",
       "    }\n",
       "\n",
       "    .dataframe thead th {\n",
       "        text-align: right;\n",
       "    }\n",
       "</style>\n",
       "<table border=\"1\" class=\"dataframe\">\n",
       "  <thead>\n",
       "    <tr style=\"text-align: right;\">\n",
       "      <th></th>\n",
       "      <th>PassengerId</th>\n",
       "      <th>Pclass</th>\n",
       "      <th>Sex</th>\n",
       "      <th>Age</th>\n",
       "      <th>SibSp</th>\n",
       "      <th>Parch</th>\n",
       "      <th>Fare</th>\n",
       "      <th>Embarked</th>\n",
       "      <th>Title</th>\n",
       "    </tr>\n",
       "  </thead>\n",
       "  <tbody>\n",
       "    <tr>\n",
       "      <th>0</th>\n",
       "      <td>892</td>\n",
       "      <td>3</td>\n",
       "      <td>male</td>\n",
       "      <td>34.5</td>\n",
       "      <td>0</td>\n",
       "      <td>0</td>\n",
       "      <td>7.8292</td>\n",
       "      <td>Q</td>\n",
       "      <td>Mr</td>\n",
       "    </tr>\n",
       "    <tr>\n",
       "      <th>1</th>\n",
       "      <td>893</td>\n",
       "      <td>3</td>\n",
       "      <td>female</td>\n",
       "      <td>47.0</td>\n",
       "      <td>1</td>\n",
       "      <td>0</td>\n",
       "      <td>7.0000</td>\n",
       "      <td>S</td>\n",
       "      <td>Mrs</td>\n",
       "    </tr>\n",
       "    <tr>\n",
       "      <th>2</th>\n",
       "      <td>894</td>\n",
       "      <td>2</td>\n",
       "      <td>male</td>\n",
       "      <td>62.0</td>\n",
       "      <td>0</td>\n",
       "      <td>0</td>\n",
       "      <td>9.6875</td>\n",
       "      <td>Q</td>\n",
       "      <td>Mr</td>\n",
       "    </tr>\n",
       "    <tr>\n",
       "      <th>3</th>\n",
       "      <td>895</td>\n",
       "      <td>3</td>\n",
       "      <td>male</td>\n",
       "      <td>27.0</td>\n",
       "      <td>0</td>\n",
       "      <td>0</td>\n",
       "      <td>8.6625</td>\n",
       "      <td>S</td>\n",
       "      <td>Mr</td>\n",
       "    </tr>\n",
       "    <tr>\n",
       "      <th>4</th>\n",
       "      <td>896</td>\n",
       "      <td>3</td>\n",
       "      <td>female</td>\n",
       "      <td>22.0</td>\n",
       "      <td>1</td>\n",
       "      <td>1</td>\n",
       "      <td>12.2875</td>\n",
       "      <td>S</td>\n",
       "      <td>Mrs</td>\n",
       "    </tr>\n",
       "  </tbody>\n",
       "</table>\n",
       "</div>"
      ],
      "text/plain": [
       "   PassengerId  Pclass     Sex   Age  SibSp  Parch     Fare Embarked Title\n",
       "0          892       3    male  34.5      0      0   7.8292        Q    Mr\n",
       "1          893       3  female  47.0      1      0   7.0000        S   Mrs\n",
       "2          894       2    male  62.0      0      0   9.6875        Q    Mr\n",
       "3          895       3    male  27.0      0      0   8.6625        S    Mr\n",
       "4          896       3  female  22.0      1      1  12.2875        S   Mrs"
      ]
     },
     "execution_count": 45,
     "metadata": {},
     "output_type": "execute_result"
    }
   ],
   "source": [
    "titanictest.head()"
   ]
  },
  {
   "cell_type": "code",
   "execution_count": 46,
   "id": "f1915724",
   "metadata": {
    "execution": {
     "iopub.execute_input": "2021-07-26T19:02:45.534125Z",
     "iopub.status.busy": "2021-07-26T19:02:45.533085Z",
     "iopub.status.idle": "2021-07-26T19:02:45.543816Z",
     "shell.execute_reply": "2021-07-26T19:02:45.544403Z",
     "shell.execute_reply.started": "2021-07-26T18:25:49.720279Z"
    },
    "papermill": {
     "duration": 0.15085,
     "end_time": "2021-07-26T19:02:45.544665",
     "exception": false,
     "start_time": "2021-07-26T19:02:45.393815",
     "status": "completed"
    },
    "tags": []
   },
   "outputs": [
    {
     "data": {
      "text/plain": [
       "5     NaN\n",
       "17    NaN\n",
       "19    NaN\n",
       "26    NaN\n",
       "28    NaN\n",
       "       ..\n",
       "859   NaN\n",
       "863   NaN\n",
       "868   NaN\n",
       "878   NaN\n",
       "888   NaN\n",
       "Name: Age, Length: 177, dtype: float64"
      ]
     },
     "execution_count": 46,
     "metadata": {},
     "output_type": "execute_result"
    }
   ],
   "source": [
    "r=titanictrain[\"Age\"][np.isnan(titanictrain[\"Age\"])]\n",
    "r"
   ]
  },
  {
   "cell_type": "markdown",
   "id": "b5a719e2",
   "metadata": {
    "papermill": {
     "duration": 0.140011,
     "end_time": "2021-07-26T19:02:45.821988",
     "exception": false,
     "start_time": "2021-07-26T19:02:45.681977",
     "status": "completed"
    },
    "tags": []
   },
   "source": [
    "count of passenger titlewise\n",
    "* Master 40\n",
    "* Miss 184\n",
    "* Mr 517\n",
    "* Mrs 127\n",
    "* Officer 18\n",
    "* Royalty 4"
   ]
  },
  {
   "cell_type": "code",
   "execution_count": 47,
   "id": "8b75f8b1",
   "metadata": {
    "execution": {
     "iopub.execute_input": "2021-07-26T19:02:46.107118Z",
     "iopub.status.busy": "2021-07-26T19:02:46.105601Z",
     "iopub.status.idle": "2021-07-26T19:02:46.117377Z",
     "shell.execute_reply": "2021-07-26T19:02:46.117950Z",
     "shell.execute_reply.started": "2021-07-26T18:25:49.730836Z"
    },
    "papermill": {
     "duration": 0.154362,
     "end_time": "2021-07-26T19:02:46.118202",
     "exception": false,
     "start_time": "2021-07-26T19:02:45.963840",
     "status": "completed"
    },
    "tags": []
   },
   "outputs": [
    {
     "data": {
      "text/plain": [
       "Title\n",
       "Master      17\n",
       "Miss        64\n",
       "Mr         183\n",
       "Mrs         62\n",
       "Officer      5\n",
       "Royalty      1\n",
       "Name: Age, dtype: int64"
      ]
     },
     "execution_count": 47,
     "metadata": {},
     "output_type": "execute_result"
    }
   ],
   "source": [
    "titanictest.groupby('Title').Age.count()"
   ]
  },
  {
   "cell_type": "code",
   "execution_count": 48,
   "id": "43f4191c",
   "metadata": {
    "execution": {
     "iopub.execute_input": "2021-07-26T19:02:46.393543Z",
     "iopub.status.busy": "2021-07-26T19:02:46.392365Z",
     "iopub.status.idle": "2021-07-26T19:02:46.404529Z",
     "shell.execute_reply": "2021-07-26T19:02:46.403819Z",
     "shell.execute_reply.started": "2021-07-26T18:25:49.741425Z"
    },
    "papermill": {
     "duration": 0.150558,
     "end_time": "2021-07-26T19:02:46.404709",
     "exception": false,
     "start_time": "2021-07-26T19:02:46.254151",
     "status": "completed"
    },
    "tags": []
   },
   "outputs": [
    {
     "data": {
      "text/plain": [
       "Title\n",
       "Master      36\n",
       "Miss       148\n",
       "Mr         398\n",
       "Mrs        110\n",
       "Officer     17\n",
       "Royalty      4\n",
       "Name: Age, dtype: int64"
      ]
     },
     "execution_count": 48,
     "metadata": {},
     "output_type": "execute_result"
    }
   ],
   "source": [
    "titanictrain.groupby('Title').Age.count()"
   ]
  },
  {
   "cell_type": "markdown",
   "id": "8572af8a",
   "metadata": {
    "papermill": {
     "duration": 0.191755,
     "end_time": "2021-07-26T19:02:46.730707",
     "exception": false,
     "start_time": "2021-07-26T19:02:46.538952",
     "status": "completed"
    },
    "tags": []
   },
   "source": [
    "title has more impact on the age of passenegers ,so Replacing null Age by taking title wise mean\n"
   ]
  },
  {
   "cell_type": "code",
   "execution_count": 49,
   "id": "3ef45969",
   "metadata": {
    "execution": {
     "iopub.execute_input": "2021-07-26T19:02:47.097333Z",
     "iopub.status.busy": "2021-07-26T19:02:47.096285Z",
     "iopub.status.idle": "2021-07-26T19:02:47.100155Z",
     "shell.execute_reply": "2021-07-26T19:02:47.100692Z",
     "shell.execute_reply.started": "2021-07-26T18:25:49.754114Z"
    },
    "papermill": {
     "duration": 0.175856,
     "end_time": "2021-07-26T19:02:47.100908",
     "exception": false,
     "start_time": "2021-07-26T19:02:46.925052",
     "status": "completed"
    },
    "tags": []
   },
   "outputs": [
    {
     "data": {
      "text/plain": [
       "10    NaN\n",
       "22    NaN\n",
       "29    NaN\n",
       "33    NaN\n",
       "36    NaN\n",
       "       ..\n",
       "408   NaN\n",
       "410   NaN\n",
       "413   NaN\n",
       "416   NaN\n",
       "417   NaN\n",
       "Name: Age, Length: 86, dtype: float64"
      ]
     },
     "execution_count": 49,
     "metadata": {},
     "output_type": "execute_result"
    }
   ],
   "source": [
    "r=titanictest[\"Age\"][np.isnan(titanictest[\"Age\"])]\n",
    "r"
   ]
  },
  {
   "cell_type": "code",
   "execution_count": 50,
   "id": "8fd410ec",
   "metadata": {
    "execution": {
     "iopub.execute_input": "2021-07-26T19:02:47.371599Z",
     "iopub.status.busy": "2021-07-26T19:02:47.370644Z",
     "iopub.status.idle": "2021-07-26T19:02:47.381053Z",
     "shell.execute_reply": "2021-07-26T19:02:47.380448Z",
     "shell.execute_reply.started": "2021-07-26T18:25:49.765884Z"
    },
    "papermill": {
     "duration": 0.149099,
     "end_time": "2021-07-26T19:02:47.381233",
     "exception": false,
     "start_time": "2021-07-26T19:02:47.232134",
     "status": "completed"
    },
    "tags": []
   },
   "outputs": [
    {
     "data": {
      "text/plain": [
       "Title\n",
       "Master      4.574167\n",
       "Miss       21.804054\n",
       "Mr         32.368090\n",
       "Mrs        35.718182\n",
       "Officer    46.705882\n",
       "Royalty    43.750000\n",
       "Name: Age, dtype: float64"
      ]
     },
     "execution_count": 50,
     "metadata": {},
     "output_type": "execute_result"
    }
   ],
   "source": [
    "titanictrain.groupby('Title').Age.mean()"
   ]
  },
  {
   "cell_type": "code",
   "execution_count": 51,
   "id": "c200af47",
   "metadata": {
    "execution": {
     "iopub.execute_input": "2021-07-26T19:02:47.664035Z",
     "iopub.status.busy": "2021-07-26T19:02:47.663178Z",
     "iopub.status.idle": "2021-07-26T19:02:47.668551Z",
     "shell.execute_reply": "2021-07-26T19:02:47.667952Z",
     "shell.execute_reply.started": "2021-07-26T18:25:49.778787Z"
    },
    "papermill": {
     "duration": 0.148967,
     "end_time": "2021-07-26T19:02:47.668786",
     "exception": false,
     "start_time": "2021-07-26T19:02:47.519819",
     "status": "completed"
    },
    "tags": []
   },
   "outputs": [
    {
     "data": {
      "text/plain": [
       "Title\n",
       "Master      7.406471\n",
       "Miss       21.774844\n",
       "Mr         32.000000\n",
       "Mrs        38.903226\n",
       "Officer    44.800000\n",
       "Royalty    39.000000\n",
       "Name: Age, dtype: float64"
      ]
     },
     "execution_count": 51,
     "metadata": {},
     "output_type": "execute_result"
    }
   ],
   "source": [
    "titanictest.groupby('Title').Age.mean()"
   ]
  },
  {
   "cell_type": "markdown",
   "id": "41745c4d",
   "metadata": {
    "papermill": {
     "duration": 0.128755,
     "end_time": "2021-07-26T19:02:47.932441",
     "exception": false,
     "start_time": "2021-07-26T19:02:47.803686",
     "status": "completed"
    },
    "tags": []
   },
   "source": [
    "**Replacing missing values of age ,title wise for both test and train**"
   ]
  },
  {
   "cell_type": "code",
   "execution_count": 52,
   "id": "e6e1e21f",
   "metadata": {
    "execution": {
     "iopub.execute_input": "2021-07-26T19:02:48.204644Z",
     "iopub.status.busy": "2021-07-26T19:02:48.203819Z",
     "iopub.status.idle": "2021-07-26T19:02:48.206727Z",
     "shell.execute_reply": "2021-07-26T19:02:48.207204Z",
     "shell.execute_reply.started": "2021-07-26T18:25:49.789588Z"
    },
    "papermill": {
     "duration": 0.143705,
     "end_time": "2021-07-26T19:02:48.207404",
     "exception": false,
     "start_time": "2021-07-26T19:02:48.063699",
     "status": "completed"
    },
    "tags": []
   },
   "outputs": [],
   "source": [
    "titanictrain.loc[(titanictrain['Title']=='Miss')&(pd.isnull(titanictrain.Age)), 'Age'] =21"
   ]
  },
  {
   "cell_type": "code",
   "execution_count": 53,
   "id": "be35f712",
   "metadata": {
    "execution": {
     "iopub.execute_input": "2021-07-26T19:02:48.478521Z",
     "iopub.status.busy": "2021-07-26T19:02:48.477810Z",
     "iopub.status.idle": "2021-07-26T19:02:48.480292Z",
     "shell.execute_reply": "2021-07-26T19:02:48.479639Z",
     "shell.execute_reply.started": "2021-07-26T18:25:49.799441Z"
    },
    "papermill": {
     "duration": 0.142859,
     "end_time": "2021-07-26T19:02:48.480456",
     "exception": false,
     "start_time": "2021-07-26T19:02:48.337597",
     "status": "completed"
    },
    "tags": []
   },
   "outputs": [],
   "source": [
    "titanictest.loc[(titanictest['Title']=='Miss')&(pd.isnull(titanictest.Age)), 'Age'] =21"
   ]
  },
  {
   "cell_type": "code",
   "execution_count": 54,
   "id": "624939ee",
   "metadata": {
    "execution": {
     "iopub.execute_input": "2021-07-26T19:02:48.751524Z",
     "iopub.status.busy": "2021-07-26T19:02:48.750761Z",
     "iopub.status.idle": "2021-07-26T19:02:48.753930Z",
     "shell.execute_reply": "2021-07-26T19:02:48.753384Z",
     "shell.execute_reply.started": "2021-07-26T18:25:49.810273Z"
    },
    "papermill": {
     "duration": 0.140709,
     "end_time": "2021-07-26T19:02:48.754094",
     "exception": false,
     "start_time": "2021-07-26T19:02:48.613385",
     "status": "completed"
    },
    "tags": []
   },
   "outputs": [],
   "source": [
    "titanictrain.loc[(titanictrain['Title']=='Master')&(pd.isnull(titanictrain.Age)), 'Age'] =4"
   ]
  },
  {
   "cell_type": "code",
   "execution_count": 55,
   "id": "9962d555",
   "metadata": {
    "execution": {
     "iopub.execute_input": "2021-07-26T19:02:49.028970Z",
     "iopub.status.busy": "2021-07-26T19:02:49.028029Z",
     "iopub.status.idle": "2021-07-26T19:02:49.031718Z",
     "shell.execute_reply": "2021-07-26T19:02:49.030971Z",
     "shell.execute_reply.started": "2021-07-26T18:25:49.823326Z"
    },
    "papermill": {
     "duration": 0.141698,
     "end_time": "2021-07-26T19:02:49.031903",
     "exception": false,
     "start_time": "2021-07-26T19:02:48.890205",
     "status": "completed"
    },
    "tags": []
   },
   "outputs": [],
   "source": [
    "titanictest.loc[(titanictest['Title']=='Master')&(pd.isnull(titanictest.Age)), 'Age'] =7"
   ]
  },
  {
   "cell_type": "code",
   "execution_count": 56,
   "id": "acec21ed",
   "metadata": {
    "execution": {
     "iopub.execute_input": "2021-07-26T19:02:49.304818Z",
     "iopub.status.busy": "2021-07-26T19:02:49.304095Z",
     "iopub.status.idle": "2021-07-26T19:02:49.308535Z",
     "shell.execute_reply": "2021-07-26T19:02:49.307512Z",
     "shell.execute_reply.started": "2021-07-26T18:25:49.836043Z"
    },
    "papermill": {
     "duration": 0.143073,
     "end_time": "2021-07-26T19:02:49.308786",
     "exception": false,
     "start_time": "2021-07-26T19:02:49.165713",
     "status": "completed"
    },
    "tags": []
   },
   "outputs": [],
   "source": [
    "titanictrain.loc[(titanictrain['Title']=='Mr')&(pd.isnull(titanictrain.Age)), 'Age'] =32"
   ]
  },
  {
   "cell_type": "code",
   "execution_count": 57,
   "id": "7022387a",
   "metadata": {
    "execution": {
     "iopub.execute_input": "2021-07-26T19:02:49.585327Z",
     "iopub.status.busy": "2021-07-26T19:02:49.584409Z",
     "iopub.status.idle": "2021-07-26T19:02:49.586302Z",
     "shell.execute_reply": "2021-07-26T19:02:49.586980Z",
     "shell.execute_reply.started": "2021-07-26T18:25:49.845883Z"
    },
    "papermill": {
     "duration": 0.147841,
     "end_time": "2021-07-26T19:02:49.587192",
     "exception": false,
     "start_time": "2021-07-26T19:02:49.439351",
     "status": "completed"
    },
    "tags": []
   },
   "outputs": [],
   "source": [
    "titanictest.loc[(titanictest['Title']=='Mr')&(pd.isnull(titanictest.Age)), 'Age'] =32"
   ]
  },
  {
   "cell_type": "code",
   "execution_count": 58,
   "id": "ff9f7840",
   "metadata": {
    "execution": {
     "iopub.execute_input": "2021-07-26T19:02:49.855373Z",
     "iopub.status.busy": "2021-07-26T19:02:49.854637Z",
     "iopub.status.idle": "2021-07-26T19:02:49.861859Z",
     "shell.execute_reply": "2021-07-26T19:02:49.862439Z",
     "shell.execute_reply.started": "2021-07-26T18:25:49.855736Z"
    },
    "papermill": {
     "duration": 0.144748,
     "end_time": "2021-07-26T19:02:49.862670",
     "exception": false,
     "start_time": "2021-07-26T19:02:49.717922",
     "status": "completed"
    },
    "tags": []
   },
   "outputs": [],
   "source": [
    "titanictrain.loc[(titanictrain['Title']=='Officer')&(pd.isnull(titanictrain.Age)), 'Age'] =46"
   ]
  },
  {
   "cell_type": "code",
   "execution_count": 59,
   "id": "309a0cff",
   "metadata": {
    "execution": {
     "iopub.execute_input": "2021-07-26T19:02:50.139186Z",
     "iopub.status.busy": "2021-07-26T19:02:50.138436Z",
     "iopub.status.idle": "2021-07-26T19:02:50.145542Z",
     "shell.execute_reply": "2021-07-26T19:02:50.146128Z",
     "shell.execute_reply.started": "2021-07-26T18:25:49.871006Z"
    },
    "papermill": {
     "duration": 0.148821,
     "end_time": "2021-07-26T19:02:50.146337",
     "exception": false,
     "start_time": "2021-07-26T19:02:49.997516",
     "status": "completed"
    },
    "tags": []
   },
   "outputs": [],
   "source": [
    "titanictest.loc[(titanictest['Title']=='Officer')&(pd.isnull(titanictest.Age)), 'Age'] =44"
   ]
  },
  {
   "cell_type": "code",
   "execution_count": 60,
   "id": "f4e4710a",
   "metadata": {
    "execution": {
     "iopub.execute_input": "2021-07-26T19:02:50.408882Z",
     "iopub.status.busy": "2021-07-26T19:02:50.408146Z",
     "iopub.status.idle": "2021-07-26T19:02:50.414514Z",
     "shell.execute_reply": "2021-07-26T19:02:50.415108Z",
     "shell.execute_reply.started": "2021-07-26T18:25:49.881787Z"
    },
    "papermill": {
     "duration": 0.139639,
     "end_time": "2021-07-26T19:02:50.415316",
     "exception": false,
     "start_time": "2021-07-26T19:02:50.275677",
     "status": "completed"
    },
    "tags": []
   },
   "outputs": [],
   "source": [
    "titanictrain.loc[(titanictrain['Title']=='Royalty')&(pd.isnull(titanictrain.Age)), 'Age'] =43"
   ]
  },
  {
   "cell_type": "code",
   "execution_count": 61,
   "id": "64c2c7d8",
   "metadata": {
    "execution": {
     "iopub.execute_input": "2021-07-26T19:02:50.685579Z",
     "iopub.status.busy": "2021-07-26T19:02:50.684925Z",
     "iopub.status.idle": "2021-07-26T19:02:50.691367Z",
     "shell.execute_reply": "2021-07-26T19:02:50.691916Z",
     "shell.execute_reply.started": "2021-07-26T18:25:49.892919Z"
    },
    "papermill": {
     "duration": 0.143977,
     "end_time": "2021-07-26T19:02:50.692118",
     "exception": false,
     "start_time": "2021-07-26T19:02:50.548141",
     "status": "completed"
    },
    "tags": []
   },
   "outputs": [],
   "source": [
    "titanictest.loc[(titanictest['Title']=='Royalty')&(pd.isnull(titanictest.Age)), 'Age'] =39"
   ]
  },
  {
   "cell_type": "code",
   "execution_count": 62,
   "id": "89a03d46",
   "metadata": {
    "execution": {
     "iopub.execute_input": "2021-07-26T19:02:50.958113Z",
     "iopub.status.busy": "2021-07-26T19:02:50.957375Z",
     "iopub.status.idle": "2021-07-26T19:02:50.963916Z",
     "shell.execute_reply": "2021-07-26T19:02:50.964416Z",
     "shell.execute_reply.started": "2021-07-26T18:25:49.903277Z"
    },
    "papermill": {
     "duration": 0.140366,
     "end_time": "2021-07-26T19:02:50.964647",
     "exception": false,
     "start_time": "2021-07-26T19:02:50.824281",
     "status": "completed"
    },
    "tags": []
   },
   "outputs": [],
   "source": [
    "titanictrain.loc[(titanictrain['Title']=='Mrs')&(pd.isnull(titanictrain.Age)), 'Age'] =35"
   ]
  },
  {
   "cell_type": "code",
   "execution_count": 63,
   "id": "f6b440aa",
   "metadata": {
    "execution": {
     "iopub.execute_input": "2021-07-26T19:02:51.221846Z",
     "iopub.status.busy": "2021-07-26T19:02:51.221130Z",
     "iopub.status.idle": "2021-07-26T19:02:51.228590Z",
     "shell.execute_reply": "2021-07-26T19:02:51.228023Z",
     "shell.execute_reply.started": "2021-07-26T18:25:49.913919Z"
    },
    "papermill": {
     "duration": 0.136685,
     "end_time": "2021-07-26T19:02:51.228786",
     "exception": false,
     "start_time": "2021-07-26T19:02:51.092101",
     "status": "completed"
    },
    "tags": []
   },
   "outputs": [],
   "source": [
    "titanictest.loc[(titanictest['Title']=='Mrs')&(pd.isnull(titanictest.Age)), 'Age'] =38"
   ]
  },
  {
   "cell_type": "code",
   "execution_count": 64,
   "id": "4232d433",
   "metadata": {
    "execution": {
     "iopub.execute_input": "2021-07-26T19:02:51.496296Z",
     "iopub.status.busy": "2021-07-26T19:02:51.495443Z",
     "iopub.status.idle": "2021-07-26T19:02:51.498339Z",
     "shell.execute_reply": "2021-07-26T19:02:51.498849Z",
     "shell.execute_reply.started": "2021-07-26T18:25:49.926022Z"
    },
    "papermill": {
     "duration": 0.137663,
     "end_time": "2021-07-26T19:02:51.499040",
     "exception": false,
     "start_time": "2021-07-26T19:02:51.361377",
     "status": "completed"
    },
    "tags": []
   },
   "outputs": [
    {
     "data": {
      "text/plain": [
       "0"
      ]
     },
     "execution_count": 64,
     "metadata": {},
     "output_type": "execute_result"
    }
   ],
   "source": [
    "titanictrain['Age'].isnull().sum()"
   ]
  },
  {
   "cell_type": "code",
   "execution_count": 65,
   "id": "4293ef3a",
   "metadata": {
    "execution": {
     "iopub.execute_input": "2021-07-26T19:02:51.764505Z",
     "iopub.status.busy": "2021-07-26T19:02:51.763689Z",
     "iopub.status.idle": "2021-07-26T19:02:51.770518Z",
     "shell.execute_reply": "2021-07-26T19:02:51.771199Z",
     "shell.execute_reply.started": "2021-07-26T18:25:49.936996Z"
    },
    "papermill": {
     "duration": 0.141307,
     "end_time": "2021-07-26T19:02:51.771432",
     "exception": false,
     "start_time": "2021-07-26T19:02:51.630125",
     "status": "completed"
    },
    "tags": []
   },
   "outputs": [
    {
     "data": {
      "text/plain": [
       "0"
      ]
     },
     "execution_count": 65,
     "metadata": {},
     "output_type": "execute_result"
    }
   ],
   "source": [
    "titanictest['Age'].isnull().sum()"
   ]
  },
  {
   "cell_type": "markdown",
   "id": "a43d14ab",
   "metadata": {
    "papermill": {
     "duration": 0.136024,
     "end_time": "2021-07-26T19:02:52.042397",
     "exception": false,
     "start_time": "2021-07-26T19:02:51.906373",
     "status": "completed"
    },
    "tags": []
   },
   "source": [
    "All the null values are replaced for test and train"
   ]
  },
  {
   "cell_type": "markdown",
   "id": "77f8e921",
   "metadata": {
    "papermill": {
     "duration": 0.131007,
     "end_time": "2021-07-26T19:02:52.307846",
     "exception": false,
     "start_time": "2021-07-26T19:02:52.176839",
     "status": "completed"
    },
    "tags": []
   },
   "source": [
    "Replace Null for Fare in test data"
   ]
  },
  {
   "cell_type": "code",
   "execution_count": 66,
   "id": "d91e010e",
   "metadata": {
    "execution": {
     "iopub.execute_input": "2021-07-26T19:02:52.564567Z",
     "iopub.status.busy": "2021-07-26T19:02:52.563901Z",
     "iopub.status.idle": "2021-07-26T19:02:52.569433Z",
     "shell.execute_reply": "2021-07-26T19:02:52.569936Z",
     "shell.execute_reply.started": "2021-07-26T18:25:49.946885Z"
    },
    "papermill": {
     "duration": 0.134846,
     "end_time": "2021-07-26T19:02:52.570131",
     "exception": false,
     "start_time": "2021-07-26T19:02:52.435285",
     "status": "completed"
    },
    "tags": []
   },
   "outputs": [
    {
     "data": {
      "text/plain": [
       "35.6271884892086"
      ]
     },
     "execution_count": 66,
     "metadata": {},
     "output_type": "execute_result"
    }
   ],
   "source": [
    "titanictest['Fare'].mean()"
   ]
  },
  {
   "cell_type": "code",
   "execution_count": 67,
   "id": "d0b8b2eb",
   "metadata": {
    "execution": {
     "iopub.execute_input": "2021-07-26T19:02:52.836038Z",
     "iopub.status.busy": "2021-07-26T19:02:52.835239Z",
     "iopub.status.idle": "2021-07-26T19:02:52.840847Z",
     "shell.execute_reply": "2021-07-26T19:02:52.841757Z",
     "shell.execute_reply.started": "2021-07-26T18:25:49.958076Z"
    },
    "papermill": {
     "duration": 0.137871,
     "end_time": "2021-07-26T19:02:52.842016",
     "exception": false,
     "start_time": "2021-07-26T19:02:52.704145",
     "status": "completed"
    },
    "tags": []
   },
   "outputs": [],
   "source": [
    "titanictest.loc[((pd.isnull(titanictest.Fare))), 'Fare'] =35"
   ]
  },
  {
   "cell_type": "code",
   "execution_count": 68,
   "id": "9f7543ea",
   "metadata": {
    "execution": {
     "iopub.execute_input": "2021-07-26T19:02:53.108599Z",
     "iopub.status.busy": "2021-07-26T19:02:53.107918Z",
     "iopub.status.idle": "2021-07-26T19:02:53.114783Z",
     "shell.execute_reply": "2021-07-26T19:02:53.115291Z",
     "shell.execute_reply.started": "2021-07-26T18:25:49.966272Z"
    },
    "papermill": {
     "duration": 0.142523,
     "end_time": "2021-07-26T19:02:53.115488",
     "exception": false,
     "start_time": "2021-07-26T19:02:52.972965",
     "status": "completed"
    },
    "tags": []
   },
   "outputs": [
    {
     "data": {
      "text/plain": [
       "0"
      ]
     },
     "execution_count": 68,
     "metadata": {},
     "output_type": "execute_result"
    }
   ],
   "source": [
    "(titanictest['Fare']).isnull().sum()"
   ]
  },
  {
   "cell_type": "markdown",
   "id": "fc26801f",
   "metadata": {
    "papermill": {
     "duration": 0.126569,
     "end_time": "2021-07-26T19:02:53.370038",
     "exception": false,
     "start_time": "2021-07-26T19:02:53.243469",
     "status": "completed"
    },
    "tags": []
   },
   "source": [
    "Converting categorical columns to num via dummy encoding"
   ]
  },
  {
   "cell_type": "code",
   "execution_count": 69,
   "id": "65c83107",
   "metadata": {
    "execution": {
     "iopub.execute_input": "2021-07-26T19:02:53.629729Z",
     "iopub.status.busy": "2021-07-26T19:02:53.628705Z",
     "iopub.status.idle": "2021-07-26T19:02:53.646366Z",
     "shell.execute_reply": "2021-07-26T19:02:53.645675Z",
     "shell.execute_reply.started": "2021-07-26T18:25:49.979142Z"
    },
    "papermill": {
     "duration": 0.148727,
     "end_time": "2021-07-26T19:02:53.646528",
     "exception": false,
     "start_time": "2021-07-26T19:02:53.497801",
     "status": "completed"
    },
    "tags": []
   },
   "outputs": [
    {
     "data": {
      "text/html": [
       "<div>\n",
       "<style scoped>\n",
       "    .dataframe tbody tr th:only-of-type {\n",
       "        vertical-align: middle;\n",
       "    }\n",
       "\n",
       "    .dataframe tbody tr th {\n",
       "        vertical-align: top;\n",
       "    }\n",
       "\n",
       "    .dataframe thead th {\n",
       "        text-align: right;\n",
       "    }\n",
       "</style>\n",
       "<table border=\"1\" class=\"dataframe\">\n",
       "  <thead>\n",
       "    <tr style=\"text-align: right;\">\n",
       "      <th></th>\n",
       "      <th>Survived</th>\n",
       "      <th>Pclass</th>\n",
       "      <th>Sex</th>\n",
       "      <th>Age</th>\n",
       "      <th>SibSp</th>\n",
       "      <th>Parch</th>\n",
       "      <th>Fare</th>\n",
       "      <th>Embarked</th>\n",
       "      <th>Title</th>\n",
       "    </tr>\n",
       "  </thead>\n",
       "  <tbody>\n",
       "    <tr>\n",
       "      <th>0</th>\n",
       "      <td>0</td>\n",
       "      <td>3</td>\n",
       "      <td>male</td>\n",
       "      <td>22.0</td>\n",
       "      <td>1</td>\n",
       "      <td>0</td>\n",
       "      <td>7.2500</td>\n",
       "      <td>S</td>\n",
       "      <td>Mr</td>\n",
       "    </tr>\n",
       "    <tr>\n",
       "      <th>1</th>\n",
       "      <td>1</td>\n",
       "      <td>1</td>\n",
       "      <td>female</td>\n",
       "      <td>38.0</td>\n",
       "      <td>1</td>\n",
       "      <td>0</td>\n",
       "      <td>71.2833</td>\n",
       "      <td>C</td>\n",
       "      <td>Mrs</td>\n",
       "    </tr>\n",
       "    <tr>\n",
       "      <th>2</th>\n",
       "      <td>1</td>\n",
       "      <td>3</td>\n",
       "      <td>female</td>\n",
       "      <td>26.0</td>\n",
       "      <td>0</td>\n",
       "      <td>0</td>\n",
       "      <td>7.9250</td>\n",
       "      <td>S</td>\n",
       "      <td>Miss</td>\n",
       "    </tr>\n",
       "    <tr>\n",
       "      <th>3</th>\n",
       "      <td>1</td>\n",
       "      <td>1</td>\n",
       "      <td>female</td>\n",
       "      <td>35.0</td>\n",
       "      <td>1</td>\n",
       "      <td>0</td>\n",
       "      <td>53.1000</td>\n",
       "      <td>S</td>\n",
       "      <td>Mrs</td>\n",
       "    </tr>\n",
       "    <tr>\n",
       "      <th>4</th>\n",
       "      <td>0</td>\n",
       "      <td>3</td>\n",
       "      <td>male</td>\n",
       "      <td>35.0</td>\n",
       "      <td>0</td>\n",
       "      <td>0</td>\n",
       "      <td>8.0500</td>\n",
       "      <td>S</td>\n",
       "      <td>Mr</td>\n",
       "    </tr>\n",
       "  </tbody>\n",
       "</table>\n",
       "</div>"
      ],
      "text/plain": [
       "   Survived  Pclass     Sex   Age  SibSp  Parch     Fare Embarked Title\n",
       "0         0       3    male  22.0      1      0   7.2500        S    Mr\n",
       "1         1       1  female  38.0      1      0  71.2833        C   Mrs\n",
       "2         1       3  female  26.0      0      0   7.9250        S  Miss\n",
       "3         1       1  female  35.0      1      0  53.1000        S   Mrs\n",
       "4         0       3    male  35.0      0      0   8.0500        S    Mr"
      ]
     },
     "execution_count": 69,
     "metadata": {},
     "output_type": "execute_result"
    }
   ],
   "source": [
    "titanictrain.head()"
   ]
  },
  {
   "cell_type": "markdown",
   "id": "7147440f",
   "metadata": {
    "papermill": {
     "duration": 0.13174,
     "end_time": "2021-07-26T19:02:53.908100",
     "exception": false,
     "start_time": "2021-07-26T19:02:53.776360",
     "status": "completed"
    },
    "tags": []
   },
   "source": [
    "drop_first=True -> to avoid multicollnearity problem"
   ]
  },
  {
   "cell_type": "code",
   "execution_count": 70,
   "id": "704e8a90",
   "metadata": {
    "execution": {
     "iopub.execute_input": "2021-07-26T19:02:54.188502Z",
     "iopub.status.busy": "2021-07-26T19:02:54.187386Z",
     "iopub.status.idle": "2021-07-26T19:02:54.200442Z",
     "shell.execute_reply": "2021-07-26T19:02:54.200957Z",
     "shell.execute_reply.started": "2021-07-26T18:25:49.99696Z"
    },
    "papermill": {
     "duration": 0.161182,
     "end_time": "2021-07-26T19:02:54.201178",
     "exception": false,
     "start_time": "2021-07-26T19:02:54.039996",
     "status": "completed"
    },
    "tags": []
   },
   "outputs": [],
   "source": [
    "titanictrain = pd.get_dummies(titanictrain, columns=['Title','Sex', 'Embarked'],drop_first=True)\n",
    "titanictest = pd.get_dummies(titanictest, columns=['Title','Sex','Embarked'],drop_first=True)"
   ]
  },
  {
   "cell_type": "code",
   "execution_count": 71,
   "id": "cb5e58c2",
   "metadata": {
    "execution": {
     "iopub.execute_input": "2021-07-26T19:02:54.481029Z",
     "iopub.status.busy": "2021-07-26T19:02:54.473661Z",
     "iopub.status.idle": "2021-07-26T19:02:54.492240Z",
     "shell.execute_reply": "2021-07-26T19:02:54.491489Z",
     "shell.execute_reply.started": "2021-07-26T18:25:50.016672Z"
    },
    "papermill": {
     "duration": 0.16074,
     "end_time": "2021-07-26T19:02:54.492404",
     "exception": false,
     "start_time": "2021-07-26T19:02:54.331664",
     "status": "completed"
    },
    "tags": []
   },
   "outputs": [
    {
     "data": {
      "text/html": [
       "<div>\n",
       "<style scoped>\n",
       "    .dataframe tbody tr th:only-of-type {\n",
       "        vertical-align: middle;\n",
       "    }\n",
       "\n",
       "    .dataframe tbody tr th {\n",
       "        vertical-align: top;\n",
       "    }\n",
       "\n",
       "    .dataframe thead th {\n",
       "        text-align: right;\n",
       "    }\n",
       "</style>\n",
       "<table border=\"1\" class=\"dataframe\">\n",
       "  <thead>\n",
       "    <tr style=\"text-align: right;\">\n",
       "      <th></th>\n",
       "      <th>Survived</th>\n",
       "      <th>Pclass</th>\n",
       "      <th>Age</th>\n",
       "      <th>SibSp</th>\n",
       "      <th>Parch</th>\n",
       "      <th>Fare</th>\n",
       "      <th>Title_Miss</th>\n",
       "      <th>Title_Mr</th>\n",
       "      <th>Title_Mrs</th>\n",
       "      <th>Title_Officer</th>\n",
       "      <th>Title_Royalty</th>\n",
       "      <th>Sex_male</th>\n",
       "      <th>Embarked_Q</th>\n",
       "      <th>Embarked_S</th>\n",
       "    </tr>\n",
       "  </thead>\n",
       "  <tbody>\n",
       "    <tr>\n",
       "      <th>0</th>\n",
       "      <td>0</td>\n",
       "      <td>3</td>\n",
       "      <td>22.0</td>\n",
       "      <td>1</td>\n",
       "      <td>0</td>\n",
       "      <td>7.2500</td>\n",
       "      <td>0</td>\n",
       "      <td>1</td>\n",
       "      <td>0</td>\n",
       "      <td>0</td>\n",
       "      <td>0</td>\n",
       "      <td>1</td>\n",
       "      <td>0</td>\n",
       "      <td>1</td>\n",
       "    </tr>\n",
       "    <tr>\n",
       "      <th>1</th>\n",
       "      <td>1</td>\n",
       "      <td>1</td>\n",
       "      <td>38.0</td>\n",
       "      <td>1</td>\n",
       "      <td>0</td>\n",
       "      <td>71.2833</td>\n",
       "      <td>0</td>\n",
       "      <td>0</td>\n",
       "      <td>1</td>\n",
       "      <td>0</td>\n",
       "      <td>0</td>\n",
       "      <td>0</td>\n",
       "      <td>0</td>\n",
       "      <td>0</td>\n",
       "    </tr>\n",
       "    <tr>\n",
       "      <th>2</th>\n",
       "      <td>1</td>\n",
       "      <td>3</td>\n",
       "      <td>26.0</td>\n",
       "      <td>0</td>\n",
       "      <td>0</td>\n",
       "      <td>7.9250</td>\n",
       "      <td>1</td>\n",
       "      <td>0</td>\n",
       "      <td>0</td>\n",
       "      <td>0</td>\n",
       "      <td>0</td>\n",
       "      <td>0</td>\n",
       "      <td>0</td>\n",
       "      <td>1</td>\n",
       "    </tr>\n",
       "    <tr>\n",
       "      <th>3</th>\n",
       "      <td>1</td>\n",
       "      <td>1</td>\n",
       "      <td>35.0</td>\n",
       "      <td>1</td>\n",
       "      <td>0</td>\n",
       "      <td>53.1000</td>\n",
       "      <td>0</td>\n",
       "      <td>0</td>\n",
       "      <td>1</td>\n",
       "      <td>0</td>\n",
       "      <td>0</td>\n",
       "      <td>0</td>\n",
       "      <td>0</td>\n",
       "      <td>1</td>\n",
       "    </tr>\n",
       "    <tr>\n",
       "      <th>4</th>\n",
       "      <td>0</td>\n",
       "      <td>3</td>\n",
       "      <td>35.0</td>\n",
       "      <td>0</td>\n",
       "      <td>0</td>\n",
       "      <td>8.0500</td>\n",
       "      <td>0</td>\n",
       "      <td>1</td>\n",
       "      <td>0</td>\n",
       "      <td>0</td>\n",
       "      <td>0</td>\n",
       "      <td>1</td>\n",
       "      <td>0</td>\n",
       "      <td>1</td>\n",
       "    </tr>\n",
       "  </tbody>\n",
       "</table>\n",
       "</div>"
      ],
      "text/plain": [
       "   Survived  Pclass   Age  SibSp  Parch     Fare  Title_Miss  Title_Mr  \\\n",
       "0         0       3  22.0      1      0   7.2500           0         1   \n",
       "1         1       1  38.0      1      0  71.2833           0         0   \n",
       "2         1       3  26.0      0      0   7.9250           1         0   \n",
       "3         1       1  35.0      1      0  53.1000           0         0   \n",
       "4         0       3  35.0      0      0   8.0500           0         1   \n",
       "\n",
       "   Title_Mrs  Title_Officer  Title_Royalty  Sex_male  Embarked_Q  Embarked_S  \n",
       "0          0              0              0         1           0           1  \n",
       "1          1              0              0         0           0           0  \n",
       "2          0              0              0         0           0           1  \n",
       "3          1              0              0         0           0           1  \n",
       "4          0              0              0         1           0           1  "
      ]
     },
     "execution_count": 71,
     "metadata": {},
     "output_type": "execute_result"
    }
   ],
   "source": [
    "titanictrain.head()"
   ]
  },
  {
   "cell_type": "markdown",
   "id": "b4935bd1",
   "metadata": {
    "papermill": {
     "duration": 0.134907,
     "end_time": "2021-07-26T19:02:54.759298",
     "exception": false,
     "start_time": "2021-07-26T19:02:54.624391",
     "status": "completed"
    },
    "tags": []
   },
   "source": [
    "**Scaling Continouse variables(Age,Fare) with minmax scalar**"
   ]
  },
  {
   "cell_type": "code",
   "execution_count": 72,
   "id": "deab18bb",
   "metadata": {
    "execution": {
     "iopub.execute_input": "2021-07-26T19:02:55.032891Z",
     "iopub.status.busy": "2021-07-26T19:02:55.025878Z",
     "iopub.status.idle": "2021-07-26T19:02:55.044788Z",
     "shell.execute_reply": "2021-07-26T19:02:55.045346Z",
     "shell.execute_reply.started": "2021-07-26T18:25:50.032564Z"
    },
    "papermill": {
     "duration": 0.15917,
     "end_time": "2021-07-26T19:02:55.045558",
     "exception": false,
     "start_time": "2021-07-26T19:02:54.886388",
     "status": "completed"
    },
    "tags": []
   },
   "outputs": [],
   "source": [
    "cvar = ['Age', 'Fare']\n",
    "scaler = MinMaxScaler()\n",
    "scaler.fit(titanictrain[cvar])\n",
    "titanictrain[cvar] = scaler.transform(titanictrain[cvar])\n",
    "titanictest[cvar] = scaler.transform(titanictest[cvar])"
   ]
  },
  {
   "cell_type": "code",
   "execution_count": 73,
   "id": "2fcfc807",
   "metadata": {
    "execution": {
     "iopub.execute_input": "2021-07-26T19:02:55.317042Z",
     "iopub.status.busy": "2021-07-26T19:02:55.315990Z",
     "iopub.status.idle": "2021-07-26T19:02:55.332992Z",
     "shell.execute_reply": "2021-07-26T19:02:55.333459Z",
     "shell.execute_reply.started": "2021-07-26T18:25:50.056055Z"
    },
    "papermill": {
     "duration": 0.153705,
     "end_time": "2021-07-26T19:02:55.333691",
     "exception": false,
     "start_time": "2021-07-26T19:02:55.179986",
     "status": "completed"
    },
    "tags": []
   },
   "outputs": [
    {
     "data": {
      "text/html": [
       "<div>\n",
       "<style scoped>\n",
       "    .dataframe tbody tr th:only-of-type {\n",
       "        vertical-align: middle;\n",
       "    }\n",
       "\n",
       "    .dataframe tbody tr th {\n",
       "        vertical-align: top;\n",
       "    }\n",
       "\n",
       "    .dataframe thead th {\n",
       "        text-align: right;\n",
       "    }\n",
       "</style>\n",
       "<table border=\"1\" class=\"dataframe\">\n",
       "  <thead>\n",
       "    <tr style=\"text-align: right;\">\n",
       "      <th></th>\n",
       "      <th>Survived</th>\n",
       "      <th>Pclass</th>\n",
       "      <th>Age</th>\n",
       "      <th>SibSp</th>\n",
       "      <th>Parch</th>\n",
       "      <th>Fare</th>\n",
       "      <th>Title_Miss</th>\n",
       "      <th>Title_Mr</th>\n",
       "      <th>Title_Mrs</th>\n",
       "      <th>Title_Officer</th>\n",
       "      <th>Title_Royalty</th>\n",
       "      <th>Sex_male</th>\n",
       "      <th>Embarked_Q</th>\n",
       "      <th>Embarked_S</th>\n",
       "    </tr>\n",
       "  </thead>\n",
       "  <tbody>\n",
       "    <tr>\n",
       "      <th>0</th>\n",
       "      <td>0</td>\n",
       "      <td>3</td>\n",
       "      <td>0.271174</td>\n",
       "      <td>1</td>\n",
       "      <td>0</td>\n",
       "      <td>0.014151</td>\n",
       "      <td>0</td>\n",
       "      <td>1</td>\n",
       "      <td>0</td>\n",
       "      <td>0</td>\n",
       "      <td>0</td>\n",
       "      <td>1</td>\n",
       "      <td>0</td>\n",
       "      <td>1</td>\n",
       "    </tr>\n",
       "    <tr>\n",
       "      <th>1</th>\n",
       "      <td>1</td>\n",
       "      <td>1</td>\n",
       "      <td>0.472229</td>\n",
       "      <td>1</td>\n",
       "      <td>0</td>\n",
       "      <td>0.139136</td>\n",
       "      <td>0</td>\n",
       "      <td>0</td>\n",
       "      <td>1</td>\n",
       "      <td>0</td>\n",
       "      <td>0</td>\n",
       "      <td>0</td>\n",
       "      <td>0</td>\n",
       "      <td>0</td>\n",
       "    </tr>\n",
       "    <tr>\n",
       "      <th>2</th>\n",
       "      <td>1</td>\n",
       "      <td>3</td>\n",
       "      <td>0.321438</td>\n",
       "      <td>0</td>\n",
       "      <td>0</td>\n",
       "      <td>0.015469</td>\n",
       "      <td>1</td>\n",
       "      <td>0</td>\n",
       "      <td>0</td>\n",
       "      <td>0</td>\n",
       "      <td>0</td>\n",
       "      <td>0</td>\n",
       "      <td>0</td>\n",
       "      <td>1</td>\n",
       "    </tr>\n",
       "    <tr>\n",
       "      <th>3</th>\n",
       "      <td>1</td>\n",
       "      <td>1</td>\n",
       "      <td>0.434531</td>\n",
       "      <td>1</td>\n",
       "      <td>0</td>\n",
       "      <td>0.103644</td>\n",
       "      <td>0</td>\n",
       "      <td>0</td>\n",
       "      <td>1</td>\n",
       "      <td>0</td>\n",
       "      <td>0</td>\n",
       "      <td>0</td>\n",
       "      <td>0</td>\n",
       "      <td>1</td>\n",
       "    </tr>\n",
       "    <tr>\n",
       "      <th>4</th>\n",
       "      <td>0</td>\n",
       "      <td>3</td>\n",
       "      <td>0.434531</td>\n",
       "      <td>0</td>\n",
       "      <td>0</td>\n",
       "      <td>0.015713</td>\n",
       "      <td>0</td>\n",
       "      <td>1</td>\n",
       "      <td>0</td>\n",
       "      <td>0</td>\n",
       "      <td>0</td>\n",
       "      <td>1</td>\n",
       "      <td>0</td>\n",
       "      <td>1</td>\n",
       "    </tr>\n",
       "  </tbody>\n",
       "</table>\n",
       "</div>"
      ],
      "text/plain": [
       "   Survived  Pclass       Age  SibSp  Parch      Fare  Title_Miss  Title_Mr  \\\n",
       "0         0       3  0.271174      1      0  0.014151           0         1   \n",
       "1         1       1  0.472229      1      0  0.139136           0         0   \n",
       "2         1       3  0.321438      0      0  0.015469           1         0   \n",
       "3         1       1  0.434531      1      0  0.103644           0         0   \n",
       "4         0       3  0.434531      0      0  0.015713           0         1   \n",
       "\n",
       "   Title_Mrs  Title_Officer  Title_Royalty  Sex_male  Embarked_Q  Embarked_S  \n",
       "0          0              0              0         1           0           1  \n",
       "1          1              0              0         0           0           0  \n",
       "2          0              0              0         0           0           1  \n",
       "3          1              0              0         0           0           1  \n",
       "4          0              0              0         1           0           1  "
      ]
     },
     "execution_count": 73,
     "metadata": {},
     "output_type": "execute_result"
    }
   ],
   "source": [
    "titanictrain.head()"
   ]
  },
  {
   "cell_type": "code",
   "execution_count": 74,
   "id": "52c85180",
   "metadata": {
    "execution": {
     "iopub.execute_input": "2021-07-26T19:02:55.614300Z",
     "iopub.status.busy": "2021-07-26T19:02:55.613191Z",
     "iopub.status.idle": "2021-07-26T19:02:55.631451Z",
     "shell.execute_reply": "2021-07-26T19:02:55.630740Z",
     "shell.execute_reply.started": "2021-07-26T18:25:50.073258Z"
    },
    "papermill": {
     "duration": 0.162017,
     "end_time": "2021-07-26T19:02:55.631612",
     "exception": false,
     "start_time": "2021-07-26T19:02:55.469595",
     "status": "completed"
    },
    "tags": []
   },
   "outputs": [
    {
     "data": {
      "text/html": [
       "<div>\n",
       "<style scoped>\n",
       "    .dataframe tbody tr th:only-of-type {\n",
       "        vertical-align: middle;\n",
       "    }\n",
       "\n",
       "    .dataframe tbody tr th {\n",
       "        vertical-align: top;\n",
       "    }\n",
       "\n",
       "    .dataframe thead th {\n",
       "        text-align: right;\n",
       "    }\n",
       "</style>\n",
       "<table border=\"1\" class=\"dataframe\">\n",
       "  <thead>\n",
       "    <tr style=\"text-align: right;\">\n",
       "      <th></th>\n",
       "      <th>PassengerId</th>\n",
       "      <th>Pclass</th>\n",
       "      <th>Age</th>\n",
       "      <th>SibSp</th>\n",
       "      <th>Parch</th>\n",
       "      <th>Fare</th>\n",
       "      <th>Title_Miss</th>\n",
       "      <th>Title_Mr</th>\n",
       "      <th>Title_Mrs</th>\n",
       "      <th>Title_Officer</th>\n",
       "      <th>Title_Royalty</th>\n",
       "      <th>Sex_male</th>\n",
       "      <th>Embarked_Q</th>\n",
       "      <th>Embarked_S</th>\n",
       "    </tr>\n",
       "  </thead>\n",
       "  <tbody>\n",
       "    <tr>\n",
       "      <th>0</th>\n",
       "      <td>892</td>\n",
       "      <td>3</td>\n",
       "      <td>0.428248</td>\n",
       "      <td>0</td>\n",
       "      <td>0</td>\n",
       "      <td>0.015282</td>\n",
       "      <td>0</td>\n",
       "      <td>1</td>\n",
       "      <td>0</td>\n",
       "      <td>0</td>\n",
       "      <td>0</td>\n",
       "      <td>1</td>\n",
       "      <td>1</td>\n",
       "      <td>0</td>\n",
       "    </tr>\n",
       "    <tr>\n",
       "      <th>1</th>\n",
       "      <td>893</td>\n",
       "      <td>3</td>\n",
       "      <td>0.585323</td>\n",
       "      <td>1</td>\n",
       "      <td>0</td>\n",
       "      <td>0.013663</td>\n",
       "      <td>0</td>\n",
       "      <td>0</td>\n",
       "      <td>1</td>\n",
       "      <td>0</td>\n",
       "      <td>0</td>\n",
       "      <td>0</td>\n",
       "      <td>0</td>\n",
       "      <td>1</td>\n",
       "    </tr>\n",
       "    <tr>\n",
       "      <th>2</th>\n",
       "      <td>894</td>\n",
       "      <td>2</td>\n",
       "      <td>0.773813</td>\n",
       "      <td>0</td>\n",
       "      <td>0</td>\n",
       "      <td>0.018909</td>\n",
       "      <td>0</td>\n",
       "      <td>1</td>\n",
       "      <td>0</td>\n",
       "      <td>0</td>\n",
       "      <td>0</td>\n",
       "      <td>1</td>\n",
       "      <td>1</td>\n",
       "      <td>0</td>\n",
       "    </tr>\n",
       "    <tr>\n",
       "      <th>3</th>\n",
       "      <td>895</td>\n",
       "      <td>3</td>\n",
       "      <td>0.334004</td>\n",
       "      <td>0</td>\n",
       "      <td>0</td>\n",
       "      <td>0.016908</td>\n",
       "      <td>0</td>\n",
       "      <td>1</td>\n",
       "      <td>0</td>\n",
       "      <td>0</td>\n",
       "      <td>0</td>\n",
       "      <td>1</td>\n",
       "      <td>0</td>\n",
       "      <td>1</td>\n",
       "    </tr>\n",
       "    <tr>\n",
       "      <th>4</th>\n",
       "      <td>896</td>\n",
       "      <td>3</td>\n",
       "      <td>0.271174</td>\n",
       "      <td>1</td>\n",
       "      <td>1</td>\n",
       "      <td>0.023984</td>\n",
       "      <td>0</td>\n",
       "      <td>0</td>\n",
       "      <td>1</td>\n",
       "      <td>0</td>\n",
       "      <td>0</td>\n",
       "      <td>0</td>\n",
       "      <td>0</td>\n",
       "      <td>1</td>\n",
       "    </tr>\n",
       "  </tbody>\n",
       "</table>\n",
       "</div>"
      ],
      "text/plain": [
       "   PassengerId  Pclass       Age  SibSp  Parch      Fare  Title_Miss  \\\n",
       "0          892       3  0.428248      0      0  0.015282           0   \n",
       "1          893       3  0.585323      1      0  0.013663           0   \n",
       "2          894       2  0.773813      0      0  0.018909           0   \n",
       "3          895       3  0.334004      0      0  0.016908           0   \n",
       "4          896       3  0.271174      1      1  0.023984           0   \n",
       "\n",
       "   Title_Mr  Title_Mrs  Title_Officer  Title_Royalty  Sex_male  Embarked_Q  \\\n",
       "0         1          0              0              0         1           1   \n",
       "1         0          1              0              0         0           0   \n",
       "2         1          0              0              0         1           1   \n",
       "3         1          0              0              0         1           0   \n",
       "4         0          1              0              0         0           0   \n",
       "\n",
       "   Embarked_S  \n",
       "0           0  \n",
       "1           1  \n",
       "2           0  \n",
       "3           1  \n",
       "4           1  "
      ]
     },
     "execution_count": 74,
     "metadata": {},
     "output_type": "execute_result"
    }
   ],
   "source": [
    "titanictest.head()"
   ]
  },
  {
   "cell_type": "code",
   "execution_count": 75,
   "id": "5d227123",
   "metadata": {
    "execution": {
     "iopub.execute_input": "2021-07-26T19:02:55.912241Z",
     "iopub.status.busy": "2021-07-26T19:02:55.911413Z",
     "iopub.status.idle": "2021-07-26T19:02:55.914878Z",
     "shell.execute_reply": "2021-07-26T19:02:55.915478Z",
     "shell.execute_reply.started": "2021-07-26T18:25:50.093913Z"
    },
    "papermill": {
     "duration": 0.144472,
     "end_time": "2021-07-26T19:02:55.915739",
     "exception": false,
     "start_time": "2021-07-26T19:02:55.771267",
     "status": "completed"
    },
    "tags": []
   },
   "outputs": [
    {
     "data": {
      "text/plain": [
       "Survived         0\n",
       "Pclass           0\n",
       "Age              0\n",
       "SibSp            0\n",
       "Parch            0\n",
       "Fare             0\n",
       "Title_Miss       0\n",
       "Title_Mr         0\n",
       "Title_Mrs        0\n",
       "Title_Officer    0\n",
       "Title_Royalty    0\n",
       "Sex_male         0\n",
       "Embarked_Q       0\n",
       "Embarked_S       0\n",
       "dtype: int64"
      ]
     },
     "execution_count": 75,
     "metadata": {},
     "output_type": "execute_result"
    }
   ],
   "source": [
    "titanictrain.isnull().sum()"
   ]
  },
  {
   "cell_type": "code",
   "execution_count": 76,
   "id": "dd7e4026",
   "metadata": {
    "execution": {
     "iopub.execute_input": "2021-07-26T19:02:56.198763Z",
     "iopub.status.busy": "2021-07-26T19:02:56.192726Z",
     "iopub.status.idle": "2021-07-26T19:02:56.202632Z",
     "shell.execute_reply": "2021-07-26T19:02:56.203392Z",
     "shell.execute_reply.started": "2021-07-26T18:25:50.108465Z"
    },
    "papermill": {
     "duration": 0.150843,
     "end_time": "2021-07-26T19:02:56.203644",
     "exception": false,
     "start_time": "2021-07-26T19:02:56.052801",
     "status": "completed"
    },
    "tags": []
   },
   "outputs": [
    {
     "data": {
      "text/plain": [
       "PassengerId      0\n",
       "Pclass           0\n",
       "Age              0\n",
       "SibSp            0\n",
       "Parch            0\n",
       "Fare             0\n",
       "Title_Miss       0\n",
       "Title_Mr         0\n",
       "Title_Mrs        0\n",
       "Title_Officer    0\n",
       "Title_Royalty    0\n",
       "Sex_male         0\n",
       "Embarked_Q       0\n",
       "Embarked_S       0\n",
       "dtype: int64"
      ]
     },
     "execution_count": 76,
     "metadata": {},
     "output_type": "execute_result"
    }
   ],
   "source": [
    "titanictest.isnull().sum()"
   ]
  },
  {
   "cell_type": "markdown",
   "id": "c9072551",
   "metadata": {
    "papermill": {
     "duration": 0.138394,
     "end_time": "2021-07-26T19:02:56.482603",
     "exception": false,
     "start_time": "2021-07-26T19:02:56.344209",
     "status": "completed"
    },
    "tags": []
   },
   "source": [
    "**Model creation**"
   ]
  },
  {
   "cell_type": "code",
   "execution_count": 77,
   "id": "8ee29075",
   "metadata": {
    "execution": {
     "iopub.execute_input": "2021-07-26T19:02:56.773331Z",
     "iopub.status.busy": "2021-07-26T19:02:56.772567Z",
     "iopub.status.idle": "2021-07-26T19:02:56.775873Z",
     "shell.execute_reply": "2021-07-26T19:02:56.776634Z",
     "shell.execute_reply.started": "2021-07-26T18:25:50.117552Z"
    },
    "papermill": {
     "duration": 0.155464,
     "end_time": "2021-07-26T19:02:56.776985",
     "exception": false,
     "start_time": "2021-07-26T19:02:56.621521",
     "status": "completed"
    },
    "tags": []
   },
   "outputs": [
    {
     "name": "stdout",
     "output_type": "stream",
     "text": [
      "(891, 13) (891,) (418, 13)\n"
     ]
    }
   ],
   "source": [
    "x_train = titanictrain.drop(\"Survived\", axis=1)\n",
    "y_train = titanictrain[\"Survived\"]\n",
    "x_test  = titanictest.drop(\"PassengerId\", axis=1).copy()\n",
    "print(x_train.shape, y_train.shape, x_test.shape)"
   ]
  },
  {
   "cell_type": "markdown",
   "id": "47461d71",
   "metadata": {
    "papermill": {
     "duration": 0.139799,
     "end_time": "2021-07-26T19:02:57.055032",
     "exception": false,
     "start_time": "2021-07-26T19:02:56.915233",
     "status": "completed"
    },
    "tags": []
   },
   "source": [
    "**KNN model**"
   ]
  },
  {
   "cell_type": "code",
   "execution_count": 78,
   "id": "e5c034a1",
   "metadata": {
    "execution": {
     "iopub.execute_input": "2021-07-26T19:02:57.323560Z",
     "iopub.status.busy": "2021-07-26T19:02:57.322893Z",
     "iopub.status.idle": "2021-07-26T19:02:57.407804Z",
     "shell.execute_reply": "2021-07-26T19:02:57.408309Z",
     "shell.execute_reply.started": "2021-07-26T18:25:50.131772Z"
    },
    "papermill": {
     "duration": 0.222961,
     "end_time": "2021-07-26T19:02:57.408501",
     "exception": false,
     "start_time": "2021-07-26T19:02:57.185540",
     "status": "completed"
    },
    "tags": []
   },
   "outputs": [
    {
     "data": {
      "text/plain": [
       "87.21"
      ]
     },
     "execution_count": 78,
     "metadata": {},
     "output_type": "execute_result"
    }
   ],
   "source": [
    "knn = KNeighborsClassifier(n_neighbors = 3)\n",
    "knn.fit(x_train, y_train)\n",
    "y_pred = knn.predict(x_test)\n",
    "score_knn = round(knn.score(x_train, y_train) * 100, 2)\n",
    "score_knn"
   ]
  },
  {
   "cell_type": "markdown",
   "id": "79a70a78",
   "metadata": {
    "papermill": {
     "duration": 0.131868,
     "end_time": "2021-07-26T19:02:57.673573",
     "exception": false,
     "start_time": "2021-07-26T19:02:57.541705",
     "status": "completed"
    },
    "tags": []
   },
   "source": [
    "Random Forest"
   ]
  },
  {
   "cell_type": "code",
   "execution_count": 79,
   "id": "372d2385",
   "metadata": {
    "execution": {
     "iopub.execute_input": "2021-07-26T19:02:57.970477Z",
     "iopub.status.busy": "2021-07-26T19:02:57.969700Z",
     "iopub.status.idle": "2021-07-26T19:02:58.291380Z",
     "shell.execute_reply": "2021-07-26T19:02:58.290808Z",
     "shell.execute_reply.started": "2021-07-26T18:25:50.211361Z"
    },
    "papermill": {
     "duration": 0.468852,
     "end_time": "2021-07-26T19:02:58.291548",
     "exception": false,
     "start_time": "2021-07-26T19:02:57.822696",
     "status": "completed"
    },
    "tags": []
   },
   "outputs": [
    {
     "data": {
      "text/plain": [
       "98.2"
      ]
     },
     "execution_count": 79,
     "metadata": {},
     "output_type": "execute_result"
    }
   ],
   "source": [
    "random_forest = RandomForestClassifier(n_estimators=100)\n",
    "random_forest.fit(x_train,y_train)\n",
    "y_pred_rand = random_forest.predict(x_test)\n",
    "random_forest.score(x_train,y_train)\n",
    "random_forest_score = round(random_forest.score(x_train,y_train) * 100, 2)\n",
    "random_forest_score"
   ]
  },
  {
   "cell_type": "markdown",
   "id": "00b510c7",
   "metadata": {
    "papermill": {
     "duration": 0.129951,
     "end_time": "2021-07-26T19:02:58.553542",
     "exception": false,
     "start_time": "2021-07-26T19:02:58.423591",
     "status": "completed"
    },
    "tags": []
   },
   "source": [
    "**Confusion Matrix**"
   ]
  },
  {
   "cell_type": "code",
   "execution_count": 80,
   "id": "5f38a240",
   "metadata": {
    "execution": {
     "iopub.execute_input": "2021-07-26T19:02:58.831764Z",
     "iopub.status.busy": "2021-07-26T19:02:58.831054Z",
     "iopub.status.idle": "2021-07-26T19:02:58.834150Z",
     "shell.execute_reply": "2021-07-26T19:02:58.833488Z",
     "shell.execute_reply.started": "2021-07-26T18:25:50.506753Z"
    },
    "papermill": {
     "duration": 0.144292,
     "end_time": "2021-07-26T19:02:58.834307",
     "exception": false,
     "start_time": "2021-07-26T19:02:58.690015",
     "status": "completed"
    },
    "tags": []
   },
   "outputs": [],
   "source": [
    "submission = pd.DataFrame({\n",
    "        \"PassengerId\": titanictest[\"PassengerId\"],\n",
    "        \"Survived\": y_pred_rand\n",
    "    })"
   ]
  },
  {
   "cell_type": "code",
   "execution_count": 81,
   "id": "d75cc6e5",
   "metadata": {
    "execution": {
     "iopub.execute_input": "2021-07-26T19:02:59.110072Z",
     "iopub.status.busy": "2021-07-26T19:02:59.109382Z",
     "iopub.status.idle": "2021-07-26T19:02:59.120870Z",
     "shell.execute_reply": "2021-07-26T19:02:59.121829Z",
     "shell.execute_reply.started": "2021-07-26T18:25:50.513069Z"
    },
    "papermill": {
     "duration": 0.151688,
     "end_time": "2021-07-26T19:02:59.122087",
     "exception": false,
     "start_time": "2021-07-26T19:02:58.970399",
     "status": "completed"
    },
    "tags": []
   },
   "outputs": [
    {
     "data": {
      "text/html": [
       "<div>\n",
       "<style scoped>\n",
       "    .dataframe tbody tr th:only-of-type {\n",
       "        vertical-align: middle;\n",
       "    }\n",
       "\n",
       "    .dataframe tbody tr th {\n",
       "        vertical-align: top;\n",
       "    }\n",
       "\n",
       "    .dataframe thead th {\n",
       "        text-align: right;\n",
       "    }\n",
       "</style>\n",
       "<table border=\"1\" class=\"dataframe\">\n",
       "  <thead>\n",
       "    <tr style=\"text-align: right;\">\n",
       "      <th></th>\n",
       "      <th>PassengerId</th>\n",
       "      <th>Survived</th>\n",
       "    </tr>\n",
       "  </thead>\n",
       "  <tbody>\n",
       "    <tr>\n",
       "      <th>0</th>\n",
       "      <td>892</td>\n",
       "      <td>0</td>\n",
       "    </tr>\n",
       "    <tr>\n",
       "      <th>1</th>\n",
       "      <td>893</td>\n",
       "      <td>0</td>\n",
       "    </tr>\n",
       "    <tr>\n",
       "      <th>2</th>\n",
       "      <td>894</td>\n",
       "      <td>0</td>\n",
       "    </tr>\n",
       "    <tr>\n",
       "      <th>3</th>\n",
       "      <td>895</td>\n",
       "      <td>1</td>\n",
       "    </tr>\n",
       "    <tr>\n",
       "      <th>4</th>\n",
       "      <td>896</td>\n",
       "      <td>0</td>\n",
       "    </tr>\n",
       "    <tr>\n",
       "      <th>...</th>\n",
       "      <td>...</td>\n",
       "      <td>...</td>\n",
       "    </tr>\n",
       "    <tr>\n",
       "      <th>413</th>\n",
       "      <td>1305</td>\n",
       "      <td>0</td>\n",
       "    </tr>\n",
       "    <tr>\n",
       "      <th>414</th>\n",
       "      <td>1306</td>\n",
       "      <td>1</td>\n",
       "    </tr>\n",
       "    <tr>\n",
       "      <th>415</th>\n",
       "      <td>1307</td>\n",
       "      <td>0</td>\n",
       "    </tr>\n",
       "    <tr>\n",
       "      <th>416</th>\n",
       "      <td>1308</td>\n",
       "      <td>0</td>\n",
       "    </tr>\n",
       "    <tr>\n",
       "      <th>417</th>\n",
       "      <td>1309</td>\n",
       "      <td>1</td>\n",
       "    </tr>\n",
       "  </tbody>\n",
       "</table>\n",
       "<p>418 rows × 2 columns</p>\n",
       "</div>"
      ],
      "text/plain": [
       "     PassengerId  Survived\n",
       "0            892         0\n",
       "1            893         0\n",
       "2            894         0\n",
       "3            895         1\n",
       "4            896         0\n",
       "..           ...       ...\n",
       "413         1305         0\n",
       "414         1306         1\n",
       "415         1307         0\n",
       "416         1308         0\n",
       "417         1309         1\n",
       "\n",
       "[418 rows x 2 columns]"
      ]
     },
     "execution_count": 81,
     "metadata": {},
     "output_type": "execute_result"
    }
   ],
   "source": [
    "submission"
   ]
  },
  {
   "cell_type": "code",
   "execution_count": 82,
   "id": "5bdbc295",
   "metadata": {
    "execution": {
     "iopub.execute_input": "2021-07-26T19:02:59.393011Z",
     "iopub.status.busy": "2021-07-26T19:02:59.392300Z",
     "iopub.status.idle": "2021-07-26T19:02:59.402105Z",
     "shell.execute_reply": "2021-07-26T19:02:59.402606Z",
     "shell.execute_reply.started": "2021-07-26T18:25:50.528817Z"
    },
    "papermill": {
     "duration": 0.147077,
     "end_time": "2021-07-26T19:02:59.402863",
     "exception": false,
     "start_time": "2021-07-26T19:02:59.255786",
     "status": "completed"
    },
    "tags": []
   },
   "outputs": [],
   "source": [
    "submission.to_csv('./submission.csv', index=False)"
   ]
  },
  {
   "cell_type": "code",
   "execution_count": null,
   "id": "492c4b2e",
   "metadata": {
    "papermill": {
     "duration": 0.135204,
     "end_time": "2021-07-26T19:02:59.671061",
     "exception": false,
     "start_time": "2021-07-26T19:02:59.535857",
     "status": "completed"
    },
    "tags": []
   },
   "outputs": [],
   "source": []
  },
  {
   "cell_type": "code",
   "execution_count": null,
   "id": "daf46f18",
   "metadata": {
    "papermill": {
     "duration": 0.133431,
     "end_time": "2021-07-26T19:02:59.937895",
     "exception": false,
     "start_time": "2021-07-26T19:02:59.804464",
     "status": "completed"
    },
    "tags": []
   },
   "outputs": [],
   "source": []
  },
  {
   "cell_type": "code",
   "execution_count": null,
   "id": "9015d287",
   "metadata": {
    "papermill": {
     "duration": 0.142153,
     "end_time": "2021-07-26T19:03:00.217056",
     "exception": false,
     "start_time": "2021-07-26T19:03:00.074903",
     "status": "completed"
    },
    "tags": []
   },
   "outputs": [],
   "source": []
  },
  {
   "cell_type": "code",
   "execution_count": null,
   "id": "91231fcd",
   "metadata": {
    "papermill": {
     "duration": 0.137456,
     "end_time": "2021-07-26T19:03:00.488433",
     "exception": false,
     "start_time": "2021-07-26T19:03:00.350977",
     "status": "completed"
    },
    "tags": []
   },
   "outputs": [],
   "source": []
  },
  {
   "cell_type": "code",
   "execution_count": null,
   "id": "1ad24616",
   "metadata": {
    "papermill": {
     "duration": 0.140328,
     "end_time": "2021-07-26T19:03:00.763470",
     "exception": false,
     "start_time": "2021-07-26T19:03:00.623142",
     "status": "completed"
    },
    "tags": []
   },
   "outputs": [],
   "source": []
  },
  {
   "cell_type": "code",
   "execution_count": null,
   "id": "c3825f0a",
   "metadata": {
    "papermill": {
     "duration": 0.133961,
     "end_time": "2021-07-26T19:03:01.033345",
     "exception": false,
     "start_time": "2021-07-26T19:03:00.899384",
     "status": "completed"
    },
    "tags": []
   },
   "outputs": [],
   "source": []
  }
 ],
 "metadata": {
  "kernelspec": {
   "display_name": "Python 3",
   "language": "python",
   "name": "python3"
  },
  "language_info": {
   "codemirror_mode": {
    "name": "ipython",
    "version": 3
   },
   "file_extension": ".py",
   "mimetype": "text/x-python",
   "name": "python",
   "nbconvert_exporter": "python",
   "pygments_lexer": "ipython3",
   "version": "3.7.10"
  },
  "papermill": {
   "default_parameters": {},
   "duration": 70.264143,
   "end_time": "2021-07-26T19:03:03.749885",
   "environment_variables": {},
   "exception": null,
   "input_path": "__notebook__.ipynb",
   "output_path": "__notebook__.ipynb",
   "parameters": {},
   "start_time": "2021-07-26T19:01:53.485742",
   "version": "2.3.3"
  }
 },
 "nbformat": 4,
 "nbformat_minor": 5
}
